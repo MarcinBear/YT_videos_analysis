{
 "cells": [
  {
   "cell_type": "markdown",
   "metadata": {},
   "source": [
    "# 3Blue1Brown channel's videos analysis"
   ]
  },
  {
   "cell_type": "code",
   "execution_count": 101,
   "metadata": {},
   "outputs": [],
   "source": [
    "import pandas as pd\n",
    "import plotly\n",
    "import json\n",
    "import re\n",
    "import matplotlib.pyplot as plt\n",
    "pd.options.plotting.backend = \"plotly\""
   ]
  },
  {
   "cell_type": "code",
   "execution_count": 123,
   "metadata": {},
   "outputs": [],
   "source": [
    "def get_link(video_id):\n",
    "    return f\"https://www.youtube.com/watch?v={video_id}\""
   ]
  },
  {
   "cell_type": "code",
   "execution_count": 103,
   "metadata": {},
   "outputs": [],
   "source": [
    "def iso_duration_converter(iso_string):\n",
    "    \"\"\"\n",
    "    Convert ISO 8601 duration format to minutes\n",
    "    \"\"\"\n",
    "    minutes = 0  # duration in minutes\n",
    "    multipliers = {'H': 60, 'M': 1, 'S': 1/60}  # H - hour, M - minute, S - second\n",
    "    pairs = re.findall(r\"([0-9]+)([HMS]+)\", iso_string)  # numberLetter appears?\n",
    "    for pair in pairs:\n",
    "        minutes += int(pair[0]) * multipliers[pair[1]]\n",
    "    return minutes"
   ]
  },
  {
   "cell_type": "markdown",
   "metadata": {},
   "source": [
    "___"
   ]
  },
  {
   "cell_type": "code",
   "execution_count": 104,
   "metadata": {},
   "outputs": [],
   "source": [
    "with open(\"3blue1brown.json\", 'r') as f:\n",
    "    data = json.loads(f.read())"
   ]
  },
  {
   "cell_type": "code",
   "execution_count": 105,
   "metadata": {},
   "outputs": [
    {
     "data": {
      "text/html": [
       "<div>\n",
       "<style scoped>\n",
       "    .dataframe tbody tr th:only-of-type {\n",
       "        vertical-align: middle;\n",
       "    }\n",
       "\n",
       "    .dataframe tbody tr th {\n",
       "        vertical-align: top;\n",
       "    }\n",
       "\n",
       "    .dataframe thead th {\n",
       "        text-align: right;\n",
       "    }\n",
       "</style>\n",
       "<table border=\"1\" class=\"dataframe\">\n",
       "  <thead>\n",
       "    <tr style=\"text-align: right;\">\n",
       "      <th></th>\n",
       "      <th>publishedAt</th>\n",
       "      <th>channelId</th>\n",
       "      <th>title</th>\n",
       "      <th>description</th>\n",
       "      <th>thumbnails</th>\n",
       "      <th>channelTitle</th>\n",
       "      <th>tags</th>\n",
       "      <th>categoryId</th>\n",
       "      <th>liveBroadcastContent</th>\n",
       "      <th>localized</th>\n",
       "      <th>...</th>\n",
       "      <th>favoriteCount</th>\n",
       "      <th>commentCount</th>\n",
       "      <th>duration</th>\n",
       "      <th>dimension</th>\n",
       "      <th>definition</th>\n",
       "      <th>caption</th>\n",
       "      <th>licensedContent</th>\n",
       "      <th>contentRating</th>\n",
       "      <th>projection</th>\n",
       "      <th>defaultLanguage</th>\n",
       "    </tr>\n",
       "  </thead>\n",
       "  <tbody>\n",
       "    <tr>\n",
       "      <th>spUNpyF58BY</th>\n",
       "      <td>2018-01-26T18:47:48Z</td>\n",
       "      <td>UCYO_jab_esuFRV4b17AJtAw</td>\n",
       "      <td>But what is the Fourier Transform?  A visual i...</td>\n",
       "      <td>An animated introduction to the Fourier Transf...</td>\n",
       "      <td>{'default': {'url': 'https://i.ytimg.com/vi/sp...</td>\n",
       "      <td>3Blue1Brown</td>\n",
       "      <td>[Mathematics, fourier transform, three blue on...</td>\n",
       "      <td>27</td>\n",
       "      <td>none</td>\n",
       "      <td>{'title': 'But what is the Fourier Transform? ...</td>\n",
       "      <td>...</td>\n",
       "      <td>0</td>\n",
       "      <td>7284</td>\n",
       "      <td>PT20M57S</td>\n",
       "      <td>2d</td>\n",
       "      <td>hd</td>\n",
       "      <td>true</td>\n",
       "      <td>True</td>\n",
       "      <td>{}</td>\n",
       "      <td>rectangular</td>\n",
       "      <td>en</td>\n",
       "    </tr>\n",
       "  </tbody>\n",
       "</table>\n",
       "<p>1 rows × 24 columns</p>\n",
       "</div>"
      ],
      "text/plain": [
       "                      publishedAt                 channelId  \\\n",
       "spUNpyF58BY  2018-01-26T18:47:48Z  UCYO_jab_esuFRV4b17AJtAw   \n",
       "\n",
       "                                                         title  \\\n",
       "spUNpyF58BY  But what is the Fourier Transform?  A visual i...   \n",
       "\n",
       "                                                   description  \\\n",
       "spUNpyF58BY  An animated introduction to the Fourier Transf...   \n",
       "\n",
       "                                                    thumbnails channelTitle  \\\n",
       "spUNpyF58BY  {'default': {'url': 'https://i.ytimg.com/vi/sp...  3Blue1Brown   \n",
       "\n",
       "                                                          tags categoryId  \\\n",
       "spUNpyF58BY  [Mathematics, fourier transform, three blue on...         27   \n",
       "\n",
       "            liveBroadcastContent  \\\n",
       "spUNpyF58BY                 none   \n",
       "\n",
       "                                                     localized  ...  \\\n",
       "spUNpyF58BY  {'title': 'But what is the Fourier Transform? ...  ...   \n",
       "\n",
       "            favoriteCount commentCount  duration dimension definition caption  \\\n",
       "spUNpyF58BY             0         7284  PT20M57S        2d         hd    true   \n",
       "\n",
       "            licensedContent contentRating   projection defaultLanguage  \n",
       "spUNpyF58BY            True            {}  rectangular              en  \n",
       "\n",
       "[1 rows x 24 columns]"
      ]
     },
     "execution_count": 105,
     "metadata": {},
     "output_type": "execute_result"
    }
   ],
   "source": [
    "df = pd.DataFrame(data).transpose()\n",
    "df.sample()"
   ]
  },
  {
   "cell_type": "markdown",
   "metadata": {},
   "source": [
    "---\n",
    "### Cleaning"
   ]
  },
  {
   "cell_type": "code",
   "execution_count": 106,
   "metadata": {},
   "outputs": [],
   "source": [
    "redundant_columns = ['channelId', 'thumbnails', 'channelTitle', 'defaultAudioLanguage',\n",
    "                     'categoryId', 'liveBroadcastContent', 'localized', 'dimension',\n",
    "                     'licensedContent', 'contentRating', 'projection', 'caption',\n",
    "                     'favoriteCount', 'definition', 'defaultLanguage']\n",
    "\n",
    "df.drop(columns=redundant_columns, inplace=True)"
   ]
  },
  {
   "cell_type": "code",
   "execution_count": 107,
   "metadata": {},
   "outputs": [],
   "source": [
    "for column_name in df:\n",
    "    if 'Count' in column_name:\n",
    "        df[column_name] = pd.to_numeric(df[column_name])"
   ]
  },
  {
   "cell_type": "code",
   "execution_count": 108,
   "metadata": {},
   "outputs": [],
   "source": [
    "df['publishedAt'] = pd.to_datetime(df['publishedAt'])\n",
    "df['duration'] = df['duration'].apply(iso_duration_converter)"
   ]
  },
  {
   "cell_type": "code",
   "execution_count": 109,
   "metadata": {},
   "outputs": [],
   "source": [
    "df.rename(columns={'publishedAt': 'publication date', \n",
    "                   'viewCount': 'views', \n",
    "                   'likeCount': 'likes',\n",
    "                   'dislikeCount': 'dislikes',\n",
    "                   'commentCount': 'comments'}, inplace=True)\n",
    "\n",
    "df.index.name = 'video id'\n"
   ]
  },
  {
   "cell_type": "code",
   "execution_count": 110,
   "metadata": {},
   "outputs": [
    {
     "data": {
      "text/html": [
       "<div>\n",
       "<style scoped>\n",
       "    .dataframe tbody tr th:only-of-type {\n",
       "        vertical-align: middle;\n",
       "    }\n",
       "\n",
       "    .dataframe tbody tr th {\n",
       "        vertical-align: top;\n",
       "    }\n",
       "\n",
       "    .dataframe thead th {\n",
       "        text-align: right;\n",
       "    }\n",
       "</style>\n",
       "<table border=\"1\" class=\"dataframe\">\n",
       "  <thead>\n",
       "    <tr style=\"text-align: right;\">\n",
       "      <th></th>\n",
       "      <th>publication date</th>\n",
       "      <th>title</th>\n",
       "      <th>description</th>\n",
       "      <th>tags</th>\n",
       "      <th>views</th>\n",
       "      <th>likes</th>\n",
       "      <th>dislikes</th>\n",
       "      <th>comments</th>\n",
       "      <th>duration</th>\n",
       "    </tr>\n",
       "    <tr>\n",
       "      <th>video id</th>\n",
       "      <th></th>\n",
       "      <th></th>\n",
       "      <th></th>\n",
       "      <th></th>\n",
       "      <th></th>\n",
       "      <th></th>\n",
       "      <th></th>\n",
       "      <th></th>\n",
       "      <th></th>\n",
       "    </tr>\n",
       "  </thead>\n",
       "  <tbody>\n",
       "    <tr>\n",
       "      <th>ojjzXyQCzso</th>\n",
       "      <td>2021-07-16 18:39:08+00:00</td>\n",
       "      <td>Why aren't you making math videos?  (Also, a 3...</td>\n",
       "      <td>Learn more and submit: https://3b1b.co/SoME1\\n...</td>\n",
       "      <td>[Mathematics, three blue one brown, 3 blue 1 b...</td>\n",
       "      <td>426856</td>\n",
       "      <td>23903</td>\n",
       "      <td>148</td>\n",
       "      <td>1383</td>\n",
       "      <td>24.350000</td>\n",
       "    </tr>\n",
       "    <tr>\n",
       "      <th>e50Bj7jn9IQ</th>\n",
       "      <td>2021-05-07 21:39:22+00:00</td>\n",
       "      <td>A quick trick for computing eigenvalues | Chap...</td>\n",
       "      <td>How to write the eigenvalues of a 2x2 matrix j...</td>\n",
       "      <td>[Mathematics, three blue one brown, 3 blue 1 b...</td>\n",
       "      <td>330294</td>\n",
       "      <td>15185</td>\n",
       "      <td>122</td>\n",
       "      <td>1118</td>\n",
       "      <td>13.216667</td>\n",
       "    </tr>\n",
       "    <tr>\n",
       "      <th>O85OWBJ2ayo</th>\n",
       "      <td>2021-04-01 15:50:30+00:00</td>\n",
       "      <td>How (and why) to raise e to the power of a mat...</td>\n",
       "      <td>General exponentials, love, Schrödinger, and m...</td>\n",
       "      <td>[Mathematics, three blue one brown, 3 blue 1 b...</td>\n",
       "      <td>970705</td>\n",
       "      <td>42648</td>\n",
       "      <td>249</td>\n",
       "      <td>2593</td>\n",
       "      <td>27.116667</td>\n",
       "    </tr>\n",
       "    <tr>\n",
       "      <th>lG4VkPoG3ko</th>\n",
       "      <td>2020-12-22 17:42:00+00:00</td>\n",
       "      <td>Why Bayes rule is nicer with odds</td>\n",
       "      <td>About Likelihood Ratios, also sometimes called...</td>\n",
       "      <td>[Mathematics, three blue one brown, 3 blue 1 b...</td>\n",
       "      <td>614751</td>\n",
       "      <td>32044</td>\n",
       "      <td>223</td>\n",
       "      <td>2279</td>\n",
       "      <td>21.233333</td>\n",
       "    </tr>\n",
       "    <tr>\n",
       "      <th>b3NxrZOu_CE</th>\n",
       "      <td>2020-09-04 15:36:24+00:00</td>\n",
       "      <td>Hamming codes part 2, the elegance of it all</td>\n",
       "      <td>Part 1: https://youtu.be/X8jsijhllIA\\nWatch Be...</td>\n",
       "      <td>[Mathematics, three blue one brown, 3 blue 1 b...</td>\n",
       "      <td>482037</td>\n",
       "      <td>24099</td>\n",
       "      <td>111</td>\n",
       "      <td>1506</td>\n",
       "      <td>16.833333</td>\n",
       "    </tr>\n",
       "  </tbody>\n",
       "</table>\n",
       "</div>"
      ],
      "text/plain": [
       "                     publication date  \\\n",
       "video id                                \n",
       "ojjzXyQCzso 2021-07-16 18:39:08+00:00   \n",
       "e50Bj7jn9IQ 2021-05-07 21:39:22+00:00   \n",
       "O85OWBJ2ayo 2021-04-01 15:50:30+00:00   \n",
       "lG4VkPoG3ko 2020-12-22 17:42:00+00:00   \n",
       "b3NxrZOu_CE 2020-09-04 15:36:24+00:00   \n",
       "\n",
       "                                                         title  \\\n",
       "video id                                                         \n",
       "ojjzXyQCzso  Why aren't you making math videos?  (Also, a 3...   \n",
       "e50Bj7jn9IQ  A quick trick for computing eigenvalues | Chap...   \n",
       "O85OWBJ2ayo  How (and why) to raise e to the power of a mat...   \n",
       "lG4VkPoG3ko                  Why Bayes rule is nicer with odds   \n",
       "b3NxrZOu_CE       Hamming codes part 2, the elegance of it all   \n",
       "\n",
       "                                                   description  \\\n",
       "video id                                                         \n",
       "ojjzXyQCzso  Learn more and submit: https://3b1b.co/SoME1\\n...   \n",
       "e50Bj7jn9IQ  How to write the eigenvalues of a 2x2 matrix j...   \n",
       "O85OWBJ2ayo  General exponentials, love, Schrödinger, and m...   \n",
       "lG4VkPoG3ko  About Likelihood Ratios, also sometimes called...   \n",
       "b3NxrZOu_CE  Part 1: https://youtu.be/X8jsijhllIA\\nWatch Be...   \n",
       "\n",
       "                                                          tags   views  likes  \\\n",
       "video id                                                                        \n",
       "ojjzXyQCzso  [Mathematics, three blue one brown, 3 blue 1 b...  426856  23903   \n",
       "e50Bj7jn9IQ  [Mathematics, three blue one brown, 3 blue 1 b...  330294  15185   \n",
       "O85OWBJ2ayo  [Mathematics, three blue one brown, 3 blue 1 b...  970705  42648   \n",
       "lG4VkPoG3ko  [Mathematics, three blue one brown, 3 blue 1 b...  614751  32044   \n",
       "b3NxrZOu_CE  [Mathematics, three blue one brown, 3 blue 1 b...  482037  24099   \n",
       "\n",
       "             dislikes  comments   duration  \n",
       "video id                                    \n",
       "ojjzXyQCzso       148      1383  24.350000  \n",
       "e50Bj7jn9IQ       122      1118  13.216667  \n",
       "O85OWBJ2ayo       249      2593  27.116667  \n",
       "lG4VkPoG3ko       223      2279  21.233333  \n",
       "b3NxrZOu_CE       111      1506  16.833333  "
      ]
     },
     "execution_count": 110,
     "metadata": {},
     "output_type": "execute_result"
    }
   ],
   "source": [
    "df.head()"
   ]
  },
  {
   "cell_type": "code",
   "execution_count": 133,
   "metadata": {},
   "outputs": [
    {
     "name": "stdout",
     "output_type": "stream",
     "text": [
      "Fewest views: \n",
      "\n",
      "  video id                                                zLzLxVeqdQg\n",
      "publication date                          2015-03-05 06:15:23+00:00\n",
      "title                                          Euler's Formula Poem\n",
      "description       A poem about why e to the pi i equals -1, base...\n",
      "tags              [3 brown 1 blue, 3 blue 1 brown, three brown o...\n",
      "views                                                        126108\n",
      "likes                                                          3745\n",
      "dislikes                                                         63\n",
      "comments                                                        136\n",
      "duration                                                    1.06667\n"
     ]
    }
   ],
   "source": [
    "min_views_video = df[df['views'] == df['views'].min()]\n",
    "max_views_video = df[df['views'] == df['views'].max()]\n",
    "min_likes_video = df[df['likes'] == df['likes'].min()]\n",
    "max_likes_video = df[df['likes'] == df['likes'].max()]\n",
    "min_dislikes_video = df[df['dislikes'] == df['dislikes'].min()]\n",
    "max_dislikes_video = df[df['dislikes'] == df['dislikes'].max()]\n",
    "\n",
    "\n",
    "print(\"Fewest views: \\n\\n \", min_views_video.T)"
   ]
  },
  {
   "cell_type": "code",
   "execution_count": 135,
   "metadata": {},
   "outputs": [
    {
     "name": "stdout",
     "output_type": "stream",
     "text": [
      "https://www.youtube.com/watch?v=zLzLxVeqdQg\n"
     ]
    }
   ],
   "source": [
    "print(get_link(min_views_video.index[0]))"
   ]
  },
  {
   "cell_type": "code",
   "execution_count": 136,
   "metadata": {
    "scrolled": false
   },
   "outputs": [
    {
     "data": {
      "application/vnd.plotly.v1+json": {
       "config": {
        "plotlyServerURL": "https://plot.ly"
       },
       "data": [
        {
         "hovertemplate": "publication date=%{x}<br>views=%{y}<br>likes=%{marker.color}<extra></extra>",
         "legendgroup": "",
         "marker": {
          "color": [
           23903,
           15185,
           42648,
           32044,
           24099,
           39318,
           79191,
           27572,
           16451,
           7156,
           22287,
           12683,
           16301,
           10945,
           17495,
           22564,
           22926,
           37014,
           46239,
           49473,
           149287,
           59262,
           166300,
           11575,
           53418,
           16960,
           114081,
           115744,
           43080,
           17345,
           92786,
           20516,
           44240,
           62920,
           15976,
           30109,
           105558,
           189377,
           93021,
           17532,
           21167,
           16088,
           59392,
           31598,
           37639,
           10973,
           79759,
           74390,
           14588,
           23157,
           23729,
           76959,
           41826,
           190809,
           27419,
           4643,
           268863,
           33755,
           46863,
           84880,
           243885,
           37266,
           54754,
           33285,
           69086,
           239962,
           56564,
           36139,
           64640,
           10308,
           19617,
           25715,
           25730,
           24000,
           49796,
           25041,
           42132,
           53695,
           135678,
           39504,
           67968,
           20238,
           65581,
           7123,
           3283,
           13081,
           61507,
           30895,
           52089,
           19846,
           12345,
           16963,
           26016,
           15435,
           32136,
           48062,
           18130,
           36219,
           58047,
           53644,
           88276,
           28533,
           23058,
           4292,
           21375,
           34498,
           29948,
           10453,
           60686,
           8285,
           14311,
           9565,
           3745
          ],
          "coloraxis": "coloraxis",
          "size": [
           23903,
           15185,
           42648,
           32044,
           24099,
           39318,
           79191,
           27572,
           16451,
           7156,
           22287,
           12683,
           16301,
           10945,
           17495,
           22564,
           22926,
           37014,
           46239,
           49473,
           149287,
           59262,
           166300,
           11575,
           53418,
           16960,
           114081,
           115744,
           43080,
           17345,
           92786,
           20516,
           44240,
           62920,
           15976,
           30109,
           105558,
           189377,
           93021,
           17532,
           21167,
           16088,
           59392,
           31598,
           37639,
           10973,
           79759,
           74390,
           14588,
           23157,
           23729,
           76959,
           41826,
           190809,
           27419,
           4643,
           268863,
           33755,
           46863,
           84880,
           243885,
           37266,
           54754,
           33285,
           69086,
           239962,
           56564,
           36139,
           64640,
           10308,
           19617,
           25715,
           25730,
           24000,
           49796,
           25041,
           42132,
           53695,
           135678,
           39504,
           67968,
           20238,
           65581,
           7123,
           3283,
           13081,
           61507,
           30895,
           52089,
           19846,
           12345,
           16963,
           26016,
           15435,
           32136,
           48062,
           18130,
           36219,
           58047,
           53644,
           88276,
           28533,
           23058,
           4292,
           21375,
           34498,
           29948,
           10453,
           60686,
           8285,
           14311,
           9565,
           3745
          ],
          "sizemode": "area",
          "sizeref": 672.1575,
          "symbol": "circle"
         },
         "mode": "markers",
         "name": "",
         "orientation": "v",
         "showlegend": false,
         "type": "scatter",
         "x": [
          "2021-07-16T18:39:08+00:00",
          "2021-05-07T21:39:22+00:00",
          "2021-04-01T15:50:30+00:00",
          "2020-12-22T17:42:00+00:00",
          "2020-09-04T15:36:24+00:00",
          "2020-09-04T15:32:50+00:00",
          "2020-08-19T14:01:39+00:00",
          "2020-07-05T18:50:36+00:00",
          "2020-05-22T20:14:56+00:00",
          "2020-05-15T21:23:19+00:00",
          "2020-05-14T15:00:01+00:00",
          "2020-05-12T19:59:48+00:00",
          "2020-05-08T20:22:12+00:00",
          "2020-05-05T20:36:51+00:00",
          "2020-04-28T19:58:20+00:00",
          "2020-04-24T20:31:26+00:00",
          "2020-04-21T20:51:44+00:00",
          "2020-04-17T20:04:24+00:00",
          "2020-04-16T21:25:09+00:00",
          "2020-04-12T15:41:30+00:00",
          "2020-03-27T19:47:30+00:00",
          "2020-03-15T18:28:16+00:00",
          "2020-03-08T16:58:19+00:00",
          "2019-12-22T14:45:25+00:00",
          "2019-12-22T14:31:56+00:00",
          "2019-11-23T01:00:14+00:00",
          "2019-10-08T17:02:51+00:00",
          "2019-08-04T17:03:51+00:00",
          "2019-07-07T14:08:18+00:00",
          "2019-07-03T04:05:19+00:00",
          "2019-06-30T14:50:20+00:00",
          "2019-06-16T16:31:00+00:00",
          "2019-04-21T16:53:21+00:00",
          "2019-03-31T15:15:50+00:00",
          "2019-03-17T04:35:22+00:00",
          "2019-02-03T16:23:07+00:00",
          "2019-01-20T16:40:38+00:00",
          "2019-01-13T16:12:47+00:00",
          "2018-12-02T20:08:11+00:00",
          "2018-11-18T14:09:20+00:00",
          "2018-11-07T20:20:32+00:00",
          "2018-10-26T16:31:52+00:00",
          "2018-09-06T14:59:33+00:00",
          "2018-08-24T16:34:02+00:00",
          "2018-08-01T15:13:51+00:00",
          "2018-06-27T16:29:07+00:00",
          "2018-06-21T18:34:59+00:00",
          "2018-05-19T14:09:16+00:00",
          "2018-04-20T18:59:28+00:00",
          "2018-03-24T14:42:51+00:00",
          "2018-03-14T13:05:32+00:00",
          "2018-03-02T16:23:29+00:00",
          "2018-02-25T00:25:00+00:00",
          "2018-01-26T18:47:48+00:00",
          "2017-12-23T16:43:38+00:00",
          "2017-12-14T15:57:43+00:00",
          "2017-12-08T15:04:57+00:00",
          "2017-11-03T14:08:09+00:00",
          "2017-11-03T14:03:37+00:00",
          "2017-10-16T16:48:20+00:00",
          "2017-10-05T15:11:25+00:00",
          "2017-09-13T14:06:26+00:00",
          "2017-08-11T22:41:08+00:00",
          "2017-07-21T15:33:50+00:00",
          "2017-07-08T14:19:39+00:00",
          "2017-07-07T16:51:37+00:00",
          "2017-05-26T17:58:15+00:00",
          "2017-05-19T15:41:54+00:00",
          "2017-05-07T14:06:12+00:00",
          "2017-05-07T14:05:35+00:00",
          "2017-05-06T13:53:16+00:00",
          "2017-05-05T15:05:21+00:00",
          "2017-05-04T15:05:18+00:00",
          "2017-05-03T15:38:43+00:00",
          "2017-05-02T15:09:46+00:00",
          "2017-05-01T15:19:28+00:00",
          "2017-04-30T15:24:09+00:00",
          "2017-04-29T16:24:03+00:00",
          "2017-04-28T15:58:48+00:00",
          "2017-03-03T22:07:09+00:00",
          "2017-01-27T17:29:08+00:00",
          "2017-01-06T18:05:41+00:00",
          "2016-12-09T17:50:56+00:00",
          "2016-11-25T17:30:46+00:00",
          "2016-11-25T17:29:36+00:00",
          "2016-11-25T17:30:20+00:00",
          "2016-11-04T21:48:23+00:00",
          "2016-09-24T19:29:09+00:00",
          "2016-09-15T18:22:14+00:00",
          "2016-09-11T17:56:20+00:00",
          "2016-09-01T03:54:15+00:00",
          "2016-09-01T03:54:15+00:00",
          "2016-08-24T19:20:58+00:00",
          "2016-08-16T21:59:23+00:00",
          "2016-08-15T22:00:22+00:00",
          "2016-08-10T22:31:18+00:00",
          "2016-08-09T22:01:39+00:00",
          "2016-08-08T22:20:43+00:00",
          "2016-08-07T21:39:19+00:00",
          "2016-08-06T23:49:28+00:00",
          "2016-08-06T00:05:49+00:00",
          "2016-08-05T01:01:44+00:00",
          "2016-06-26T05:51:12+00:00",
          "2016-04-01T20:27:08+00:00",
          "2016-04-01T20:27:08+00:00",
          "2016-01-17T01:43:18+00:00",
          "2015-10-04T02:14:13+00:00",
          "2015-09-18T21:53:13+00:00",
          "2015-08-14T01:20:50+00:00",
          "2015-06-21T06:05:43+00:00",
          "2015-05-24T05:25:09+00:00",
          "2015-04-11T08:19:03+00:00",
          "2015-03-05T06:15:23+00:00"
         ],
         "xaxis": "x",
         "y": [
          426856,
          330294,
          970705,
          614751,
          482037,
          896738,
          1640230,
          811784,
          527041,
          295161,
          317890,
          458424,
          736137,
          437702,
          539241,
          947753,
          761369,
          891155,
          706606,
          1733244,
          4565262,
          1383018,
          5768744,
          360693,
          1321237,
          370975,
          3230538,
          3674973,
          1412049,
          552838,
          6796922,
          778791,
          1470859,
          2288608,
          685524,
          790721,
          3124356,
          6902772,
          4481577,
          505338,
          553153,
          609687,
          2419432,
          686600,
          1163079,
          184964,
          2364750,
          2990301,
          517816,
          736710,
          899097,
          3347499,
          1399577,
          6193628,
          725851,
          140851,
          10107800,
          1571204,
          2522770,
          3815892,
          9484725,
          1465157,
          2613830,
          1499415,
          2063034,
          9837747,
          2533567,
          1607569,
          2271005,
          468410,
          874108,
          1174189,
          1118395,
          1173186,
          2174699,
          1086368,
          1821950,
          2134223,
          4783670,
          1648458,
          2650148,
          655913,
          3121424,
          212718,
          375592,
          501281,
          2161241,
          873643,
          2515622,
          1076942,
          725735,
          1045695,
          1417311,
          943226,
          1626739,
          2223310,
          1131295,
          1804059,
          2778603,
          2866612,
          4599715,
          1726814,
          649649,
          151279,
          903830,
          1545825,
          1134345,
          362723,
          2890179,
          375358,
          481274,
          475175,
          126108
         ],
         "yaxis": "y"
        }
       ],
       "layout": {
        "coloraxis": {
         "colorbar": {
          "title": {
           "text": "likes"
          }
         },
         "colorscale": [
          [
           0,
           "rgb(149, 194, 60)"
          ],
          [
           1,
           "rgb(0, 92, 34)"
          ]
         ]
        },
        "legend": {
         "itemsizing": "constant",
         "tracegroupgap": 0
        },
        "margin": {
         "t": 60
        },
        "template": {
         "data": {
          "bar": [
           {
            "error_x": {
             "color": "#2a3f5f"
            },
            "error_y": {
             "color": "#2a3f5f"
            },
            "marker": {
             "line": {
              "color": "#E5ECF6",
              "width": 0.5
             }
            },
            "type": "bar"
           }
          ],
          "barpolar": [
           {
            "marker": {
             "line": {
              "color": "#E5ECF6",
              "width": 0.5
             }
            },
            "type": "barpolar"
           }
          ],
          "carpet": [
           {
            "aaxis": {
             "endlinecolor": "#2a3f5f",
             "gridcolor": "white",
             "linecolor": "white",
             "minorgridcolor": "white",
             "startlinecolor": "#2a3f5f"
            },
            "baxis": {
             "endlinecolor": "#2a3f5f",
             "gridcolor": "white",
             "linecolor": "white",
             "minorgridcolor": "white",
             "startlinecolor": "#2a3f5f"
            },
            "type": "carpet"
           }
          ],
          "choropleth": [
           {
            "colorbar": {
             "outlinewidth": 0,
             "ticks": ""
            },
            "type": "choropleth"
           }
          ],
          "contour": [
           {
            "colorbar": {
             "outlinewidth": 0,
             "ticks": ""
            },
            "colorscale": [
             [
              0,
              "#0d0887"
             ],
             [
              0.1111111111111111,
              "#46039f"
             ],
             [
              0.2222222222222222,
              "#7201a8"
             ],
             [
              0.3333333333333333,
              "#9c179e"
             ],
             [
              0.4444444444444444,
              "#bd3786"
             ],
             [
              0.5555555555555556,
              "#d8576b"
             ],
             [
              0.6666666666666666,
              "#ed7953"
             ],
             [
              0.7777777777777778,
              "#fb9f3a"
             ],
             [
              0.8888888888888888,
              "#fdca26"
             ],
             [
              1,
              "#f0f921"
             ]
            ],
            "type": "contour"
           }
          ],
          "contourcarpet": [
           {
            "colorbar": {
             "outlinewidth": 0,
             "ticks": ""
            },
            "type": "contourcarpet"
           }
          ],
          "heatmap": [
           {
            "colorbar": {
             "outlinewidth": 0,
             "ticks": ""
            },
            "colorscale": [
             [
              0,
              "#0d0887"
             ],
             [
              0.1111111111111111,
              "#46039f"
             ],
             [
              0.2222222222222222,
              "#7201a8"
             ],
             [
              0.3333333333333333,
              "#9c179e"
             ],
             [
              0.4444444444444444,
              "#bd3786"
             ],
             [
              0.5555555555555556,
              "#d8576b"
             ],
             [
              0.6666666666666666,
              "#ed7953"
             ],
             [
              0.7777777777777778,
              "#fb9f3a"
             ],
             [
              0.8888888888888888,
              "#fdca26"
             ],
             [
              1,
              "#f0f921"
             ]
            ],
            "type": "heatmap"
           }
          ],
          "heatmapgl": [
           {
            "colorbar": {
             "outlinewidth": 0,
             "ticks": ""
            },
            "colorscale": [
             [
              0,
              "#0d0887"
             ],
             [
              0.1111111111111111,
              "#46039f"
             ],
             [
              0.2222222222222222,
              "#7201a8"
             ],
             [
              0.3333333333333333,
              "#9c179e"
             ],
             [
              0.4444444444444444,
              "#bd3786"
             ],
             [
              0.5555555555555556,
              "#d8576b"
             ],
             [
              0.6666666666666666,
              "#ed7953"
             ],
             [
              0.7777777777777778,
              "#fb9f3a"
             ],
             [
              0.8888888888888888,
              "#fdca26"
             ],
             [
              1,
              "#f0f921"
             ]
            ],
            "type": "heatmapgl"
           }
          ],
          "histogram": [
           {
            "marker": {
             "colorbar": {
              "outlinewidth": 0,
              "ticks": ""
             }
            },
            "type": "histogram"
           }
          ],
          "histogram2d": [
           {
            "colorbar": {
             "outlinewidth": 0,
             "ticks": ""
            },
            "colorscale": [
             [
              0,
              "#0d0887"
             ],
             [
              0.1111111111111111,
              "#46039f"
             ],
             [
              0.2222222222222222,
              "#7201a8"
             ],
             [
              0.3333333333333333,
              "#9c179e"
             ],
             [
              0.4444444444444444,
              "#bd3786"
             ],
             [
              0.5555555555555556,
              "#d8576b"
             ],
             [
              0.6666666666666666,
              "#ed7953"
             ],
             [
              0.7777777777777778,
              "#fb9f3a"
             ],
             [
              0.8888888888888888,
              "#fdca26"
             ],
             [
              1,
              "#f0f921"
             ]
            ],
            "type": "histogram2d"
           }
          ],
          "histogram2dcontour": [
           {
            "colorbar": {
             "outlinewidth": 0,
             "ticks": ""
            },
            "colorscale": [
             [
              0,
              "#0d0887"
             ],
             [
              0.1111111111111111,
              "#46039f"
             ],
             [
              0.2222222222222222,
              "#7201a8"
             ],
             [
              0.3333333333333333,
              "#9c179e"
             ],
             [
              0.4444444444444444,
              "#bd3786"
             ],
             [
              0.5555555555555556,
              "#d8576b"
             ],
             [
              0.6666666666666666,
              "#ed7953"
             ],
             [
              0.7777777777777778,
              "#fb9f3a"
             ],
             [
              0.8888888888888888,
              "#fdca26"
             ],
             [
              1,
              "#f0f921"
             ]
            ],
            "type": "histogram2dcontour"
           }
          ],
          "mesh3d": [
           {
            "colorbar": {
             "outlinewidth": 0,
             "ticks": ""
            },
            "type": "mesh3d"
           }
          ],
          "parcoords": [
           {
            "line": {
             "colorbar": {
              "outlinewidth": 0,
              "ticks": ""
             }
            },
            "type": "parcoords"
           }
          ],
          "pie": [
           {
            "automargin": true,
            "type": "pie"
           }
          ],
          "scatter": [
           {
            "marker": {
             "colorbar": {
              "outlinewidth": 0,
              "ticks": ""
             }
            },
            "type": "scatter"
           }
          ],
          "scatter3d": [
           {
            "line": {
             "colorbar": {
              "outlinewidth": 0,
              "ticks": ""
             }
            },
            "marker": {
             "colorbar": {
              "outlinewidth": 0,
              "ticks": ""
             }
            },
            "type": "scatter3d"
           }
          ],
          "scattercarpet": [
           {
            "marker": {
             "colorbar": {
              "outlinewidth": 0,
              "ticks": ""
             }
            },
            "type": "scattercarpet"
           }
          ],
          "scattergeo": [
           {
            "marker": {
             "colorbar": {
              "outlinewidth": 0,
              "ticks": ""
             }
            },
            "type": "scattergeo"
           }
          ],
          "scattergl": [
           {
            "marker": {
             "colorbar": {
              "outlinewidth": 0,
              "ticks": ""
             }
            },
            "type": "scattergl"
           }
          ],
          "scattermapbox": [
           {
            "marker": {
             "colorbar": {
              "outlinewidth": 0,
              "ticks": ""
             }
            },
            "type": "scattermapbox"
           }
          ],
          "scatterpolar": [
           {
            "marker": {
             "colorbar": {
              "outlinewidth": 0,
              "ticks": ""
             }
            },
            "type": "scatterpolar"
           }
          ],
          "scatterpolargl": [
           {
            "marker": {
             "colorbar": {
              "outlinewidth": 0,
              "ticks": ""
             }
            },
            "type": "scatterpolargl"
           }
          ],
          "scatterternary": [
           {
            "marker": {
             "colorbar": {
              "outlinewidth": 0,
              "ticks": ""
             }
            },
            "type": "scatterternary"
           }
          ],
          "surface": [
           {
            "colorbar": {
             "outlinewidth": 0,
             "ticks": ""
            },
            "colorscale": [
             [
              0,
              "#0d0887"
             ],
             [
              0.1111111111111111,
              "#46039f"
             ],
             [
              0.2222222222222222,
              "#7201a8"
             ],
             [
              0.3333333333333333,
              "#9c179e"
             ],
             [
              0.4444444444444444,
              "#bd3786"
             ],
             [
              0.5555555555555556,
              "#d8576b"
             ],
             [
              0.6666666666666666,
              "#ed7953"
             ],
             [
              0.7777777777777778,
              "#fb9f3a"
             ],
             [
              0.8888888888888888,
              "#fdca26"
             ],
             [
              1,
              "#f0f921"
             ]
            ],
            "type": "surface"
           }
          ],
          "table": [
           {
            "cells": {
             "fill": {
              "color": "#EBF0F8"
             },
             "line": {
              "color": "white"
             }
            },
            "header": {
             "fill": {
              "color": "#C8D4E3"
             },
             "line": {
              "color": "white"
             }
            },
            "type": "table"
           }
          ]
         },
         "layout": {
          "annotationdefaults": {
           "arrowcolor": "#2a3f5f",
           "arrowhead": 0,
           "arrowwidth": 1
          },
          "coloraxis": {
           "colorbar": {
            "outlinewidth": 0,
            "ticks": ""
           }
          },
          "colorscale": {
           "diverging": [
            [
             0,
             "#8e0152"
            ],
            [
             0.1,
             "#c51b7d"
            ],
            [
             0.2,
             "#de77ae"
            ],
            [
             0.3,
             "#f1b6da"
            ],
            [
             0.4,
             "#fde0ef"
            ],
            [
             0.5,
             "#f7f7f7"
            ],
            [
             0.6,
             "#e6f5d0"
            ],
            [
             0.7,
             "#b8e186"
            ],
            [
             0.8,
             "#7fbc41"
            ],
            [
             0.9,
             "#4d9221"
            ],
            [
             1,
             "#276419"
            ]
           ],
           "sequential": [
            [
             0,
             "#0d0887"
            ],
            [
             0.1111111111111111,
             "#46039f"
            ],
            [
             0.2222222222222222,
             "#7201a8"
            ],
            [
             0.3333333333333333,
             "#9c179e"
            ],
            [
             0.4444444444444444,
             "#bd3786"
            ],
            [
             0.5555555555555556,
             "#d8576b"
            ],
            [
             0.6666666666666666,
             "#ed7953"
            ],
            [
             0.7777777777777778,
             "#fb9f3a"
            ],
            [
             0.8888888888888888,
             "#fdca26"
            ],
            [
             1,
             "#f0f921"
            ]
           ],
           "sequentialminus": [
            [
             0,
             "#0d0887"
            ],
            [
             0.1111111111111111,
             "#46039f"
            ],
            [
             0.2222222222222222,
             "#7201a8"
            ],
            [
             0.3333333333333333,
             "#9c179e"
            ],
            [
             0.4444444444444444,
             "#bd3786"
            ],
            [
             0.5555555555555556,
             "#d8576b"
            ],
            [
             0.6666666666666666,
             "#ed7953"
            ],
            [
             0.7777777777777778,
             "#fb9f3a"
            ],
            [
             0.8888888888888888,
             "#fdca26"
            ],
            [
             1,
             "#f0f921"
            ]
           ]
          },
          "colorway": [
           "#636efa",
           "#EF553B",
           "#00cc96",
           "#ab63fa",
           "#FFA15A",
           "#19d3f3",
           "#FF6692",
           "#B6E880",
           "#FF97FF",
           "#FECB52"
          ],
          "font": {
           "color": "#2a3f5f"
          },
          "geo": {
           "bgcolor": "white",
           "lakecolor": "white",
           "landcolor": "#E5ECF6",
           "showlakes": true,
           "showland": true,
           "subunitcolor": "white"
          },
          "hoverlabel": {
           "align": "left"
          },
          "hovermode": "closest",
          "mapbox": {
           "style": "light"
          },
          "paper_bgcolor": "white",
          "plot_bgcolor": "#E5ECF6",
          "polar": {
           "angularaxis": {
            "gridcolor": "white",
            "linecolor": "white",
            "ticks": ""
           },
           "bgcolor": "#E5ECF6",
           "radialaxis": {
            "gridcolor": "white",
            "linecolor": "white",
            "ticks": ""
           }
          },
          "scene": {
           "xaxis": {
            "backgroundcolor": "#E5ECF6",
            "gridcolor": "white",
            "gridwidth": 2,
            "linecolor": "white",
            "showbackground": true,
            "ticks": "",
            "zerolinecolor": "white"
           },
           "yaxis": {
            "backgroundcolor": "#E5ECF6",
            "gridcolor": "white",
            "gridwidth": 2,
            "linecolor": "white",
            "showbackground": true,
            "ticks": "",
            "zerolinecolor": "white"
           },
           "zaxis": {
            "backgroundcolor": "#E5ECF6",
            "gridcolor": "white",
            "gridwidth": 2,
            "linecolor": "white",
            "showbackground": true,
            "ticks": "",
            "zerolinecolor": "white"
           }
          },
          "shapedefaults": {
           "line": {
            "color": "#2a3f5f"
           }
          },
          "ternary": {
           "aaxis": {
            "gridcolor": "white",
            "linecolor": "white",
            "ticks": ""
           },
           "baxis": {
            "gridcolor": "white",
            "linecolor": "white",
            "ticks": ""
           },
           "bgcolor": "#E5ECF6",
           "caxis": {
            "gridcolor": "white",
            "linecolor": "white",
            "ticks": ""
           }
          },
          "title": {
           "x": 0.05
          },
          "xaxis": {
           "automargin": true,
           "gridcolor": "white",
           "linecolor": "white",
           "ticks": "",
           "title": {
            "standoff": 15
           },
           "zerolinecolor": "white",
           "zerolinewidth": 2
          },
          "yaxis": {
           "automargin": true,
           "gridcolor": "white",
           "linecolor": "white",
           "ticks": "",
           "title": {
            "standoff": 15
           },
           "zerolinecolor": "white",
           "zerolinewidth": 2
          }
         }
        },
        "xaxis": {
         "anchor": "y",
         "domain": [
          0,
          1
         ],
         "title": {
          "text": "publication date"
         }
        },
        "yaxis": {
         "anchor": "x",
         "domain": [
          0,
          1
         ],
         "title": {
          "text": "views"
         }
        }
       }
      },
      "text/html": [
       "<div>                            <div id=\"2eea4d50-30bc-4934-98d5-fbcf1889c269\" class=\"plotly-graph-div\" style=\"height:525px; width:100%;\"></div>            <script type=\"text/javascript\">                require([\"plotly\"], function(Plotly) {                    window.PLOTLYENV=window.PLOTLYENV || {};                                    if (document.getElementById(\"2eea4d50-30bc-4934-98d5-fbcf1889c269\")) {                    Plotly.newPlot(                        \"2eea4d50-30bc-4934-98d5-fbcf1889c269\",                        [{\"hovertemplate\": \"publication date=%{x}<br>views=%{y}<br>likes=%{marker.color}<extra></extra>\", \"legendgroup\": \"\", \"marker\": {\"color\": [23903, 15185, 42648, 32044, 24099, 39318, 79191, 27572, 16451, 7156, 22287, 12683, 16301, 10945, 17495, 22564, 22926, 37014, 46239, 49473, 149287, 59262, 166300, 11575, 53418, 16960, 114081, 115744, 43080, 17345, 92786, 20516, 44240, 62920, 15976, 30109, 105558, 189377, 93021, 17532, 21167, 16088, 59392, 31598, 37639, 10973, 79759, 74390, 14588, 23157, 23729, 76959, 41826, 190809, 27419, 4643, 268863, 33755, 46863, 84880, 243885, 37266, 54754, 33285, 69086, 239962, 56564, 36139, 64640, 10308, 19617, 25715, 25730, 24000, 49796, 25041, 42132, 53695, 135678, 39504, 67968, 20238, 65581, 7123, 3283, 13081, 61507, 30895, 52089, 19846, 12345, 16963, 26016, 15435, 32136, 48062, 18130, 36219, 58047, 53644, 88276, 28533, 23058, 4292, 21375, 34498, 29948, 10453, 60686, 8285, 14311, 9565, 3745], \"coloraxis\": \"coloraxis\", \"size\": [23903, 15185, 42648, 32044, 24099, 39318, 79191, 27572, 16451, 7156, 22287, 12683, 16301, 10945, 17495, 22564, 22926, 37014, 46239, 49473, 149287, 59262, 166300, 11575, 53418, 16960, 114081, 115744, 43080, 17345, 92786, 20516, 44240, 62920, 15976, 30109, 105558, 189377, 93021, 17532, 21167, 16088, 59392, 31598, 37639, 10973, 79759, 74390, 14588, 23157, 23729, 76959, 41826, 190809, 27419, 4643, 268863, 33755, 46863, 84880, 243885, 37266, 54754, 33285, 69086, 239962, 56564, 36139, 64640, 10308, 19617, 25715, 25730, 24000, 49796, 25041, 42132, 53695, 135678, 39504, 67968, 20238, 65581, 7123, 3283, 13081, 61507, 30895, 52089, 19846, 12345, 16963, 26016, 15435, 32136, 48062, 18130, 36219, 58047, 53644, 88276, 28533, 23058, 4292, 21375, 34498, 29948, 10453, 60686, 8285, 14311, 9565, 3745], \"sizemode\": \"area\", \"sizeref\": 672.1575, \"symbol\": \"circle\"}, \"mode\": \"markers\", \"name\": \"\", \"orientation\": \"v\", \"showlegend\": false, \"type\": \"scatter\", \"x\": [\"2021-07-16T18:39:08+00:00\", \"2021-05-07T21:39:22+00:00\", \"2021-04-01T15:50:30+00:00\", \"2020-12-22T17:42:00+00:00\", \"2020-09-04T15:36:24+00:00\", \"2020-09-04T15:32:50+00:00\", \"2020-08-19T14:01:39+00:00\", \"2020-07-05T18:50:36+00:00\", \"2020-05-22T20:14:56+00:00\", \"2020-05-15T21:23:19+00:00\", \"2020-05-14T15:00:01+00:00\", \"2020-05-12T19:59:48+00:00\", \"2020-05-08T20:22:12+00:00\", \"2020-05-05T20:36:51+00:00\", \"2020-04-28T19:58:20+00:00\", \"2020-04-24T20:31:26+00:00\", \"2020-04-21T20:51:44+00:00\", \"2020-04-17T20:04:24+00:00\", \"2020-04-16T21:25:09+00:00\", \"2020-04-12T15:41:30+00:00\", \"2020-03-27T19:47:30+00:00\", \"2020-03-15T18:28:16+00:00\", \"2020-03-08T16:58:19+00:00\", \"2019-12-22T14:45:25+00:00\", \"2019-12-22T14:31:56+00:00\", \"2019-11-23T01:00:14+00:00\", \"2019-10-08T17:02:51+00:00\", \"2019-08-04T17:03:51+00:00\", \"2019-07-07T14:08:18+00:00\", \"2019-07-03T04:05:19+00:00\", \"2019-06-30T14:50:20+00:00\", \"2019-06-16T16:31:00+00:00\", \"2019-04-21T16:53:21+00:00\", \"2019-03-31T15:15:50+00:00\", \"2019-03-17T04:35:22+00:00\", \"2019-02-03T16:23:07+00:00\", \"2019-01-20T16:40:38+00:00\", \"2019-01-13T16:12:47+00:00\", \"2018-12-02T20:08:11+00:00\", \"2018-11-18T14:09:20+00:00\", \"2018-11-07T20:20:32+00:00\", \"2018-10-26T16:31:52+00:00\", \"2018-09-06T14:59:33+00:00\", \"2018-08-24T16:34:02+00:00\", \"2018-08-01T15:13:51+00:00\", \"2018-06-27T16:29:07+00:00\", \"2018-06-21T18:34:59+00:00\", \"2018-05-19T14:09:16+00:00\", \"2018-04-20T18:59:28+00:00\", \"2018-03-24T14:42:51+00:00\", \"2018-03-14T13:05:32+00:00\", \"2018-03-02T16:23:29+00:00\", \"2018-02-25T00:25:00+00:00\", \"2018-01-26T18:47:48+00:00\", \"2017-12-23T16:43:38+00:00\", \"2017-12-14T15:57:43+00:00\", \"2017-12-08T15:04:57+00:00\", \"2017-11-03T14:08:09+00:00\", \"2017-11-03T14:03:37+00:00\", \"2017-10-16T16:48:20+00:00\", \"2017-10-05T15:11:25+00:00\", \"2017-09-13T14:06:26+00:00\", \"2017-08-11T22:41:08+00:00\", \"2017-07-21T15:33:50+00:00\", \"2017-07-08T14:19:39+00:00\", \"2017-07-07T16:51:37+00:00\", \"2017-05-26T17:58:15+00:00\", \"2017-05-19T15:41:54+00:00\", \"2017-05-07T14:06:12+00:00\", \"2017-05-07T14:05:35+00:00\", \"2017-05-06T13:53:16+00:00\", \"2017-05-05T15:05:21+00:00\", \"2017-05-04T15:05:18+00:00\", \"2017-05-03T15:38:43+00:00\", \"2017-05-02T15:09:46+00:00\", \"2017-05-01T15:19:28+00:00\", \"2017-04-30T15:24:09+00:00\", \"2017-04-29T16:24:03+00:00\", \"2017-04-28T15:58:48+00:00\", \"2017-03-03T22:07:09+00:00\", \"2017-01-27T17:29:08+00:00\", \"2017-01-06T18:05:41+00:00\", \"2016-12-09T17:50:56+00:00\", \"2016-11-25T17:30:46+00:00\", \"2016-11-25T17:29:36+00:00\", \"2016-11-25T17:30:20+00:00\", \"2016-11-04T21:48:23+00:00\", \"2016-09-24T19:29:09+00:00\", \"2016-09-15T18:22:14+00:00\", \"2016-09-11T17:56:20+00:00\", \"2016-09-01T03:54:15+00:00\", \"2016-09-01T03:54:15+00:00\", \"2016-08-24T19:20:58+00:00\", \"2016-08-16T21:59:23+00:00\", \"2016-08-15T22:00:22+00:00\", \"2016-08-10T22:31:18+00:00\", \"2016-08-09T22:01:39+00:00\", \"2016-08-08T22:20:43+00:00\", \"2016-08-07T21:39:19+00:00\", \"2016-08-06T23:49:28+00:00\", \"2016-08-06T00:05:49+00:00\", \"2016-08-05T01:01:44+00:00\", \"2016-06-26T05:51:12+00:00\", \"2016-04-01T20:27:08+00:00\", \"2016-04-01T20:27:08+00:00\", \"2016-01-17T01:43:18+00:00\", \"2015-10-04T02:14:13+00:00\", \"2015-09-18T21:53:13+00:00\", \"2015-08-14T01:20:50+00:00\", \"2015-06-21T06:05:43+00:00\", \"2015-05-24T05:25:09+00:00\", \"2015-04-11T08:19:03+00:00\", \"2015-03-05T06:15:23+00:00\"], \"xaxis\": \"x\", \"y\": [426856, 330294, 970705, 614751, 482037, 896738, 1640230, 811784, 527041, 295161, 317890, 458424, 736137, 437702, 539241, 947753, 761369, 891155, 706606, 1733244, 4565262, 1383018, 5768744, 360693, 1321237, 370975, 3230538, 3674973, 1412049, 552838, 6796922, 778791, 1470859, 2288608, 685524, 790721, 3124356, 6902772, 4481577, 505338, 553153, 609687, 2419432, 686600, 1163079, 184964, 2364750, 2990301, 517816, 736710, 899097, 3347499, 1399577, 6193628, 725851, 140851, 10107800, 1571204, 2522770, 3815892, 9484725, 1465157, 2613830, 1499415, 2063034, 9837747, 2533567, 1607569, 2271005, 468410, 874108, 1174189, 1118395, 1173186, 2174699, 1086368, 1821950, 2134223, 4783670, 1648458, 2650148, 655913, 3121424, 212718, 375592, 501281, 2161241, 873643, 2515622, 1076942, 725735, 1045695, 1417311, 943226, 1626739, 2223310, 1131295, 1804059, 2778603, 2866612, 4599715, 1726814, 649649, 151279, 903830, 1545825, 1134345, 362723, 2890179, 375358, 481274, 475175, 126108], \"yaxis\": \"y\"}],                        {\"coloraxis\": {\"colorbar\": {\"title\": {\"text\": \"likes\"}}, \"colorscale\": [[0.0, \"rgb(149, 194, 60)\"], [1, \"rgb(0, 92, 34)\"]]}, \"legend\": {\"itemsizing\": \"constant\", \"tracegroupgap\": 0}, \"margin\": {\"t\": 60}, \"template\": {\"data\": {\"bar\": [{\"error_x\": {\"color\": \"#2a3f5f\"}, \"error_y\": {\"color\": \"#2a3f5f\"}, \"marker\": {\"line\": {\"color\": \"#E5ECF6\", \"width\": 0.5}}, \"type\": \"bar\"}], \"barpolar\": [{\"marker\": {\"line\": {\"color\": \"#E5ECF6\", \"width\": 0.5}}, \"type\": \"barpolar\"}], \"carpet\": [{\"aaxis\": {\"endlinecolor\": \"#2a3f5f\", \"gridcolor\": \"white\", \"linecolor\": \"white\", \"minorgridcolor\": \"white\", \"startlinecolor\": \"#2a3f5f\"}, \"baxis\": {\"endlinecolor\": \"#2a3f5f\", \"gridcolor\": \"white\", \"linecolor\": \"white\", \"minorgridcolor\": \"white\", \"startlinecolor\": \"#2a3f5f\"}, \"type\": \"carpet\"}], \"choropleth\": [{\"colorbar\": {\"outlinewidth\": 0, \"ticks\": \"\"}, \"type\": \"choropleth\"}], \"contour\": [{\"colorbar\": {\"outlinewidth\": 0, \"ticks\": \"\"}, \"colorscale\": [[0.0, \"#0d0887\"], [0.1111111111111111, \"#46039f\"], [0.2222222222222222, \"#7201a8\"], [0.3333333333333333, \"#9c179e\"], [0.4444444444444444, \"#bd3786\"], [0.5555555555555556, \"#d8576b\"], [0.6666666666666666, \"#ed7953\"], [0.7777777777777778, \"#fb9f3a\"], [0.8888888888888888, \"#fdca26\"], [1.0, \"#f0f921\"]], \"type\": \"contour\"}], \"contourcarpet\": [{\"colorbar\": {\"outlinewidth\": 0, \"ticks\": \"\"}, \"type\": \"contourcarpet\"}], \"heatmap\": [{\"colorbar\": {\"outlinewidth\": 0, \"ticks\": \"\"}, \"colorscale\": [[0.0, \"#0d0887\"], [0.1111111111111111, \"#46039f\"], [0.2222222222222222, \"#7201a8\"], [0.3333333333333333, \"#9c179e\"], [0.4444444444444444, \"#bd3786\"], [0.5555555555555556, \"#d8576b\"], [0.6666666666666666, \"#ed7953\"], [0.7777777777777778, \"#fb9f3a\"], [0.8888888888888888, \"#fdca26\"], [1.0, \"#f0f921\"]], \"type\": \"heatmap\"}], \"heatmapgl\": [{\"colorbar\": {\"outlinewidth\": 0, \"ticks\": \"\"}, \"colorscale\": [[0.0, \"#0d0887\"], [0.1111111111111111, \"#46039f\"], [0.2222222222222222, \"#7201a8\"], [0.3333333333333333, \"#9c179e\"], [0.4444444444444444, \"#bd3786\"], [0.5555555555555556, \"#d8576b\"], [0.6666666666666666, \"#ed7953\"], [0.7777777777777778, \"#fb9f3a\"], [0.8888888888888888, \"#fdca26\"], [1.0, \"#f0f921\"]], \"type\": \"heatmapgl\"}], \"histogram\": [{\"marker\": {\"colorbar\": {\"outlinewidth\": 0, \"ticks\": \"\"}}, \"type\": \"histogram\"}], \"histogram2d\": [{\"colorbar\": {\"outlinewidth\": 0, \"ticks\": \"\"}, \"colorscale\": [[0.0, \"#0d0887\"], [0.1111111111111111, \"#46039f\"], [0.2222222222222222, \"#7201a8\"], [0.3333333333333333, \"#9c179e\"], [0.4444444444444444, \"#bd3786\"], [0.5555555555555556, \"#d8576b\"], [0.6666666666666666, \"#ed7953\"], [0.7777777777777778, \"#fb9f3a\"], [0.8888888888888888, \"#fdca26\"], [1.0, \"#f0f921\"]], \"type\": \"histogram2d\"}], \"histogram2dcontour\": [{\"colorbar\": {\"outlinewidth\": 0, \"ticks\": \"\"}, \"colorscale\": [[0.0, \"#0d0887\"], [0.1111111111111111, \"#46039f\"], [0.2222222222222222, \"#7201a8\"], [0.3333333333333333, \"#9c179e\"], [0.4444444444444444, \"#bd3786\"], [0.5555555555555556, \"#d8576b\"], [0.6666666666666666, \"#ed7953\"], [0.7777777777777778, \"#fb9f3a\"], [0.8888888888888888, \"#fdca26\"], [1.0, \"#f0f921\"]], \"type\": \"histogram2dcontour\"}], \"mesh3d\": [{\"colorbar\": {\"outlinewidth\": 0, \"ticks\": \"\"}, \"type\": \"mesh3d\"}], \"parcoords\": [{\"line\": {\"colorbar\": {\"outlinewidth\": 0, \"ticks\": \"\"}}, \"type\": \"parcoords\"}], \"pie\": [{\"automargin\": true, \"type\": \"pie\"}], \"scatter\": [{\"marker\": {\"colorbar\": {\"outlinewidth\": 0, \"ticks\": \"\"}}, \"type\": \"scatter\"}], \"scatter3d\": [{\"line\": {\"colorbar\": {\"outlinewidth\": 0, \"ticks\": \"\"}}, \"marker\": {\"colorbar\": {\"outlinewidth\": 0, \"ticks\": \"\"}}, \"type\": \"scatter3d\"}], \"scattercarpet\": [{\"marker\": {\"colorbar\": {\"outlinewidth\": 0, \"ticks\": \"\"}}, \"type\": \"scattercarpet\"}], \"scattergeo\": [{\"marker\": {\"colorbar\": {\"outlinewidth\": 0, \"ticks\": \"\"}}, \"type\": \"scattergeo\"}], \"scattergl\": [{\"marker\": {\"colorbar\": {\"outlinewidth\": 0, \"ticks\": \"\"}}, \"type\": \"scattergl\"}], \"scattermapbox\": [{\"marker\": {\"colorbar\": {\"outlinewidth\": 0, \"ticks\": \"\"}}, \"type\": \"scattermapbox\"}], \"scatterpolar\": [{\"marker\": {\"colorbar\": {\"outlinewidth\": 0, \"ticks\": \"\"}}, \"type\": \"scatterpolar\"}], \"scatterpolargl\": [{\"marker\": {\"colorbar\": {\"outlinewidth\": 0, \"ticks\": \"\"}}, \"type\": \"scatterpolargl\"}], \"scatterternary\": [{\"marker\": {\"colorbar\": {\"outlinewidth\": 0, \"ticks\": \"\"}}, \"type\": \"scatterternary\"}], \"surface\": [{\"colorbar\": {\"outlinewidth\": 0, \"ticks\": \"\"}, \"colorscale\": [[0.0, \"#0d0887\"], [0.1111111111111111, \"#46039f\"], [0.2222222222222222, \"#7201a8\"], [0.3333333333333333, \"#9c179e\"], [0.4444444444444444, \"#bd3786\"], [0.5555555555555556, \"#d8576b\"], [0.6666666666666666, \"#ed7953\"], [0.7777777777777778, \"#fb9f3a\"], [0.8888888888888888, \"#fdca26\"], [1.0, \"#f0f921\"]], \"type\": \"surface\"}], \"table\": [{\"cells\": {\"fill\": {\"color\": \"#EBF0F8\"}, \"line\": {\"color\": \"white\"}}, \"header\": {\"fill\": {\"color\": \"#C8D4E3\"}, \"line\": {\"color\": \"white\"}}, \"type\": \"table\"}]}, \"layout\": {\"annotationdefaults\": {\"arrowcolor\": \"#2a3f5f\", \"arrowhead\": 0, \"arrowwidth\": 1}, \"coloraxis\": {\"colorbar\": {\"outlinewidth\": 0, \"ticks\": \"\"}}, \"colorscale\": {\"diverging\": [[0, \"#8e0152\"], [0.1, \"#c51b7d\"], [0.2, \"#de77ae\"], [0.3, \"#f1b6da\"], [0.4, \"#fde0ef\"], [0.5, \"#f7f7f7\"], [0.6, \"#e6f5d0\"], [0.7, \"#b8e186\"], [0.8, \"#7fbc41\"], [0.9, \"#4d9221\"], [1, \"#276419\"]], \"sequential\": [[0.0, \"#0d0887\"], [0.1111111111111111, \"#46039f\"], [0.2222222222222222, \"#7201a8\"], [0.3333333333333333, \"#9c179e\"], [0.4444444444444444, \"#bd3786\"], [0.5555555555555556, \"#d8576b\"], [0.6666666666666666, \"#ed7953\"], [0.7777777777777778, \"#fb9f3a\"], [0.8888888888888888, \"#fdca26\"], [1.0, \"#f0f921\"]], \"sequentialminus\": [[0.0, \"#0d0887\"], [0.1111111111111111, \"#46039f\"], [0.2222222222222222, \"#7201a8\"], [0.3333333333333333, \"#9c179e\"], [0.4444444444444444, \"#bd3786\"], [0.5555555555555556, \"#d8576b\"], [0.6666666666666666, \"#ed7953\"], [0.7777777777777778, \"#fb9f3a\"], [0.8888888888888888, \"#fdca26\"], [1.0, \"#f0f921\"]]}, \"colorway\": [\"#636efa\", \"#EF553B\", \"#00cc96\", \"#ab63fa\", \"#FFA15A\", \"#19d3f3\", \"#FF6692\", \"#B6E880\", \"#FF97FF\", \"#FECB52\"], \"font\": {\"color\": \"#2a3f5f\"}, \"geo\": {\"bgcolor\": \"white\", \"lakecolor\": \"white\", \"landcolor\": \"#E5ECF6\", \"showlakes\": true, \"showland\": true, \"subunitcolor\": \"white\"}, \"hoverlabel\": {\"align\": \"left\"}, \"hovermode\": \"closest\", \"mapbox\": {\"style\": \"light\"}, \"paper_bgcolor\": \"white\", \"plot_bgcolor\": \"#E5ECF6\", \"polar\": {\"angularaxis\": {\"gridcolor\": \"white\", \"linecolor\": \"white\", \"ticks\": \"\"}, \"bgcolor\": \"#E5ECF6\", \"radialaxis\": {\"gridcolor\": \"white\", \"linecolor\": \"white\", \"ticks\": \"\"}}, \"scene\": {\"xaxis\": {\"backgroundcolor\": \"#E5ECF6\", \"gridcolor\": \"white\", \"gridwidth\": 2, \"linecolor\": \"white\", \"showbackground\": true, \"ticks\": \"\", \"zerolinecolor\": \"white\"}, \"yaxis\": {\"backgroundcolor\": \"#E5ECF6\", \"gridcolor\": \"white\", \"gridwidth\": 2, \"linecolor\": \"white\", \"showbackground\": true, \"ticks\": \"\", \"zerolinecolor\": \"white\"}, \"zaxis\": {\"backgroundcolor\": \"#E5ECF6\", \"gridcolor\": \"white\", \"gridwidth\": 2, \"linecolor\": \"white\", \"showbackground\": true, \"ticks\": \"\", \"zerolinecolor\": \"white\"}}, \"shapedefaults\": {\"line\": {\"color\": \"#2a3f5f\"}}, \"ternary\": {\"aaxis\": {\"gridcolor\": \"white\", \"linecolor\": \"white\", \"ticks\": \"\"}, \"baxis\": {\"gridcolor\": \"white\", \"linecolor\": \"white\", \"ticks\": \"\"}, \"bgcolor\": \"#E5ECF6\", \"caxis\": {\"gridcolor\": \"white\", \"linecolor\": \"white\", \"ticks\": \"\"}}, \"title\": {\"x\": 0.05}, \"xaxis\": {\"automargin\": true, \"gridcolor\": \"white\", \"linecolor\": \"white\", \"ticks\": \"\", \"title\": {\"standoff\": 15}, \"zerolinecolor\": \"white\", \"zerolinewidth\": 2}, \"yaxis\": {\"automargin\": true, \"gridcolor\": \"white\", \"linecolor\": \"white\", \"ticks\": \"\", \"title\": {\"standoff\": 15}, \"zerolinecolor\": \"white\", \"zerolinewidth\": 2}}}, \"xaxis\": {\"anchor\": \"y\", \"domain\": [0.0, 1.0], \"title\": {\"text\": \"publication date\"}}, \"yaxis\": {\"anchor\": \"x\", \"domain\": [0.0, 1.0], \"title\": {\"text\": \"views\"}}},                        {\"responsive\": true}                    ).then(function(){\n",
       "                            \n",
       "var gd = document.getElementById('2eea4d50-30bc-4934-98d5-fbcf1889c269');\n",
       "var x = new MutationObserver(function (mutations, observer) {{\n",
       "        var display = window.getComputedStyle(gd).display;\n",
       "        if (!display || display === 'none') {{\n",
       "            console.log([gd, 'removed!']);\n",
       "            Plotly.purge(gd);\n",
       "            observer.disconnect();\n",
       "        }}\n",
       "}});\n",
       "\n",
       "// Listen for the removal of the full notebook cells\n",
       "var notebookContainer = gd.closest('#notebook-container');\n",
       "if (notebookContainer) {{\n",
       "    x.observe(notebookContainer, {childList: true});\n",
       "}}\n",
       "\n",
       "// Listen for the clearing of the current output cell\n",
       "var outputEl = gd.closest('.output');\n",
       "if (outputEl) {{\n",
       "    x.observe(outputEl, {childList: true});\n",
       "}}\n",
       "\n",
       "                        })                };                });            </script>        </div>"
      ]
     },
     "metadata": {},
     "output_type": "display_data"
    }
   ],
   "source": [
    "fig = df.plot(x='publication date', \n",
    "              y='views', \n",
    "              kind='scatter', \n",
    "              size='likes', \n",
    "              color=\"likes\", \n",
    "              color_continuous_scale=[[0.0, \"rgb(149, 194, 60)\"],\n",
    "                                      [1, \"rgb(0, 92, 34)\"]])\n",
    "fig.show()"
   ]
  },
  {
   "cell_type": "code",
   "execution_count": 137,
   "metadata": {},
   "outputs": [
    {
     "data": {
      "application/vnd.plotly.v1+json": {
       "config": {
        "plotlyServerURL": "https://plot.ly"
       },
       "data": [
        {
         "hovertemplate": "duration=%{x}<br>views=%{y}<br>likes=%{marker.color}<extra></extra>",
         "legendgroup": "",
         "marker": {
          "color": [
           23903,
           15185,
           42648,
           32044,
           24099,
           39318,
           79191,
           27572,
           16451,
           7156,
           22287,
           12683,
           16301,
           10945,
           17495,
           22564,
           22926,
           37014,
           46239,
           49473,
           149287,
           59262,
           166300,
           11575,
           53418,
           16960,
           114081,
           115744,
           43080,
           17345,
           92786,
           20516,
           44240,
           62920,
           15976,
           30109,
           105558,
           189377,
           93021,
           17532,
           21167,
           16088,
           59392,
           31598,
           37639,
           10973,
           79759,
           74390,
           14588,
           23157,
           23729,
           76959,
           41826,
           190809,
           27419,
           4643,
           268863,
           33755,
           46863,
           84880,
           243885,
           37266,
           54754,
           33285,
           69086,
           239962,
           56564,
           36139,
           64640,
           10308,
           19617,
           25715,
           25730,
           24000,
           49796,
           25041,
           42132,
           53695,
           135678,
           39504,
           67968,
           20238,
           65581,
           7123,
           3283,
           13081,
           61507,
           30895,
           52089,
           19846,
           12345,
           16963,
           26016,
           15435,
           32136,
           48062,
           18130,
           36219,
           58047,
           53644,
           88276,
           28533,
           23058,
           4292,
           21375,
           34498,
           29948,
           10453,
           60686,
           8285,
           14311,
           9565,
           3745
          ],
          "coloraxis": "coloraxis",
          "size": [
           23903,
           15185,
           42648,
           32044,
           24099,
           39318,
           79191,
           27572,
           16451,
           7156,
           22287,
           12683,
           16301,
           10945,
           17495,
           22564,
           22926,
           37014,
           46239,
           49473,
           149287,
           59262,
           166300,
           11575,
           53418,
           16960,
           114081,
           115744,
           43080,
           17345,
           92786,
           20516,
           44240,
           62920,
           15976,
           30109,
           105558,
           189377,
           93021,
           17532,
           21167,
           16088,
           59392,
           31598,
           37639,
           10973,
           79759,
           74390,
           14588,
           23157,
           23729,
           76959,
           41826,
           190809,
           27419,
           4643,
           268863,
           33755,
           46863,
           84880,
           243885,
           37266,
           54754,
           33285,
           69086,
           239962,
           56564,
           36139,
           64640,
           10308,
           19617,
           25715,
           25730,
           24000,
           49796,
           25041,
           42132,
           53695,
           135678,
           39504,
           67968,
           20238,
           65581,
           7123,
           3283,
           13081,
           61507,
           30895,
           52089,
           19846,
           12345,
           16963,
           26016,
           15435,
           32136,
           48062,
           18130,
           36219,
           58047,
           53644,
           88276,
           28533,
           23058,
           4292,
           21375,
           34498,
           29948,
           10453,
           60686,
           8285,
           14311,
           9565,
           3745
          ],
          "sizemode": "area",
          "sizeref": 672.1575,
          "symbol": "circle"
         },
         "mode": "markers",
         "name": "",
         "orientation": "v",
         "showlegend": false,
         "type": "scatter",
         "x": [
          24.35,
          13.216666666666667,
          27.116666666666667,
          21.233333333333334,
          16.833333333333332,
          20.083333333333332,
          21.966666666666665,
          18.7,
          68.33333333333333,
          73.63333333333334,
          7.316666666666666,
          53.833333333333336,
          74.91666666666667,
          94.36666666666666,
          51.266666666666666,
          88.75,
          73.3,
          52.18333333333333,
          2.216666666666667,
          10.016666666666667,
          23.2,
          12.566666666666666,
          8.95,
          3.8,
          15.766666666666666,
          19.1,
          22.5,
          16.05,
          4.133333333333334,
          12.483333333333333,
          24.783333333333335,
          14.216666666666667,
          17.65,
          27.266666666666666,
          12.2,
          14.683333333333334,
          15.266666666666667,
          5.216666666666667,
          17.016666666666666,
          19.833333333333332,
          11.466666666666667,
          5.983333333333333,
          31.85,
          10.35,
          12.866666666666667,
          8.15,
          15.7,
          16.383333333333333,
          26.633333333333333,
          24.75,
          5.883333333333333,
          19.066666666666666,
          19.35,
          20.95,
          19.616666666666667,
          4.083333333333333,
          11.25,
          10.3,
          13.9,
          21.016666666666666,
          19.216666666666665,
          22.366666666666667,
          27.116666666666667,
          18.3,
          5.1,
          26.35,
          16.966666666666665,
          30.7,
          22.333333333333332,
          5.65,
          12.65,
          20.766666666666666,
          18.45,
          15.566666666666666,
          13.833333333333334,
          16.866666666666667,
          18.716666666666665,
          18.633333333333333,
          17.083333333333332,
          24.466666666666665,
          21.6,
          8.25,
          22.183333333333334,
          13.666666666666666,
          1.5333333333333332,
          13.983333333333333,
          18.266666666666666,
          16.766666666666666,
          17.266666666666666,
          12.85,
          13.166666666666666,
          8.9,
          14.2,
          4.45,
          12.15,
          10.05,
          4.766666666666667,
          10.066666666666666,
          10.983333333333333,
          9.983333333333333,
          9.866666666666667,
          5.15,
          7.7,
          3.95,
          16.033333333333335,
          2.5666666666666664,
          13.216666666666667,
          2.5666666666666664,
          15.133333333333333,
          7.45,
          8.883333333333333,
          1.8166666666666667,
          1.0666666666666667
         ],
         "xaxis": "x",
         "y": [
          426856,
          330294,
          970705,
          614751,
          482037,
          896738,
          1640230,
          811784,
          527041,
          295161,
          317890,
          458424,
          736137,
          437702,
          539241,
          947753,
          761369,
          891155,
          706606,
          1733244,
          4565262,
          1383018,
          5768744,
          360693,
          1321237,
          370975,
          3230538,
          3674973,
          1412049,
          552838,
          6796922,
          778791,
          1470859,
          2288608,
          685524,
          790721,
          3124356,
          6902772,
          4481577,
          505338,
          553153,
          609687,
          2419432,
          686600,
          1163079,
          184964,
          2364750,
          2990301,
          517816,
          736710,
          899097,
          3347499,
          1399577,
          6193628,
          725851,
          140851,
          10107800,
          1571204,
          2522770,
          3815892,
          9484725,
          1465157,
          2613830,
          1499415,
          2063034,
          9837747,
          2533567,
          1607569,
          2271005,
          468410,
          874108,
          1174189,
          1118395,
          1173186,
          2174699,
          1086368,
          1821950,
          2134223,
          4783670,
          1648458,
          2650148,
          655913,
          3121424,
          212718,
          375592,
          501281,
          2161241,
          873643,
          2515622,
          1076942,
          725735,
          1045695,
          1417311,
          943226,
          1626739,
          2223310,
          1131295,
          1804059,
          2778603,
          2866612,
          4599715,
          1726814,
          649649,
          151279,
          903830,
          1545825,
          1134345,
          362723,
          2890179,
          375358,
          481274,
          475175,
          126108
         ],
         "yaxis": "y"
        }
       ],
       "layout": {
        "coloraxis": {
         "colorbar": {
          "title": {
           "text": "likes"
          }
         },
         "colorscale": [
          [
           0,
           "rgb(7, 159, 224)"
          ],
          [
           1,
           "rgb(61, 8, 84)"
          ]
         ]
        },
        "legend": {
         "itemsizing": "constant",
         "tracegroupgap": 0
        },
        "margin": {
         "t": 60
        },
        "template": {
         "data": {
          "bar": [
           {
            "error_x": {
             "color": "#2a3f5f"
            },
            "error_y": {
             "color": "#2a3f5f"
            },
            "marker": {
             "line": {
              "color": "#E5ECF6",
              "width": 0.5
             }
            },
            "type": "bar"
           }
          ],
          "barpolar": [
           {
            "marker": {
             "line": {
              "color": "#E5ECF6",
              "width": 0.5
             }
            },
            "type": "barpolar"
           }
          ],
          "carpet": [
           {
            "aaxis": {
             "endlinecolor": "#2a3f5f",
             "gridcolor": "white",
             "linecolor": "white",
             "minorgridcolor": "white",
             "startlinecolor": "#2a3f5f"
            },
            "baxis": {
             "endlinecolor": "#2a3f5f",
             "gridcolor": "white",
             "linecolor": "white",
             "minorgridcolor": "white",
             "startlinecolor": "#2a3f5f"
            },
            "type": "carpet"
           }
          ],
          "choropleth": [
           {
            "colorbar": {
             "outlinewidth": 0,
             "ticks": ""
            },
            "type": "choropleth"
           }
          ],
          "contour": [
           {
            "colorbar": {
             "outlinewidth": 0,
             "ticks": ""
            },
            "colorscale": [
             [
              0,
              "#0d0887"
             ],
             [
              0.1111111111111111,
              "#46039f"
             ],
             [
              0.2222222222222222,
              "#7201a8"
             ],
             [
              0.3333333333333333,
              "#9c179e"
             ],
             [
              0.4444444444444444,
              "#bd3786"
             ],
             [
              0.5555555555555556,
              "#d8576b"
             ],
             [
              0.6666666666666666,
              "#ed7953"
             ],
             [
              0.7777777777777778,
              "#fb9f3a"
             ],
             [
              0.8888888888888888,
              "#fdca26"
             ],
             [
              1,
              "#f0f921"
             ]
            ],
            "type": "contour"
           }
          ],
          "contourcarpet": [
           {
            "colorbar": {
             "outlinewidth": 0,
             "ticks": ""
            },
            "type": "contourcarpet"
           }
          ],
          "heatmap": [
           {
            "colorbar": {
             "outlinewidth": 0,
             "ticks": ""
            },
            "colorscale": [
             [
              0,
              "#0d0887"
             ],
             [
              0.1111111111111111,
              "#46039f"
             ],
             [
              0.2222222222222222,
              "#7201a8"
             ],
             [
              0.3333333333333333,
              "#9c179e"
             ],
             [
              0.4444444444444444,
              "#bd3786"
             ],
             [
              0.5555555555555556,
              "#d8576b"
             ],
             [
              0.6666666666666666,
              "#ed7953"
             ],
             [
              0.7777777777777778,
              "#fb9f3a"
             ],
             [
              0.8888888888888888,
              "#fdca26"
             ],
             [
              1,
              "#f0f921"
             ]
            ],
            "type": "heatmap"
           }
          ],
          "heatmapgl": [
           {
            "colorbar": {
             "outlinewidth": 0,
             "ticks": ""
            },
            "colorscale": [
             [
              0,
              "#0d0887"
             ],
             [
              0.1111111111111111,
              "#46039f"
             ],
             [
              0.2222222222222222,
              "#7201a8"
             ],
             [
              0.3333333333333333,
              "#9c179e"
             ],
             [
              0.4444444444444444,
              "#bd3786"
             ],
             [
              0.5555555555555556,
              "#d8576b"
             ],
             [
              0.6666666666666666,
              "#ed7953"
             ],
             [
              0.7777777777777778,
              "#fb9f3a"
             ],
             [
              0.8888888888888888,
              "#fdca26"
             ],
             [
              1,
              "#f0f921"
             ]
            ],
            "type": "heatmapgl"
           }
          ],
          "histogram": [
           {
            "marker": {
             "colorbar": {
              "outlinewidth": 0,
              "ticks": ""
             }
            },
            "type": "histogram"
           }
          ],
          "histogram2d": [
           {
            "colorbar": {
             "outlinewidth": 0,
             "ticks": ""
            },
            "colorscale": [
             [
              0,
              "#0d0887"
             ],
             [
              0.1111111111111111,
              "#46039f"
             ],
             [
              0.2222222222222222,
              "#7201a8"
             ],
             [
              0.3333333333333333,
              "#9c179e"
             ],
             [
              0.4444444444444444,
              "#bd3786"
             ],
             [
              0.5555555555555556,
              "#d8576b"
             ],
             [
              0.6666666666666666,
              "#ed7953"
             ],
             [
              0.7777777777777778,
              "#fb9f3a"
             ],
             [
              0.8888888888888888,
              "#fdca26"
             ],
             [
              1,
              "#f0f921"
             ]
            ],
            "type": "histogram2d"
           }
          ],
          "histogram2dcontour": [
           {
            "colorbar": {
             "outlinewidth": 0,
             "ticks": ""
            },
            "colorscale": [
             [
              0,
              "#0d0887"
             ],
             [
              0.1111111111111111,
              "#46039f"
             ],
             [
              0.2222222222222222,
              "#7201a8"
             ],
             [
              0.3333333333333333,
              "#9c179e"
             ],
             [
              0.4444444444444444,
              "#bd3786"
             ],
             [
              0.5555555555555556,
              "#d8576b"
             ],
             [
              0.6666666666666666,
              "#ed7953"
             ],
             [
              0.7777777777777778,
              "#fb9f3a"
             ],
             [
              0.8888888888888888,
              "#fdca26"
             ],
             [
              1,
              "#f0f921"
             ]
            ],
            "type": "histogram2dcontour"
           }
          ],
          "mesh3d": [
           {
            "colorbar": {
             "outlinewidth": 0,
             "ticks": ""
            },
            "type": "mesh3d"
           }
          ],
          "parcoords": [
           {
            "line": {
             "colorbar": {
              "outlinewidth": 0,
              "ticks": ""
             }
            },
            "type": "parcoords"
           }
          ],
          "pie": [
           {
            "automargin": true,
            "type": "pie"
           }
          ],
          "scatter": [
           {
            "marker": {
             "colorbar": {
              "outlinewidth": 0,
              "ticks": ""
             }
            },
            "type": "scatter"
           }
          ],
          "scatter3d": [
           {
            "line": {
             "colorbar": {
              "outlinewidth": 0,
              "ticks": ""
             }
            },
            "marker": {
             "colorbar": {
              "outlinewidth": 0,
              "ticks": ""
             }
            },
            "type": "scatter3d"
           }
          ],
          "scattercarpet": [
           {
            "marker": {
             "colorbar": {
              "outlinewidth": 0,
              "ticks": ""
             }
            },
            "type": "scattercarpet"
           }
          ],
          "scattergeo": [
           {
            "marker": {
             "colorbar": {
              "outlinewidth": 0,
              "ticks": ""
             }
            },
            "type": "scattergeo"
           }
          ],
          "scattergl": [
           {
            "marker": {
             "colorbar": {
              "outlinewidth": 0,
              "ticks": ""
             }
            },
            "type": "scattergl"
           }
          ],
          "scattermapbox": [
           {
            "marker": {
             "colorbar": {
              "outlinewidth": 0,
              "ticks": ""
             }
            },
            "type": "scattermapbox"
           }
          ],
          "scatterpolar": [
           {
            "marker": {
             "colorbar": {
              "outlinewidth": 0,
              "ticks": ""
             }
            },
            "type": "scatterpolar"
           }
          ],
          "scatterpolargl": [
           {
            "marker": {
             "colorbar": {
              "outlinewidth": 0,
              "ticks": ""
             }
            },
            "type": "scatterpolargl"
           }
          ],
          "scatterternary": [
           {
            "marker": {
             "colorbar": {
              "outlinewidth": 0,
              "ticks": ""
             }
            },
            "type": "scatterternary"
           }
          ],
          "surface": [
           {
            "colorbar": {
             "outlinewidth": 0,
             "ticks": ""
            },
            "colorscale": [
             [
              0,
              "#0d0887"
             ],
             [
              0.1111111111111111,
              "#46039f"
             ],
             [
              0.2222222222222222,
              "#7201a8"
             ],
             [
              0.3333333333333333,
              "#9c179e"
             ],
             [
              0.4444444444444444,
              "#bd3786"
             ],
             [
              0.5555555555555556,
              "#d8576b"
             ],
             [
              0.6666666666666666,
              "#ed7953"
             ],
             [
              0.7777777777777778,
              "#fb9f3a"
             ],
             [
              0.8888888888888888,
              "#fdca26"
             ],
             [
              1,
              "#f0f921"
             ]
            ],
            "type": "surface"
           }
          ],
          "table": [
           {
            "cells": {
             "fill": {
              "color": "#EBF0F8"
             },
             "line": {
              "color": "white"
             }
            },
            "header": {
             "fill": {
              "color": "#C8D4E3"
             },
             "line": {
              "color": "white"
             }
            },
            "type": "table"
           }
          ]
         },
         "layout": {
          "annotationdefaults": {
           "arrowcolor": "#2a3f5f",
           "arrowhead": 0,
           "arrowwidth": 1
          },
          "coloraxis": {
           "colorbar": {
            "outlinewidth": 0,
            "ticks": ""
           }
          },
          "colorscale": {
           "diverging": [
            [
             0,
             "#8e0152"
            ],
            [
             0.1,
             "#c51b7d"
            ],
            [
             0.2,
             "#de77ae"
            ],
            [
             0.3,
             "#f1b6da"
            ],
            [
             0.4,
             "#fde0ef"
            ],
            [
             0.5,
             "#f7f7f7"
            ],
            [
             0.6,
             "#e6f5d0"
            ],
            [
             0.7,
             "#b8e186"
            ],
            [
             0.8,
             "#7fbc41"
            ],
            [
             0.9,
             "#4d9221"
            ],
            [
             1,
             "#276419"
            ]
           ],
           "sequential": [
            [
             0,
             "#0d0887"
            ],
            [
             0.1111111111111111,
             "#46039f"
            ],
            [
             0.2222222222222222,
             "#7201a8"
            ],
            [
             0.3333333333333333,
             "#9c179e"
            ],
            [
             0.4444444444444444,
             "#bd3786"
            ],
            [
             0.5555555555555556,
             "#d8576b"
            ],
            [
             0.6666666666666666,
             "#ed7953"
            ],
            [
             0.7777777777777778,
             "#fb9f3a"
            ],
            [
             0.8888888888888888,
             "#fdca26"
            ],
            [
             1,
             "#f0f921"
            ]
           ],
           "sequentialminus": [
            [
             0,
             "#0d0887"
            ],
            [
             0.1111111111111111,
             "#46039f"
            ],
            [
             0.2222222222222222,
             "#7201a8"
            ],
            [
             0.3333333333333333,
             "#9c179e"
            ],
            [
             0.4444444444444444,
             "#bd3786"
            ],
            [
             0.5555555555555556,
             "#d8576b"
            ],
            [
             0.6666666666666666,
             "#ed7953"
            ],
            [
             0.7777777777777778,
             "#fb9f3a"
            ],
            [
             0.8888888888888888,
             "#fdca26"
            ],
            [
             1,
             "#f0f921"
            ]
           ]
          },
          "colorway": [
           "#636efa",
           "#EF553B",
           "#00cc96",
           "#ab63fa",
           "#FFA15A",
           "#19d3f3",
           "#FF6692",
           "#B6E880",
           "#FF97FF",
           "#FECB52"
          ],
          "font": {
           "color": "#2a3f5f"
          },
          "geo": {
           "bgcolor": "white",
           "lakecolor": "white",
           "landcolor": "#E5ECF6",
           "showlakes": true,
           "showland": true,
           "subunitcolor": "white"
          },
          "hoverlabel": {
           "align": "left"
          },
          "hovermode": "closest",
          "mapbox": {
           "style": "light"
          },
          "paper_bgcolor": "white",
          "plot_bgcolor": "#E5ECF6",
          "polar": {
           "angularaxis": {
            "gridcolor": "white",
            "linecolor": "white",
            "ticks": ""
           },
           "bgcolor": "#E5ECF6",
           "radialaxis": {
            "gridcolor": "white",
            "linecolor": "white",
            "ticks": ""
           }
          },
          "scene": {
           "xaxis": {
            "backgroundcolor": "#E5ECF6",
            "gridcolor": "white",
            "gridwidth": 2,
            "linecolor": "white",
            "showbackground": true,
            "ticks": "",
            "zerolinecolor": "white"
           },
           "yaxis": {
            "backgroundcolor": "#E5ECF6",
            "gridcolor": "white",
            "gridwidth": 2,
            "linecolor": "white",
            "showbackground": true,
            "ticks": "",
            "zerolinecolor": "white"
           },
           "zaxis": {
            "backgroundcolor": "#E5ECF6",
            "gridcolor": "white",
            "gridwidth": 2,
            "linecolor": "white",
            "showbackground": true,
            "ticks": "",
            "zerolinecolor": "white"
           }
          },
          "shapedefaults": {
           "line": {
            "color": "#2a3f5f"
           }
          },
          "ternary": {
           "aaxis": {
            "gridcolor": "white",
            "linecolor": "white",
            "ticks": ""
           },
           "baxis": {
            "gridcolor": "white",
            "linecolor": "white",
            "ticks": ""
           },
           "bgcolor": "#E5ECF6",
           "caxis": {
            "gridcolor": "white",
            "linecolor": "white",
            "ticks": ""
           }
          },
          "title": {
           "x": 0.05
          },
          "xaxis": {
           "automargin": true,
           "gridcolor": "white",
           "linecolor": "white",
           "ticks": "",
           "title": {
            "standoff": 15
           },
           "zerolinecolor": "white",
           "zerolinewidth": 2
          },
          "yaxis": {
           "automargin": true,
           "gridcolor": "white",
           "linecolor": "white",
           "ticks": "",
           "title": {
            "standoff": 15
           },
           "zerolinecolor": "white",
           "zerolinewidth": 2
          }
         }
        },
        "xaxis": {
         "anchor": "y",
         "domain": [
          0,
          1
         ],
         "title": {
          "text": "duration"
         }
        },
        "yaxis": {
         "anchor": "x",
         "domain": [
          0,
          1
         ],
         "title": {
          "text": "views"
         }
        }
       }
      },
      "text/html": [
       "<div>                            <div id=\"23b89283-2e93-4b83-aad3-f475a7a5552a\" class=\"plotly-graph-div\" style=\"height:525px; width:100%;\"></div>            <script type=\"text/javascript\">                require([\"plotly\"], function(Plotly) {                    window.PLOTLYENV=window.PLOTLYENV || {};                                    if (document.getElementById(\"23b89283-2e93-4b83-aad3-f475a7a5552a\")) {                    Plotly.newPlot(                        \"23b89283-2e93-4b83-aad3-f475a7a5552a\",                        [{\"hovertemplate\": \"duration=%{x}<br>views=%{y}<br>likes=%{marker.color}<extra></extra>\", \"legendgroup\": \"\", \"marker\": {\"color\": [23903, 15185, 42648, 32044, 24099, 39318, 79191, 27572, 16451, 7156, 22287, 12683, 16301, 10945, 17495, 22564, 22926, 37014, 46239, 49473, 149287, 59262, 166300, 11575, 53418, 16960, 114081, 115744, 43080, 17345, 92786, 20516, 44240, 62920, 15976, 30109, 105558, 189377, 93021, 17532, 21167, 16088, 59392, 31598, 37639, 10973, 79759, 74390, 14588, 23157, 23729, 76959, 41826, 190809, 27419, 4643, 268863, 33755, 46863, 84880, 243885, 37266, 54754, 33285, 69086, 239962, 56564, 36139, 64640, 10308, 19617, 25715, 25730, 24000, 49796, 25041, 42132, 53695, 135678, 39504, 67968, 20238, 65581, 7123, 3283, 13081, 61507, 30895, 52089, 19846, 12345, 16963, 26016, 15435, 32136, 48062, 18130, 36219, 58047, 53644, 88276, 28533, 23058, 4292, 21375, 34498, 29948, 10453, 60686, 8285, 14311, 9565, 3745], \"coloraxis\": \"coloraxis\", \"size\": [23903, 15185, 42648, 32044, 24099, 39318, 79191, 27572, 16451, 7156, 22287, 12683, 16301, 10945, 17495, 22564, 22926, 37014, 46239, 49473, 149287, 59262, 166300, 11575, 53418, 16960, 114081, 115744, 43080, 17345, 92786, 20516, 44240, 62920, 15976, 30109, 105558, 189377, 93021, 17532, 21167, 16088, 59392, 31598, 37639, 10973, 79759, 74390, 14588, 23157, 23729, 76959, 41826, 190809, 27419, 4643, 268863, 33755, 46863, 84880, 243885, 37266, 54754, 33285, 69086, 239962, 56564, 36139, 64640, 10308, 19617, 25715, 25730, 24000, 49796, 25041, 42132, 53695, 135678, 39504, 67968, 20238, 65581, 7123, 3283, 13081, 61507, 30895, 52089, 19846, 12345, 16963, 26016, 15435, 32136, 48062, 18130, 36219, 58047, 53644, 88276, 28533, 23058, 4292, 21375, 34498, 29948, 10453, 60686, 8285, 14311, 9565, 3745], \"sizemode\": \"area\", \"sizeref\": 672.1575, \"symbol\": \"circle\"}, \"mode\": \"markers\", \"name\": \"\", \"orientation\": \"v\", \"showlegend\": false, \"type\": \"scatter\", \"x\": [24.35, 13.216666666666667, 27.116666666666667, 21.233333333333334, 16.833333333333332, 20.083333333333332, 21.966666666666665, 18.7, 68.33333333333333, 73.63333333333334, 7.316666666666666, 53.833333333333336, 74.91666666666667, 94.36666666666666, 51.266666666666666, 88.75, 73.3, 52.18333333333333, 2.216666666666667, 10.016666666666667, 23.2, 12.566666666666666, 8.95, 3.8, 15.766666666666666, 19.1, 22.5, 16.05, 4.133333333333334, 12.483333333333333, 24.783333333333335, 14.216666666666667, 17.65, 27.266666666666666, 12.2, 14.683333333333334, 15.266666666666667, 5.216666666666667, 17.016666666666666, 19.833333333333332, 11.466666666666667, 5.983333333333333, 31.85, 10.35, 12.866666666666667, 8.15, 15.7, 16.383333333333333, 26.633333333333333, 24.75, 5.883333333333333, 19.066666666666666, 19.35, 20.95, 19.616666666666667, 4.083333333333333, 11.25, 10.3, 13.9, 21.016666666666666, 19.216666666666665, 22.366666666666667, 27.116666666666667, 18.3, 5.1, 26.35, 16.966666666666665, 30.7, 22.333333333333332, 5.65, 12.65, 20.766666666666666, 18.45, 15.566666666666666, 13.833333333333334, 16.866666666666667, 18.716666666666665, 18.633333333333333, 17.083333333333332, 24.466666666666665, 21.6, 8.25, 22.183333333333334, 13.666666666666666, 1.5333333333333332, 13.983333333333333, 18.266666666666666, 16.766666666666666, 17.266666666666666, 12.85, 13.166666666666666, 8.9, 14.2, 4.45, 12.15, 10.05, 4.766666666666667, 10.066666666666666, 10.983333333333333, 9.983333333333333, 9.866666666666667, 5.15, 7.7, 3.95, 16.033333333333335, 2.5666666666666664, 13.216666666666667, 2.5666666666666664, 15.133333333333333, 7.45, 8.883333333333333, 1.8166666666666667, 1.0666666666666667], \"xaxis\": \"x\", \"y\": [426856, 330294, 970705, 614751, 482037, 896738, 1640230, 811784, 527041, 295161, 317890, 458424, 736137, 437702, 539241, 947753, 761369, 891155, 706606, 1733244, 4565262, 1383018, 5768744, 360693, 1321237, 370975, 3230538, 3674973, 1412049, 552838, 6796922, 778791, 1470859, 2288608, 685524, 790721, 3124356, 6902772, 4481577, 505338, 553153, 609687, 2419432, 686600, 1163079, 184964, 2364750, 2990301, 517816, 736710, 899097, 3347499, 1399577, 6193628, 725851, 140851, 10107800, 1571204, 2522770, 3815892, 9484725, 1465157, 2613830, 1499415, 2063034, 9837747, 2533567, 1607569, 2271005, 468410, 874108, 1174189, 1118395, 1173186, 2174699, 1086368, 1821950, 2134223, 4783670, 1648458, 2650148, 655913, 3121424, 212718, 375592, 501281, 2161241, 873643, 2515622, 1076942, 725735, 1045695, 1417311, 943226, 1626739, 2223310, 1131295, 1804059, 2778603, 2866612, 4599715, 1726814, 649649, 151279, 903830, 1545825, 1134345, 362723, 2890179, 375358, 481274, 475175, 126108], \"yaxis\": \"y\"}],                        {\"coloraxis\": {\"colorbar\": {\"title\": {\"text\": \"likes\"}}, \"colorscale\": [[0.0, \"rgb(7, 159, 224)\"], [1, \"rgb(61, 8, 84)\"]]}, \"legend\": {\"itemsizing\": \"constant\", \"tracegroupgap\": 0}, \"margin\": {\"t\": 60}, \"template\": {\"data\": {\"bar\": [{\"error_x\": {\"color\": \"#2a3f5f\"}, \"error_y\": {\"color\": \"#2a3f5f\"}, \"marker\": {\"line\": {\"color\": \"#E5ECF6\", \"width\": 0.5}}, \"type\": \"bar\"}], \"barpolar\": [{\"marker\": {\"line\": {\"color\": \"#E5ECF6\", \"width\": 0.5}}, \"type\": \"barpolar\"}], \"carpet\": [{\"aaxis\": {\"endlinecolor\": \"#2a3f5f\", \"gridcolor\": \"white\", \"linecolor\": \"white\", \"minorgridcolor\": \"white\", \"startlinecolor\": \"#2a3f5f\"}, \"baxis\": {\"endlinecolor\": \"#2a3f5f\", \"gridcolor\": \"white\", \"linecolor\": \"white\", \"minorgridcolor\": \"white\", \"startlinecolor\": \"#2a3f5f\"}, \"type\": \"carpet\"}], \"choropleth\": [{\"colorbar\": {\"outlinewidth\": 0, \"ticks\": \"\"}, \"type\": \"choropleth\"}], \"contour\": [{\"colorbar\": {\"outlinewidth\": 0, \"ticks\": \"\"}, \"colorscale\": [[0.0, \"#0d0887\"], [0.1111111111111111, \"#46039f\"], [0.2222222222222222, \"#7201a8\"], [0.3333333333333333, \"#9c179e\"], [0.4444444444444444, \"#bd3786\"], [0.5555555555555556, \"#d8576b\"], [0.6666666666666666, \"#ed7953\"], [0.7777777777777778, \"#fb9f3a\"], [0.8888888888888888, \"#fdca26\"], [1.0, \"#f0f921\"]], \"type\": \"contour\"}], \"contourcarpet\": [{\"colorbar\": {\"outlinewidth\": 0, \"ticks\": \"\"}, \"type\": \"contourcarpet\"}], \"heatmap\": [{\"colorbar\": {\"outlinewidth\": 0, \"ticks\": \"\"}, \"colorscale\": [[0.0, \"#0d0887\"], [0.1111111111111111, \"#46039f\"], [0.2222222222222222, \"#7201a8\"], [0.3333333333333333, \"#9c179e\"], [0.4444444444444444, \"#bd3786\"], [0.5555555555555556, \"#d8576b\"], [0.6666666666666666, \"#ed7953\"], [0.7777777777777778, \"#fb9f3a\"], [0.8888888888888888, \"#fdca26\"], [1.0, \"#f0f921\"]], \"type\": \"heatmap\"}], \"heatmapgl\": [{\"colorbar\": {\"outlinewidth\": 0, \"ticks\": \"\"}, \"colorscale\": [[0.0, \"#0d0887\"], [0.1111111111111111, \"#46039f\"], [0.2222222222222222, \"#7201a8\"], [0.3333333333333333, \"#9c179e\"], [0.4444444444444444, \"#bd3786\"], [0.5555555555555556, \"#d8576b\"], [0.6666666666666666, \"#ed7953\"], [0.7777777777777778, \"#fb9f3a\"], [0.8888888888888888, \"#fdca26\"], [1.0, \"#f0f921\"]], \"type\": \"heatmapgl\"}], \"histogram\": [{\"marker\": {\"colorbar\": {\"outlinewidth\": 0, \"ticks\": \"\"}}, \"type\": \"histogram\"}], \"histogram2d\": [{\"colorbar\": {\"outlinewidth\": 0, \"ticks\": \"\"}, \"colorscale\": [[0.0, \"#0d0887\"], [0.1111111111111111, \"#46039f\"], [0.2222222222222222, \"#7201a8\"], [0.3333333333333333, \"#9c179e\"], [0.4444444444444444, \"#bd3786\"], [0.5555555555555556, \"#d8576b\"], [0.6666666666666666, \"#ed7953\"], [0.7777777777777778, \"#fb9f3a\"], [0.8888888888888888, \"#fdca26\"], [1.0, \"#f0f921\"]], \"type\": \"histogram2d\"}], \"histogram2dcontour\": [{\"colorbar\": {\"outlinewidth\": 0, \"ticks\": \"\"}, \"colorscale\": [[0.0, \"#0d0887\"], [0.1111111111111111, \"#46039f\"], [0.2222222222222222, \"#7201a8\"], [0.3333333333333333, \"#9c179e\"], [0.4444444444444444, \"#bd3786\"], [0.5555555555555556, \"#d8576b\"], [0.6666666666666666, \"#ed7953\"], [0.7777777777777778, \"#fb9f3a\"], [0.8888888888888888, \"#fdca26\"], [1.0, \"#f0f921\"]], \"type\": \"histogram2dcontour\"}], \"mesh3d\": [{\"colorbar\": {\"outlinewidth\": 0, \"ticks\": \"\"}, \"type\": \"mesh3d\"}], \"parcoords\": [{\"line\": {\"colorbar\": {\"outlinewidth\": 0, \"ticks\": \"\"}}, \"type\": \"parcoords\"}], \"pie\": [{\"automargin\": true, \"type\": \"pie\"}], \"scatter\": [{\"marker\": {\"colorbar\": {\"outlinewidth\": 0, \"ticks\": \"\"}}, \"type\": \"scatter\"}], \"scatter3d\": [{\"line\": {\"colorbar\": {\"outlinewidth\": 0, \"ticks\": \"\"}}, \"marker\": {\"colorbar\": {\"outlinewidth\": 0, \"ticks\": \"\"}}, \"type\": \"scatter3d\"}], \"scattercarpet\": [{\"marker\": {\"colorbar\": {\"outlinewidth\": 0, \"ticks\": \"\"}}, \"type\": \"scattercarpet\"}], \"scattergeo\": [{\"marker\": {\"colorbar\": {\"outlinewidth\": 0, \"ticks\": \"\"}}, \"type\": \"scattergeo\"}], \"scattergl\": [{\"marker\": {\"colorbar\": {\"outlinewidth\": 0, \"ticks\": \"\"}}, \"type\": \"scattergl\"}], \"scattermapbox\": [{\"marker\": {\"colorbar\": {\"outlinewidth\": 0, \"ticks\": \"\"}}, \"type\": \"scattermapbox\"}], \"scatterpolar\": [{\"marker\": {\"colorbar\": {\"outlinewidth\": 0, \"ticks\": \"\"}}, \"type\": \"scatterpolar\"}], \"scatterpolargl\": [{\"marker\": {\"colorbar\": {\"outlinewidth\": 0, \"ticks\": \"\"}}, \"type\": \"scatterpolargl\"}], \"scatterternary\": [{\"marker\": {\"colorbar\": {\"outlinewidth\": 0, \"ticks\": \"\"}}, \"type\": \"scatterternary\"}], \"surface\": [{\"colorbar\": {\"outlinewidth\": 0, \"ticks\": \"\"}, \"colorscale\": [[0.0, \"#0d0887\"], [0.1111111111111111, \"#46039f\"], [0.2222222222222222, \"#7201a8\"], [0.3333333333333333, \"#9c179e\"], [0.4444444444444444, \"#bd3786\"], [0.5555555555555556, \"#d8576b\"], [0.6666666666666666, \"#ed7953\"], [0.7777777777777778, \"#fb9f3a\"], [0.8888888888888888, \"#fdca26\"], [1.0, \"#f0f921\"]], \"type\": \"surface\"}], \"table\": [{\"cells\": {\"fill\": {\"color\": \"#EBF0F8\"}, \"line\": {\"color\": \"white\"}}, \"header\": {\"fill\": {\"color\": \"#C8D4E3\"}, \"line\": {\"color\": \"white\"}}, \"type\": \"table\"}]}, \"layout\": {\"annotationdefaults\": {\"arrowcolor\": \"#2a3f5f\", \"arrowhead\": 0, \"arrowwidth\": 1}, \"coloraxis\": {\"colorbar\": {\"outlinewidth\": 0, \"ticks\": \"\"}}, \"colorscale\": {\"diverging\": [[0, \"#8e0152\"], [0.1, \"#c51b7d\"], [0.2, \"#de77ae\"], [0.3, \"#f1b6da\"], [0.4, \"#fde0ef\"], [0.5, \"#f7f7f7\"], [0.6, \"#e6f5d0\"], [0.7, \"#b8e186\"], [0.8, \"#7fbc41\"], [0.9, \"#4d9221\"], [1, \"#276419\"]], \"sequential\": [[0.0, \"#0d0887\"], [0.1111111111111111, \"#46039f\"], [0.2222222222222222, \"#7201a8\"], [0.3333333333333333, \"#9c179e\"], [0.4444444444444444, \"#bd3786\"], [0.5555555555555556, \"#d8576b\"], [0.6666666666666666, \"#ed7953\"], [0.7777777777777778, \"#fb9f3a\"], [0.8888888888888888, \"#fdca26\"], [1.0, \"#f0f921\"]], \"sequentialminus\": [[0.0, \"#0d0887\"], [0.1111111111111111, \"#46039f\"], [0.2222222222222222, \"#7201a8\"], [0.3333333333333333, \"#9c179e\"], [0.4444444444444444, \"#bd3786\"], [0.5555555555555556, \"#d8576b\"], [0.6666666666666666, \"#ed7953\"], [0.7777777777777778, \"#fb9f3a\"], [0.8888888888888888, \"#fdca26\"], [1.0, \"#f0f921\"]]}, \"colorway\": [\"#636efa\", \"#EF553B\", \"#00cc96\", \"#ab63fa\", \"#FFA15A\", \"#19d3f3\", \"#FF6692\", \"#B6E880\", \"#FF97FF\", \"#FECB52\"], \"font\": {\"color\": \"#2a3f5f\"}, \"geo\": {\"bgcolor\": \"white\", \"lakecolor\": \"white\", \"landcolor\": \"#E5ECF6\", \"showlakes\": true, \"showland\": true, \"subunitcolor\": \"white\"}, \"hoverlabel\": {\"align\": \"left\"}, \"hovermode\": \"closest\", \"mapbox\": {\"style\": \"light\"}, \"paper_bgcolor\": \"white\", \"plot_bgcolor\": \"#E5ECF6\", \"polar\": {\"angularaxis\": {\"gridcolor\": \"white\", \"linecolor\": \"white\", \"ticks\": \"\"}, \"bgcolor\": \"#E5ECF6\", \"radialaxis\": {\"gridcolor\": \"white\", \"linecolor\": \"white\", \"ticks\": \"\"}}, \"scene\": {\"xaxis\": {\"backgroundcolor\": \"#E5ECF6\", \"gridcolor\": \"white\", \"gridwidth\": 2, \"linecolor\": \"white\", \"showbackground\": true, \"ticks\": \"\", \"zerolinecolor\": \"white\"}, \"yaxis\": {\"backgroundcolor\": \"#E5ECF6\", \"gridcolor\": \"white\", \"gridwidth\": 2, \"linecolor\": \"white\", \"showbackground\": true, \"ticks\": \"\", \"zerolinecolor\": \"white\"}, \"zaxis\": {\"backgroundcolor\": \"#E5ECF6\", \"gridcolor\": \"white\", \"gridwidth\": 2, \"linecolor\": \"white\", \"showbackground\": true, \"ticks\": \"\", \"zerolinecolor\": \"white\"}}, \"shapedefaults\": {\"line\": {\"color\": \"#2a3f5f\"}}, \"ternary\": {\"aaxis\": {\"gridcolor\": \"white\", \"linecolor\": \"white\", \"ticks\": \"\"}, \"baxis\": {\"gridcolor\": \"white\", \"linecolor\": \"white\", \"ticks\": \"\"}, \"bgcolor\": \"#E5ECF6\", \"caxis\": {\"gridcolor\": \"white\", \"linecolor\": \"white\", \"ticks\": \"\"}}, \"title\": {\"x\": 0.05}, \"xaxis\": {\"automargin\": true, \"gridcolor\": \"white\", \"linecolor\": \"white\", \"ticks\": \"\", \"title\": {\"standoff\": 15}, \"zerolinecolor\": \"white\", \"zerolinewidth\": 2}, \"yaxis\": {\"automargin\": true, \"gridcolor\": \"white\", \"linecolor\": \"white\", \"ticks\": \"\", \"title\": {\"standoff\": 15}, \"zerolinecolor\": \"white\", \"zerolinewidth\": 2}}}, \"xaxis\": {\"anchor\": \"y\", \"domain\": [0.0, 1.0], \"title\": {\"text\": \"duration\"}}, \"yaxis\": {\"anchor\": \"x\", \"domain\": [0.0, 1.0], \"title\": {\"text\": \"views\"}}},                        {\"responsive\": true}                    ).then(function(){\n",
       "                            \n",
       "var gd = document.getElementById('23b89283-2e93-4b83-aad3-f475a7a5552a');\n",
       "var x = new MutationObserver(function (mutations, observer) {{\n",
       "        var display = window.getComputedStyle(gd).display;\n",
       "        if (!display || display === 'none') {{\n",
       "            console.log([gd, 'removed!']);\n",
       "            Plotly.purge(gd);\n",
       "            observer.disconnect();\n",
       "        }}\n",
       "}});\n",
       "\n",
       "// Listen for the removal of the full notebook cells\n",
       "var notebookContainer = gd.closest('#notebook-container');\n",
       "if (notebookContainer) {{\n",
       "    x.observe(notebookContainer, {childList: true});\n",
       "}}\n",
       "\n",
       "// Listen for the clearing of the current output cell\n",
       "var outputEl = gd.closest('.output');\n",
       "if (outputEl) {{\n",
       "    x.observe(outputEl, {childList: true});\n",
       "}}\n",
       "\n",
       "                        })                };                });            </script>        </div>"
      ]
     },
     "metadata": {},
     "output_type": "display_data"
    }
   ],
   "source": [
    "fig = df.plot(x='duration', \n",
    "              y='views', \n",
    "              kind='scatter', \n",
    "              size='likes', \n",
    "              color=\"likes\", \n",
    "              color_continuous_scale=[[0.0, \"rgb(7, 159, 224)\"],\n",
    "                                      [1, \"rgb(61, 8, 84)\"]])\n",
    "fig.show()"
   ]
  },
  {
   "cell_type": "code",
   "execution_count": 138,
   "metadata": {},
   "outputs": [
    {
     "data": {
      "application/vnd.plotly.v1+json": {
       "config": {
        "plotlyServerURL": "https://plot.ly"
       },
       "data": [
        {
         "hovertemplate": "publication date=%{x}<br>duration=%{y}<br>likes=%{marker.color}<extra></extra>",
         "legendgroup": "",
         "marker": {
          "color": [
           23903,
           15185,
           42648,
           32044,
           24099,
           39318,
           79191,
           27572,
           16451,
           7156,
           22287,
           12683,
           16301,
           10945,
           17495,
           22564,
           22926,
           37014,
           46239,
           49473,
           149287,
           59262,
           166300,
           11575,
           53418,
           16960,
           114081,
           115744,
           43080,
           17345,
           92786,
           20516,
           44240,
           62920,
           15976,
           30109,
           105558,
           189377,
           93021,
           17532,
           21167,
           16088,
           59392,
           31598,
           37639,
           10973,
           79759,
           74390,
           14588,
           23157,
           23729,
           76959,
           41826,
           190809,
           27419,
           4643,
           268863,
           33755,
           46863,
           84880,
           243885,
           37266,
           54754,
           33285,
           69086,
           239962,
           56564,
           36139,
           64640,
           10308,
           19617,
           25715,
           25730,
           24000,
           49796,
           25041,
           42132,
           53695,
           135678,
           39504,
           67968,
           20238,
           65581,
           7123,
           3283,
           13081,
           61507,
           30895,
           52089,
           19846,
           12345,
           16963,
           26016,
           15435,
           32136,
           48062,
           18130,
           36219,
           58047,
           53644,
           88276,
           28533,
           23058,
           4292,
           21375,
           34498,
           29948,
           10453,
           60686,
           8285,
           14311,
           9565,
           3745
          ],
          "coloraxis": "coloraxis",
          "size": [
           23903,
           15185,
           42648,
           32044,
           24099,
           39318,
           79191,
           27572,
           16451,
           7156,
           22287,
           12683,
           16301,
           10945,
           17495,
           22564,
           22926,
           37014,
           46239,
           49473,
           149287,
           59262,
           166300,
           11575,
           53418,
           16960,
           114081,
           115744,
           43080,
           17345,
           92786,
           20516,
           44240,
           62920,
           15976,
           30109,
           105558,
           189377,
           93021,
           17532,
           21167,
           16088,
           59392,
           31598,
           37639,
           10973,
           79759,
           74390,
           14588,
           23157,
           23729,
           76959,
           41826,
           190809,
           27419,
           4643,
           268863,
           33755,
           46863,
           84880,
           243885,
           37266,
           54754,
           33285,
           69086,
           239962,
           56564,
           36139,
           64640,
           10308,
           19617,
           25715,
           25730,
           24000,
           49796,
           25041,
           42132,
           53695,
           135678,
           39504,
           67968,
           20238,
           65581,
           7123,
           3283,
           13081,
           61507,
           30895,
           52089,
           19846,
           12345,
           16963,
           26016,
           15435,
           32136,
           48062,
           18130,
           36219,
           58047,
           53644,
           88276,
           28533,
           23058,
           4292,
           21375,
           34498,
           29948,
           10453,
           60686,
           8285,
           14311,
           9565,
           3745
          ],
          "sizemode": "area",
          "sizeref": 672.1575,
          "symbol": "circle"
         },
         "mode": "markers",
         "name": "",
         "orientation": "v",
         "showlegend": false,
         "type": "scatter",
         "x": [
          "2021-07-16T18:39:08+00:00",
          "2021-05-07T21:39:22+00:00",
          "2021-04-01T15:50:30+00:00",
          "2020-12-22T17:42:00+00:00",
          "2020-09-04T15:36:24+00:00",
          "2020-09-04T15:32:50+00:00",
          "2020-08-19T14:01:39+00:00",
          "2020-07-05T18:50:36+00:00",
          "2020-05-22T20:14:56+00:00",
          "2020-05-15T21:23:19+00:00",
          "2020-05-14T15:00:01+00:00",
          "2020-05-12T19:59:48+00:00",
          "2020-05-08T20:22:12+00:00",
          "2020-05-05T20:36:51+00:00",
          "2020-04-28T19:58:20+00:00",
          "2020-04-24T20:31:26+00:00",
          "2020-04-21T20:51:44+00:00",
          "2020-04-17T20:04:24+00:00",
          "2020-04-16T21:25:09+00:00",
          "2020-04-12T15:41:30+00:00",
          "2020-03-27T19:47:30+00:00",
          "2020-03-15T18:28:16+00:00",
          "2020-03-08T16:58:19+00:00",
          "2019-12-22T14:45:25+00:00",
          "2019-12-22T14:31:56+00:00",
          "2019-11-23T01:00:14+00:00",
          "2019-10-08T17:02:51+00:00",
          "2019-08-04T17:03:51+00:00",
          "2019-07-07T14:08:18+00:00",
          "2019-07-03T04:05:19+00:00",
          "2019-06-30T14:50:20+00:00",
          "2019-06-16T16:31:00+00:00",
          "2019-04-21T16:53:21+00:00",
          "2019-03-31T15:15:50+00:00",
          "2019-03-17T04:35:22+00:00",
          "2019-02-03T16:23:07+00:00",
          "2019-01-20T16:40:38+00:00",
          "2019-01-13T16:12:47+00:00",
          "2018-12-02T20:08:11+00:00",
          "2018-11-18T14:09:20+00:00",
          "2018-11-07T20:20:32+00:00",
          "2018-10-26T16:31:52+00:00",
          "2018-09-06T14:59:33+00:00",
          "2018-08-24T16:34:02+00:00",
          "2018-08-01T15:13:51+00:00",
          "2018-06-27T16:29:07+00:00",
          "2018-06-21T18:34:59+00:00",
          "2018-05-19T14:09:16+00:00",
          "2018-04-20T18:59:28+00:00",
          "2018-03-24T14:42:51+00:00",
          "2018-03-14T13:05:32+00:00",
          "2018-03-02T16:23:29+00:00",
          "2018-02-25T00:25:00+00:00",
          "2018-01-26T18:47:48+00:00",
          "2017-12-23T16:43:38+00:00",
          "2017-12-14T15:57:43+00:00",
          "2017-12-08T15:04:57+00:00",
          "2017-11-03T14:08:09+00:00",
          "2017-11-03T14:03:37+00:00",
          "2017-10-16T16:48:20+00:00",
          "2017-10-05T15:11:25+00:00",
          "2017-09-13T14:06:26+00:00",
          "2017-08-11T22:41:08+00:00",
          "2017-07-21T15:33:50+00:00",
          "2017-07-08T14:19:39+00:00",
          "2017-07-07T16:51:37+00:00",
          "2017-05-26T17:58:15+00:00",
          "2017-05-19T15:41:54+00:00",
          "2017-05-07T14:06:12+00:00",
          "2017-05-07T14:05:35+00:00",
          "2017-05-06T13:53:16+00:00",
          "2017-05-05T15:05:21+00:00",
          "2017-05-04T15:05:18+00:00",
          "2017-05-03T15:38:43+00:00",
          "2017-05-02T15:09:46+00:00",
          "2017-05-01T15:19:28+00:00",
          "2017-04-30T15:24:09+00:00",
          "2017-04-29T16:24:03+00:00",
          "2017-04-28T15:58:48+00:00",
          "2017-03-03T22:07:09+00:00",
          "2017-01-27T17:29:08+00:00",
          "2017-01-06T18:05:41+00:00",
          "2016-12-09T17:50:56+00:00",
          "2016-11-25T17:30:46+00:00",
          "2016-11-25T17:29:36+00:00",
          "2016-11-25T17:30:20+00:00",
          "2016-11-04T21:48:23+00:00",
          "2016-09-24T19:29:09+00:00",
          "2016-09-15T18:22:14+00:00",
          "2016-09-11T17:56:20+00:00",
          "2016-09-01T03:54:15+00:00",
          "2016-09-01T03:54:15+00:00",
          "2016-08-24T19:20:58+00:00",
          "2016-08-16T21:59:23+00:00",
          "2016-08-15T22:00:22+00:00",
          "2016-08-10T22:31:18+00:00",
          "2016-08-09T22:01:39+00:00",
          "2016-08-08T22:20:43+00:00",
          "2016-08-07T21:39:19+00:00",
          "2016-08-06T23:49:28+00:00",
          "2016-08-06T00:05:49+00:00",
          "2016-08-05T01:01:44+00:00",
          "2016-06-26T05:51:12+00:00",
          "2016-04-01T20:27:08+00:00",
          "2016-04-01T20:27:08+00:00",
          "2016-01-17T01:43:18+00:00",
          "2015-10-04T02:14:13+00:00",
          "2015-09-18T21:53:13+00:00",
          "2015-08-14T01:20:50+00:00",
          "2015-06-21T06:05:43+00:00",
          "2015-05-24T05:25:09+00:00",
          "2015-04-11T08:19:03+00:00",
          "2015-03-05T06:15:23+00:00"
         ],
         "xaxis": "x",
         "y": [
          24.35,
          13.216666666666667,
          27.116666666666667,
          21.233333333333334,
          16.833333333333332,
          20.083333333333332,
          21.966666666666665,
          18.7,
          68.33333333333333,
          73.63333333333334,
          7.316666666666666,
          53.833333333333336,
          74.91666666666667,
          94.36666666666666,
          51.266666666666666,
          88.75,
          73.3,
          52.18333333333333,
          2.216666666666667,
          10.016666666666667,
          23.2,
          12.566666666666666,
          8.95,
          3.8,
          15.766666666666666,
          19.1,
          22.5,
          16.05,
          4.133333333333334,
          12.483333333333333,
          24.783333333333335,
          14.216666666666667,
          17.65,
          27.266666666666666,
          12.2,
          14.683333333333334,
          15.266666666666667,
          5.216666666666667,
          17.016666666666666,
          19.833333333333332,
          11.466666666666667,
          5.983333333333333,
          31.85,
          10.35,
          12.866666666666667,
          8.15,
          15.7,
          16.383333333333333,
          26.633333333333333,
          24.75,
          5.883333333333333,
          19.066666666666666,
          19.35,
          20.95,
          19.616666666666667,
          4.083333333333333,
          11.25,
          10.3,
          13.9,
          21.016666666666666,
          19.216666666666665,
          22.366666666666667,
          27.116666666666667,
          18.3,
          5.1,
          26.35,
          16.966666666666665,
          30.7,
          22.333333333333332,
          5.65,
          12.65,
          20.766666666666666,
          18.45,
          15.566666666666666,
          13.833333333333334,
          16.866666666666667,
          18.716666666666665,
          18.633333333333333,
          17.083333333333332,
          24.466666666666665,
          21.6,
          8.25,
          22.183333333333334,
          13.666666666666666,
          1.5333333333333332,
          13.983333333333333,
          18.266666666666666,
          16.766666666666666,
          17.266666666666666,
          12.85,
          13.166666666666666,
          8.9,
          14.2,
          4.45,
          12.15,
          10.05,
          4.766666666666667,
          10.066666666666666,
          10.983333333333333,
          9.983333333333333,
          9.866666666666667,
          5.15,
          7.7,
          3.95,
          16.033333333333335,
          2.5666666666666664,
          13.216666666666667,
          2.5666666666666664,
          15.133333333333333,
          7.45,
          8.883333333333333,
          1.8166666666666667,
          1.0666666666666667
         ],
         "yaxis": "y"
        }
       ],
       "layout": {
        "coloraxis": {
         "colorbar": {
          "title": {
           "text": "likes"
          }
         },
         "colorscale": [
          [
           0,
           "rgb(7, 159, 224)"
          ],
          [
           1,
           "rgb(61, 8, 84)"
          ]
         ]
        },
        "legend": {
         "itemsizing": "constant",
         "tracegroupgap": 0
        },
        "margin": {
         "t": 60
        },
        "template": {
         "data": {
          "bar": [
           {
            "error_x": {
             "color": "#2a3f5f"
            },
            "error_y": {
             "color": "#2a3f5f"
            },
            "marker": {
             "line": {
              "color": "#E5ECF6",
              "width": 0.5
             }
            },
            "type": "bar"
           }
          ],
          "barpolar": [
           {
            "marker": {
             "line": {
              "color": "#E5ECF6",
              "width": 0.5
             }
            },
            "type": "barpolar"
           }
          ],
          "carpet": [
           {
            "aaxis": {
             "endlinecolor": "#2a3f5f",
             "gridcolor": "white",
             "linecolor": "white",
             "minorgridcolor": "white",
             "startlinecolor": "#2a3f5f"
            },
            "baxis": {
             "endlinecolor": "#2a3f5f",
             "gridcolor": "white",
             "linecolor": "white",
             "minorgridcolor": "white",
             "startlinecolor": "#2a3f5f"
            },
            "type": "carpet"
           }
          ],
          "choropleth": [
           {
            "colorbar": {
             "outlinewidth": 0,
             "ticks": ""
            },
            "type": "choropleth"
           }
          ],
          "contour": [
           {
            "colorbar": {
             "outlinewidth": 0,
             "ticks": ""
            },
            "colorscale": [
             [
              0,
              "#0d0887"
             ],
             [
              0.1111111111111111,
              "#46039f"
             ],
             [
              0.2222222222222222,
              "#7201a8"
             ],
             [
              0.3333333333333333,
              "#9c179e"
             ],
             [
              0.4444444444444444,
              "#bd3786"
             ],
             [
              0.5555555555555556,
              "#d8576b"
             ],
             [
              0.6666666666666666,
              "#ed7953"
             ],
             [
              0.7777777777777778,
              "#fb9f3a"
             ],
             [
              0.8888888888888888,
              "#fdca26"
             ],
             [
              1,
              "#f0f921"
             ]
            ],
            "type": "contour"
           }
          ],
          "contourcarpet": [
           {
            "colorbar": {
             "outlinewidth": 0,
             "ticks": ""
            },
            "type": "contourcarpet"
           }
          ],
          "heatmap": [
           {
            "colorbar": {
             "outlinewidth": 0,
             "ticks": ""
            },
            "colorscale": [
             [
              0,
              "#0d0887"
             ],
             [
              0.1111111111111111,
              "#46039f"
             ],
             [
              0.2222222222222222,
              "#7201a8"
             ],
             [
              0.3333333333333333,
              "#9c179e"
             ],
             [
              0.4444444444444444,
              "#bd3786"
             ],
             [
              0.5555555555555556,
              "#d8576b"
             ],
             [
              0.6666666666666666,
              "#ed7953"
             ],
             [
              0.7777777777777778,
              "#fb9f3a"
             ],
             [
              0.8888888888888888,
              "#fdca26"
             ],
             [
              1,
              "#f0f921"
             ]
            ],
            "type": "heatmap"
           }
          ],
          "heatmapgl": [
           {
            "colorbar": {
             "outlinewidth": 0,
             "ticks": ""
            },
            "colorscale": [
             [
              0,
              "#0d0887"
             ],
             [
              0.1111111111111111,
              "#46039f"
             ],
             [
              0.2222222222222222,
              "#7201a8"
             ],
             [
              0.3333333333333333,
              "#9c179e"
             ],
             [
              0.4444444444444444,
              "#bd3786"
             ],
             [
              0.5555555555555556,
              "#d8576b"
             ],
             [
              0.6666666666666666,
              "#ed7953"
             ],
             [
              0.7777777777777778,
              "#fb9f3a"
             ],
             [
              0.8888888888888888,
              "#fdca26"
             ],
             [
              1,
              "#f0f921"
             ]
            ],
            "type": "heatmapgl"
           }
          ],
          "histogram": [
           {
            "marker": {
             "colorbar": {
              "outlinewidth": 0,
              "ticks": ""
             }
            },
            "type": "histogram"
           }
          ],
          "histogram2d": [
           {
            "colorbar": {
             "outlinewidth": 0,
             "ticks": ""
            },
            "colorscale": [
             [
              0,
              "#0d0887"
             ],
             [
              0.1111111111111111,
              "#46039f"
             ],
             [
              0.2222222222222222,
              "#7201a8"
             ],
             [
              0.3333333333333333,
              "#9c179e"
             ],
             [
              0.4444444444444444,
              "#bd3786"
             ],
             [
              0.5555555555555556,
              "#d8576b"
             ],
             [
              0.6666666666666666,
              "#ed7953"
             ],
             [
              0.7777777777777778,
              "#fb9f3a"
             ],
             [
              0.8888888888888888,
              "#fdca26"
             ],
             [
              1,
              "#f0f921"
             ]
            ],
            "type": "histogram2d"
           }
          ],
          "histogram2dcontour": [
           {
            "colorbar": {
             "outlinewidth": 0,
             "ticks": ""
            },
            "colorscale": [
             [
              0,
              "#0d0887"
             ],
             [
              0.1111111111111111,
              "#46039f"
             ],
             [
              0.2222222222222222,
              "#7201a8"
             ],
             [
              0.3333333333333333,
              "#9c179e"
             ],
             [
              0.4444444444444444,
              "#bd3786"
             ],
             [
              0.5555555555555556,
              "#d8576b"
             ],
             [
              0.6666666666666666,
              "#ed7953"
             ],
             [
              0.7777777777777778,
              "#fb9f3a"
             ],
             [
              0.8888888888888888,
              "#fdca26"
             ],
             [
              1,
              "#f0f921"
             ]
            ],
            "type": "histogram2dcontour"
           }
          ],
          "mesh3d": [
           {
            "colorbar": {
             "outlinewidth": 0,
             "ticks": ""
            },
            "type": "mesh3d"
           }
          ],
          "parcoords": [
           {
            "line": {
             "colorbar": {
              "outlinewidth": 0,
              "ticks": ""
             }
            },
            "type": "parcoords"
           }
          ],
          "pie": [
           {
            "automargin": true,
            "type": "pie"
           }
          ],
          "scatter": [
           {
            "marker": {
             "colorbar": {
              "outlinewidth": 0,
              "ticks": ""
             }
            },
            "type": "scatter"
           }
          ],
          "scatter3d": [
           {
            "line": {
             "colorbar": {
              "outlinewidth": 0,
              "ticks": ""
             }
            },
            "marker": {
             "colorbar": {
              "outlinewidth": 0,
              "ticks": ""
             }
            },
            "type": "scatter3d"
           }
          ],
          "scattercarpet": [
           {
            "marker": {
             "colorbar": {
              "outlinewidth": 0,
              "ticks": ""
             }
            },
            "type": "scattercarpet"
           }
          ],
          "scattergeo": [
           {
            "marker": {
             "colorbar": {
              "outlinewidth": 0,
              "ticks": ""
             }
            },
            "type": "scattergeo"
           }
          ],
          "scattergl": [
           {
            "marker": {
             "colorbar": {
              "outlinewidth": 0,
              "ticks": ""
             }
            },
            "type": "scattergl"
           }
          ],
          "scattermapbox": [
           {
            "marker": {
             "colorbar": {
              "outlinewidth": 0,
              "ticks": ""
             }
            },
            "type": "scattermapbox"
           }
          ],
          "scatterpolar": [
           {
            "marker": {
             "colorbar": {
              "outlinewidth": 0,
              "ticks": ""
             }
            },
            "type": "scatterpolar"
           }
          ],
          "scatterpolargl": [
           {
            "marker": {
             "colorbar": {
              "outlinewidth": 0,
              "ticks": ""
             }
            },
            "type": "scatterpolargl"
           }
          ],
          "scatterternary": [
           {
            "marker": {
             "colorbar": {
              "outlinewidth": 0,
              "ticks": ""
             }
            },
            "type": "scatterternary"
           }
          ],
          "surface": [
           {
            "colorbar": {
             "outlinewidth": 0,
             "ticks": ""
            },
            "colorscale": [
             [
              0,
              "#0d0887"
             ],
             [
              0.1111111111111111,
              "#46039f"
             ],
             [
              0.2222222222222222,
              "#7201a8"
             ],
             [
              0.3333333333333333,
              "#9c179e"
             ],
             [
              0.4444444444444444,
              "#bd3786"
             ],
             [
              0.5555555555555556,
              "#d8576b"
             ],
             [
              0.6666666666666666,
              "#ed7953"
             ],
             [
              0.7777777777777778,
              "#fb9f3a"
             ],
             [
              0.8888888888888888,
              "#fdca26"
             ],
             [
              1,
              "#f0f921"
             ]
            ],
            "type": "surface"
           }
          ],
          "table": [
           {
            "cells": {
             "fill": {
              "color": "#EBF0F8"
             },
             "line": {
              "color": "white"
             }
            },
            "header": {
             "fill": {
              "color": "#C8D4E3"
             },
             "line": {
              "color": "white"
             }
            },
            "type": "table"
           }
          ]
         },
         "layout": {
          "annotationdefaults": {
           "arrowcolor": "#2a3f5f",
           "arrowhead": 0,
           "arrowwidth": 1
          },
          "coloraxis": {
           "colorbar": {
            "outlinewidth": 0,
            "ticks": ""
           }
          },
          "colorscale": {
           "diverging": [
            [
             0,
             "#8e0152"
            ],
            [
             0.1,
             "#c51b7d"
            ],
            [
             0.2,
             "#de77ae"
            ],
            [
             0.3,
             "#f1b6da"
            ],
            [
             0.4,
             "#fde0ef"
            ],
            [
             0.5,
             "#f7f7f7"
            ],
            [
             0.6,
             "#e6f5d0"
            ],
            [
             0.7,
             "#b8e186"
            ],
            [
             0.8,
             "#7fbc41"
            ],
            [
             0.9,
             "#4d9221"
            ],
            [
             1,
             "#276419"
            ]
           ],
           "sequential": [
            [
             0,
             "#0d0887"
            ],
            [
             0.1111111111111111,
             "#46039f"
            ],
            [
             0.2222222222222222,
             "#7201a8"
            ],
            [
             0.3333333333333333,
             "#9c179e"
            ],
            [
             0.4444444444444444,
             "#bd3786"
            ],
            [
             0.5555555555555556,
             "#d8576b"
            ],
            [
             0.6666666666666666,
             "#ed7953"
            ],
            [
             0.7777777777777778,
             "#fb9f3a"
            ],
            [
             0.8888888888888888,
             "#fdca26"
            ],
            [
             1,
             "#f0f921"
            ]
           ],
           "sequentialminus": [
            [
             0,
             "#0d0887"
            ],
            [
             0.1111111111111111,
             "#46039f"
            ],
            [
             0.2222222222222222,
             "#7201a8"
            ],
            [
             0.3333333333333333,
             "#9c179e"
            ],
            [
             0.4444444444444444,
             "#bd3786"
            ],
            [
             0.5555555555555556,
             "#d8576b"
            ],
            [
             0.6666666666666666,
             "#ed7953"
            ],
            [
             0.7777777777777778,
             "#fb9f3a"
            ],
            [
             0.8888888888888888,
             "#fdca26"
            ],
            [
             1,
             "#f0f921"
            ]
           ]
          },
          "colorway": [
           "#636efa",
           "#EF553B",
           "#00cc96",
           "#ab63fa",
           "#FFA15A",
           "#19d3f3",
           "#FF6692",
           "#B6E880",
           "#FF97FF",
           "#FECB52"
          ],
          "font": {
           "color": "#2a3f5f"
          },
          "geo": {
           "bgcolor": "white",
           "lakecolor": "white",
           "landcolor": "#E5ECF6",
           "showlakes": true,
           "showland": true,
           "subunitcolor": "white"
          },
          "hoverlabel": {
           "align": "left"
          },
          "hovermode": "closest",
          "mapbox": {
           "style": "light"
          },
          "paper_bgcolor": "white",
          "plot_bgcolor": "#E5ECF6",
          "polar": {
           "angularaxis": {
            "gridcolor": "white",
            "linecolor": "white",
            "ticks": ""
           },
           "bgcolor": "#E5ECF6",
           "radialaxis": {
            "gridcolor": "white",
            "linecolor": "white",
            "ticks": ""
           }
          },
          "scene": {
           "xaxis": {
            "backgroundcolor": "#E5ECF6",
            "gridcolor": "white",
            "gridwidth": 2,
            "linecolor": "white",
            "showbackground": true,
            "ticks": "",
            "zerolinecolor": "white"
           },
           "yaxis": {
            "backgroundcolor": "#E5ECF6",
            "gridcolor": "white",
            "gridwidth": 2,
            "linecolor": "white",
            "showbackground": true,
            "ticks": "",
            "zerolinecolor": "white"
           },
           "zaxis": {
            "backgroundcolor": "#E5ECF6",
            "gridcolor": "white",
            "gridwidth": 2,
            "linecolor": "white",
            "showbackground": true,
            "ticks": "",
            "zerolinecolor": "white"
           }
          },
          "shapedefaults": {
           "line": {
            "color": "#2a3f5f"
           }
          },
          "ternary": {
           "aaxis": {
            "gridcolor": "white",
            "linecolor": "white",
            "ticks": ""
           },
           "baxis": {
            "gridcolor": "white",
            "linecolor": "white",
            "ticks": ""
           },
           "bgcolor": "#E5ECF6",
           "caxis": {
            "gridcolor": "white",
            "linecolor": "white",
            "ticks": ""
           }
          },
          "title": {
           "x": 0.05
          },
          "xaxis": {
           "automargin": true,
           "gridcolor": "white",
           "linecolor": "white",
           "ticks": "",
           "title": {
            "standoff": 15
           },
           "zerolinecolor": "white",
           "zerolinewidth": 2
          },
          "yaxis": {
           "automargin": true,
           "gridcolor": "white",
           "linecolor": "white",
           "ticks": "",
           "title": {
            "standoff": 15
           },
           "zerolinecolor": "white",
           "zerolinewidth": 2
          }
         }
        },
        "xaxis": {
         "anchor": "y",
         "domain": [
          0,
          1
         ],
         "title": {
          "text": "publication date"
         }
        },
        "yaxis": {
         "anchor": "x",
         "domain": [
          0,
          1
         ],
         "title": {
          "text": "duration"
         }
        }
       }
      },
      "text/html": [
       "<div>                            <div id=\"3e7d0b3b-a3a6-4fa2-b1c6-9f114d0601e3\" class=\"plotly-graph-div\" style=\"height:525px; width:100%;\"></div>            <script type=\"text/javascript\">                require([\"plotly\"], function(Plotly) {                    window.PLOTLYENV=window.PLOTLYENV || {};                                    if (document.getElementById(\"3e7d0b3b-a3a6-4fa2-b1c6-9f114d0601e3\")) {                    Plotly.newPlot(                        \"3e7d0b3b-a3a6-4fa2-b1c6-9f114d0601e3\",                        [{\"hovertemplate\": \"publication date=%{x}<br>duration=%{y}<br>likes=%{marker.color}<extra></extra>\", \"legendgroup\": \"\", \"marker\": {\"color\": [23903, 15185, 42648, 32044, 24099, 39318, 79191, 27572, 16451, 7156, 22287, 12683, 16301, 10945, 17495, 22564, 22926, 37014, 46239, 49473, 149287, 59262, 166300, 11575, 53418, 16960, 114081, 115744, 43080, 17345, 92786, 20516, 44240, 62920, 15976, 30109, 105558, 189377, 93021, 17532, 21167, 16088, 59392, 31598, 37639, 10973, 79759, 74390, 14588, 23157, 23729, 76959, 41826, 190809, 27419, 4643, 268863, 33755, 46863, 84880, 243885, 37266, 54754, 33285, 69086, 239962, 56564, 36139, 64640, 10308, 19617, 25715, 25730, 24000, 49796, 25041, 42132, 53695, 135678, 39504, 67968, 20238, 65581, 7123, 3283, 13081, 61507, 30895, 52089, 19846, 12345, 16963, 26016, 15435, 32136, 48062, 18130, 36219, 58047, 53644, 88276, 28533, 23058, 4292, 21375, 34498, 29948, 10453, 60686, 8285, 14311, 9565, 3745], \"coloraxis\": \"coloraxis\", \"size\": [23903, 15185, 42648, 32044, 24099, 39318, 79191, 27572, 16451, 7156, 22287, 12683, 16301, 10945, 17495, 22564, 22926, 37014, 46239, 49473, 149287, 59262, 166300, 11575, 53418, 16960, 114081, 115744, 43080, 17345, 92786, 20516, 44240, 62920, 15976, 30109, 105558, 189377, 93021, 17532, 21167, 16088, 59392, 31598, 37639, 10973, 79759, 74390, 14588, 23157, 23729, 76959, 41826, 190809, 27419, 4643, 268863, 33755, 46863, 84880, 243885, 37266, 54754, 33285, 69086, 239962, 56564, 36139, 64640, 10308, 19617, 25715, 25730, 24000, 49796, 25041, 42132, 53695, 135678, 39504, 67968, 20238, 65581, 7123, 3283, 13081, 61507, 30895, 52089, 19846, 12345, 16963, 26016, 15435, 32136, 48062, 18130, 36219, 58047, 53644, 88276, 28533, 23058, 4292, 21375, 34498, 29948, 10453, 60686, 8285, 14311, 9565, 3745], \"sizemode\": \"area\", \"sizeref\": 672.1575, \"symbol\": \"circle\"}, \"mode\": \"markers\", \"name\": \"\", \"orientation\": \"v\", \"showlegend\": false, \"type\": \"scatter\", \"x\": [\"2021-07-16T18:39:08+00:00\", \"2021-05-07T21:39:22+00:00\", \"2021-04-01T15:50:30+00:00\", \"2020-12-22T17:42:00+00:00\", \"2020-09-04T15:36:24+00:00\", \"2020-09-04T15:32:50+00:00\", \"2020-08-19T14:01:39+00:00\", \"2020-07-05T18:50:36+00:00\", \"2020-05-22T20:14:56+00:00\", \"2020-05-15T21:23:19+00:00\", \"2020-05-14T15:00:01+00:00\", \"2020-05-12T19:59:48+00:00\", \"2020-05-08T20:22:12+00:00\", \"2020-05-05T20:36:51+00:00\", \"2020-04-28T19:58:20+00:00\", \"2020-04-24T20:31:26+00:00\", \"2020-04-21T20:51:44+00:00\", \"2020-04-17T20:04:24+00:00\", \"2020-04-16T21:25:09+00:00\", \"2020-04-12T15:41:30+00:00\", \"2020-03-27T19:47:30+00:00\", \"2020-03-15T18:28:16+00:00\", \"2020-03-08T16:58:19+00:00\", \"2019-12-22T14:45:25+00:00\", \"2019-12-22T14:31:56+00:00\", \"2019-11-23T01:00:14+00:00\", \"2019-10-08T17:02:51+00:00\", \"2019-08-04T17:03:51+00:00\", \"2019-07-07T14:08:18+00:00\", \"2019-07-03T04:05:19+00:00\", \"2019-06-30T14:50:20+00:00\", \"2019-06-16T16:31:00+00:00\", \"2019-04-21T16:53:21+00:00\", \"2019-03-31T15:15:50+00:00\", \"2019-03-17T04:35:22+00:00\", \"2019-02-03T16:23:07+00:00\", \"2019-01-20T16:40:38+00:00\", \"2019-01-13T16:12:47+00:00\", \"2018-12-02T20:08:11+00:00\", \"2018-11-18T14:09:20+00:00\", \"2018-11-07T20:20:32+00:00\", \"2018-10-26T16:31:52+00:00\", \"2018-09-06T14:59:33+00:00\", \"2018-08-24T16:34:02+00:00\", \"2018-08-01T15:13:51+00:00\", \"2018-06-27T16:29:07+00:00\", \"2018-06-21T18:34:59+00:00\", \"2018-05-19T14:09:16+00:00\", \"2018-04-20T18:59:28+00:00\", \"2018-03-24T14:42:51+00:00\", \"2018-03-14T13:05:32+00:00\", \"2018-03-02T16:23:29+00:00\", \"2018-02-25T00:25:00+00:00\", \"2018-01-26T18:47:48+00:00\", \"2017-12-23T16:43:38+00:00\", \"2017-12-14T15:57:43+00:00\", \"2017-12-08T15:04:57+00:00\", \"2017-11-03T14:08:09+00:00\", \"2017-11-03T14:03:37+00:00\", \"2017-10-16T16:48:20+00:00\", \"2017-10-05T15:11:25+00:00\", \"2017-09-13T14:06:26+00:00\", \"2017-08-11T22:41:08+00:00\", \"2017-07-21T15:33:50+00:00\", \"2017-07-08T14:19:39+00:00\", \"2017-07-07T16:51:37+00:00\", \"2017-05-26T17:58:15+00:00\", \"2017-05-19T15:41:54+00:00\", \"2017-05-07T14:06:12+00:00\", \"2017-05-07T14:05:35+00:00\", \"2017-05-06T13:53:16+00:00\", \"2017-05-05T15:05:21+00:00\", \"2017-05-04T15:05:18+00:00\", \"2017-05-03T15:38:43+00:00\", \"2017-05-02T15:09:46+00:00\", \"2017-05-01T15:19:28+00:00\", \"2017-04-30T15:24:09+00:00\", \"2017-04-29T16:24:03+00:00\", \"2017-04-28T15:58:48+00:00\", \"2017-03-03T22:07:09+00:00\", \"2017-01-27T17:29:08+00:00\", \"2017-01-06T18:05:41+00:00\", \"2016-12-09T17:50:56+00:00\", \"2016-11-25T17:30:46+00:00\", \"2016-11-25T17:29:36+00:00\", \"2016-11-25T17:30:20+00:00\", \"2016-11-04T21:48:23+00:00\", \"2016-09-24T19:29:09+00:00\", \"2016-09-15T18:22:14+00:00\", \"2016-09-11T17:56:20+00:00\", \"2016-09-01T03:54:15+00:00\", \"2016-09-01T03:54:15+00:00\", \"2016-08-24T19:20:58+00:00\", \"2016-08-16T21:59:23+00:00\", \"2016-08-15T22:00:22+00:00\", \"2016-08-10T22:31:18+00:00\", \"2016-08-09T22:01:39+00:00\", \"2016-08-08T22:20:43+00:00\", \"2016-08-07T21:39:19+00:00\", \"2016-08-06T23:49:28+00:00\", \"2016-08-06T00:05:49+00:00\", \"2016-08-05T01:01:44+00:00\", \"2016-06-26T05:51:12+00:00\", \"2016-04-01T20:27:08+00:00\", \"2016-04-01T20:27:08+00:00\", \"2016-01-17T01:43:18+00:00\", \"2015-10-04T02:14:13+00:00\", \"2015-09-18T21:53:13+00:00\", \"2015-08-14T01:20:50+00:00\", \"2015-06-21T06:05:43+00:00\", \"2015-05-24T05:25:09+00:00\", \"2015-04-11T08:19:03+00:00\", \"2015-03-05T06:15:23+00:00\"], \"xaxis\": \"x\", \"y\": [24.35, 13.216666666666667, 27.116666666666667, 21.233333333333334, 16.833333333333332, 20.083333333333332, 21.966666666666665, 18.7, 68.33333333333333, 73.63333333333334, 7.316666666666666, 53.833333333333336, 74.91666666666667, 94.36666666666666, 51.266666666666666, 88.75, 73.3, 52.18333333333333, 2.216666666666667, 10.016666666666667, 23.2, 12.566666666666666, 8.95, 3.8, 15.766666666666666, 19.1, 22.5, 16.05, 4.133333333333334, 12.483333333333333, 24.783333333333335, 14.216666666666667, 17.65, 27.266666666666666, 12.2, 14.683333333333334, 15.266666666666667, 5.216666666666667, 17.016666666666666, 19.833333333333332, 11.466666666666667, 5.983333333333333, 31.85, 10.35, 12.866666666666667, 8.15, 15.7, 16.383333333333333, 26.633333333333333, 24.75, 5.883333333333333, 19.066666666666666, 19.35, 20.95, 19.616666666666667, 4.083333333333333, 11.25, 10.3, 13.9, 21.016666666666666, 19.216666666666665, 22.366666666666667, 27.116666666666667, 18.3, 5.1, 26.35, 16.966666666666665, 30.7, 22.333333333333332, 5.65, 12.65, 20.766666666666666, 18.45, 15.566666666666666, 13.833333333333334, 16.866666666666667, 18.716666666666665, 18.633333333333333, 17.083333333333332, 24.466666666666665, 21.6, 8.25, 22.183333333333334, 13.666666666666666, 1.5333333333333332, 13.983333333333333, 18.266666666666666, 16.766666666666666, 17.266666666666666, 12.85, 13.166666666666666, 8.9, 14.2, 4.45, 12.15, 10.05, 4.766666666666667, 10.066666666666666, 10.983333333333333, 9.983333333333333, 9.866666666666667, 5.15, 7.7, 3.95, 16.033333333333335, 2.5666666666666664, 13.216666666666667, 2.5666666666666664, 15.133333333333333, 7.45, 8.883333333333333, 1.8166666666666667, 1.0666666666666667], \"yaxis\": \"y\"}],                        {\"coloraxis\": {\"colorbar\": {\"title\": {\"text\": \"likes\"}}, \"colorscale\": [[0.0, \"rgb(7, 159, 224)\"], [1, \"rgb(61, 8, 84)\"]]}, \"legend\": {\"itemsizing\": \"constant\", \"tracegroupgap\": 0}, \"margin\": {\"t\": 60}, \"template\": {\"data\": {\"bar\": [{\"error_x\": {\"color\": \"#2a3f5f\"}, \"error_y\": {\"color\": \"#2a3f5f\"}, \"marker\": {\"line\": {\"color\": \"#E5ECF6\", \"width\": 0.5}}, \"type\": \"bar\"}], \"barpolar\": [{\"marker\": {\"line\": {\"color\": \"#E5ECF6\", \"width\": 0.5}}, \"type\": \"barpolar\"}], \"carpet\": [{\"aaxis\": {\"endlinecolor\": \"#2a3f5f\", \"gridcolor\": \"white\", \"linecolor\": \"white\", \"minorgridcolor\": \"white\", \"startlinecolor\": \"#2a3f5f\"}, \"baxis\": {\"endlinecolor\": \"#2a3f5f\", \"gridcolor\": \"white\", \"linecolor\": \"white\", \"minorgridcolor\": \"white\", \"startlinecolor\": \"#2a3f5f\"}, \"type\": \"carpet\"}], \"choropleth\": [{\"colorbar\": {\"outlinewidth\": 0, \"ticks\": \"\"}, \"type\": \"choropleth\"}], \"contour\": [{\"colorbar\": {\"outlinewidth\": 0, \"ticks\": \"\"}, \"colorscale\": [[0.0, \"#0d0887\"], [0.1111111111111111, \"#46039f\"], [0.2222222222222222, \"#7201a8\"], [0.3333333333333333, \"#9c179e\"], [0.4444444444444444, \"#bd3786\"], [0.5555555555555556, \"#d8576b\"], [0.6666666666666666, \"#ed7953\"], [0.7777777777777778, \"#fb9f3a\"], [0.8888888888888888, \"#fdca26\"], [1.0, \"#f0f921\"]], \"type\": \"contour\"}], \"contourcarpet\": [{\"colorbar\": {\"outlinewidth\": 0, \"ticks\": \"\"}, \"type\": \"contourcarpet\"}], \"heatmap\": [{\"colorbar\": {\"outlinewidth\": 0, \"ticks\": \"\"}, \"colorscale\": [[0.0, \"#0d0887\"], [0.1111111111111111, \"#46039f\"], [0.2222222222222222, \"#7201a8\"], [0.3333333333333333, \"#9c179e\"], [0.4444444444444444, \"#bd3786\"], [0.5555555555555556, \"#d8576b\"], [0.6666666666666666, \"#ed7953\"], [0.7777777777777778, \"#fb9f3a\"], [0.8888888888888888, \"#fdca26\"], [1.0, \"#f0f921\"]], \"type\": \"heatmap\"}], \"heatmapgl\": [{\"colorbar\": {\"outlinewidth\": 0, \"ticks\": \"\"}, \"colorscale\": [[0.0, \"#0d0887\"], [0.1111111111111111, \"#46039f\"], [0.2222222222222222, \"#7201a8\"], [0.3333333333333333, \"#9c179e\"], [0.4444444444444444, \"#bd3786\"], [0.5555555555555556, \"#d8576b\"], [0.6666666666666666, \"#ed7953\"], [0.7777777777777778, \"#fb9f3a\"], [0.8888888888888888, \"#fdca26\"], [1.0, \"#f0f921\"]], \"type\": \"heatmapgl\"}], \"histogram\": [{\"marker\": {\"colorbar\": {\"outlinewidth\": 0, \"ticks\": \"\"}}, \"type\": \"histogram\"}], \"histogram2d\": [{\"colorbar\": {\"outlinewidth\": 0, \"ticks\": \"\"}, \"colorscale\": [[0.0, \"#0d0887\"], [0.1111111111111111, \"#46039f\"], [0.2222222222222222, \"#7201a8\"], [0.3333333333333333, \"#9c179e\"], [0.4444444444444444, \"#bd3786\"], [0.5555555555555556, \"#d8576b\"], [0.6666666666666666, \"#ed7953\"], [0.7777777777777778, \"#fb9f3a\"], [0.8888888888888888, \"#fdca26\"], [1.0, \"#f0f921\"]], \"type\": \"histogram2d\"}], \"histogram2dcontour\": [{\"colorbar\": {\"outlinewidth\": 0, \"ticks\": \"\"}, \"colorscale\": [[0.0, \"#0d0887\"], [0.1111111111111111, \"#46039f\"], [0.2222222222222222, \"#7201a8\"], [0.3333333333333333, \"#9c179e\"], [0.4444444444444444, \"#bd3786\"], [0.5555555555555556, \"#d8576b\"], [0.6666666666666666, \"#ed7953\"], [0.7777777777777778, \"#fb9f3a\"], [0.8888888888888888, \"#fdca26\"], [1.0, \"#f0f921\"]], \"type\": \"histogram2dcontour\"}], \"mesh3d\": [{\"colorbar\": {\"outlinewidth\": 0, \"ticks\": \"\"}, \"type\": \"mesh3d\"}], \"parcoords\": [{\"line\": {\"colorbar\": {\"outlinewidth\": 0, \"ticks\": \"\"}}, \"type\": \"parcoords\"}], \"pie\": [{\"automargin\": true, \"type\": \"pie\"}], \"scatter\": [{\"marker\": {\"colorbar\": {\"outlinewidth\": 0, \"ticks\": \"\"}}, \"type\": \"scatter\"}], \"scatter3d\": [{\"line\": {\"colorbar\": {\"outlinewidth\": 0, \"ticks\": \"\"}}, \"marker\": {\"colorbar\": {\"outlinewidth\": 0, \"ticks\": \"\"}}, \"type\": \"scatter3d\"}], \"scattercarpet\": [{\"marker\": {\"colorbar\": {\"outlinewidth\": 0, \"ticks\": \"\"}}, \"type\": \"scattercarpet\"}], \"scattergeo\": [{\"marker\": {\"colorbar\": {\"outlinewidth\": 0, \"ticks\": \"\"}}, \"type\": \"scattergeo\"}], \"scattergl\": [{\"marker\": {\"colorbar\": {\"outlinewidth\": 0, \"ticks\": \"\"}}, \"type\": \"scattergl\"}], \"scattermapbox\": [{\"marker\": {\"colorbar\": {\"outlinewidth\": 0, \"ticks\": \"\"}}, \"type\": \"scattermapbox\"}], \"scatterpolar\": [{\"marker\": {\"colorbar\": {\"outlinewidth\": 0, \"ticks\": \"\"}}, \"type\": \"scatterpolar\"}], \"scatterpolargl\": [{\"marker\": {\"colorbar\": {\"outlinewidth\": 0, \"ticks\": \"\"}}, \"type\": \"scatterpolargl\"}], \"scatterternary\": [{\"marker\": {\"colorbar\": {\"outlinewidth\": 0, \"ticks\": \"\"}}, \"type\": \"scatterternary\"}], \"surface\": [{\"colorbar\": {\"outlinewidth\": 0, \"ticks\": \"\"}, \"colorscale\": [[0.0, \"#0d0887\"], [0.1111111111111111, \"#46039f\"], [0.2222222222222222, \"#7201a8\"], [0.3333333333333333, \"#9c179e\"], [0.4444444444444444, \"#bd3786\"], [0.5555555555555556, \"#d8576b\"], [0.6666666666666666, \"#ed7953\"], [0.7777777777777778, \"#fb9f3a\"], [0.8888888888888888, \"#fdca26\"], [1.0, \"#f0f921\"]], \"type\": \"surface\"}], \"table\": [{\"cells\": {\"fill\": {\"color\": \"#EBF0F8\"}, \"line\": {\"color\": \"white\"}}, \"header\": {\"fill\": {\"color\": \"#C8D4E3\"}, \"line\": {\"color\": \"white\"}}, \"type\": \"table\"}]}, \"layout\": {\"annotationdefaults\": {\"arrowcolor\": \"#2a3f5f\", \"arrowhead\": 0, \"arrowwidth\": 1}, \"coloraxis\": {\"colorbar\": {\"outlinewidth\": 0, \"ticks\": \"\"}}, \"colorscale\": {\"diverging\": [[0, \"#8e0152\"], [0.1, \"#c51b7d\"], [0.2, \"#de77ae\"], [0.3, \"#f1b6da\"], [0.4, \"#fde0ef\"], [0.5, \"#f7f7f7\"], [0.6, \"#e6f5d0\"], [0.7, \"#b8e186\"], [0.8, \"#7fbc41\"], [0.9, \"#4d9221\"], [1, \"#276419\"]], \"sequential\": [[0.0, \"#0d0887\"], [0.1111111111111111, \"#46039f\"], [0.2222222222222222, \"#7201a8\"], [0.3333333333333333, \"#9c179e\"], [0.4444444444444444, \"#bd3786\"], [0.5555555555555556, \"#d8576b\"], [0.6666666666666666, \"#ed7953\"], [0.7777777777777778, \"#fb9f3a\"], [0.8888888888888888, \"#fdca26\"], [1.0, \"#f0f921\"]], \"sequentialminus\": [[0.0, \"#0d0887\"], [0.1111111111111111, \"#46039f\"], [0.2222222222222222, \"#7201a8\"], [0.3333333333333333, \"#9c179e\"], [0.4444444444444444, \"#bd3786\"], [0.5555555555555556, \"#d8576b\"], [0.6666666666666666, \"#ed7953\"], [0.7777777777777778, \"#fb9f3a\"], [0.8888888888888888, \"#fdca26\"], [1.0, \"#f0f921\"]]}, \"colorway\": [\"#636efa\", \"#EF553B\", \"#00cc96\", \"#ab63fa\", \"#FFA15A\", \"#19d3f3\", \"#FF6692\", \"#B6E880\", \"#FF97FF\", \"#FECB52\"], \"font\": {\"color\": \"#2a3f5f\"}, \"geo\": {\"bgcolor\": \"white\", \"lakecolor\": \"white\", \"landcolor\": \"#E5ECF6\", \"showlakes\": true, \"showland\": true, \"subunitcolor\": \"white\"}, \"hoverlabel\": {\"align\": \"left\"}, \"hovermode\": \"closest\", \"mapbox\": {\"style\": \"light\"}, \"paper_bgcolor\": \"white\", \"plot_bgcolor\": \"#E5ECF6\", \"polar\": {\"angularaxis\": {\"gridcolor\": \"white\", \"linecolor\": \"white\", \"ticks\": \"\"}, \"bgcolor\": \"#E5ECF6\", \"radialaxis\": {\"gridcolor\": \"white\", \"linecolor\": \"white\", \"ticks\": \"\"}}, \"scene\": {\"xaxis\": {\"backgroundcolor\": \"#E5ECF6\", \"gridcolor\": \"white\", \"gridwidth\": 2, \"linecolor\": \"white\", \"showbackground\": true, \"ticks\": \"\", \"zerolinecolor\": \"white\"}, \"yaxis\": {\"backgroundcolor\": \"#E5ECF6\", \"gridcolor\": \"white\", \"gridwidth\": 2, \"linecolor\": \"white\", \"showbackground\": true, \"ticks\": \"\", \"zerolinecolor\": \"white\"}, \"zaxis\": {\"backgroundcolor\": \"#E5ECF6\", \"gridcolor\": \"white\", \"gridwidth\": 2, \"linecolor\": \"white\", \"showbackground\": true, \"ticks\": \"\", \"zerolinecolor\": \"white\"}}, \"shapedefaults\": {\"line\": {\"color\": \"#2a3f5f\"}}, \"ternary\": {\"aaxis\": {\"gridcolor\": \"white\", \"linecolor\": \"white\", \"ticks\": \"\"}, \"baxis\": {\"gridcolor\": \"white\", \"linecolor\": \"white\", \"ticks\": \"\"}, \"bgcolor\": \"#E5ECF6\", \"caxis\": {\"gridcolor\": \"white\", \"linecolor\": \"white\", \"ticks\": \"\"}}, \"title\": {\"x\": 0.05}, \"xaxis\": {\"automargin\": true, \"gridcolor\": \"white\", \"linecolor\": \"white\", \"ticks\": \"\", \"title\": {\"standoff\": 15}, \"zerolinecolor\": \"white\", \"zerolinewidth\": 2}, \"yaxis\": {\"automargin\": true, \"gridcolor\": \"white\", \"linecolor\": \"white\", \"ticks\": \"\", \"title\": {\"standoff\": 15}, \"zerolinecolor\": \"white\", \"zerolinewidth\": 2}}}, \"xaxis\": {\"anchor\": \"y\", \"domain\": [0.0, 1.0], \"title\": {\"text\": \"publication date\"}}, \"yaxis\": {\"anchor\": \"x\", \"domain\": [0.0, 1.0], \"title\": {\"text\": \"duration\"}}},                        {\"responsive\": true}                    ).then(function(){\n",
       "                            \n",
       "var gd = document.getElementById('3e7d0b3b-a3a6-4fa2-b1c6-9f114d0601e3');\n",
       "var x = new MutationObserver(function (mutations, observer) {{\n",
       "        var display = window.getComputedStyle(gd).display;\n",
       "        if (!display || display === 'none') {{\n",
       "            console.log([gd, 'removed!']);\n",
       "            Plotly.purge(gd);\n",
       "            observer.disconnect();\n",
       "        }}\n",
       "}});\n",
       "\n",
       "// Listen for the removal of the full notebook cells\n",
       "var notebookContainer = gd.closest('#notebook-container');\n",
       "if (notebookContainer) {{\n",
       "    x.observe(notebookContainer, {childList: true});\n",
       "}}\n",
       "\n",
       "// Listen for the clearing of the current output cell\n",
       "var outputEl = gd.closest('.output');\n",
       "if (outputEl) {{\n",
       "    x.observe(outputEl, {childList: true});\n",
       "}}\n",
       "\n",
       "                        })                };                });            </script>        </div>"
      ]
     },
     "metadata": {},
     "output_type": "display_data"
    }
   ],
   "source": [
    "fig = df.plot(x='publication date', \n",
    "              y='duration', \n",
    "              kind='scatter', \n",
    "              size='likes', \n",
    "              color=\"likes\", \n",
    "              color_continuous_scale=[[0.0, \"rgb(7, 159, 224)\"],\n",
    "                                      [1, \"rgb(61, 8, 84)\"]])\n",
    "fig.show()"
   ]
  },
  {
   "cell_type": "code",
   "execution_count": 139,
   "metadata": {},
   "outputs": [],
   "source": [
    "phrases = ['square', 'calculus', 'derivative', ' pi ', 'vector', 'algebra', 'bayes', 'series', 'fourier', 'trick']"
   ]
  },
  {
   "cell_type": "code",
   "execution_count": 140,
   "metadata": {},
   "outputs": [],
   "source": [
    "d = {}\n",
    "for phrase in phrases:\n",
    "    d[phrase] = df[df['title'].str.lower().str.contains(phrase)]"
   ]
  },
  {
   "cell_type": "code",
   "execution_count": 141,
   "metadata": {},
   "outputs": [],
   "source": [
    "def avg(d, phrase, key):\n",
    "    return d[phrase][key].sum() / len(d[phrase])"
   ]
  },
  {
   "cell_type": "code",
   "execution_count": 142,
   "metadata": {},
   "outputs": [
    {
     "data": {
      "text/html": [
       "<div>\n",
       "<style scoped>\n",
       "    .dataframe tbody tr th:only-of-type {\n",
       "        vertical-align: middle;\n",
       "    }\n",
       "\n",
       "    .dataframe tbody tr th {\n",
       "        vertical-align: top;\n",
       "    }\n",
       "\n",
       "    .dataframe thead th {\n",
       "        text-align: right;\n",
       "    }\n",
       "</style>\n",
       "<table border=\"1\" class=\"dataframe\">\n",
       "  <thead>\n",
       "    <tr style=\"text-align: right;\">\n",
       "      <th></th>\n",
       "      <th>phrase in the title</th>\n",
       "      <th>videos</th>\n",
       "      <th>views (average)</th>\n",
       "      <th>likes (average)</th>\n",
       "      <th>duration (average)</th>\n",
       "    </tr>\n",
       "  </thead>\n",
       "  <tbody>\n",
       "    <tr>\n",
       "      <th>8</th>\n",
       "      <td>fourier</td>\n",
       "      <td>3</td>\n",
       "      <td>4.514463e+06</td>\n",
       "      <td>100313.333333</td>\n",
       "      <td>19.405556</td>\n",
       "    </tr>\n",
       "    <tr>\n",
       "      <th>7</th>\n",
       "      <td>series</td>\n",
       "      <td>3</td>\n",
       "      <td>3.206922e+06</td>\n",
       "      <td>58257.000000</td>\n",
       "      <td>19.866667</td>\n",
       "    </tr>\n",
       "    <tr>\n",
       "      <th>4</th>\n",
       "      <td>vector</td>\n",
       "      <td>4</td>\n",
       "      <td>2.713898e+06</td>\n",
       "      <td>56226.000000</td>\n",
       "      <td>13.470833</td>\n",
       "    </tr>\n",
       "    <tr>\n",
       "      <th>0</th>\n",
       "      <td>square</td>\n",
       "      <td>2</td>\n",
       "      <td>2.145362e+06</td>\n",
       "      <td>46197.000000</td>\n",
       "      <td>11.758333</td>\n",
       "    </tr>\n",
       "    <tr>\n",
       "      <th>3</th>\n",
       "      <td>pi</td>\n",
       "      <td>2</td>\n",
       "      <td>2.123298e+06</td>\n",
       "      <td>50344.000000</td>\n",
       "      <td>12.475000</td>\n",
       "    </tr>\n",
       "    <tr>\n",
       "      <th>2</th>\n",
       "      <td>derivative</td>\n",
       "      <td>4</td>\n",
       "      <td>1.853721e+06</td>\n",
       "      <td>45131.250000</td>\n",
       "      <td>14.845833</td>\n",
       "    </tr>\n",
       "    <tr>\n",
       "      <th>1</th>\n",
       "      <td>calculus</td>\n",
       "      <td>13</td>\n",
       "      <td>1.818593e+06</td>\n",
       "      <td>44961.307692</td>\n",
       "      <td>15.941026</td>\n",
       "    </tr>\n",
       "    <tr>\n",
       "      <th>5</th>\n",
       "      <td>algebra</td>\n",
       "      <td>17</td>\n",
       "      <td>1.668891e+06</td>\n",
       "      <td>33399.823529</td>\n",
       "      <td>10.943137</td>\n",
       "    </tr>\n",
       "    <tr>\n",
       "      <th>6</th>\n",
       "      <td>bayes</td>\n",
       "      <td>3</td>\n",
       "      <td>7.655603e+05</td>\n",
       "      <td>32345.666667</td>\n",
       "      <td>13.600000</td>\n",
       "    </tr>\n",
       "    <tr>\n",
       "      <th>9</th>\n",
       "      <td>trick</td>\n",
       "      <td>1</td>\n",
       "      <td>3.302940e+05</td>\n",
       "      <td>15185.000000</td>\n",
       "      <td>13.216667</td>\n",
       "    </tr>\n",
       "  </tbody>\n",
       "</table>\n",
       "</div>"
      ],
      "text/plain": [
       "  phrase in the title videos  views (average)  likes (average)  \\\n",
       "8             fourier      3     4.514463e+06    100313.333333   \n",
       "7              series      3     3.206922e+06     58257.000000   \n",
       "4              vector      4     2.713898e+06     56226.000000   \n",
       "0              square      2     2.145362e+06     46197.000000   \n",
       "3                 pi       2     2.123298e+06     50344.000000   \n",
       "2          derivative      4     1.853721e+06     45131.250000   \n",
       "1            calculus     13     1.818593e+06     44961.307692   \n",
       "5             algebra     17     1.668891e+06     33399.823529   \n",
       "6               bayes      3     7.655603e+05     32345.666667   \n",
       "9               trick      1     3.302940e+05     15185.000000   \n",
       "\n",
       "   duration (average)  \n",
       "8           19.405556  \n",
       "7           19.866667  \n",
       "4           13.470833  \n",
       "0           11.758333  \n",
       "3           12.475000  \n",
       "2           14.845833  \n",
       "1           15.941026  \n",
       "5           10.943137  \n",
       "6           13.600000  \n",
       "9           13.216667  "
      ]
     },
     "execution_count": 142,
     "metadata": {},
     "output_type": "execute_result"
    }
   ],
   "source": [
    "df_phrases = pd.DataFrame(columns=['phrase in the title',\n",
    "                                   'videos',\n",
    "                                   'views (average)', \n",
    "                                   'likes (average)', \n",
    "                                   'duration (average)'])\n",
    "\n",
    "for index, phrase in enumerate(phrases):\n",
    "    df_phrases.loc[index] = [phrase,\n",
    "                             len(d[phrase]),\n",
    "                             avg(d, phrase, 'views'), \n",
    "                             avg(d, phrase, 'likes'), \n",
    "                             avg(d, phrase, 'duration')]\n",
    "\n",
    "df_phrases = df_phrases.sort_values(\"views (average)\", ascending=False)\n",
    "df_phrases\n"
   ]
  },
  {
   "cell_type": "code",
   "execution_count": 143,
   "metadata": {},
   "outputs": [
    {
     "data": {
      "application/vnd.plotly.v1+json": {
       "config": {
        "plotlyServerURL": "https://plot.ly"
       },
       "data": [
        {
         "alignmentgroup": "True",
         "hovertemplate": "phrase in the title=%{x}<br>videos=%{y}<br>duration (average)=%{marker.color}<extra></extra>",
         "legendgroup": "",
         "marker": {
          "color": [
           10.943137254901961,
           15.941025641025643,
           13.470833333333333,
           14.845833333333333,
           19.405555555555555,
           19.866666666666664,
           13.6,
           11.758333333333333,
           12.475,
           13.216666666666667
          ],
          "coloraxis": "coloraxis"
         },
         "name": "",
         "offsetgroup": "",
         "orientation": "v",
         "showlegend": false,
         "textposition": "auto",
         "type": "bar",
         "x": [
          "algebra",
          "calculus",
          "vector",
          "derivative",
          "fourier",
          "series",
          "bayes",
          "square",
          " pi ",
          "trick"
         ],
         "xaxis": "x",
         "y": [
          17,
          13,
          4,
          4,
          3,
          3,
          3,
          2,
          2,
          1
         ],
         "yaxis": "y"
        }
       ],
       "layout": {
        "barmode": "relative",
        "coloraxis": {
         "colorbar": {
          "title": {
           "text": "duration (average)"
          }
         },
         "colorscale": [
          [
           0,
           "rgb(7, 159, 224)"
          ],
          [
           1,
           "rgb(61, 8, 84)"
          ]
         ]
        },
        "legend": {
         "tracegroupgap": 0
        },
        "margin": {
         "t": 60
        },
        "template": {
         "data": {
          "bar": [
           {
            "error_x": {
             "color": "#2a3f5f"
            },
            "error_y": {
             "color": "#2a3f5f"
            },
            "marker": {
             "line": {
              "color": "#E5ECF6",
              "width": 0.5
             }
            },
            "type": "bar"
           }
          ],
          "barpolar": [
           {
            "marker": {
             "line": {
              "color": "#E5ECF6",
              "width": 0.5
             }
            },
            "type": "barpolar"
           }
          ],
          "carpet": [
           {
            "aaxis": {
             "endlinecolor": "#2a3f5f",
             "gridcolor": "white",
             "linecolor": "white",
             "minorgridcolor": "white",
             "startlinecolor": "#2a3f5f"
            },
            "baxis": {
             "endlinecolor": "#2a3f5f",
             "gridcolor": "white",
             "linecolor": "white",
             "minorgridcolor": "white",
             "startlinecolor": "#2a3f5f"
            },
            "type": "carpet"
           }
          ],
          "choropleth": [
           {
            "colorbar": {
             "outlinewidth": 0,
             "ticks": ""
            },
            "type": "choropleth"
           }
          ],
          "contour": [
           {
            "colorbar": {
             "outlinewidth": 0,
             "ticks": ""
            },
            "colorscale": [
             [
              0,
              "#0d0887"
             ],
             [
              0.1111111111111111,
              "#46039f"
             ],
             [
              0.2222222222222222,
              "#7201a8"
             ],
             [
              0.3333333333333333,
              "#9c179e"
             ],
             [
              0.4444444444444444,
              "#bd3786"
             ],
             [
              0.5555555555555556,
              "#d8576b"
             ],
             [
              0.6666666666666666,
              "#ed7953"
             ],
             [
              0.7777777777777778,
              "#fb9f3a"
             ],
             [
              0.8888888888888888,
              "#fdca26"
             ],
             [
              1,
              "#f0f921"
             ]
            ],
            "type": "contour"
           }
          ],
          "contourcarpet": [
           {
            "colorbar": {
             "outlinewidth": 0,
             "ticks": ""
            },
            "type": "contourcarpet"
           }
          ],
          "heatmap": [
           {
            "colorbar": {
             "outlinewidth": 0,
             "ticks": ""
            },
            "colorscale": [
             [
              0,
              "#0d0887"
             ],
             [
              0.1111111111111111,
              "#46039f"
             ],
             [
              0.2222222222222222,
              "#7201a8"
             ],
             [
              0.3333333333333333,
              "#9c179e"
             ],
             [
              0.4444444444444444,
              "#bd3786"
             ],
             [
              0.5555555555555556,
              "#d8576b"
             ],
             [
              0.6666666666666666,
              "#ed7953"
             ],
             [
              0.7777777777777778,
              "#fb9f3a"
             ],
             [
              0.8888888888888888,
              "#fdca26"
             ],
             [
              1,
              "#f0f921"
             ]
            ],
            "type": "heatmap"
           }
          ],
          "heatmapgl": [
           {
            "colorbar": {
             "outlinewidth": 0,
             "ticks": ""
            },
            "colorscale": [
             [
              0,
              "#0d0887"
             ],
             [
              0.1111111111111111,
              "#46039f"
             ],
             [
              0.2222222222222222,
              "#7201a8"
             ],
             [
              0.3333333333333333,
              "#9c179e"
             ],
             [
              0.4444444444444444,
              "#bd3786"
             ],
             [
              0.5555555555555556,
              "#d8576b"
             ],
             [
              0.6666666666666666,
              "#ed7953"
             ],
             [
              0.7777777777777778,
              "#fb9f3a"
             ],
             [
              0.8888888888888888,
              "#fdca26"
             ],
             [
              1,
              "#f0f921"
             ]
            ],
            "type": "heatmapgl"
           }
          ],
          "histogram": [
           {
            "marker": {
             "colorbar": {
              "outlinewidth": 0,
              "ticks": ""
             }
            },
            "type": "histogram"
           }
          ],
          "histogram2d": [
           {
            "colorbar": {
             "outlinewidth": 0,
             "ticks": ""
            },
            "colorscale": [
             [
              0,
              "#0d0887"
             ],
             [
              0.1111111111111111,
              "#46039f"
             ],
             [
              0.2222222222222222,
              "#7201a8"
             ],
             [
              0.3333333333333333,
              "#9c179e"
             ],
             [
              0.4444444444444444,
              "#bd3786"
             ],
             [
              0.5555555555555556,
              "#d8576b"
             ],
             [
              0.6666666666666666,
              "#ed7953"
             ],
             [
              0.7777777777777778,
              "#fb9f3a"
             ],
             [
              0.8888888888888888,
              "#fdca26"
             ],
             [
              1,
              "#f0f921"
             ]
            ],
            "type": "histogram2d"
           }
          ],
          "histogram2dcontour": [
           {
            "colorbar": {
             "outlinewidth": 0,
             "ticks": ""
            },
            "colorscale": [
             [
              0,
              "#0d0887"
             ],
             [
              0.1111111111111111,
              "#46039f"
             ],
             [
              0.2222222222222222,
              "#7201a8"
             ],
             [
              0.3333333333333333,
              "#9c179e"
             ],
             [
              0.4444444444444444,
              "#bd3786"
             ],
             [
              0.5555555555555556,
              "#d8576b"
             ],
             [
              0.6666666666666666,
              "#ed7953"
             ],
             [
              0.7777777777777778,
              "#fb9f3a"
             ],
             [
              0.8888888888888888,
              "#fdca26"
             ],
             [
              1,
              "#f0f921"
             ]
            ],
            "type": "histogram2dcontour"
           }
          ],
          "mesh3d": [
           {
            "colorbar": {
             "outlinewidth": 0,
             "ticks": ""
            },
            "type": "mesh3d"
           }
          ],
          "parcoords": [
           {
            "line": {
             "colorbar": {
              "outlinewidth": 0,
              "ticks": ""
             }
            },
            "type": "parcoords"
           }
          ],
          "pie": [
           {
            "automargin": true,
            "type": "pie"
           }
          ],
          "scatter": [
           {
            "marker": {
             "colorbar": {
              "outlinewidth": 0,
              "ticks": ""
             }
            },
            "type": "scatter"
           }
          ],
          "scatter3d": [
           {
            "line": {
             "colorbar": {
              "outlinewidth": 0,
              "ticks": ""
             }
            },
            "marker": {
             "colorbar": {
              "outlinewidth": 0,
              "ticks": ""
             }
            },
            "type": "scatter3d"
           }
          ],
          "scattercarpet": [
           {
            "marker": {
             "colorbar": {
              "outlinewidth": 0,
              "ticks": ""
             }
            },
            "type": "scattercarpet"
           }
          ],
          "scattergeo": [
           {
            "marker": {
             "colorbar": {
              "outlinewidth": 0,
              "ticks": ""
             }
            },
            "type": "scattergeo"
           }
          ],
          "scattergl": [
           {
            "marker": {
             "colorbar": {
              "outlinewidth": 0,
              "ticks": ""
             }
            },
            "type": "scattergl"
           }
          ],
          "scattermapbox": [
           {
            "marker": {
             "colorbar": {
              "outlinewidth": 0,
              "ticks": ""
             }
            },
            "type": "scattermapbox"
           }
          ],
          "scatterpolar": [
           {
            "marker": {
             "colorbar": {
              "outlinewidth": 0,
              "ticks": ""
             }
            },
            "type": "scatterpolar"
           }
          ],
          "scatterpolargl": [
           {
            "marker": {
             "colorbar": {
              "outlinewidth": 0,
              "ticks": ""
             }
            },
            "type": "scatterpolargl"
           }
          ],
          "scatterternary": [
           {
            "marker": {
             "colorbar": {
              "outlinewidth": 0,
              "ticks": ""
             }
            },
            "type": "scatterternary"
           }
          ],
          "surface": [
           {
            "colorbar": {
             "outlinewidth": 0,
             "ticks": ""
            },
            "colorscale": [
             [
              0,
              "#0d0887"
             ],
             [
              0.1111111111111111,
              "#46039f"
             ],
             [
              0.2222222222222222,
              "#7201a8"
             ],
             [
              0.3333333333333333,
              "#9c179e"
             ],
             [
              0.4444444444444444,
              "#bd3786"
             ],
             [
              0.5555555555555556,
              "#d8576b"
             ],
             [
              0.6666666666666666,
              "#ed7953"
             ],
             [
              0.7777777777777778,
              "#fb9f3a"
             ],
             [
              0.8888888888888888,
              "#fdca26"
             ],
             [
              1,
              "#f0f921"
             ]
            ],
            "type": "surface"
           }
          ],
          "table": [
           {
            "cells": {
             "fill": {
              "color": "#EBF0F8"
             },
             "line": {
              "color": "white"
             }
            },
            "header": {
             "fill": {
              "color": "#C8D4E3"
             },
             "line": {
              "color": "white"
             }
            },
            "type": "table"
           }
          ]
         },
         "layout": {
          "annotationdefaults": {
           "arrowcolor": "#2a3f5f",
           "arrowhead": 0,
           "arrowwidth": 1
          },
          "coloraxis": {
           "colorbar": {
            "outlinewidth": 0,
            "ticks": ""
           }
          },
          "colorscale": {
           "diverging": [
            [
             0,
             "#8e0152"
            ],
            [
             0.1,
             "#c51b7d"
            ],
            [
             0.2,
             "#de77ae"
            ],
            [
             0.3,
             "#f1b6da"
            ],
            [
             0.4,
             "#fde0ef"
            ],
            [
             0.5,
             "#f7f7f7"
            ],
            [
             0.6,
             "#e6f5d0"
            ],
            [
             0.7,
             "#b8e186"
            ],
            [
             0.8,
             "#7fbc41"
            ],
            [
             0.9,
             "#4d9221"
            ],
            [
             1,
             "#276419"
            ]
           ],
           "sequential": [
            [
             0,
             "#0d0887"
            ],
            [
             0.1111111111111111,
             "#46039f"
            ],
            [
             0.2222222222222222,
             "#7201a8"
            ],
            [
             0.3333333333333333,
             "#9c179e"
            ],
            [
             0.4444444444444444,
             "#bd3786"
            ],
            [
             0.5555555555555556,
             "#d8576b"
            ],
            [
             0.6666666666666666,
             "#ed7953"
            ],
            [
             0.7777777777777778,
             "#fb9f3a"
            ],
            [
             0.8888888888888888,
             "#fdca26"
            ],
            [
             1,
             "#f0f921"
            ]
           ],
           "sequentialminus": [
            [
             0,
             "#0d0887"
            ],
            [
             0.1111111111111111,
             "#46039f"
            ],
            [
             0.2222222222222222,
             "#7201a8"
            ],
            [
             0.3333333333333333,
             "#9c179e"
            ],
            [
             0.4444444444444444,
             "#bd3786"
            ],
            [
             0.5555555555555556,
             "#d8576b"
            ],
            [
             0.6666666666666666,
             "#ed7953"
            ],
            [
             0.7777777777777778,
             "#fb9f3a"
            ],
            [
             0.8888888888888888,
             "#fdca26"
            ],
            [
             1,
             "#f0f921"
            ]
           ]
          },
          "colorway": [
           "#636efa",
           "#EF553B",
           "#00cc96",
           "#ab63fa",
           "#FFA15A",
           "#19d3f3",
           "#FF6692",
           "#B6E880",
           "#FF97FF",
           "#FECB52"
          ],
          "font": {
           "color": "#2a3f5f"
          },
          "geo": {
           "bgcolor": "white",
           "lakecolor": "white",
           "landcolor": "#E5ECF6",
           "showlakes": true,
           "showland": true,
           "subunitcolor": "white"
          },
          "hoverlabel": {
           "align": "left"
          },
          "hovermode": "closest",
          "mapbox": {
           "style": "light"
          },
          "paper_bgcolor": "white",
          "plot_bgcolor": "#E5ECF6",
          "polar": {
           "angularaxis": {
            "gridcolor": "white",
            "linecolor": "white",
            "ticks": ""
           },
           "bgcolor": "#E5ECF6",
           "radialaxis": {
            "gridcolor": "white",
            "linecolor": "white",
            "ticks": ""
           }
          },
          "scene": {
           "xaxis": {
            "backgroundcolor": "#E5ECF6",
            "gridcolor": "white",
            "gridwidth": 2,
            "linecolor": "white",
            "showbackground": true,
            "ticks": "",
            "zerolinecolor": "white"
           },
           "yaxis": {
            "backgroundcolor": "#E5ECF6",
            "gridcolor": "white",
            "gridwidth": 2,
            "linecolor": "white",
            "showbackground": true,
            "ticks": "",
            "zerolinecolor": "white"
           },
           "zaxis": {
            "backgroundcolor": "#E5ECF6",
            "gridcolor": "white",
            "gridwidth": 2,
            "linecolor": "white",
            "showbackground": true,
            "ticks": "",
            "zerolinecolor": "white"
           }
          },
          "shapedefaults": {
           "line": {
            "color": "#2a3f5f"
           }
          },
          "ternary": {
           "aaxis": {
            "gridcolor": "white",
            "linecolor": "white",
            "ticks": ""
           },
           "baxis": {
            "gridcolor": "white",
            "linecolor": "white",
            "ticks": ""
           },
           "bgcolor": "#E5ECF6",
           "caxis": {
            "gridcolor": "white",
            "linecolor": "white",
            "ticks": ""
           }
          },
          "title": {
           "x": 0.05
          },
          "xaxis": {
           "automargin": true,
           "gridcolor": "white",
           "linecolor": "white",
           "ticks": "",
           "title": {
            "standoff": 15
           },
           "zerolinecolor": "white",
           "zerolinewidth": 2
          },
          "yaxis": {
           "automargin": true,
           "gridcolor": "white",
           "linecolor": "white",
           "ticks": "",
           "title": {
            "standoff": 15
           },
           "zerolinecolor": "white",
           "zerolinewidth": 2
          }
         }
        },
        "xaxis": {
         "anchor": "y",
         "domain": [
          0,
          1
         ],
         "title": {
          "text": "phrase in the title"
         }
        },
        "yaxis": {
         "anchor": "x",
         "domain": [
          0,
          1
         ],
         "title": {
          "text": "videos"
         }
        }
       }
      },
      "text/html": [
       "<div>                            <div id=\"2e4ec646-a0d3-4338-b2cb-2b99415e4f09\" class=\"plotly-graph-div\" style=\"height:525px; width:100%;\"></div>            <script type=\"text/javascript\">                require([\"plotly\"], function(Plotly) {                    window.PLOTLYENV=window.PLOTLYENV || {};                                    if (document.getElementById(\"2e4ec646-a0d3-4338-b2cb-2b99415e4f09\")) {                    Plotly.newPlot(                        \"2e4ec646-a0d3-4338-b2cb-2b99415e4f09\",                        [{\"alignmentgroup\": \"True\", \"hovertemplate\": \"phrase in the title=%{x}<br>videos=%{y}<br>duration (average)=%{marker.color}<extra></extra>\", \"legendgroup\": \"\", \"marker\": {\"color\": [10.943137254901961, 15.941025641025643, 13.470833333333333, 14.845833333333333, 19.405555555555555, 19.866666666666664, 13.6, 11.758333333333333, 12.475, 13.216666666666667], \"coloraxis\": \"coloraxis\"}, \"name\": \"\", \"offsetgroup\": \"\", \"orientation\": \"v\", \"showlegend\": false, \"textposition\": \"auto\", \"type\": \"bar\", \"x\": [\"algebra\", \"calculus\", \"vector\", \"derivative\", \"fourier\", \"series\", \"bayes\", \"square\", \" pi \", \"trick\"], \"xaxis\": \"x\", \"y\": [17, 13, 4, 4, 3, 3, 3, 2, 2, 1], \"yaxis\": \"y\"}],                        {\"barmode\": \"relative\", \"coloraxis\": {\"colorbar\": {\"title\": {\"text\": \"duration (average)\"}}, \"colorscale\": [[0.0, \"rgb(7, 159, 224)\"], [1, \"rgb(61, 8, 84)\"]]}, \"legend\": {\"tracegroupgap\": 0}, \"margin\": {\"t\": 60}, \"template\": {\"data\": {\"bar\": [{\"error_x\": {\"color\": \"#2a3f5f\"}, \"error_y\": {\"color\": \"#2a3f5f\"}, \"marker\": {\"line\": {\"color\": \"#E5ECF6\", \"width\": 0.5}}, \"type\": \"bar\"}], \"barpolar\": [{\"marker\": {\"line\": {\"color\": \"#E5ECF6\", \"width\": 0.5}}, \"type\": \"barpolar\"}], \"carpet\": [{\"aaxis\": {\"endlinecolor\": \"#2a3f5f\", \"gridcolor\": \"white\", \"linecolor\": \"white\", \"minorgridcolor\": \"white\", \"startlinecolor\": \"#2a3f5f\"}, \"baxis\": {\"endlinecolor\": \"#2a3f5f\", \"gridcolor\": \"white\", \"linecolor\": \"white\", \"minorgridcolor\": \"white\", \"startlinecolor\": \"#2a3f5f\"}, \"type\": \"carpet\"}], \"choropleth\": [{\"colorbar\": {\"outlinewidth\": 0, \"ticks\": \"\"}, \"type\": \"choropleth\"}], \"contour\": [{\"colorbar\": {\"outlinewidth\": 0, \"ticks\": \"\"}, \"colorscale\": [[0.0, \"#0d0887\"], [0.1111111111111111, \"#46039f\"], [0.2222222222222222, \"#7201a8\"], [0.3333333333333333, \"#9c179e\"], [0.4444444444444444, \"#bd3786\"], [0.5555555555555556, \"#d8576b\"], [0.6666666666666666, \"#ed7953\"], [0.7777777777777778, \"#fb9f3a\"], [0.8888888888888888, \"#fdca26\"], [1.0, \"#f0f921\"]], \"type\": \"contour\"}], \"contourcarpet\": [{\"colorbar\": {\"outlinewidth\": 0, \"ticks\": \"\"}, \"type\": \"contourcarpet\"}], \"heatmap\": [{\"colorbar\": {\"outlinewidth\": 0, \"ticks\": \"\"}, \"colorscale\": [[0.0, \"#0d0887\"], [0.1111111111111111, \"#46039f\"], [0.2222222222222222, \"#7201a8\"], [0.3333333333333333, \"#9c179e\"], [0.4444444444444444, \"#bd3786\"], [0.5555555555555556, \"#d8576b\"], [0.6666666666666666, \"#ed7953\"], [0.7777777777777778, \"#fb9f3a\"], [0.8888888888888888, \"#fdca26\"], [1.0, \"#f0f921\"]], \"type\": \"heatmap\"}], \"heatmapgl\": [{\"colorbar\": {\"outlinewidth\": 0, \"ticks\": \"\"}, \"colorscale\": [[0.0, \"#0d0887\"], [0.1111111111111111, \"#46039f\"], [0.2222222222222222, \"#7201a8\"], [0.3333333333333333, \"#9c179e\"], [0.4444444444444444, \"#bd3786\"], [0.5555555555555556, \"#d8576b\"], [0.6666666666666666, \"#ed7953\"], [0.7777777777777778, \"#fb9f3a\"], [0.8888888888888888, \"#fdca26\"], [1.0, \"#f0f921\"]], \"type\": \"heatmapgl\"}], \"histogram\": [{\"marker\": {\"colorbar\": {\"outlinewidth\": 0, \"ticks\": \"\"}}, \"type\": \"histogram\"}], \"histogram2d\": [{\"colorbar\": {\"outlinewidth\": 0, \"ticks\": \"\"}, \"colorscale\": [[0.0, \"#0d0887\"], [0.1111111111111111, \"#46039f\"], [0.2222222222222222, \"#7201a8\"], [0.3333333333333333, \"#9c179e\"], [0.4444444444444444, \"#bd3786\"], [0.5555555555555556, \"#d8576b\"], [0.6666666666666666, \"#ed7953\"], [0.7777777777777778, \"#fb9f3a\"], [0.8888888888888888, \"#fdca26\"], [1.0, \"#f0f921\"]], \"type\": \"histogram2d\"}], \"histogram2dcontour\": [{\"colorbar\": {\"outlinewidth\": 0, \"ticks\": \"\"}, \"colorscale\": [[0.0, \"#0d0887\"], [0.1111111111111111, \"#46039f\"], [0.2222222222222222, \"#7201a8\"], [0.3333333333333333, \"#9c179e\"], [0.4444444444444444, \"#bd3786\"], [0.5555555555555556, \"#d8576b\"], [0.6666666666666666, \"#ed7953\"], [0.7777777777777778, \"#fb9f3a\"], [0.8888888888888888, \"#fdca26\"], [1.0, \"#f0f921\"]], \"type\": \"histogram2dcontour\"}], \"mesh3d\": [{\"colorbar\": {\"outlinewidth\": 0, \"ticks\": \"\"}, \"type\": \"mesh3d\"}], \"parcoords\": [{\"line\": {\"colorbar\": {\"outlinewidth\": 0, \"ticks\": \"\"}}, \"type\": \"parcoords\"}], \"pie\": [{\"automargin\": true, \"type\": \"pie\"}], \"scatter\": [{\"marker\": {\"colorbar\": {\"outlinewidth\": 0, \"ticks\": \"\"}}, \"type\": \"scatter\"}], \"scatter3d\": [{\"line\": {\"colorbar\": {\"outlinewidth\": 0, \"ticks\": \"\"}}, \"marker\": {\"colorbar\": {\"outlinewidth\": 0, \"ticks\": \"\"}}, \"type\": \"scatter3d\"}], \"scattercarpet\": [{\"marker\": {\"colorbar\": {\"outlinewidth\": 0, \"ticks\": \"\"}}, \"type\": \"scattercarpet\"}], \"scattergeo\": [{\"marker\": {\"colorbar\": {\"outlinewidth\": 0, \"ticks\": \"\"}}, \"type\": \"scattergeo\"}], \"scattergl\": [{\"marker\": {\"colorbar\": {\"outlinewidth\": 0, \"ticks\": \"\"}}, \"type\": \"scattergl\"}], \"scattermapbox\": [{\"marker\": {\"colorbar\": {\"outlinewidth\": 0, \"ticks\": \"\"}}, \"type\": \"scattermapbox\"}], \"scatterpolar\": [{\"marker\": {\"colorbar\": {\"outlinewidth\": 0, \"ticks\": \"\"}}, \"type\": \"scatterpolar\"}], \"scatterpolargl\": [{\"marker\": {\"colorbar\": {\"outlinewidth\": 0, \"ticks\": \"\"}}, \"type\": \"scatterpolargl\"}], \"scatterternary\": [{\"marker\": {\"colorbar\": {\"outlinewidth\": 0, \"ticks\": \"\"}}, \"type\": \"scatterternary\"}], \"surface\": [{\"colorbar\": {\"outlinewidth\": 0, \"ticks\": \"\"}, \"colorscale\": [[0.0, \"#0d0887\"], [0.1111111111111111, \"#46039f\"], [0.2222222222222222, \"#7201a8\"], [0.3333333333333333, \"#9c179e\"], [0.4444444444444444, \"#bd3786\"], [0.5555555555555556, \"#d8576b\"], [0.6666666666666666, \"#ed7953\"], [0.7777777777777778, \"#fb9f3a\"], [0.8888888888888888, \"#fdca26\"], [1.0, \"#f0f921\"]], \"type\": \"surface\"}], \"table\": [{\"cells\": {\"fill\": {\"color\": \"#EBF0F8\"}, \"line\": {\"color\": \"white\"}}, \"header\": {\"fill\": {\"color\": \"#C8D4E3\"}, \"line\": {\"color\": \"white\"}}, \"type\": \"table\"}]}, \"layout\": {\"annotationdefaults\": {\"arrowcolor\": \"#2a3f5f\", \"arrowhead\": 0, \"arrowwidth\": 1}, \"coloraxis\": {\"colorbar\": {\"outlinewidth\": 0, \"ticks\": \"\"}}, \"colorscale\": {\"diverging\": [[0, \"#8e0152\"], [0.1, \"#c51b7d\"], [0.2, \"#de77ae\"], [0.3, \"#f1b6da\"], [0.4, \"#fde0ef\"], [0.5, \"#f7f7f7\"], [0.6, \"#e6f5d0\"], [0.7, \"#b8e186\"], [0.8, \"#7fbc41\"], [0.9, \"#4d9221\"], [1, \"#276419\"]], \"sequential\": [[0.0, \"#0d0887\"], [0.1111111111111111, \"#46039f\"], [0.2222222222222222, \"#7201a8\"], [0.3333333333333333, \"#9c179e\"], [0.4444444444444444, \"#bd3786\"], [0.5555555555555556, \"#d8576b\"], [0.6666666666666666, \"#ed7953\"], [0.7777777777777778, \"#fb9f3a\"], [0.8888888888888888, \"#fdca26\"], [1.0, \"#f0f921\"]], \"sequentialminus\": [[0.0, \"#0d0887\"], [0.1111111111111111, \"#46039f\"], [0.2222222222222222, \"#7201a8\"], [0.3333333333333333, \"#9c179e\"], [0.4444444444444444, \"#bd3786\"], [0.5555555555555556, \"#d8576b\"], [0.6666666666666666, \"#ed7953\"], [0.7777777777777778, \"#fb9f3a\"], [0.8888888888888888, \"#fdca26\"], [1.0, \"#f0f921\"]]}, \"colorway\": [\"#636efa\", \"#EF553B\", \"#00cc96\", \"#ab63fa\", \"#FFA15A\", \"#19d3f3\", \"#FF6692\", \"#B6E880\", \"#FF97FF\", \"#FECB52\"], \"font\": {\"color\": \"#2a3f5f\"}, \"geo\": {\"bgcolor\": \"white\", \"lakecolor\": \"white\", \"landcolor\": \"#E5ECF6\", \"showlakes\": true, \"showland\": true, \"subunitcolor\": \"white\"}, \"hoverlabel\": {\"align\": \"left\"}, \"hovermode\": \"closest\", \"mapbox\": {\"style\": \"light\"}, \"paper_bgcolor\": \"white\", \"plot_bgcolor\": \"#E5ECF6\", \"polar\": {\"angularaxis\": {\"gridcolor\": \"white\", \"linecolor\": \"white\", \"ticks\": \"\"}, \"bgcolor\": \"#E5ECF6\", \"radialaxis\": {\"gridcolor\": \"white\", \"linecolor\": \"white\", \"ticks\": \"\"}}, \"scene\": {\"xaxis\": {\"backgroundcolor\": \"#E5ECF6\", \"gridcolor\": \"white\", \"gridwidth\": 2, \"linecolor\": \"white\", \"showbackground\": true, \"ticks\": \"\", \"zerolinecolor\": \"white\"}, \"yaxis\": {\"backgroundcolor\": \"#E5ECF6\", \"gridcolor\": \"white\", \"gridwidth\": 2, \"linecolor\": \"white\", \"showbackground\": true, \"ticks\": \"\", \"zerolinecolor\": \"white\"}, \"zaxis\": {\"backgroundcolor\": \"#E5ECF6\", \"gridcolor\": \"white\", \"gridwidth\": 2, \"linecolor\": \"white\", \"showbackground\": true, \"ticks\": \"\", \"zerolinecolor\": \"white\"}}, \"shapedefaults\": {\"line\": {\"color\": \"#2a3f5f\"}}, \"ternary\": {\"aaxis\": {\"gridcolor\": \"white\", \"linecolor\": \"white\", \"ticks\": \"\"}, \"baxis\": {\"gridcolor\": \"white\", \"linecolor\": \"white\", \"ticks\": \"\"}, \"bgcolor\": \"#E5ECF6\", \"caxis\": {\"gridcolor\": \"white\", \"linecolor\": \"white\", \"ticks\": \"\"}}, \"title\": {\"x\": 0.05}, \"xaxis\": {\"automargin\": true, \"gridcolor\": \"white\", \"linecolor\": \"white\", \"ticks\": \"\", \"title\": {\"standoff\": 15}, \"zerolinecolor\": \"white\", \"zerolinewidth\": 2}, \"yaxis\": {\"automargin\": true, \"gridcolor\": \"white\", \"linecolor\": \"white\", \"ticks\": \"\", \"title\": {\"standoff\": 15}, \"zerolinecolor\": \"white\", \"zerolinewidth\": 2}}}, \"xaxis\": {\"anchor\": \"y\", \"domain\": [0.0, 1.0], \"title\": {\"text\": \"phrase in the title\"}}, \"yaxis\": {\"anchor\": \"x\", \"domain\": [0.0, 1.0], \"title\": {\"text\": \"videos\"}}},                        {\"responsive\": true}                    ).then(function(){\n",
       "                            \n",
       "var gd = document.getElementById('2e4ec646-a0d3-4338-b2cb-2b99415e4f09');\n",
       "var x = new MutationObserver(function (mutations, observer) {{\n",
       "        var display = window.getComputedStyle(gd).display;\n",
       "        if (!display || display === 'none') {{\n",
       "            console.log([gd, 'removed!']);\n",
       "            Plotly.purge(gd);\n",
       "            observer.disconnect();\n",
       "        }}\n",
       "}});\n",
       "\n",
       "// Listen for the removal of the full notebook cells\n",
       "var notebookContainer = gd.closest('#notebook-container');\n",
       "if (notebookContainer) {{\n",
       "    x.observe(notebookContainer, {childList: true});\n",
       "}}\n",
       "\n",
       "// Listen for the clearing of the current output cell\n",
       "var outputEl = gd.closest('.output');\n",
       "if (outputEl) {{\n",
       "    x.observe(outputEl, {childList: true});\n",
       "}}\n",
       "\n",
       "                        })                };                });            </script>        </div>"
      ]
     },
     "metadata": {},
     "output_type": "display_data"
    }
   ],
   "source": [
    "df_phrases = df_phrases.sort_values(\"videos\", ascending=False)\n",
    "df_phrases.plot(x=\"phrase in the title\", \n",
    "                y=\"videos\", \n",
    "                kind='bar', \n",
    "                color='duration (average)', \n",
    "                color_continuous_scale=[[0.0, \"rgb(7, 159, 224)\"],\n",
    "                                        [1, \"rgb(61, 8, 84)\"]])"
   ]
  },
  {
   "cell_type": "code",
   "execution_count": 144,
   "metadata": {},
   "outputs": [
    {
     "data": {
      "application/vnd.plotly.v1+json": {
       "config": {
        "plotlyServerURL": "https://plot.ly"
       },
       "data": [
        {
         "alignmentgroup": "True",
         "hovertemplate": "phrase in the title=%{x}<br>views (average)=%{y}<br>likes (average)=%{marker.color}<extra></extra>",
         "legendgroup": "",
         "marker": {
          "color": [
           100313.33333333333,
           58257,
           56226,
           46197,
           50344,
           45131.25,
           44961.307692307695,
           33399.82352941176,
           32345.666666666668,
           15185
          ],
          "coloraxis": "coloraxis"
         },
         "name": "",
         "offsetgroup": "",
         "orientation": "v",
         "showlegend": false,
         "textposition": "auto",
         "type": "bar",
         "x": [
          "fourier",
          "series",
          "vector",
          "square",
          " pi ",
          "derivative",
          "calculus",
          "algebra",
          "bayes",
          "trick"
         ],
         "xaxis": "x",
         "y": [
          4514462.666666667,
          3206921.6666666665,
          2713898,
          2145362.5,
          2123298,
          1853721,
          1818592.923076923,
          1668890.5294117648,
          765560.3333333334,
          330294
         ],
         "yaxis": "y"
        }
       ],
       "layout": {
        "barmode": "relative",
        "coloraxis": {
         "colorbar": {
          "title": {
           "text": "likes (average)"
          }
         },
         "colorscale": [
          [
           0,
           "rgb(149, 194, 60)"
          ],
          [
           1,
           "rgb(0, 92, 34)"
          ]
         ]
        },
        "legend": {
         "tracegroupgap": 0
        },
        "margin": {
         "t": 60
        },
        "template": {
         "data": {
          "bar": [
           {
            "error_x": {
             "color": "#2a3f5f"
            },
            "error_y": {
             "color": "#2a3f5f"
            },
            "marker": {
             "line": {
              "color": "#E5ECF6",
              "width": 0.5
             }
            },
            "type": "bar"
           }
          ],
          "barpolar": [
           {
            "marker": {
             "line": {
              "color": "#E5ECF6",
              "width": 0.5
             }
            },
            "type": "barpolar"
           }
          ],
          "carpet": [
           {
            "aaxis": {
             "endlinecolor": "#2a3f5f",
             "gridcolor": "white",
             "linecolor": "white",
             "minorgridcolor": "white",
             "startlinecolor": "#2a3f5f"
            },
            "baxis": {
             "endlinecolor": "#2a3f5f",
             "gridcolor": "white",
             "linecolor": "white",
             "minorgridcolor": "white",
             "startlinecolor": "#2a3f5f"
            },
            "type": "carpet"
           }
          ],
          "choropleth": [
           {
            "colorbar": {
             "outlinewidth": 0,
             "ticks": ""
            },
            "type": "choropleth"
           }
          ],
          "contour": [
           {
            "colorbar": {
             "outlinewidth": 0,
             "ticks": ""
            },
            "colorscale": [
             [
              0,
              "#0d0887"
             ],
             [
              0.1111111111111111,
              "#46039f"
             ],
             [
              0.2222222222222222,
              "#7201a8"
             ],
             [
              0.3333333333333333,
              "#9c179e"
             ],
             [
              0.4444444444444444,
              "#bd3786"
             ],
             [
              0.5555555555555556,
              "#d8576b"
             ],
             [
              0.6666666666666666,
              "#ed7953"
             ],
             [
              0.7777777777777778,
              "#fb9f3a"
             ],
             [
              0.8888888888888888,
              "#fdca26"
             ],
             [
              1,
              "#f0f921"
             ]
            ],
            "type": "contour"
           }
          ],
          "contourcarpet": [
           {
            "colorbar": {
             "outlinewidth": 0,
             "ticks": ""
            },
            "type": "contourcarpet"
           }
          ],
          "heatmap": [
           {
            "colorbar": {
             "outlinewidth": 0,
             "ticks": ""
            },
            "colorscale": [
             [
              0,
              "#0d0887"
             ],
             [
              0.1111111111111111,
              "#46039f"
             ],
             [
              0.2222222222222222,
              "#7201a8"
             ],
             [
              0.3333333333333333,
              "#9c179e"
             ],
             [
              0.4444444444444444,
              "#bd3786"
             ],
             [
              0.5555555555555556,
              "#d8576b"
             ],
             [
              0.6666666666666666,
              "#ed7953"
             ],
             [
              0.7777777777777778,
              "#fb9f3a"
             ],
             [
              0.8888888888888888,
              "#fdca26"
             ],
             [
              1,
              "#f0f921"
             ]
            ],
            "type": "heatmap"
           }
          ],
          "heatmapgl": [
           {
            "colorbar": {
             "outlinewidth": 0,
             "ticks": ""
            },
            "colorscale": [
             [
              0,
              "#0d0887"
             ],
             [
              0.1111111111111111,
              "#46039f"
             ],
             [
              0.2222222222222222,
              "#7201a8"
             ],
             [
              0.3333333333333333,
              "#9c179e"
             ],
             [
              0.4444444444444444,
              "#bd3786"
             ],
             [
              0.5555555555555556,
              "#d8576b"
             ],
             [
              0.6666666666666666,
              "#ed7953"
             ],
             [
              0.7777777777777778,
              "#fb9f3a"
             ],
             [
              0.8888888888888888,
              "#fdca26"
             ],
             [
              1,
              "#f0f921"
             ]
            ],
            "type": "heatmapgl"
           }
          ],
          "histogram": [
           {
            "marker": {
             "colorbar": {
              "outlinewidth": 0,
              "ticks": ""
             }
            },
            "type": "histogram"
           }
          ],
          "histogram2d": [
           {
            "colorbar": {
             "outlinewidth": 0,
             "ticks": ""
            },
            "colorscale": [
             [
              0,
              "#0d0887"
             ],
             [
              0.1111111111111111,
              "#46039f"
             ],
             [
              0.2222222222222222,
              "#7201a8"
             ],
             [
              0.3333333333333333,
              "#9c179e"
             ],
             [
              0.4444444444444444,
              "#bd3786"
             ],
             [
              0.5555555555555556,
              "#d8576b"
             ],
             [
              0.6666666666666666,
              "#ed7953"
             ],
             [
              0.7777777777777778,
              "#fb9f3a"
             ],
             [
              0.8888888888888888,
              "#fdca26"
             ],
             [
              1,
              "#f0f921"
             ]
            ],
            "type": "histogram2d"
           }
          ],
          "histogram2dcontour": [
           {
            "colorbar": {
             "outlinewidth": 0,
             "ticks": ""
            },
            "colorscale": [
             [
              0,
              "#0d0887"
             ],
             [
              0.1111111111111111,
              "#46039f"
             ],
             [
              0.2222222222222222,
              "#7201a8"
             ],
             [
              0.3333333333333333,
              "#9c179e"
             ],
             [
              0.4444444444444444,
              "#bd3786"
             ],
             [
              0.5555555555555556,
              "#d8576b"
             ],
             [
              0.6666666666666666,
              "#ed7953"
             ],
             [
              0.7777777777777778,
              "#fb9f3a"
             ],
             [
              0.8888888888888888,
              "#fdca26"
             ],
             [
              1,
              "#f0f921"
             ]
            ],
            "type": "histogram2dcontour"
           }
          ],
          "mesh3d": [
           {
            "colorbar": {
             "outlinewidth": 0,
             "ticks": ""
            },
            "type": "mesh3d"
           }
          ],
          "parcoords": [
           {
            "line": {
             "colorbar": {
              "outlinewidth": 0,
              "ticks": ""
             }
            },
            "type": "parcoords"
           }
          ],
          "pie": [
           {
            "automargin": true,
            "type": "pie"
           }
          ],
          "scatter": [
           {
            "marker": {
             "colorbar": {
              "outlinewidth": 0,
              "ticks": ""
             }
            },
            "type": "scatter"
           }
          ],
          "scatter3d": [
           {
            "line": {
             "colorbar": {
              "outlinewidth": 0,
              "ticks": ""
             }
            },
            "marker": {
             "colorbar": {
              "outlinewidth": 0,
              "ticks": ""
             }
            },
            "type": "scatter3d"
           }
          ],
          "scattercarpet": [
           {
            "marker": {
             "colorbar": {
              "outlinewidth": 0,
              "ticks": ""
             }
            },
            "type": "scattercarpet"
           }
          ],
          "scattergeo": [
           {
            "marker": {
             "colorbar": {
              "outlinewidth": 0,
              "ticks": ""
             }
            },
            "type": "scattergeo"
           }
          ],
          "scattergl": [
           {
            "marker": {
             "colorbar": {
              "outlinewidth": 0,
              "ticks": ""
             }
            },
            "type": "scattergl"
           }
          ],
          "scattermapbox": [
           {
            "marker": {
             "colorbar": {
              "outlinewidth": 0,
              "ticks": ""
             }
            },
            "type": "scattermapbox"
           }
          ],
          "scatterpolar": [
           {
            "marker": {
             "colorbar": {
              "outlinewidth": 0,
              "ticks": ""
             }
            },
            "type": "scatterpolar"
           }
          ],
          "scatterpolargl": [
           {
            "marker": {
             "colorbar": {
              "outlinewidth": 0,
              "ticks": ""
             }
            },
            "type": "scatterpolargl"
           }
          ],
          "scatterternary": [
           {
            "marker": {
             "colorbar": {
              "outlinewidth": 0,
              "ticks": ""
             }
            },
            "type": "scatterternary"
           }
          ],
          "surface": [
           {
            "colorbar": {
             "outlinewidth": 0,
             "ticks": ""
            },
            "colorscale": [
             [
              0,
              "#0d0887"
             ],
             [
              0.1111111111111111,
              "#46039f"
             ],
             [
              0.2222222222222222,
              "#7201a8"
             ],
             [
              0.3333333333333333,
              "#9c179e"
             ],
             [
              0.4444444444444444,
              "#bd3786"
             ],
             [
              0.5555555555555556,
              "#d8576b"
             ],
             [
              0.6666666666666666,
              "#ed7953"
             ],
             [
              0.7777777777777778,
              "#fb9f3a"
             ],
             [
              0.8888888888888888,
              "#fdca26"
             ],
             [
              1,
              "#f0f921"
             ]
            ],
            "type": "surface"
           }
          ],
          "table": [
           {
            "cells": {
             "fill": {
              "color": "#EBF0F8"
             },
             "line": {
              "color": "white"
             }
            },
            "header": {
             "fill": {
              "color": "#C8D4E3"
             },
             "line": {
              "color": "white"
             }
            },
            "type": "table"
           }
          ]
         },
         "layout": {
          "annotationdefaults": {
           "arrowcolor": "#2a3f5f",
           "arrowhead": 0,
           "arrowwidth": 1
          },
          "coloraxis": {
           "colorbar": {
            "outlinewidth": 0,
            "ticks": ""
           }
          },
          "colorscale": {
           "diverging": [
            [
             0,
             "#8e0152"
            ],
            [
             0.1,
             "#c51b7d"
            ],
            [
             0.2,
             "#de77ae"
            ],
            [
             0.3,
             "#f1b6da"
            ],
            [
             0.4,
             "#fde0ef"
            ],
            [
             0.5,
             "#f7f7f7"
            ],
            [
             0.6,
             "#e6f5d0"
            ],
            [
             0.7,
             "#b8e186"
            ],
            [
             0.8,
             "#7fbc41"
            ],
            [
             0.9,
             "#4d9221"
            ],
            [
             1,
             "#276419"
            ]
           ],
           "sequential": [
            [
             0,
             "#0d0887"
            ],
            [
             0.1111111111111111,
             "#46039f"
            ],
            [
             0.2222222222222222,
             "#7201a8"
            ],
            [
             0.3333333333333333,
             "#9c179e"
            ],
            [
             0.4444444444444444,
             "#bd3786"
            ],
            [
             0.5555555555555556,
             "#d8576b"
            ],
            [
             0.6666666666666666,
             "#ed7953"
            ],
            [
             0.7777777777777778,
             "#fb9f3a"
            ],
            [
             0.8888888888888888,
             "#fdca26"
            ],
            [
             1,
             "#f0f921"
            ]
           ],
           "sequentialminus": [
            [
             0,
             "#0d0887"
            ],
            [
             0.1111111111111111,
             "#46039f"
            ],
            [
             0.2222222222222222,
             "#7201a8"
            ],
            [
             0.3333333333333333,
             "#9c179e"
            ],
            [
             0.4444444444444444,
             "#bd3786"
            ],
            [
             0.5555555555555556,
             "#d8576b"
            ],
            [
             0.6666666666666666,
             "#ed7953"
            ],
            [
             0.7777777777777778,
             "#fb9f3a"
            ],
            [
             0.8888888888888888,
             "#fdca26"
            ],
            [
             1,
             "#f0f921"
            ]
           ]
          },
          "colorway": [
           "#636efa",
           "#EF553B",
           "#00cc96",
           "#ab63fa",
           "#FFA15A",
           "#19d3f3",
           "#FF6692",
           "#B6E880",
           "#FF97FF",
           "#FECB52"
          ],
          "font": {
           "color": "#2a3f5f"
          },
          "geo": {
           "bgcolor": "white",
           "lakecolor": "white",
           "landcolor": "#E5ECF6",
           "showlakes": true,
           "showland": true,
           "subunitcolor": "white"
          },
          "hoverlabel": {
           "align": "left"
          },
          "hovermode": "closest",
          "mapbox": {
           "style": "light"
          },
          "paper_bgcolor": "white",
          "plot_bgcolor": "#E5ECF6",
          "polar": {
           "angularaxis": {
            "gridcolor": "white",
            "linecolor": "white",
            "ticks": ""
           },
           "bgcolor": "#E5ECF6",
           "radialaxis": {
            "gridcolor": "white",
            "linecolor": "white",
            "ticks": ""
           }
          },
          "scene": {
           "xaxis": {
            "backgroundcolor": "#E5ECF6",
            "gridcolor": "white",
            "gridwidth": 2,
            "linecolor": "white",
            "showbackground": true,
            "ticks": "",
            "zerolinecolor": "white"
           },
           "yaxis": {
            "backgroundcolor": "#E5ECF6",
            "gridcolor": "white",
            "gridwidth": 2,
            "linecolor": "white",
            "showbackground": true,
            "ticks": "",
            "zerolinecolor": "white"
           },
           "zaxis": {
            "backgroundcolor": "#E5ECF6",
            "gridcolor": "white",
            "gridwidth": 2,
            "linecolor": "white",
            "showbackground": true,
            "ticks": "",
            "zerolinecolor": "white"
           }
          },
          "shapedefaults": {
           "line": {
            "color": "#2a3f5f"
           }
          },
          "ternary": {
           "aaxis": {
            "gridcolor": "white",
            "linecolor": "white",
            "ticks": ""
           },
           "baxis": {
            "gridcolor": "white",
            "linecolor": "white",
            "ticks": ""
           },
           "bgcolor": "#E5ECF6",
           "caxis": {
            "gridcolor": "white",
            "linecolor": "white",
            "ticks": ""
           }
          },
          "title": {
           "x": 0.05
          },
          "xaxis": {
           "automargin": true,
           "gridcolor": "white",
           "linecolor": "white",
           "ticks": "",
           "title": {
            "standoff": 15
           },
           "zerolinecolor": "white",
           "zerolinewidth": 2
          },
          "yaxis": {
           "automargin": true,
           "gridcolor": "white",
           "linecolor": "white",
           "ticks": "",
           "title": {
            "standoff": 15
           },
           "zerolinecolor": "white",
           "zerolinewidth": 2
          }
         }
        },
        "xaxis": {
         "anchor": "y",
         "domain": [
          0,
          1
         ],
         "title": {
          "text": "phrase in the title"
         }
        },
        "yaxis": {
         "anchor": "x",
         "domain": [
          0,
          1
         ],
         "title": {
          "text": "views (average)"
         }
        }
       }
      },
      "text/html": [
       "<div>                            <div id=\"8b35c0c3-5d51-4f43-866f-88bb0cb3fda6\" class=\"plotly-graph-div\" style=\"height:525px; width:100%;\"></div>            <script type=\"text/javascript\">                require([\"plotly\"], function(Plotly) {                    window.PLOTLYENV=window.PLOTLYENV || {};                                    if (document.getElementById(\"8b35c0c3-5d51-4f43-866f-88bb0cb3fda6\")) {                    Plotly.newPlot(                        \"8b35c0c3-5d51-4f43-866f-88bb0cb3fda6\",                        [{\"alignmentgroup\": \"True\", \"hovertemplate\": \"phrase in the title=%{x}<br>views (average)=%{y}<br>likes (average)=%{marker.color}<extra></extra>\", \"legendgroup\": \"\", \"marker\": {\"color\": [100313.33333333333, 58257.0, 56226.0, 46197.0, 50344.0, 45131.25, 44961.307692307695, 33399.82352941176, 32345.666666666668, 15185.0], \"coloraxis\": \"coloraxis\"}, \"name\": \"\", \"offsetgroup\": \"\", \"orientation\": \"v\", \"showlegend\": false, \"textposition\": \"auto\", \"type\": \"bar\", \"x\": [\"fourier\", \"series\", \"vector\", \"square\", \" pi \", \"derivative\", \"calculus\", \"algebra\", \"bayes\", \"trick\"], \"xaxis\": \"x\", \"y\": [4514462.666666667, 3206921.6666666665, 2713898.0, 2145362.5, 2123298.0, 1853721.0, 1818592.923076923, 1668890.5294117648, 765560.3333333334, 330294.0], \"yaxis\": \"y\"}],                        {\"barmode\": \"relative\", \"coloraxis\": {\"colorbar\": {\"title\": {\"text\": \"likes (average)\"}}, \"colorscale\": [[0.0, \"rgb(149, 194, 60)\"], [1, \"rgb(0, 92, 34)\"]]}, \"legend\": {\"tracegroupgap\": 0}, \"margin\": {\"t\": 60}, \"template\": {\"data\": {\"bar\": [{\"error_x\": {\"color\": \"#2a3f5f\"}, \"error_y\": {\"color\": \"#2a3f5f\"}, \"marker\": {\"line\": {\"color\": \"#E5ECF6\", \"width\": 0.5}}, \"type\": \"bar\"}], \"barpolar\": [{\"marker\": {\"line\": {\"color\": \"#E5ECF6\", \"width\": 0.5}}, \"type\": \"barpolar\"}], \"carpet\": [{\"aaxis\": {\"endlinecolor\": \"#2a3f5f\", \"gridcolor\": \"white\", \"linecolor\": \"white\", \"minorgridcolor\": \"white\", \"startlinecolor\": \"#2a3f5f\"}, \"baxis\": {\"endlinecolor\": \"#2a3f5f\", \"gridcolor\": \"white\", \"linecolor\": \"white\", \"minorgridcolor\": \"white\", \"startlinecolor\": \"#2a3f5f\"}, \"type\": \"carpet\"}], \"choropleth\": [{\"colorbar\": {\"outlinewidth\": 0, \"ticks\": \"\"}, \"type\": \"choropleth\"}], \"contour\": [{\"colorbar\": {\"outlinewidth\": 0, \"ticks\": \"\"}, \"colorscale\": [[0.0, \"#0d0887\"], [0.1111111111111111, \"#46039f\"], [0.2222222222222222, \"#7201a8\"], [0.3333333333333333, \"#9c179e\"], [0.4444444444444444, \"#bd3786\"], [0.5555555555555556, \"#d8576b\"], [0.6666666666666666, \"#ed7953\"], [0.7777777777777778, \"#fb9f3a\"], [0.8888888888888888, \"#fdca26\"], [1.0, \"#f0f921\"]], \"type\": \"contour\"}], \"contourcarpet\": [{\"colorbar\": {\"outlinewidth\": 0, \"ticks\": \"\"}, \"type\": \"contourcarpet\"}], \"heatmap\": [{\"colorbar\": {\"outlinewidth\": 0, \"ticks\": \"\"}, \"colorscale\": [[0.0, \"#0d0887\"], [0.1111111111111111, \"#46039f\"], [0.2222222222222222, \"#7201a8\"], [0.3333333333333333, \"#9c179e\"], [0.4444444444444444, \"#bd3786\"], [0.5555555555555556, \"#d8576b\"], [0.6666666666666666, \"#ed7953\"], [0.7777777777777778, \"#fb9f3a\"], [0.8888888888888888, \"#fdca26\"], [1.0, \"#f0f921\"]], \"type\": \"heatmap\"}], \"heatmapgl\": [{\"colorbar\": {\"outlinewidth\": 0, \"ticks\": \"\"}, \"colorscale\": [[0.0, \"#0d0887\"], [0.1111111111111111, \"#46039f\"], [0.2222222222222222, \"#7201a8\"], [0.3333333333333333, \"#9c179e\"], [0.4444444444444444, \"#bd3786\"], [0.5555555555555556, \"#d8576b\"], [0.6666666666666666, \"#ed7953\"], [0.7777777777777778, \"#fb9f3a\"], [0.8888888888888888, \"#fdca26\"], [1.0, \"#f0f921\"]], \"type\": \"heatmapgl\"}], \"histogram\": [{\"marker\": {\"colorbar\": {\"outlinewidth\": 0, \"ticks\": \"\"}}, \"type\": \"histogram\"}], \"histogram2d\": [{\"colorbar\": {\"outlinewidth\": 0, \"ticks\": \"\"}, \"colorscale\": [[0.0, \"#0d0887\"], [0.1111111111111111, \"#46039f\"], [0.2222222222222222, \"#7201a8\"], [0.3333333333333333, \"#9c179e\"], [0.4444444444444444, \"#bd3786\"], [0.5555555555555556, \"#d8576b\"], [0.6666666666666666, \"#ed7953\"], [0.7777777777777778, \"#fb9f3a\"], [0.8888888888888888, \"#fdca26\"], [1.0, \"#f0f921\"]], \"type\": \"histogram2d\"}], \"histogram2dcontour\": [{\"colorbar\": {\"outlinewidth\": 0, \"ticks\": \"\"}, \"colorscale\": [[0.0, \"#0d0887\"], [0.1111111111111111, \"#46039f\"], [0.2222222222222222, \"#7201a8\"], [0.3333333333333333, \"#9c179e\"], [0.4444444444444444, \"#bd3786\"], [0.5555555555555556, \"#d8576b\"], [0.6666666666666666, \"#ed7953\"], [0.7777777777777778, \"#fb9f3a\"], [0.8888888888888888, \"#fdca26\"], [1.0, \"#f0f921\"]], \"type\": \"histogram2dcontour\"}], \"mesh3d\": [{\"colorbar\": {\"outlinewidth\": 0, \"ticks\": \"\"}, \"type\": \"mesh3d\"}], \"parcoords\": [{\"line\": {\"colorbar\": {\"outlinewidth\": 0, \"ticks\": \"\"}}, \"type\": \"parcoords\"}], \"pie\": [{\"automargin\": true, \"type\": \"pie\"}], \"scatter\": [{\"marker\": {\"colorbar\": {\"outlinewidth\": 0, \"ticks\": \"\"}}, \"type\": \"scatter\"}], \"scatter3d\": [{\"line\": {\"colorbar\": {\"outlinewidth\": 0, \"ticks\": \"\"}}, \"marker\": {\"colorbar\": {\"outlinewidth\": 0, \"ticks\": \"\"}}, \"type\": \"scatter3d\"}], \"scattercarpet\": [{\"marker\": {\"colorbar\": {\"outlinewidth\": 0, \"ticks\": \"\"}}, \"type\": \"scattercarpet\"}], \"scattergeo\": [{\"marker\": {\"colorbar\": {\"outlinewidth\": 0, \"ticks\": \"\"}}, \"type\": \"scattergeo\"}], \"scattergl\": [{\"marker\": {\"colorbar\": {\"outlinewidth\": 0, \"ticks\": \"\"}}, \"type\": \"scattergl\"}], \"scattermapbox\": [{\"marker\": {\"colorbar\": {\"outlinewidth\": 0, \"ticks\": \"\"}}, \"type\": \"scattermapbox\"}], \"scatterpolar\": [{\"marker\": {\"colorbar\": {\"outlinewidth\": 0, \"ticks\": \"\"}}, \"type\": \"scatterpolar\"}], \"scatterpolargl\": [{\"marker\": {\"colorbar\": {\"outlinewidth\": 0, \"ticks\": \"\"}}, \"type\": \"scatterpolargl\"}], \"scatterternary\": [{\"marker\": {\"colorbar\": {\"outlinewidth\": 0, \"ticks\": \"\"}}, \"type\": \"scatterternary\"}], \"surface\": [{\"colorbar\": {\"outlinewidth\": 0, \"ticks\": \"\"}, \"colorscale\": [[0.0, \"#0d0887\"], [0.1111111111111111, \"#46039f\"], [0.2222222222222222, \"#7201a8\"], [0.3333333333333333, \"#9c179e\"], [0.4444444444444444, \"#bd3786\"], [0.5555555555555556, \"#d8576b\"], [0.6666666666666666, \"#ed7953\"], [0.7777777777777778, \"#fb9f3a\"], [0.8888888888888888, \"#fdca26\"], [1.0, \"#f0f921\"]], \"type\": \"surface\"}], \"table\": [{\"cells\": {\"fill\": {\"color\": \"#EBF0F8\"}, \"line\": {\"color\": \"white\"}}, \"header\": {\"fill\": {\"color\": \"#C8D4E3\"}, \"line\": {\"color\": \"white\"}}, \"type\": \"table\"}]}, \"layout\": {\"annotationdefaults\": {\"arrowcolor\": \"#2a3f5f\", \"arrowhead\": 0, \"arrowwidth\": 1}, \"coloraxis\": {\"colorbar\": {\"outlinewidth\": 0, \"ticks\": \"\"}}, \"colorscale\": {\"diverging\": [[0, \"#8e0152\"], [0.1, \"#c51b7d\"], [0.2, \"#de77ae\"], [0.3, \"#f1b6da\"], [0.4, \"#fde0ef\"], [0.5, \"#f7f7f7\"], [0.6, \"#e6f5d0\"], [0.7, \"#b8e186\"], [0.8, \"#7fbc41\"], [0.9, \"#4d9221\"], [1, \"#276419\"]], \"sequential\": [[0.0, \"#0d0887\"], [0.1111111111111111, \"#46039f\"], [0.2222222222222222, \"#7201a8\"], [0.3333333333333333, \"#9c179e\"], [0.4444444444444444, \"#bd3786\"], [0.5555555555555556, \"#d8576b\"], [0.6666666666666666, \"#ed7953\"], [0.7777777777777778, \"#fb9f3a\"], [0.8888888888888888, \"#fdca26\"], [1.0, \"#f0f921\"]], \"sequentialminus\": [[0.0, \"#0d0887\"], [0.1111111111111111, \"#46039f\"], [0.2222222222222222, \"#7201a8\"], [0.3333333333333333, \"#9c179e\"], [0.4444444444444444, \"#bd3786\"], [0.5555555555555556, \"#d8576b\"], [0.6666666666666666, \"#ed7953\"], [0.7777777777777778, \"#fb9f3a\"], [0.8888888888888888, \"#fdca26\"], [1.0, \"#f0f921\"]]}, \"colorway\": [\"#636efa\", \"#EF553B\", \"#00cc96\", \"#ab63fa\", \"#FFA15A\", \"#19d3f3\", \"#FF6692\", \"#B6E880\", \"#FF97FF\", \"#FECB52\"], \"font\": {\"color\": \"#2a3f5f\"}, \"geo\": {\"bgcolor\": \"white\", \"lakecolor\": \"white\", \"landcolor\": \"#E5ECF6\", \"showlakes\": true, \"showland\": true, \"subunitcolor\": \"white\"}, \"hoverlabel\": {\"align\": \"left\"}, \"hovermode\": \"closest\", \"mapbox\": {\"style\": \"light\"}, \"paper_bgcolor\": \"white\", \"plot_bgcolor\": \"#E5ECF6\", \"polar\": {\"angularaxis\": {\"gridcolor\": \"white\", \"linecolor\": \"white\", \"ticks\": \"\"}, \"bgcolor\": \"#E5ECF6\", \"radialaxis\": {\"gridcolor\": \"white\", \"linecolor\": \"white\", \"ticks\": \"\"}}, \"scene\": {\"xaxis\": {\"backgroundcolor\": \"#E5ECF6\", \"gridcolor\": \"white\", \"gridwidth\": 2, \"linecolor\": \"white\", \"showbackground\": true, \"ticks\": \"\", \"zerolinecolor\": \"white\"}, \"yaxis\": {\"backgroundcolor\": \"#E5ECF6\", \"gridcolor\": \"white\", \"gridwidth\": 2, \"linecolor\": \"white\", \"showbackground\": true, \"ticks\": \"\", \"zerolinecolor\": \"white\"}, \"zaxis\": {\"backgroundcolor\": \"#E5ECF6\", \"gridcolor\": \"white\", \"gridwidth\": 2, \"linecolor\": \"white\", \"showbackground\": true, \"ticks\": \"\", \"zerolinecolor\": \"white\"}}, \"shapedefaults\": {\"line\": {\"color\": \"#2a3f5f\"}}, \"ternary\": {\"aaxis\": {\"gridcolor\": \"white\", \"linecolor\": \"white\", \"ticks\": \"\"}, \"baxis\": {\"gridcolor\": \"white\", \"linecolor\": \"white\", \"ticks\": \"\"}, \"bgcolor\": \"#E5ECF6\", \"caxis\": {\"gridcolor\": \"white\", \"linecolor\": \"white\", \"ticks\": \"\"}}, \"title\": {\"x\": 0.05}, \"xaxis\": {\"automargin\": true, \"gridcolor\": \"white\", \"linecolor\": \"white\", \"ticks\": \"\", \"title\": {\"standoff\": 15}, \"zerolinecolor\": \"white\", \"zerolinewidth\": 2}, \"yaxis\": {\"automargin\": true, \"gridcolor\": \"white\", \"linecolor\": \"white\", \"ticks\": \"\", \"title\": {\"standoff\": 15}, \"zerolinecolor\": \"white\", \"zerolinewidth\": 2}}}, \"xaxis\": {\"anchor\": \"y\", \"domain\": [0.0, 1.0], \"title\": {\"text\": \"phrase in the title\"}}, \"yaxis\": {\"anchor\": \"x\", \"domain\": [0.0, 1.0], \"title\": {\"text\": \"views (average)\"}}},                        {\"responsive\": true}                    ).then(function(){\n",
       "                            \n",
       "var gd = document.getElementById('8b35c0c3-5d51-4f43-866f-88bb0cb3fda6');\n",
       "var x = new MutationObserver(function (mutations, observer) {{\n",
       "        var display = window.getComputedStyle(gd).display;\n",
       "        if (!display || display === 'none') {{\n",
       "            console.log([gd, 'removed!']);\n",
       "            Plotly.purge(gd);\n",
       "            observer.disconnect();\n",
       "        }}\n",
       "}});\n",
       "\n",
       "// Listen for the removal of the full notebook cells\n",
       "var notebookContainer = gd.closest('#notebook-container');\n",
       "if (notebookContainer) {{\n",
       "    x.observe(notebookContainer, {childList: true});\n",
       "}}\n",
       "\n",
       "// Listen for the clearing of the current output cell\n",
       "var outputEl = gd.closest('.output');\n",
       "if (outputEl) {{\n",
       "    x.observe(outputEl, {childList: true});\n",
       "}}\n",
       "\n",
       "                        })                };                });            </script>        </div>"
      ]
     },
     "metadata": {},
     "output_type": "display_data"
    }
   ],
   "source": [
    "df_phrases = df_phrases.sort_values(\"views (average)\", ascending=False)\n",
    "df_phrases.plot(x=\"phrase in the title\", \n",
    "                y=\"views (average)\", \n",
    "                kind='bar', \n",
    "                color='likes (average)', \n",
    "                color_continuous_scale=[[0.0, \"rgb(149, 194, 60)\"],\n",
    "                                        [1, \"rgb(0, 92, 34)\"]])"
   ]
  },
  {
   "cell_type": "code",
   "execution_count": 145,
   "metadata": {},
   "outputs": [
    {
     "data": {
      "application/vnd.plotly.v1+json": {
       "config": {
        "plotlyServerURL": "https://plot.ly"
       },
       "data": [
        {
         "alignmentgroup": "True",
         "hovertemplate": "phrase in the title=%{x}<br>duration (average)=%{y}<br>likes (average)=%{marker.color}<extra></extra>",
         "legendgroup": "",
         "marker": {
          "color": [
           58257,
           100313.33333333333,
           44961.307692307695,
           45131.25,
           32345.666666666668,
           56226,
           15185,
           50344,
           46197,
           33399.82352941176
          ],
          "coloraxis": "coloraxis"
         },
         "name": "",
         "offsetgroup": "",
         "orientation": "v",
         "showlegend": false,
         "textposition": "auto",
         "type": "bar",
         "x": [
          "series",
          "fourier",
          "calculus",
          "derivative",
          "bayes",
          "vector",
          "trick",
          " pi ",
          "square",
          "algebra"
         ],
         "xaxis": "x",
         "y": [
          19.866666666666664,
          19.405555555555555,
          15.941025641025643,
          14.845833333333333,
          13.6,
          13.470833333333333,
          13.216666666666667,
          12.475,
          11.758333333333333,
          10.943137254901961
         ],
         "yaxis": "y"
        }
       ],
       "layout": {
        "barmode": "relative",
        "coloraxis": {
         "colorbar": {
          "title": {
           "text": "likes (average)"
          }
         },
         "colorscale": [
          [
           0,
           "rgb(7, 159, 224)"
          ],
          [
           1,
           "rgb(61, 8, 84)"
          ]
         ]
        },
        "legend": {
         "tracegroupgap": 0
        },
        "margin": {
         "t": 60
        },
        "template": {
         "data": {
          "bar": [
           {
            "error_x": {
             "color": "#2a3f5f"
            },
            "error_y": {
             "color": "#2a3f5f"
            },
            "marker": {
             "line": {
              "color": "#E5ECF6",
              "width": 0.5
             }
            },
            "type": "bar"
           }
          ],
          "barpolar": [
           {
            "marker": {
             "line": {
              "color": "#E5ECF6",
              "width": 0.5
             }
            },
            "type": "barpolar"
           }
          ],
          "carpet": [
           {
            "aaxis": {
             "endlinecolor": "#2a3f5f",
             "gridcolor": "white",
             "linecolor": "white",
             "minorgridcolor": "white",
             "startlinecolor": "#2a3f5f"
            },
            "baxis": {
             "endlinecolor": "#2a3f5f",
             "gridcolor": "white",
             "linecolor": "white",
             "minorgridcolor": "white",
             "startlinecolor": "#2a3f5f"
            },
            "type": "carpet"
           }
          ],
          "choropleth": [
           {
            "colorbar": {
             "outlinewidth": 0,
             "ticks": ""
            },
            "type": "choropleth"
           }
          ],
          "contour": [
           {
            "colorbar": {
             "outlinewidth": 0,
             "ticks": ""
            },
            "colorscale": [
             [
              0,
              "#0d0887"
             ],
             [
              0.1111111111111111,
              "#46039f"
             ],
             [
              0.2222222222222222,
              "#7201a8"
             ],
             [
              0.3333333333333333,
              "#9c179e"
             ],
             [
              0.4444444444444444,
              "#bd3786"
             ],
             [
              0.5555555555555556,
              "#d8576b"
             ],
             [
              0.6666666666666666,
              "#ed7953"
             ],
             [
              0.7777777777777778,
              "#fb9f3a"
             ],
             [
              0.8888888888888888,
              "#fdca26"
             ],
             [
              1,
              "#f0f921"
             ]
            ],
            "type": "contour"
           }
          ],
          "contourcarpet": [
           {
            "colorbar": {
             "outlinewidth": 0,
             "ticks": ""
            },
            "type": "contourcarpet"
           }
          ],
          "heatmap": [
           {
            "colorbar": {
             "outlinewidth": 0,
             "ticks": ""
            },
            "colorscale": [
             [
              0,
              "#0d0887"
             ],
             [
              0.1111111111111111,
              "#46039f"
             ],
             [
              0.2222222222222222,
              "#7201a8"
             ],
             [
              0.3333333333333333,
              "#9c179e"
             ],
             [
              0.4444444444444444,
              "#bd3786"
             ],
             [
              0.5555555555555556,
              "#d8576b"
             ],
             [
              0.6666666666666666,
              "#ed7953"
             ],
             [
              0.7777777777777778,
              "#fb9f3a"
             ],
             [
              0.8888888888888888,
              "#fdca26"
             ],
             [
              1,
              "#f0f921"
             ]
            ],
            "type": "heatmap"
           }
          ],
          "heatmapgl": [
           {
            "colorbar": {
             "outlinewidth": 0,
             "ticks": ""
            },
            "colorscale": [
             [
              0,
              "#0d0887"
             ],
             [
              0.1111111111111111,
              "#46039f"
             ],
             [
              0.2222222222222222,
              "#7201a8"
             ],
             [
              0.3333333333333333,
              "#9c179e"
             ],
             [
              0.4444444444444444,
              "#bd3786"
             ],
             [
              0.5555555555555556,
              "#d8576b"
             ],
             [
              0.6666666666666666,
              "#ed7953"
             ],
             [
              0.7777777777777778,
              "#fb9f3a"
             ],
             [
              0.8888888888888888,
              "#fdca26"
             ],
             [
              1,
              "#f0f921"
             ]
            ],
            "type": "heatmapgl"
           }
          ],
          "histogram": [
           {
            "marker": {
             "colorbar": {
              "outlinewidth": 0,
              "ticks": ""
             }
            },
            "type": "histogram"
           }
          ],
          "histogram2d": [
           {
            "colorbar": {
             "outlinewidth": 0,
             "ticks": ""
            },
            "colorscale": [
             [
              0,
              "#0d0887"
             ],
             [
              0.1111111111111111,
              "#46039f"
             ],
             [
              0.2222222222222222,
              "#7201a8"
             ],
             [
              0.3333333333333333,
              "#9c179e"
             ],
             [
              0.4444444444444444,
              "#bd3786"
             ],
             [
              0.5555555555555556,
              "#d8576b"
             ],
             [
              0.6666666666666666,
              "#ed7953"
             ],
             [
              0.7777777777777778,
              "#fb9f3a"
             ],
             [
              0.8888888888888888,
              "#fdca26"
             ],
             [
              1,
              "#f0f921"
             ]
            ],
            "type": "histogram2d"
           }
          ],
          "histogram2dcontour": [
           {
            "colorbar": {
             "outlinewidth": 0,
             "ticks": ""
            },
            "colorscale": [
             [
              0,
              "#0d0887"
             ],
             [
              0.1111111111111111,
              "#46039f"
             ],
             [
              0.2222222222222222,
              "#7201a8"
             ],
             [
              0.3333333333333333,
              "#9c179e"
             ],
             [
              0.4444444444444444,
              "#bd3786"
             ],
             [
              0.5555555555555556,
              "#d8576b"
             ],
             [
              0.6666666666666666,
              "#ed7953"
             ],
             [
              0.7777777777777778,
              "#fb9f3a"
             ],
             [
              0.8888888888888888,
              "#fdca26"
             ],
             [
              1,
              "#f0f921"
             ]
            ],
            "type": "histogram2dcontour"
           }
          ],
          "mesh3d": [
           {
            "colorbar": {
             "outlinewidth": 0,
             "ticks": ""
            },
            "type": "mesh3d"
           }
          ],
          "parcoords": [
           {
            "line": {
             "colorbar": {
              "outlinewidth": 0,
              "ticks": ""
             }
            },
            "type": "parcoords"
           }
          ],
          "pie": [
           {
            "automargin": true,
            "type": "pie"
           }
          ],
          "scatter": [
           {
            "marker": {
             "colorbar": {
              "outlinewidth": 0,
              "ticks": ""
             }
            },
            "type": "scatter"
           }
          ],
          "scatter3d": [
           {
            "line": {
             "colorbar": {
              "outlinewidth": 0,
              "ticks": ""
             }
            },
            "marker": {
             "colorbar": {
              "outlinewidth": 0,
              "ticks": ""
             }
            },
            "type": "scatter3d"
           }
          ],
          "scattercarpet": [
           {
            "marker": {
             "colorbar": {
              "outlinewidth": 0,
              "ticks": ""
             }
            },
            "type": "scattercarpet"
           }
          ],
          "scattergeo": [
           {
            "marker": {
             "colorbar": {
              "outlinewidth": 0,
              "ticks": ""
             }
            },
            "type": "scattergeo"
           }
          ],
          "scattergl": [
           {
            "marker": {
             "colorbar": {
              "outlinewidth": 0,
              "ticks": ""
             }
            },
            "type": "scattergl"
           }
          ],
          "scattermapbox": [
           {
            "marker": {
             "colorbar": {
              "outlinewidth": 0,
              "ticks": ""
             }
            },
            "type": "scattermapbox"
           }
          ],
          "scatterpolar": [
           {
            "marker": {
             "colorbar": {
              "outlinewidth": 0,
              "ticks": ""
             }
            },
            "type": "scatterpolar"
           }
          ],
          "scatterpolargl": [
           {
            "marker": {
             "colorbar": {
              "outlinewidth": 0,
              "ticks": ""
             }
            },
            "type": "scatterpolargl"
           }
          ],
          "scatterternary": [
           {
            "marker": {
             "colorbar": {
              "outlinewidth": 0,
              "ticks": ""
             }
            },
            "type": "scatterternary"
           }
          ],
          "surface": [
           {
            "colorbar": {
             "outlinewidth": 0,
             "ticks": ""
            },
            "colorscale": [
             [
              0,
              "#0d0887"
             ],
             [
              0.1111111111111111,
              "#46039f"
             ],
             [
              0.2222222222222222,
              "#7201a8"
             ],
             [
              0.3333333333333333,
              "#9c179e"
             ],
             [
              0.4444444444444444,
              "#bd3786"
             ],
             [
              0.5555555555555556,
              "#d8576b"
             ],
             [
              0.6666666666666666,
              "#ed7953"
             ],
             [
              0.7777777777777778,
              "#fb9f3a"
             ],
             [
              0.8888888888888888,
              "#fdca26"
             ],
             [
              1,
              "#f0f921"
             ]
            ],
            "type": "surface"
           }
          ],
          "table": [
           {
            "cells": {
             "fill": {
              "color": "#EBF0F8"
             },
             "line": {
              "color": "white"
             }
            },
            "header": {
             "fill": {
              "color": "#C8D4E3"
             },
             "line": {
              "color": "white"
             }
            },
            "type": "table"
           }
          ]
         },
         "layout": {
          "annotationdefaults": {
           "arrowcolor": "#2a3f5f",
           "arrowhead": 0,
           "arrowwidth": 1
          },
          "coloraxis": {
           "colorbar": {
            "outlinewidth": 0,
            "ticks": ""
           }
          },
          "colorscale": {
           "diverging": [
            [
             0,
             "#8e0152"
            ],
            [
             0.1,
             "#c51b7d"
            ],
            [
             0.2,
             "#de77ae"
            ],
            [
             0.3,
             "#f1b6da"
            ],
            [
             0.4,
             "#fde0ef"
            ],
            [
             0.5,
             "#f7f7f7"
            ],
            [
             0.6,
             "#e6f5d0"
            ],
            [
             0.7,
             "#b8e186"
            ],
            [
             0.8,
             "#7fbc41"
            ],
            [
             0.9,
             "#4d9221"
            ],
            [
             1,
             "#276419"
            ]
           ],
           "sequential": [
            [
             0,
             "#0d0887"
            ],
            [
             0.1111111111111111,
             "#46039f"
            ],
            [
             0.2222222222222222,
             "#7201a8"
            ],
            [
             0.3333333333333333,
             "#9c179e"
            ],
            [
             0.4444444444444444,
             "#bd3786"
            ],
            [
             0.5555555555555556,
             "#d8576b"
            ],
            [
             0.6666666666666666,
             "#ed7953"
            ],
            [
             0.7777777777777778,
             "#fb9f3a"
            ],
            [
             0.8888888888888888,
             "#fdca26"
            ],
            [
             1,
             "#f0f921"
            ]
           ],
           "sequentialminus": [
            [
             0,
             "#0d0887"
            ],
            [
             0.1111111111111111,
             "#46039f"
            ],
            [
             0.2222222222222222,
             "#7201a8"
            ],
            [
             0.3333333333333333,
             "#9c179e"
            ],
            [
             0.4444444444444444,
             "#bd3786"
            ],
            [
             0.5555555555555556,
             "#d8576b"
            ],
            [
             0.6666666666666666,
             "#ed7953"
            ],
            [
             0.7777777777777778,
             "#fb9f3a"
            ],
            [
             0.8888888888888888,
             "#fdca26"
            ],
            [
             1,
             "#f0f921"
            ]
           ]
          },
          "colorway": [
           "#636efa",
           "#EF553B",
           "#00cc96",
           "#ab63fa",
           "#FFA15A",
           "#19d3f3",
           "#FF6692",
           "#B6E880",
           "#FF97FF",
           "#FECB52"
          ],
          "font": {
           "color": "#2a3f5f"
          },
          "geo": {
           "bgcolor": "white",
           "lakecolor": "white",
           "landcolor": "#E5ECF6",
           "showlakes": true,
           "showland": true,
           "subunitcolor": "white"
          },
          "hoverlabel": {
           "align": "left"
          },
          "hovermode": "closest",
          "mapbox": {
           "style": "light"
          },
          "paper_bgcolor": "white",
          "plot_bgcolor": "#E5ECF6",
          "polar": {
           "angularaxis": {
            "gridcolor": "white",
            "linecolor": "white",
            "ticks": ""
           },
           "bgcolor": "#E5ECF6",
           "radialaxis": {
            "gridcolor": "white",
            "linecolor": "white",
            "ticks": ""
           }
          },
          "scene": {
           "xaxis": {
            "backgroundcolor": "#E5ECF6",
            "gridcolor": "white",
            "gridwidth": 2,
            "linecolor": "white",
            "showbackground": true,
            "ticks": "",
            "zerolinecolor": "white"
           },
           "yaxis": {
            "backgroundcolor": "#E5ECF6",
            "gridcolor": "white",
            "gridwidth": 2,
            "linecolor": "white",
            "showbackground": true,
            "ticks": "",
            "zerolinecolor": "white"
           },
           "zaxis": {
            "backgroundcolor": "#E5ECF6",
            "gridcolor": "white",
            "gridwidth": 2,
            "linecolor": "white",
            "showbackground": true,
            "ticks": "",
            "zerolinecolor": "white"
           }
          },
          "shapedefaults": {
           "line": {
            "color": "#2a3f5f"
           }
          },
          "ternary": {
           "aaxis": {
            "gridcolor": "white",
            "linecolor": "white",
            "ticks": ""
           },
           "baxis": {
            "gridcolor": "white",
            "linecolor": "white",
            "ticks": ""
           },
           "bgcolor": "#E5ECF6",
           "caxis": {
            "gridcolor": "white",
            "linecolor": "white",
            "ticks": ""
           }
          },
          "title": {
           "x": 0.05
          },
          "xaxis": {
           "automargin": true,
           "gridcolor": "white",
           "linecolor": "white",
           "ticks": "",
           "title": {
            "standoff": 15
           },
           "zerolinecolor": "white",
           "zerolinewidth": 2
          },
          "yaxis": {
           "automargin": true,
           "gridcolor": "white",
           "linecolor": "white",
           "ticks": "",
           "title": {
            "standoff": 15
           },
           "zerolinecolor": "white",
           "zerolinewidth": 2
          }
         }
        },
        "xaxis": {
         "anchor": "y",
         "domain": [
          0,
          1
         ],
         "title": {
          "text": "phrase in the title"
         }
        },
        "yaxis": {
         "anchor": "x",
         "domain": [
          0,
          1
         ],
         "title": {
          "text": "duration (average)"
         }
        }
       }
      },
      "text/html": [
       "<div>                            <div id=\"2ab5628b-4e9b-4ada-b838-f33776021243\" class=\"plotly-graph-div\" style=\"height:525px; width:100%;\"></div>            <script type=\"text/javascript\">                require([\"plotly\"], function(Plotly) {                    window.PLOTLYENV=window.PLOTLYENV || {};                                    if (document.getElementById(\"2ab5628b-4e9b-4ada-b838-f33776021243\")) {                    Plotly.newPlot(                        \"2ab5628b-4e9b-4ada-b838-f33776021243\",                        [{\"alignmentgroup\": \"True\", \"hovertemplate\": \"phrase in the title=%{x}<br>duration (average)=%{y}<br>likes (average)=%{marker.color}<extra></extra>\", \"legendgroup\": \"\", \"marker\": {\"color\": [58257.0, 100313.33333333333, 44961.307692307695, 45131.25, 32345.666666666668, 56226.0, 15185.0, 50344.0, 46197.0, 33399.82352941176], \"coloraxis\": \"coloraxis\"}, \"name\": \"\", \"offsetgroup\": \"\", \"orientation\": \"v\", \"showlegend\": false, \"textposition\": \"auto\", \"type\": \"bar\", \"x\": [\"series\", \"fourier\", \"calculus\", \"derivative\", \"bayes\", \"vector\", \"trick\", \" pi \", \"square\", \"algebra\"], \"xaxis\": \"x\", \"y\": [19.866666666666664, 19.405555555555555, 15.941025641025643, 14.845833333333333, 13.6, 13.470833333333333, 13.216666666666667, 12.475, 11.758333333333333, 10.943137254901961], \"yaxis\": \"y\"}],                        {\"barmode\": \"relative\", \"coloraxis\": {\"colorbar\": {\"title\": {\"text\": \"likes (average)\"}}, \"colorscale\": [[0.0, \"rgb(7, 159, 224)\"], [1, \"rgb(61, 8, 84)\"]]}, \"legend\": {\"tracegroupgap\": 0}, \"margin\": {\"t\": 60}, \"template\": {\"data\": {\"bar\": [{\"error_x\": {\"color\": \"#2a3f5f\"}, \"error_y\": {\"color\": \"#2a3f5f\"}, \"marker\": {\"line\": {\"color\": \"#E5ECF6\", \"width\": 0.5}}, \"type\": \"bar\"}], \"barpolar\": [{\"marker\": {\"line\": {\"color\": \"#E5ECF6\", \"width\": 0.5}}, \"type\": \"barpolar\"}], \"carpet\": [{\"aaxis\": {\"endlinecolor\": \"#2a3f5f\", \"gridcolor\": \"white\", \"linecolor\": \"white\", \"minorgridcolor\": \"white\", \"startlinecolor\": \"#2a3f5f\"}, \"baxis\": {\"endlinecolor\": \"#2a3f5f\", \"gridcolor\": \"white\", \"linecolor\": \"white\", \"minorgridcolor\": \"white\", \"startlinecolor\": \"#2a3f5f\"}, \"type\": \"carpet\"}], \"choropleth\": [{\"colorbar\": {\"outlinewidth\": 0, \"ticks\": \"\"}, \"type\": \"choropleth\"}], \"contour\": [{\"colorbar\": {\"outlinewidth\": 0, \"ticks\": \"\"}, \"colorscale\": [[0.0, \"#0d0887\"], [0.1111111111111111, \"#46039f\"], [0.2222222222222222, \"#7201a8\"], [0.3333333333333333, \"#9c179e\"], [0.4444444444444444, \"#bd3786\"], [0.5555555555555556, \"#d8576b\"], [0.6666666666666666, \"#ed7953\"], [0.7777777777777778, \"#fb9f3a\"], [0.8888888888888888, \"#fdca26\"], [1.0, \"#f0f921\"]], \"type\": \"contour\"}], \"contourcarpet\": [{\"colorbar\": {\"outlinewidth\": 0, \"ticks\": \"\"}, \"type\": \"contourcarpet\"}], \"heatmap\": [{\"colorbar\": {\"outlinewidth\": 0, \"ticks\": \"\"}, \"colorscale\": [[0.0, \"#0d0887\"], [0.1111111111111111, \"#46039f\"], [0.2222222222222222, \"#7201a8\"], [0.3333333333333333, \"#9c179e\"], [0.4444444444444444, \"#bd3786\"], [0.5555555555555556, \"#d8576b\"], [0.6666666666666666, \"#ed7953\"], [0.7777777777777778, \"#fb9f3a\"], [0.8888888888888888, \"#fdca26\"], [1.0, \"#f0f921\"]], \"type\": \"heatmap\"}], \"heatmapgl\": [{\"colorbar\": {\"outlinewidth\": 0, \"ticks\": \"\"}, \"colorscale\": [[0.0, \"#0d0887\"], [0.1111111111111111, \"#46039f\"], [0.2222222222222222, \"#7201a8\"], [0.3333333333333333, \"#9c179e\"], [0.4444444444444444, \"#bd3786\"], [0.5555555555555556, \"#d8576b\"], [0.6666666666666666, \"#ed7953\"], [0.7777777777777778, \"#fb9f3a\"], [0.8888888888888888, \"#fdca26\"], [1.0, \"#f0f921\"]], \"type\": \"heatmapgl\"}], \"histogram\": [{\"marker\": {\"colorbar\": {\"outlinewidth\": 0, \"ticks\": \"\"}}, \"type\": \"histogram\"}], \"histogram2d\": [{\"colorbar\": {\"outlinewidth\": 0, \"ticks\": \"\"}, \"colorscale\": [[0.0, \"#0d0887\"], [0.1111111111111111, \"#46039f\"], [0.2222222222222222, \"#7201a8\"], [0.3333333333333333, \"#9c179e\"], [0.4444444444444444, \"#bd3786\"], [0.5555555555555556, \"#d8576b\"], [0.6666666666666666, \"#ed7953\"], [0.7777777777777778, \"#fb9f3a\"], [0.8888888888888888, \"#fdca26\"], [1.0, \"#f0f921\"]], \"type\": \"histogram2d\"}], \"histogram2dcontour\": [{\"colorbar\": {\"outlinewidth\": 0, \"ticks\": \"\"}, \"colorscale\": [[0.0, \"#0d0887\"], [0.1111111111111111, \"#46039f\"], [0.2222222222222222, \"#7201a8\"], [0.3333333333333333, \"#9c179e\"], [0.4444444444444444, \"#bd3786\"], [0.5555555555555556, \"#d8576b\"], [0.6666666666666666, \"#ed7953\"], [0.7777777777777778, \"#fb9f3a\"], [0.8888888888888888, \"#fdca26\"], [1.0, \"#f0f921\"]], \"type\": \"histogram2dcontour\"}], \"mesh3d\": [{\"colorbar\": {\"outlinewidth\": 0, \"ticks\": \"\"}, \"type\": \"mesh3d\"}], \"parcoords\": [{\"line\": {\"colorbar\": {\"outlinewidth\": 0, \"ticks\": \"\"}}, \"type\": \"parcoords\"}], \"pie\": [{\"automargin\": true, \"type\": \"pie\"}], \"scatter\": [{\"marker\": {\"colorbar\": {\"outlinewidth\": 0, \"ticks\": \"\"}}, \"type\": \"scatter\"}], \"scatter3d\": [{\"line\": {\"colorbar\": {\"outlinewidth\": 0, \"ticks\": \"\"}}, \"marker\": {\"colorbar\": {\"outlinewidth\": 0, \"ticks\": \"\"}}, \"type\": \"scatter3d\"}], \"scattercarpet\": [{\"marker\": {\"colorbar\": {\"outlinewidth\": 0, \"ticks\": \"\"}}, \"type\": \"scattercarpet\"}], \"scattergeo\": [{\"marker\": {\"colorbar\": {\"outlinewidth\": 0, \"ticks\": \"\"}}, \"type\": \"scattergeo\"}], \"scattergl\": [{\"marker\": {\"colorbar\": {\"outlinewidth\": 0, \"ticks\": \"\"}}, \"type\": \"scattergl\"}], \"scattermapbox\": [{\"marker\": {\"colorbar\": {\"outlinewidth\": 0, \"ticks\": \"\"}}, \"type\": \"scattermapbox\"}], \"scatterpolar\": [{\"marker\": {\"colorbar\": {\"outlinewidth\": 0, \"ticks\": \"\"}}, \"type\": \"scatterpolar\"}], \"scatterpolargl\": [{\"marker\": {\"colorbar\": {\"outlinewidth\": 0, \"ticks\": \"\"}}, \"type\": \"scatterpolargl\"}], \"scatterternary\": [{\"marker\": {\"colorbar\": {\"outlinewidth\": 0, \"ticks\": \"\"}}, \"type\": \"scatterternary\"}], \"surface\": [{\"colorbar\": {\"outlinewidth\": 0, \"ticks\": \"\"}, \"colorscale\": [[0.0, \"#0d0887\"], [0.1111111111111111, \"#46039f\"], [0.2222222222222222, \"#7201a8\"], [0.3333333333333333, \"#9c179e\"], [0.4444444444444444, \"#bd3786\"], [0.5555555555555556, \"#d8576b\"], [0.6666666666666666, \"#ed7953\"], [0.7777777777777778, \"#fb9f3a\"], [0.8888888888888888, \"#fdca26\"], [1.0, \"#f0f921\"]], \"type\": \"surface\"}], \"table\": [{\"cells\": {\"fill\": {\"color\": \"#EBF0F8\"}, \"line\": {\"color\": \"white\"}}, \"header\": {\"fill\": {\"color\": \"#C8D4E3\"}, \"line\": {\"color\": \"white\"}}, \"type\": \"table\"}]}, \"layout\": {\"annotationdefaults\": {\"arrowcolor\": \"#2a3f5f\", \"arrowhead\": 0, \"arrowwidth\": 1}, \"coloraxis\": {\"colorbar\": {\"outlinewidth\": 0, \"ticks\": \"\"}}, \"colorscale\": {\"diverging\": [[0, \"#8e0152\"], [0.1, \"#c51b7d\"], [0.2, \"#de77ae\"], [0.3, \"#f1b6da\"], [0.4, \"#fde0ef\"], [0.5, \"#f7f7f7\"], [0.6, \"#e6f5d0\"], [0.7, \"#b8e186\"], [0.8, \"#7fbc41\"], [0.9, \"#4d9221\"], [1, \"#276419\"]], \"sequential\": [[0.0, \"#0d0887\"], [0.1111111111111111, \"#46039f\"], [0.2222222222222222, \"#7201a8\"], [0.3333333333333333, \"#9c179e\"], [0.4444444444444444, \"#bd3786\"], [0.5555555555555556, \"#d8576b\"], [0.6666666666666666, \"#ed7953\"], [0.7777777777777778, \"#fb9f3a\"], [0.8888888888888888, \"#fdca26\"], [1.0, \"#f0f921\"]], \"sequentialminus\": [[0.0, \"#0d0887\"], [0.1111111111111111, \"#46039f\"], [0.2222222222222222, \"#7201a8\"], [0.3333333333333333, \"#9c179e\"], [0.4444444444444444, \"#bd3786\"], [0.5555555555555556, \"#d8576b\"], [0.6666666666666666, \"#ed7953\"], [0.7777777777777778, \"#fb9f3a\"], [0.8888888888888888, \"#fdca26\"], [1.0, \"#f0f921\"]]}, \"colorway\": [\"#636efa\", \"#EF553B\", \"#00cc96\", \"#ab63fa\", \"#FFA15A\", \"#19d3f3\", \"#FF6692\", \"#B6E880\", \"#FF97FF\", \"#FECB52\"], \"font\": {\"color\": \"#2a3f5f\"}, \"geo\": {\"bgcolor\": \"white\", \"lakecolor\": \"white\", \"landcolor\": \"#E5ECF6\", \"showlakes\": true, \"showland\": true, \"subunitcolor\": \"white\"}, \"hoverlabel\": {\"align\": \"left\"}, \"hovermode\": \"closest\", \"mapbox\": {\"style\": \"light\"}, \"paper_bgcolor\": \"white\", \"plot_bgcolor\": \"#E5ECF6\", \"polar\": {\"angularaxis\": {\"gridcolor\": \"white\", \"linecolor\": \"white\", \"ticks\": \"\"}, \"bgcolor\": \"#E5ECF6\", \"radialaxis\": {\"gridcolor\": \"white\", \"linecolor\": \"white\", \"ticks\": \"\"}}, \"scene\": {\"xaxis\": {\"backgroundcolor\": \"#E5ECF6\", \"gridcolor\": \"white\", \"gridwidth\": 2, \"linecolor\": \"white\", \"showbackground\": true, \"ticks\": \"\", \"zerolinecolor\": \"white\"}, \"yaxis\": {\"backgroundcolor\": \"#E5ECF6\", \"gridcolor\": \"white\", \"gridwidth\": 2, \"linecolor\": \"white\", \"showbackground\": true, \"ticks\": \"\", \"zerolinecolor\": \"white\"}, \"zaxis\": {\"backgroundcolor\": \"#E5ECF6\", \"gridcolor\": \"white\", \"gridwidth\": 2, \"linecolor\": \"white\", \"showbackground\": true, \"ticks\": \"\", \"zerolinecolor\": \"white\"}}, \"shapedefaults\": {\"line\": {\"color\": \"#2a3f5f\"}}, \"ternary\": {\"aaxis\": {\"gridcolor\": \"white\", \"linecolor\": \"white\", \"ticks\": \"\"}, \"baxis\": {\"gridcolor\": \"white\", \"linecolor\": \"white\", \"ticks\": \"\"}, \"bgcolor\": \"#E5ECF6\", \"caxis\": {\"gridcolor\": \"white\", \"linecolor\": \"white\", \"ticks\": \"\"}}, \"title\": {\"x\": 0.05}, \"xaxis\": {\"automargin\": true, \"gridcolor\": \"white\", \"linecolor\": \"white\", \"ticks\": \"\", \"title\": {\"standoff\": 15}, \"zerolinecolor\": \"white\", \"zerolinewidth\": 2}, \"yaxis\": {\"automargin\": true, \"gridcolor\": \"white\", \"linecolor\": \"white\", \"ticks\": \"\", \"title\": {\"standoff\": 15}, \"zerolinecolor\": \"white\", \"zerolinewidth\": 2}}}, \"xaxis\": {\"anchor\": \"y\", \"domain\": [0.0, 1.0], \"title\": {\"text\": \"phrase in the title\"}}, \"yaxis\": {\"anchor\": \"x\", \"domain\": [0.0, 1.0], \"title\": {\"text\": \"duration (average)\"}}},                        {\"responsive\": true}                    ).then(function(){\n",
       "                            \n",
       "var gd = document.getElementById('2ab5628b-4e9b-4ada-b838-f33776021243');\n",
       "var x = new MutationObserver(function (mutations, observer) {{\n",
       "        var display = window.getComputedStyle(gd).display;\n",
       "        if (!display || display === 'none') {{\n",
       "            console.log([gd, 'removed!']);\n",
       "            Plotly.purge(gd);\n",
       "            observer.disconnect();\n",
       "        }}\n",
       "}});\n",
       "\n",
       "// Listen for the removal of the full notebook cells\n",
       "var notebookContainer = gd.closest('#notebook-container');\n",
       "if (notebookContainer) {{\n",
       "    x.observe(notebookContainer, {childList: true});\n",
       "}}\n",
       "\n",
       "// Listen for the clearing of the current output cell\n",
       "var outputEl = gd.closest('.output');\n",
       "if (outputEl) {{\n",
       "    x.observe(outputEl, {childList: true});\n",
       "}}\n",
       "\n",
       "                        })                };                });            </script>        </div>"
      ]
     },
     "metadata": {},
     "output_type": "display_data"
    }
   ],
   "source": [
    "df_phrases = df_phrases.sort_values(\"duration (average)\", ascending=False)\n",
    "df_phrases.plot(x=\"phrase in the title\", \n",
    "                y=\"duration (average)\", \n",
    "                kind='bar', \n",
    "                color='likes (average)', \n",
    "                color_continuous_scale=[[0.0, \"rgb(7, 159, 224)\"],\n",
    "                                          [1, \"rgb(61, 8, 84)\"]])"
   ]
  },
  {
   "cell_type": "code",
   "execution_count": null,
   "metadata": {},
   "outputs": [],
   "source": []
  },
  {
   "cell_type": "code",
   "execution_count": null,
   "metadata": {},
   "outputs": [],
   "source": []
  }
 ],
 "metadata": {
  "@webio": {
   "lastCommId": null,
   "lastKernelId": null
  },
  "kernelspec": {
   "display_name": "Python 3",
   "language": "python",
   "name": "python3"
  },
  "language_info": {
   "codemirror_mode": {
    "name": "ipython",
    "version": 3
   },
   "file_extension": ".py",
   "mimetype": "text/x-python",
   "name": "python",
   "nbconvert_exporter": "python",
   "pygments_lexer": "ipython3",
   "version": "3.7.6"
  }
 },
 "nbformat": 4,
 "nbformat_minor": 4
}
