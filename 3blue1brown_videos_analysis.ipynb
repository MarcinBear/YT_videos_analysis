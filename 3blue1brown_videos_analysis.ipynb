{
 "cells": [
  {
   "cell_type": "markdown",
   "metadata": {},
   "source": [
    "# 3Blue1Brown channel's videos analysis"
   ]
  },
  {
   "cell_type": "code",
   "execution_count": 101,
   "metadata": {},
   "outputs": [],
   "source": [
    "import pandas as pd\n",
    "import plotly\n",
    "import json\n",
    "import re\n",
    "import matplotlib.pyplot as plt\n",
    "pd.options.plotting.backend = \"plotly\""
   ]
  },
  {
   "cell_type": "code",
   "execution_count": 123,
   "metadata": {},
   "outputs": [],
   "source": [
    "def get_link(video_id):\n",
    "    return f\"https://www.youtube.com/watch?v={video_id}\""
   ]
  },
  {
   "cell_type": "code",
   "execution_count": 103,
   "metadata": {},
   "outputs": [],
   "source": [
    "def iso_duration_converter(iso_string):\n",
    "    \"\"\"\n",
    "    Convert ISO 8601 duration format to minutes\n",
    "    \"\"\"\n",
    "    minutes = 0  # duration in minutes\n",
    "    multipliers = {'H': 60, 'M': 1, 'S': 1/60}  # H - hour, M - minute, S - second\n",
    "    pairs = re.findall(r\"([0-9]+)([HMS]+)\", iso_string)  # numberLetter appears?\n",
    "    for pair in pairs:\n",
    "        minutes += int(pair[0]) * multipliers[pair[1]]\n",
    "    return minutes"
   ]
  },
  {
   "cell_type": "markdown",
   "metadata": {},
   "source": [
    "___"
   ]
  },
  {
   "cell_type": "code",
   "execution_count": 104,
   "metadata": {},
   "outputs": [],
   "source": [
    "with open(\"3blue1brown.json\", 'r') as f:\n",
    "    data = json.loads(f.read())"
   ]
  },
  {
   "cell_type": "code",
   "execution_count": 105,
   "metadata": {},
   "outputs": [
    {
     "data": {
      "text/html": [
       "<div>\n",
       "<style scoped>\n",
       "    .dataframe tbody tr th:only-of-type {\n",
       "        vertical-align: middle;\n",
       "    }\n",
       "\n",
       "    .dataframe tbody tr th {\n",
       "        vertical-align: top;\n",
       "    }\n",
       "\n",
       "    .dataframe thead th {\n",
       "        text-align: right;\n",
       "    }\n",
       "</style>\n",
       "<table border=\"1\" class=\"dataframe\">\n",
       "  <thead>\n",
       "    <tr style=\"text-align: right;\">\n",
       "      <th></th>\n",
       "      <th>publishedAt</th>\n",
       "      <th>channelId</th>\n",
       "      <th>title</th>\n",
       "      <th>description</th>\n",
       "      <th>thumbnails</th>\n",
       "      <th>channelTitle</th>\n",
       "      <th>tags</th>\n",
       "      <th>categoryId</th>\n",
       "      <th>liveBroadcastContent</th>\n",
       "      <th>localized</th>\n",
       "      <th>...</th>\n",
       "      <th>favoriteCount</th>\n",
       "      <th>commentCount</th>\n",
       "      <th>duration</th>\n",
       "      <th>dimension</th>\n",
       "      <th>definition</th>\n",
       "      <th>caption</th>\n",
       "      <th>licensedContent</th>\n",
       "      <th>contentRating</th>\n",
       "      <th>projection</th>\n",
       "      <th>defaultLanguage</th>\n",
       "    </tr>\n",
       "  </thead>\n",
       "  <tbody>\n",
       "    <tr>\n",
       "      <th>spUNpyF58BY</th>\n",
       "      <td>2018-01-26T18:47:48Z</td>\n",
       "      <td>UCYO_jab_esuFRV4b17AJtAw</td>\n",
       "      <td>But what is the Fourier Transform?  A visual i...</td>\n",
       "      <td>An animated introduction to the Fourier Transf...</td>\n",
       "      <td>{'default': {'url': 'https://i.ytimg.com/vi/sp...</td>\n",
       "      <td>3Blue1Brown</td>\n",
       "      <td>[Mathematics, fourier transform, three blue on...</td>\n",
       "      <td>27</td>\n",
       "      <td>none</td>\n",
       "      <td>{'title': 'But what is the Fourier Transform? ...</td>\n",
       "      <td>...</td>\n",
       "      <td>0</td>\n",
       "      <td>7284</td>\n",
       "      <td>PT20M57S</td>\n",
       "      <td>2d</td>\n",
       "      <td>hd</td>\n",
       "      <td>true</td>\n",
       "      <td>True</td>\n",
       "      <td>{}</td>\n",
       "      <td>rectangular</td>\n",
       "      <td>en</td>\n",
       "    </tr>\n",
       "  </tbody>\n",
       "</table>\n",
       "<p>1 rows × 24 columns</p>\n",
       "</div>"
      ],
      "text/plain": [
       "                      publishedAt                 channelId  \\\n",
       "spUNpyF58BY  2018-01-26T18:47:48Z  UCYO_jab_esuFRV4b17AJtAw   \n",
       "\n",
       "                                                         title  \\\n",
       "spUNpyF58BY  But what is the Fourier Transform?  A visual i...   \n",
       "\n",
       "                                                   description  \\\n",
       "spUNpyF58BY  An animated introduction to the Fourier Transf...   \n",
       "\n",
       "                                                    thumbnails channelTitle  \\\n",
       "spUNpyF58BY  {'default': {'url': 'https://i.ytimg.com/vi/sp...  3Blue1Brown   \n",
       "\n",
       "                                                          tags categoryId  \\\n",
       "spUNpyF58BY  [Mathematics, fourier transform, three blue on...         27   \n",
       "\n",
       "            liveBroadcastContent  \\\n",
       "spUNpyF58BY                 none   \n",
       "\n",
       "                                                     localized  ...  \\\n",
       "spUNpyF58BY  {'title': 'But what is the Fourier Transform? ...  ...   \n",
       "\n",
       "            favoriteCount commentCount  duration dimension definition caption  \\\n",
       "spUNpyF58BY             0         7284  PT20M57S        2d         hd    true   \n",
       "\n",
       "            licensedContent contentRating   projection defaultLanguage  \n",
       "spUNpyF58BY            True            {}  rectangular              en  \n",
       "\n",
       "[1 rows x 24 columns]"
      ]
     },
     "execution_count": 105,
     "metadata": {},
     "output_type": "execute_result"
    }
   ],
   "source": [
    "df = pd.DataFrame(data).transpose()\n",
    "df.sample()"
   ]
  },
  {
   "cell_type": "markdown",
   "metadata": {},
   "source": [
    "---\n",
    "### Cleaning"
   ]
  },
  {
   "cell_type": "code",
   "execution_count": 106,
   "metadata": {},
   "outputs": [],
   "source": [
    "redundant_columns = ['channelId', 'thumbnails', 'channelTitle', 'defaultAudioLanguage',\n",
    "                     'categoryId', 'liveBroadcastContent', 'localized', 'dimension',\n",
    "                     'licensedContent', 'contentRating', 'projection', 'caption',\n",
    "                     'favoriteCount', 'definition', 'defaultLanguage']\n",
    "\n",
    "df.drop(columns=redundant_columns, inplace=True)"
   ]
  },
  {
   "cell_type": "code",
   "execution_count": 107,
   "metadata": {},
   "outputs": [],
   "source": [
    "for column_name in df:\n",
    "    if 'Count' in column_name:\n",
    "        df[column_name] = pd.to_numeric(df[column_name])"
   ]
  },
  {
   "cell_type": "code",
   "execution_count": 108,
   "metadata": {},
   "outputs": [],
   "source": [
    "df['publishedAt'] = pd.to_datetime(df['publishedAt'])\n",
    "df['duration'] = df['duration'].apply(iso_duration_converter)"
   ]
  },
  {
   "cell_type": "code",
   "execution_count": 109,
   "metadata": {},
   "outputs": [],
   "source": [
    "df.rename(columns={'publishedAt': 'publication date', \n",
    "                   'viewCount': 'views', \n",
    "                   'likeCount': 'likes',\n",
    "                   'dislikeCount': 'dislikes',\n",
    "                   'commentCount': 'comments'}, inplace=True)\n",
    "\n",
    "df.index.name = 'video id'\n"
   ]
  },
  {
   "cell_type": "code",
   "execution_count": 110,
   "metadata": {},
   "outputs": [
    {
     "data": {
      "text/html": [
       "<div>\n",
       "<style scoped>\n",
       "    .dataframe tbody tr th:only-of-type {\n",
       "        vertical-align: middle;\n",
       "    }\n",
       "\n",
       "    .dataframe tbody tr th {\n",
       "        vertical-align: top;\n",
       "    }\n",
       "\n",
       "    .dataframe thead th {\n",
       "        text-align: right;\n",
       "    }\n",
       "</style>\n",
       "<table border=\"1\" class=\"dataframe\">\n",
       "  <thead>\n",
       "    <tr style=\"text-align: right;\">\n",
       "      <th></th>\n",
       "      <th>publication date</th>\n",
       "      <th>title</th>\n",
       "      <th>description</th>\n",
       "      <th>tags</th>\n",
       "      <th>views</th>\n",
       "      <th>likes</th>\n",
       "      <th>dislikes</th>\n",
       "      <th>comments</th>\n",
       "      <th>duration</th>\n",
       "    </tr>\n",
       "    <tr>\n",
       "      <th>video id</th>\n",
       "      <th></th>\n",
       "      <th></th>\n",
       "      <th></th>\n",
       "      <th></th>\n",
       "      <th></th>\n",
       "      <th></th>\n",
       "      <th></th>\n",
       "      <th></th>\n",
       "      <th></th>\n",
       "    </tr>\n",
       "  </thead>\n",
       "  <tbody>\n",
       "    <tr>\n",
       "      <th>ojjzXyQCzso</th>\n",
       "      <td>2021-07-16 18:39:08+00:00</td>\n",
       "      <td>Why aren't you making math videos?  (Also, a 3...</td>\n",
       "      <td>Learn more and submit: https://3b1b.co/SoME1\\n...</td>\n",
       "      <td>[Mathematics, three blue one brown, 3 blue 1 b...</td>\n",
       "      <td>426856</td>\n",
       "      <td>23903</td>\n",
       "      <td>148</td>\n",
       "      <td>1383</td>\n",
       "      <td>24.350000</td>\n",
       "    </tr>\n",
       "    <tr>\n",
       "      <th>e50Bj7jn9IQ</th>\n",
       "      <td>2021-05-07 21:39:22+00:00</td>\n",
       "      <td>A quick trick for computing eigenvalues | Chap...</td>\n",
       "      <td>How to write the eigenvalues of a 2x2 matrix j...</td>\n",
       "      <td>[Mathematics, three blue one brown, 3 blue 1 b...</td>\n",
       "      <td>330294</td>\n",
       "      <td>15185</td>\n",
       "      <td>122</td>\n",
       "      <td>1118</td>\n",
       "      <td>13.216667</td>\n",
       "    </tr>\n",
       "    <tr>\n",
       "      <th>O85OWBJ2ayo</th>\n",
       "      <td>2021-04-01 15:50:30+00:00</td>\n",
       "      <td>How (and why) to raise e to the power of a mat...</td>\n",
       "      <td>General exponentials, love, Schrödinger, and m...</td>\n",
       "      <td>[Mathematics, three blue one brown, 3 blue 1 b...</td>\n",
       "      <td>970705</td>\n",
       "      <td>42648</td>\n",
       "      <td>249</td>\n",
       "      <td>2593</td>\n",
       "      <td>27.116667</td>\n",
       "    </tr>\n",
       "    <tr>\n",
       "      <th>lG4VkPoG3ko</th>\n",
       "      <td>2020-12-22 17:42:00+00:00</td>\n",
       "      <td>Why Bayes rule is nicer with odds</td>\n",
       "      <td>About Likelihood Ratios, also sometimes called...</td>\n",
       "      <td>[Mathematics, three blue one brown, 3 blue 1 b...</td>\n",
       "      <td>614751</td>\n",
       "      <td>32044</td>\n",
       "      <td>223</td>\n",
       "      <td>2279</td>\n",
       "      <td>21.233333</td>\n",
       "    </tr>\n",
       "    <tr>\n",
       "      <th>b3NxrZOu_CE</th>\n",
       "      <td>2020-09-04 15:36:24+00:00</td>\n",
       "      <td>Hamming codes part 2, the elegance of it all</td>\n",
       "      <td>Part 1: https://youtu.be/X8jsijhllIA\\nWatch Be...</td>\n",
       "      <td>[Mathematics, three blue one brown, 3 blue 1 b...</td>\n",
       "      <td>482037</td>\n",
       "      <td>24099</td>\n",
       "      <td>111</td>\n",
       "      <td>1506</td>\n",
       "      <td>16.833333</td>\n",
       "    </tr>\n",
       "  </tbody>\n",
       "</table>\n",
       "</div>"
      ],
      "text/plain": [
       "                     publication date  \\\n",
       "video id                                \n",
       "ojjzXyQCzso 2021-07-16 18:39:08+00:00   \n",
       "e50Bj7jn9IQ 2021-05-07 21:39:22+00:00   \n",
       "O85OWBJ2ayo 2021-04-01 15:50:30+00:00   \n",
       "lG4VkPoG3ko 2020-12-22 17:42:00+00:00   \n",
       "b3NxrZOu_CE 2020-09-04 15:36:24+00:00   \n",
       "\n",
       "                                                         title  \\\n",
       "video id                                                         \n",
       "ojjzXyQCzso  Why aren't you making math videos?  (Also, a 3...   \n",
       "e50Bj7jn9IQ  A quick trick for computing eigenvalues | Chap...   \n",
       "O85OWBJ2ayo  How (and why) to raise e to the power of a mat...   \n",
       "lG4VkPoG3ko                  Why Bayes rule is nicer with odds   \n",
       "b3NxrZOu_CE       Hamming codes part 2, the elegance of it all   \n",
       "\n",
       "                                                   description  \\\n",
       "video id                                                         \n",
       "ojjzXyQCzso  Learn more and submit: https://3b1b.co/SoME1\\n...   \n",
       "e50Bj7jn9IQ  How to write the eigenvalues of a 2x2 matrix j...   \n",
       "O85OWBJ2ayo  General exponentials, love, Schrödinger, and m...   \n",
       "lG4VkPoG3ko  About Likelihood Ratios, also sometimes called...   \n",
       "b3NxrZOu_CE  Part 1: https://youtu.be/X8jsijhllIA\\nWatch Be...   \n",
       "\n",
       "                                                          tags   views  likes  \\\n",
       "video id                                                                        \n",
       "ojjzXyQCzso  [Mathematics, three blue one brown, 3 blue 1 b...  426856  23903   \n",
       "e50Bj7jn9IQ  [Mathematics, three blue one brown, 3 blue 1 b...  330294  15185   \n",
       "O85OWBJ2ayo  [Mathematics, three blue one brown, 3 blue 1 b...  970705  42648   \n",
       "lG4VkPoG3ko  [Mathematics, three blue one brown, 3 blue 1 b...  614751  32044   \n",
       "b3NxrZOu_CE  [Mathematics, three blue one brown, 3 blue 1 b...  482037  24099   \n",
       "\n",
       "             dislikes  comments   duration  \n",
       "video id                                    \n",
       "ojjzXyQCzso       148      1383  24.350000  \n",
       "e50Bj7jn9IQ       122      1118  13.216667  \n",
       "O85OWBJ2ayo       249      2593  27.116667  \n",
       "lG4VkPoG3ko       223      2279  21.233333  \n",
       "b3NxrZOu_CE       111      1506  16.833333  "
      ]
     },
     "execution_count": 110,
     "metadata": {},
     "output_type": "execute_result"
    }
   ],
   "source": [
    "df.head()"
   ]
  },
  {
   "cell_type": "code",
   "execution_count": 133,
   "metadata": {},
   "outputs": [
    {
     "name": "stdout",
     "output_type": "stream",
     "text": [
      "Fewest views: \n",
      "\n",
      "  video id                                                zLzLxVeqdQg\n",
      "publication date                          2015-03-05 06:15:23+00:00\n",
      "title                                          Euler's Formula Poem\n",
      "description       A poem about why e to the pi i equals -1, base...\n",
      "tags              [3 brown 1 blue, 3 blue 1 brown, three brown o...\n",
      "views                                                        126108\n",
      "likes                                                          3745\n",
      "dislikes                                                         63\n",
      "comments                                                        136\n",
      "duration                                                    1.06667\n"
     ]
    }
   ],
   "source": [
    "min_views_video = df[df['views'] == df['views'].min()]\n",
    "max_views_video = df[df['views'] == df['views'].max()]\n",
    "min_likes_video = df[df['likes'] == df['likes'].min()]\n",
    "max_likes_video = df[df['likes'] == df['likes'].max()]\n",
    "min_dislikes_video = df[df['dislikes'] == df['dislikes'].min()]\n",
    "max_dislikes_video = df[df['dislikes'] == df['dislikes'].max()]\n",
    "\n",
    "\n",
    "print(\"Fewest views: \\n\\n \", min_views_video.T)"
   ]
  },
  {
   "cell_type": "code",
   "execution_count": 135,
   "metadata": {},
   "outputs": [
    {
     "name": "stdout",
     "output_type": "stream",
     "text": [
      "https://www.youtube.com/watch?v=zLzLxVeqdQg\n"
     ]
    }
   ],
   "source": [
    "print(get_link(min_views_video.index[0]))"
   ]
  },
  {
   "cell_type": "code",
   "execution_count": 147,
   "metadata": {
    "scrolled": false
   },
   "outputs": [
    {
     "data": {
      "image/svg+xml": [
       "<svg class=\"main-svg\" xmlns=\"http://www.w3.org/2000/svg\" xmlns:xlink=\"http://www.w3.org/1999/xlink\" width=\"700\" height=\"450\" style=\"\" viewBox=\"0 0 700 450\"><rect x=\"0\" y=\"0\" width=\"700\" height=\"450\" style=\"fill: rgb(255, 255, 255); fill-opacity: 1;\"/><defs id=\"defs-43ebb8\"><g class=\"clips\"><clipPath id=\"clip43ebb8xyplot\" class=\"plotclip\"><rect width=\"517\" height=\"310\"/></clipPath><clipPath class=\"axesclip\" id=\"clip43ebb8x\"><rect x=\"80\" y=\"0\" width=\"517\" height=\"450\"/></clipPath><clipPath class=\"axesclip\" id=\"clip43ebb8y\"><rect x=\"0\" y=\"60\" width=\"700\" height=\"310\"/></clipPath><clipPath class=\"axesclip\" id=\"clip43ebb8xy\"><rect x=\"80\" y=\"60\" width=\"517\" height=\"310\"/></clipPath></g><g class=\"gradients\"><linearGradient x1=\"0\" x2=\"0\" y1=\"1\" y2=\"0\" id=\"g43ebb8-cbcoloraxis\"><stop offset=\"0%\" stop-color=\"rgb(149, 194, 60)\" stop-opacity=\"1\"/><stop offset=\"100%\" stop-color=\"rgb(0, 92, 34)\" stop-opacity=\"1\"/></linearGradient></g></defs><g class=\"bglayer\"><rect class=\"bg\" x=\"80\" y=\"60\" width=\"517\" height=\"310\" style=\"fill: rgb(229, 236, 246); fill-opacity: 1; stroke-width: 0;\"/></g><g class=\"layer-below\"><g class=\"imagelayer\"/><g class=\"shapelayer\"/></g><g class=\"cartesianlayer\"><g class=\"subplot xy\"><g class=\"layer-subplot\"><g class=\"shapelayer\"/><g class=\"imagelayer\"/></g><g class=\"gridlayer\"><g class=\"x\"><path class=\"xgrid crisp\" transform=\"translate(96.4,0)\" d=\"M0,60v310\" style=\"stroke: rgb(255, 255, 255); stroke-opacity: 1; stroke-width: 1px;\"/><path class=\"xgrid crisp\" transform=\"translate(168.22,0)\" d=\"M0,60v310\" style=\"stroke: rgb(255, 255, 255); stroke-opacity: 1; stroke-width: 1px;\"/><path class=\"xgrid crisp\" transform=\"translate(240.24,0)\" d=\"M0,60v310\" style=\"stroke: rgb(255, 255, 255); stroke-opacity: 1; stroke-width: 1px;\"/><path class=\"xgrid crisp\" transform=\"translate(312.06,0)\" d=\"M0,60v310\" style=\"stroke: rgb(255, 255, 255); stroke-opacity: 1; stroke-width: 1px;\"/><path class=\"xgrid crisp\" transform=\"translate(383.88,0)\" d=\"M0,60v310\" style=\"stroke: rgb(255, 255, 255); stroke-opacity: 1; stroke-width: 1px;\"/><path class=\"xgrid crisp\" transform=\"translate(455.7,0)\" d=\"M0,60v310\" style=\"stroke: rgb(255, 255, 255); stroke-opacity: 1; stroke-width: 1px;\"/><path class=\"xgrid crisp\" transform=\"translate(527.72,0)\" d=\"M0,60v310\" style=\"stroke: rgb(255, 255, 255); stroke-opacity: 1; stroke-width: 1px;\"/></g><g class=\"y\"><path class=\"ygrid crisp\" transform=\"translate(0,302.65)\" d=\"M80,0h517\" style=\"stroke: rgb(255, 255, 255); stroke-opacity: 1; stroke-width: 1px;\"/><path class=\"ygrid crisp\" transform=\"translate(0,250.52)\" d=\"M80,0h517\" style=\"stroke: rgb(255, 255, 255); stroke-opacity: 1; stroke-width: 1px;\"/><path class=\"ygrid crisp\" transform=\"translate(0,198.39)\" d=\"M80,0h517\" style=\"stroke: rgb(255, 255, 255); stroke-opacity: 1; stroke-width: 1px;\"/><path class=\"ygrid crisp\" transform=\"translate(0,146.25)\" d=\"M80,0h517\" style=\"stroke: rgb(255, 255, 255); stroke-opacity: 1; stroke-width: 1px;\"/><path class=\"ygrid crisp\" transform=\"translate(0,94.12)\" d=\"M80,0h517\" style=\"stroke: rgb(255, 255, 255); stroke-opacity: 1; stroke-width: 1px;\"/></g></g><g class=\"zerolinelayer\"><path class=\"yzl zl crisp\" transform=\"translate(0,354.79)\" d=\"M80,0h517\" style=\"stroke: rgb(255, 255, 255); stroke-opacity: 1; stroke-width: 2px;\"/></g><path class=\"xlines-below\"/><path class=\"ylines-below\"/><g class=\"overlines-below\"/><g class=\"xaxislayer-below\"/><g class=\"yaxislayer-below\"/><g class=\"overaxes-below\"/><g class=\"plot\" transform=\"translate(80, 60)\" clip-path=\"url('#clip43ebb8xyplot')\"><g class=\"scatterlayer mlayer\"><g class=\"trace scatter traceb7807b\" style=\"stroke-miterlimit: 2; opacity: 1;\"><g class=\"fills\"/><g class=\"errorbars\"/><g class=\"lines\"/><g class=\"points\"><path class=\"point\" transform=\"translate(486.44,283.66)\" d=\"M4.22,0A4.22,4.22 0 1,1 0,-4.22A4.22,4.22 0 0,1 4.22,0Z\" style=\"opacity: 0.7; stroke-width: 1px; fill: rgb(137, 186, 58); fill-opacity: 1; stroke: rgb(255, 255, 255); stroke-opacity: 1;\"/><path class=\"point\" transform=\"translate(472.69,286.18)\" d=\"M3.36,0A3.36,3.36 0 1,1 0,-3.36A3.36,3.36 0 0,1 3.36,0Z\" style=\"opacity: 0.7; stroke-width: 1px; fill: rgb(142, 189, 59); fill-opacity: 1; stroke: rgb(255, 255, 255); stroke-opacity: 1;\"/><path class=\"point\" transform=\"translate(465.56,269.48)\" d=\"M5.63,0A5.63,5.63 0 1,1 0,-5.63A5.63,5.63 0 0,1 5.63,0Z\" style=\"opacity: 0.7; stroke-width: 1px; fill: rgb(127, 179, 56); fill-opacity: 1; stroke: rgb(255, 255, 255); stroke-opacity: 1;\"/><path class=\"point\" transform=\"translate(445.89,278.76)\" d=\"M4.88,0A4.88,4.88 0 1,1 0,-4.88A4.88,4.88 0 0,1 4.88,0Z\" style=\"opacity: 0.7; stroke-width: 1px; fill: rgb(133, 183, 57); fill-opacity: 1; stroke: rgb(255, 255, 255); stroke-opacity: 1;\"/><path class=\"point\" transform=\"translate(424.43,282.22)\" d=\"M4.23,0A4.23,4.23 0 1,1 0,-4.23A4.23,4.23 0 0,1 4.23,0Z\" style=\"opacity: 0.7; stroke-width: 1px; fill: rgb(137, 186, 58); fill-opacity: 1; stroke: rgb(255, 255, 255); stroke-opacity: 1;\"/><path class=\"point\" transform=\"translate(424.43,271.41)\" d=\"M5.41,0A5.41,5.41 0 1,1 0,-5.41A5.41,5.41 0 0,1 5.41,0Z\" style=\"opacity: 0.7; stroke-width: 1px; fill: rgb(129, 180, 56); fill-opacity: 1; stroke: rgb(255, 255, 255); stroke-opacity: 1;\"/><path class=\"point\" transform=\"translate(421.27,252.03)\" d=\"M7.68,0A7.68,7.68 0 1,1 0,-7.68A7.68,7.68 0 0,1 7.68,0Z\" style=\"opacity: 0.7; stroke-width: 1px; fill: rgb(106, 165, 53); fill-opacity: 1; stroke: rgb(255, 255, 255); stroke-opacity: 1;\"/><path class=\"point\" transform=\"translate(412.45,273.63)\" d=\"M4.53,0A4.53,4.53 0 1,1 0,-4.53A4.53,4.53 0 0,1 4.53,0Z\" style=\"opacity: 0.7; stroke-width: 1px; fill: rgb(135, 185, 58); fill-opacity: 1; stroke: rgb(255, 255, 255); stroke-opacity: 1;\"/><path class=\"point\" transform=\"translate(403.81,281.05)\" d=\"M3.5,0A3.5,3.5 0 1,1 0,-3.5A3.5,3.5 0 0,1 3.5,0Z\" style=\"opacity: 0.7; stroke-width: 1px; fill: rgb(142, 189, 59); fill-opacity: 1; stroke: rgb(255, 255, 255); stroke-opacity: 1;\"/><path class=\"point\" transform=\"translate(402.44,287.09)\" d=\"M2.31,0A2.31,2.31 0 1,1 0,-2.31A2.31,2.31 0 0,1 2.31,0Z\" style=\"opacity: 0.7; stroke-width: 1px; fill: rgb(147, 193, 60); fill-opacity: 1; stroke: rgb(255, 255, 255); stroke-opacity: 1;\"/><path class=\"point\" transform=\"translate(402.19,286.5)\" d=\"M4.07,0A4.07,4.07 0 1,1 0,-4.07A4.07,4.07 0 0,1 4.07,0Z\" style=\"opacity: 0.7; stroke-width: 1px; fill: rgb(138, 187, 58); fill-opacity: 1; stroke: rgb(255, 255, 255); stroke-opacity: 1;\"/><path class=\"point\" transform=\"translate(401.84,282.84)\" d=\"M3.07,0A3.07,3.07 0 1,1 0,-3.07A3.07,3.07 0 0,1 3.07,0Z\" style=\"opacity: 0.7; stroke-width: 1px; fill: rgb(144, 190, 59); fill-opacity: 1; stroke: rgb(255, 255, 255); stroke-opacity: 1;\"/><path class=\"point\" transform=\"translate(401.05,275.6)\" d=\"M3.48,0A3.48,3.48 0 1,1 0,-3.48A3.48,3.48 0 0,1 3.48,0Z\" style=\"opacity: 0.7; stroke-width: 1px; fill: rgb(142, 189, 59); fill-opacity: 1; stroke: rgb(255, 255, 255); stroke-opacity: 1;\"/><path class=\"point\" transform=\"translate(400.46,283.38)\" d=\"M2.85,0A2.85,2.85 0 1,1 0,-2.85A2.85,2.85 0 0,1 2.85,0Z\" style=\"opacity: 0.7; stroke-width: 1px; fill: rgb(145, 191, 59); fill-opacity: 1; stroke: rgb(255, 255, 255); stroke-opacity: 1;\"/><path class=\"point\" transform=\"translate(399.08,280.73)\" d=\"M3.61,0A3.61,3.61 0 1,1 0,-3.61A3.61,3.61 0 0,1 3.61,0Z\" style=\"opacity: 0.7; stroke-width: 1px; fill: rgb(141, 189, 59); fill-opacity: 1; stroke: rgb(255, 255, 255); stroke-opacity: 1;\"/><path class=\"point\" transform=\"translate(398.3,270.08)\" d=\"M4.1,0A4.1,4.1 0 1,1 0,-4.1A4.1,4.1 0 0,1 4.1,0Z\" style=\"opacity: 0.7; stroke-width: 1px; fill: rgb(138, 187, 58); fill-opacity: 1; stroke: rgb(255, 255, 255); stroke-opacity: 1;\"/><path class=\"point\" transform=\"translate(397.71,274.94)\" d=\"M4.13,0A4.13,4.13 0 1,1 0,-4.13A4.13,4.13 0 0,1 4.13,0Z\" style=\"opacity: 0.7; stroke-width: 1px; fill: rgb(138, 186, 58); fill-opacity: 1; stroke: rgb(255, 255, 255); stroke-opacity: 1;\"/><path class=\"point\" transform=\"translate(396.92,271.56)\" d=\"M5.25,0A5.25,5.25 0 1,1 0,-5.25A5.25,5.25 0 0,1 5.25,0Z\" style=\"opacity: 0.7; stroke-width: 1px; fill: rgb(130, 181, 57); fill-opacity: 1; stroke: rgb(255, 255, 255); stroke-opacity: 1;\"/><path class=\"point\" transform=\"translate(396.73,276.37)\" d=\"M5.86,0A5.86,5.86 0 1,1 0,-5.86A5.86,5.86 0 0,1 5.86,0Z\" style=\"opacity: 0.7; stroke-width: 1px; fill: rgb(125, 178, 56); fill-opacity: 1; stroke: rgb(255, 255, 255); stroke-opacity: 1;\"/><path class=\"point\" transform=\"translate(395.9,249.61)\" d=\"M6.07,0A6.07,6.07 0 1,1 0,-6.07A6.07,6.07 0 0,1 6.07,0Z\" style=\"opacity: 0.7; stroke-width: 1px; fill: rgb(123, 176, 55); fill-opacity: 1; stroke: rgb(255, 255, 255); stroke-opacity: 1;\"/><path class=\"point\" transform=\"translate(392.78,175.79)\" d=\"M10.54,0A10.54,10.54 0 1,1 0,-10.54A10.54,10.54 0 0,1 10.54,0Z\" style=\"opacity: 0.7; stroke-width: 1px; fill: rgb(67, 138, 46); fill-opacity: 1; stroke: rgb(255, 255, 255); stroke-opacity: 1;\"/><path class=\"point\" transform=\"translate(390.41,258.74)\" d=\"M6.64,0A6.64,6.64 0 1,1 0,-6.64A6.64,6.64 0 0,1 6.64,0Z\" style=\"opacity: 0.7; stroke-width: 1px; fill: rgb(118, 173, 55); fill-opacity: 1; stroke: rgb(255, 255, 255); stroke-opacity: 1;\"/><path class=\"point\" transform=\"translate(389.02,144.42)\" d=\"M11.12,0A11.12,11.12 0 1,1 0,-11.12A11.12,11.12 0 0,1 11.12,0Z\" style=\"opacity: 0.7; stroke-width: 1px; fill: rgb(58, 131, 44); fill-opacity: 1; stroke: rgb(255, 255, 255); stroke-opacity: 1;\"/><path class=\"point\" transform=\"translate(373.85,285.39)\" d=\"M2.93,0A2.93,2.93 0 1,1 0,-2.93A2.93,2.93 0 0,1 2.93,0Z\" style=\"opacity: 0.7; stroke-width: 1px; fill: rgb(144, 191, 59); fill-opacity: 1; stroke: rgb(255, 255, 255); stroke-opacity: 1;\"/><path class=\"point\" transform=\"translate(373.85,260.35)\" d=\"M6.3,0A6.3,6.3 0 1,1 0,-6.3A6.3,6.3 0 0,1 6.3,0Z\" style=\"opacity: 0.7; stroke-width: 1px; fill: rgb(121, 175, 55); fill-opacity: 1; stroke: rgb(255, 255, 255); stroke-opacity: 1;\"/><path class=\"point\" transform=\"translate(368.03,285.12)\" d=\"M3.55,0A3.55,3.55 0 1,1 0,-3.55A3.55,3.55 0 0,1 3.55,0Z\" style=\"opacity: 0.7; stroke-width: 1px; fill: rgb(141, 189, 59); fill-opacity: 1; stroke: rgb(255, 255, 255); stroke-opacity: 1;\"/><path class=\"point\" transform=\"translate(359.11,210.58)\" d=\"M9.21,0A9.21,9.21 0 1,1 0,-9.21A9.21,9.21 0 0,1 9.21,0Z\" style=\"opacity: 0.7; stroke-width: 1px; fill: rgb(87, 151, 49); fill-opacity: 1; stroke: rgb(255, 255, 255); stroke-opacity: 1;\"/><path class=\"point\" transform=\"translate(346.32,198.99)\" d=\"M9.28,0A9.28,9.28 0 1,1 0,-9.28A9.28,9.28 0 0,1 9.28,0Z\" style=\"opacity: 0.7; stroke-width: 1px; fill: rgb(86, 151, 49); fill-opacity: 1; stroke: rgb(255, 255, 255); stroke-opacity: 1;\"/><path class=\"point\" transform=\"translate(340.79,257.98)\" d=\"M5.66,0A5.66,5.66 0 1,1 0,-5.66A5.66,5.66 0 0,1 5.66,0Z\" style=\"opacity: 0.7; stroke-width: 1px; fill: rgb(127, 179, 56); fill-opacity: 1; stroke: rgb(255, 255, 255); stroke-opacity: 1;\"/><path class=\"point\" transform=\"translate(339.92,280.38)\" d=\"M3.59,0A3.59,3.59 0 1,1 0,-3.59A3.59,3.59 0 0,1 3.59,0Z\" style=\"opacity: 0.7; stroke-width: 1px; fill: rgb(141, 189, 59); fill-opacity: 1; stroke: rgb(255, 255, 255); stroke-opacity: 1;\"/><path class=\"point\" transform=\"translate(339.42,117.61)\" d=\"M8.31,0A8.31,8.31 0 1,1 0,-8.31A8.31,8.31 0 0,1 8.31,0Z\" style=\"opacity: 0.7; stroke-width: 1px; fill: rgb(99, 160, 51); fill-opacity: 1; stroke: rgb(255, 255, 255); stroke-opacity: 1;\"/><path class=\"point\" transform=\"translate(336.68,274.49)\" d=\"M3.91,0A3.91,3.91 0 1,1 0,-3.91A3.91,3.91 0 0,1 3.91,0Z\" style=\"opacity: 0.7; stroke-width: 1px; fill: rgb(139, 187, 58); fill-opacity: 1; stroke: rgb(255, 255, 255); stroke-opacity: 1;\"/><path class=\"point\" transform=\"translate(325.66,256.45)\" d=\"M5.74,0A5.74,5.74 0 1,1 0,-5.74A5.74,5.74 0 0,1 5.74,0Z\" style=\"opacity: 0.7; stroke-width: 1px; fill: rgb(126, 178, 56); fill-opacity: 1; stroke: rgb(255, 255, 255); stroke-opacity: 1;\"/><path class=\"point\" transform=\"translate(321.52,235.13)\" d=\"M6.84,0A6.84,6.84 0 1,1 0,-6.84A6.84,6.84 0 0,1 6.84,0Z\" style=\"opacity: 0.7; stroke-width: 1px; fill: rgb(116, 171, 54); fill-opacity: 1; stroke: rgb(255, 255, 255); stroke-opacity: 1;\"/><path class=\"point\" transform=\"translate(318.67,276.92)\" d=\"M3.45,0A3.45,3.45 0 1,1 0,-3.45A3.45,3.45 0 0,1 3.45,0Z\" style=\"opacity: 0.7; stroke-width: 1px; fill: rgb(142, 189, 59); fill-opacity: 1; stroke: rgb(255, 255, 255); stroke-opacity: 1;\"/><path class=\"point\" transform=\"translate(310.51,274.18)\" d=\"M4.73,0A4.73,4.73 0 1,1 0,-4.73A4.73,4.73 0 0,1 4.73,0Z\" style=\"opacity: 0.7; stroke-width: 1px; fill: rgb(134, 184, 57); fill-opacity: 1; stroke: rgb(255, 255, 255); stroke-opacity: 1;\"/><path class=\"point\" transform=\"translate(307.75,213.35)\" d=\"M8.86,0A8.86,8.86 0 1,1 0,-8.86A8.86,8.86 0 0,1 8.86,0Z\" style=\"opacity: 0.7; stroke-width: 1px; fill: rgb(92, 155, 50); fill-opacity: 1; stroke: rgb(255, 255, 255); stroke-opacity: 1;\"/><path class=\"point\" transform=\"translate(306.37,114.86)\" d=\"M11.87,0A11.87,11.87 0 1,1 0,-11.87A11.87,11.87 0 0,1 11.87,0Z\" style=\"opacity: 0.7; stroke-width: 1px; fill: rgb(45, 123, 42); fill-opacity: 1; stroke: rgb(255, 255, 255); stroke-opacity: 1;\"/><path class=\"point\" transform=\"translate(298.14,177.97)\" d=\"M8.32,0A8.32,8.32 0 1,1 0,-8.32A8.32,8.32 0 0,1 8.32,0Z\" style=\"opacity: 0.7; stroke-width: 1px; fill: rgb(99, 160, 51); fill-opacity: 1; stroke: rgb(255, 255, 255); stroke-opacity: 1;\"/><path class=\"point\" transform=\"translate(295.34,281.61)\" d=\"M3.61,0A3.61,3.61 0 1,1 0,-3.61A3.61,3.61 0 0,1 3.61,0Z\" style=\"opacity: 0.7; stroke-width: 1px; fill: rgb(141, 189, 59); fill-opacity: 1; stroke: rgb(255, 255, 255); stroke-opacity: 1;\"/><path class=\"point\" transform=\"translate(293.22,280.37)\" d=\"M3.97,0A3.97,3.97 0 1,1 0,-3.97A3.97,3.97 0 0,1 3.97,0Z\" style=\"opacity: 0.7; stroke-width: 1px; fill: rgb(139, 187, 58); fill-opacity: 1; stroke: rgb(255, 255, 255); stroke-opacity: 1;\"/><path class=\"point\" transform=\"translate(290.83,278.89)\" d=\"M3.46,0A3.46,3.46 0 1,1 0,-3.46A3.46,3.46 0 0,1 3.46,0Z\" style=\"opacity: 0.7; stroke-width: 1px; fill: rgb(142, 189, 59); fill-opacity: 1; stroke: rgb(255, 255, 255); stroke-opacity: 1;\"/><path class=\"point\" transform=\"translate(280.98,231.72)\" d=\"M6.65,0A6.65,6.65 0 1,1 0,-6.65A6.65,6.65 0 0,1 6.65,0Z\" style=\"opacity: 0.7; stroke-width: 1px; fill: rgb(118, 172, 55); fill-opacity: 1; stroke: rgb(255, 255, 255); stroke-opacity: 1;\"/><path class=\"point\" transform=\"translate(278.44,276.89)\" d=\"M4.85,0A4.85,4.85 0 1,1 0,-4.85A4.85,4.85 0 0,1 4.85,0Z\" style=\"opacity: 0.7; stroke-width: 1px; fill: rgb(133, 183, 57); fill-opacity: 1; stroke: rgb(255, 255, 255); stroke-opacity: 1;\"/><path class=\"point\" transform=\"translate(273.9,264.47)\" d=\"M5.29,0A5.29,5.29 0 1,1 0,-5.29A5.29,5.29 0 0,1 5.29,0Z\" style=\"opacity: 0.7; stroke-width: 1px; fill: rgb(130, 181, 57); fill-opacity: 1; stroke: rgb(255, 255, 255); stroke-opacity: 1;\"/><path class=\"point\" transform=\"translate(267.02,289.97)\" d=\"M2.86,0A2.86,2.86 0 1,1 0,-2.86A2.86,2.86 0 0,1 2.86,0Z\" style=\"opacity: 0.7; stroke-width: 1px; fill: rgb(145, 191, 59); fill-opacity: 1; stroke: rgb(255, 255, 255); stroke-opacity: 1;\"/><path class=\"point\" transform=\"translate(265.86,233.15)\" d=\"M7.7,0A7.7,7.7 0 1,1 0,-7.7A7.7,7.7 0 0,1 7.7,0Z\" style=\"opacity: 0.7; stroke-width: 1px; fill: rgb(106, 165, 53); fill-opacity: 1; stroke: rgb(255, 255, 255); stroke-opacity: 1;\"/><path class=\"point\" transform=\"translate(259.33,216.84)\" d=\"M7.44,0A7.44,7.44 0 1,1 0,-7.44A7.44,7.44 0 0,1 7.44,0Z\" style=\"opacity: 0.7; stroke-width: 1px; fill: rgb(109, 167, 53); fill-opacity: 1; stroke: rgb(255, 255, 255); stroke-opacity: 1;\"/><path class=\"point\" transform=\"translate(253.66,281.29)\" d=\"M3.29,0A3.29,3.29 0 1,1 0,-3.29A3.29,3.29 0 0,1 3.29,0Z\" style=\"opacity: 0.7; stroke-width: 1px; fill: rgb(143, 190, 59); fill-opacity: 1; stroke: rgb(255, 255, 255); stroke-opacity: 1;\"/><path class=\"point\" transform=\"translate(248.31,275.58)\" d=\"M4.15,0A4.15,4.15 0 1,1 0,-4.15A4.15,4.15 0 0,1 4.15,0Z\" style=\"opacity: 0.7; stroke-width: 1px; fill: rgb(138, 186, 58); fill-opacity: 1; stroke: rgb(255, 255, 255); stroke-opacity: 1;\"/><path class=\"point\" transform=\"translate(246.33,271.35)\" d=\"M4.2,0A4.2,4.2 0 1,1 0,-4.2A4.2,4.2 0 0,1 4.2,0Z\" style=\"opacity: 0.7; stroke-width: 1px; fill: rgb(138, 186, 58); fill-opacity: 1; stroke: rgb(255, 255, 255); stroke-opacity: 1;\"/><path class=\"point\" transform=\"translate(244,207.53)\" d=\"M7.57,0A7.57,7.57 0 1,1 0,-7.57A7.57,7.57 0 0,1 7.57,0Z\" style=\"opacity: 0.7; stroke-width: 1px; fill: rgb(108, 166, 53); fill-opacity: 1; stroke: rgb(255, 255, 255); stroke-opacity: 1;\"/><path class=\"point\" transform=\"translate(242.88,258.31)\" d=\"M5.58,0A5.58,5.58 0 1,1 0,-5.58A5.58,5.58 0 0,1 5.58,0Z\" style=\"opacity: 0.7; stroke-width: 1px; fill: rgb(127, 179, 56); fill-opacity: 1; stroke: rgb(255, 255, 255); stroke-opacity: 1;\"/><path class=\"point\" transform=\"translate(237.13,133.34)\" d=\"M11.91,0A11.91,11.91 0 1,1 0,-11.91A11.91,11.91 0 0,1 11.91,0Z\" style=\"opacity: 0.7; stroke-width: 1px; fill: rgb(44, 122, 42); fill-opacity: 1; stroke: rgb(255, 255, 255); stroke-opacity: 1;\"/><path class=\"point\" transform=\"translate(230.43,275.87)\" d=\"M4.52,0A4.52,4.52 0 1,1 0,-4.52A4.52,4.52 0 0,1 4.52,0Z\" style=\"opacity: 0.7; stroke-width: 1px; fill: rgb(135, 185, 58); fill-opacity: 1; stroke: rgb(255, 255, 255); stroke-opacity: 1;\"/><path class=\"point\" transform=\"translate(228.65,291.12)\" d=\"M1.86,0A1.86,1.86 0 1,1 0,-1.86A1.86,1.86 0 0,1 1.86,0Z\" style=\"opacity: 0.7; stroke-width: 1px; fill: rgb(148, 193, 60); fill-opacity: 1; stroke: rgb(255, 255, 255); stroke-opacity: 1;\"/><path class=\"point\" transform=\"translate(227.46,31.31)\" d=\"M14.14,0A14.14,14.14 0 1,1 0,-14.14A14.14,14.14 0 0,1 14.14,0Z\" style=\"opacity: 0.7; stroke-width: 1px; fill: rgb(0, 92, 34); fill-opacity: 1; stroke: rgb(255, 255, 255); stroke-opacity: 1;\"/><path class=\"point\" transform=\"translate(220.57,253.83)\" d=\"M5.01,0A5.01,5.01 0 1,1 0,-5.01A5.01,5.01 0 0,1 5.01,0Z\" style=\"opacity: 0.7; stroke-width: 1px; fill: rgb(132, 182, 57); fill-opacity: 1; stroke: rgb(255, 255, 255); stroke-opacity: 1;\"/><path class=\"point\" transform=\"translate(220.57,229.03)\" d=\"M5.9,0A5.9,5.9 0 1,1 0,-5.9A5.9,5.9 0 0,1 5.9,0Z\" style=\"opacity: 0.7; stroke-width: 1px; fill: rgb(125, 177, 56); fill-opacity: 1; stroke: rgb(255, 255, 255); stroke-opacity: 1;\"/><path class=\"point\" transform=\"translate(217.05,195.32)\" d=\"M7.95,0A7.95,7.95 0 1,1 0,-7.95A7.95,7.95 0 0,1 7.95,0Z\" style=\"opacity: 0.7; stroke-width: 1px; fill: rgb(103, 163, 52); fill-opacity: 1; stroke: rgb(255, 255, 255); stroke-opacity: 1;\"/><path class=\"point\" transform=\"translate(214.87,47.55)\" d=\"M13.47,0A13.47,13.47 0 1,1 0,-13.47A13.47,13.47 0 0,1 13.47,0Z\" style=\"opacity: 0.7; stroke-width: 1px; fill: rgb(14, 102, 36); fill-opacity: 1; stroke: rgb(255, 255, 255); stroke-opacity: 1;\"/><path class=\"point\" transform=\"translate(210.53,256.6)\" d=\"M5.27,0A5.27,5.27 0 1,1 0,-5.27A5.27,5.27 0 0,1 5.27,0Z\" style=\"opacity: 0.7; stroke-width: 1px; fill: rgb(130, 181, 57); fill-opacity: 1; stroke: rgb(255, 255, 255); stroke-opacity: 1;\"/><path class=\"point\" transform=\"translate(204.11,226.65)\" d=\"M6.38,0A6.38,6.38 0 1,1 0,-6.38A6.38,6.38 0 0,1 6.38,0Z\" style=\"opacity: 0.7; stroke-width: 1px; fill: rgb(120, 174, 55); fill-opacity: 1; stroke: rgb(255, 255, 255); stroke-opacity: 1;\"/><path class=\"point\" transform=\"translate(199.92,255.7)\" d=\"M4.98,0A4.98,4.98 0 1,1 0,-4.98A4.98,4.98 0 0,1 4.98,0Z\" style=\"opacity: 0.7; stroke-width: 1px; fill: rgb(132, 182, 57); fill-opacity: 1; stroke: rgb(255, 255, 255); stroke-opacity: 1;\"/><path class=\"point\" transform=\"translate(197.35,241.01)\" d=\"M7.17,0A7.17,7.17 0 1,1 0,-7.17A7.17,7.17 0 0,1 7.17,0Z\" style=\"opacity: 0.7; stroke-width: 1px; fill: rgb(112, 169, 54); fill-opacity: 1; stroke: rgb(255, 255, 255); stroke-opacity: 1;\"/><path class=\"point\" transform=\"translate(197.17,38.35)\" d=\"M13.36,0A13.36,13.36 0 1,1 0,-13.36A13.36,13.36 0 0,1 13.36,0Z\" style=\"opacity: 0.7; stroke-width: 1px; fill: rgb(16, 103, 37); fill-opacity: 1; stroke: rgb(255, 255, 255); stroke-opacity: 1;\"/><path class=\"point\" transform=\"translate(188.92,228.75)\" d=\"M6.49,0A6.49,6.49 0 1,1 0,-6.49A6.49,6.49 0 0,1 6.49,0Z\" style=\"opacity: 0.7; stroke-width: 1px; fill: rgb(119, 174, 55); fill-opacity: 1; stroke: rgb(255, 255, 255); stroke-opacity: 1;\"/><path class=\"point\" transform=\"translate(187.52,252.88)\" d=\"M5.18,0A5.18,5.18 0 1,1 0,-5.18A5.18,5.18 0 0,1 5.18,0Z\" style=\"opacity: 0.7; stroke-width: 1px; fill: rgb(131, 181, 57); fill-opacity: 1; stroke: rgb(255, 255, 255); stroke-opacity: 1;\"/><path class=\"point\" transform=\"translate(185.15,235.59)\" d=\"M6.93,0A6.93,6.93 0 1,1 0,-6.93A6.93,6.93 0 0,1 6.93,0Z\" style=\"opacity: 0.7; stroke-width: 1px; fill: rgb(115, 170, 54); fill-opacity: 1; stroke: rgb(255, 255, 255); stroke-opacity: 1;\"/><path class=\"point\" transform=\"translate(185.15,282.58)\" d=\"M2.77,0A2.77,2.77 0 1,1 0,-2.77A2.77,2.77 0 0,1 2.77,0Z\" style=\"opacity: 0.7; stroke-width: 1px; fill: rgb(145, 191, 59); fill-opacity: 1; stroke: rgb(255, 255, 255); stroke-opacity: 1;\"/><path class=\"point\" transform=\"translate(184.95,272)\" d=\"M3.82,0A3.82,3.82 0 1,1 0,-3.82A3.82,3.82 0 0,1 3.82,0Z\" style=\"opacity: 0.7; stroke-width: 1px; fill: rgb(140, 188, 58); fill-opacity: 1; stroke: rgb(255, 255, 255); stroke-opacity: 1;\"/><path class=\"point\" transform=\"translate(184.76,264.18)\" d=\"M4.37,0A4.37,4.37 0 1,1 0,-4.37A4.37,4.37 0 0,1 4.37,0Z\" style=\"opacity: 0.7; stroke-width: 1px; fill: rgb(136, 185, 58); fill-opacity: 1; stroke: rgb(255, 255, 255); stroke-opacity: 1;\"/><path class=\"point\" transform=\"translate(184.57,265.63)\" d=\"M4.37,0A4.37,4.37 0 1,1 0,-4.37A4.37,4.37 0 0,1 4.37,0Z\" style=\"opacity: 0.7; stroke-width: 1px; fill: rgb(136, 185, 58); fill-opacity: 1; stroke: rgb(255, 255, 255); stroke-opacity: 1;\"/><path class=\"point\" transform=\"translate(184.37,264.21)\" d=\"M4.23,0A4.23,4.23 0 1,1 0,-4.23A4.23,4.23 0 0,1 4.23,0Z\" style=\"opacity: 0.7; stroke-width: 1px; fill: rgb(137, 186, 58); fill-opacity: 1; stroke: rgb(255, 255, 255); stroke-opacity: 1;\"/><path class=\"point\" transform=\"translate(184.17,238.1)\" d=\"M6.09,0A6.09,6.09 0 1,1 0,-6.09A6.09,6.09 0 0,1 6.09,0Z\" style=\"opacity: 0.7; stroke-width: 1px; fill: rgb(123, 176, 55); fill-opacity: 1; stroke: rgb(255, 255, 255); stroke-opacity: 1;\"/><path class=\"point\" transform=\"translate(183.98,266.47)\" d=\"M4.32,0A4.32,4.32 0 1,1 0,-4.32A4.32,4.32 0 0,1 4.32,0Z\" style=\"opacity: 0.7; stroke-width: 1px; fill: rgb(137, 186, 58); fill-opacity: 1; stroke: rgb(255, 255, 255); stroke-opacity: 1;\"/><path class=\"point\" transform=\"translate(183.78,247.3)\" d=\"M5.6,0A5.6,5.6 0 1,1 0,-5.6A5.6,5.6 0 0,1 5.6,0Z\" style=\"opacity: 0.7; stroke-width: 1px; fill: rgb(127, 179, 56); fill-opacity: 1; stroke: rgb(255, 255, 255); stroke-opacity: 1;\"/><path class=\"point\" transform=\"translate(183.59,239.16)\" d=\"M6.32,0A6.32,6.32 0 1,1 0,-6.32A6.32,6.32 0 0,1 6.32,0Z\" style=\"opacity: 0.7; stroke-width: 1px; fill: rgb(121, 175, 55); fill-opacity: 1; stroke: rgb(255, 255, 255); stroke-opacity: 1;\"/><path class=\"point\" transform=\"translate(183.39,170.09)\" d=\"M10.05,0A10.05,10.05 0 1,1 0,-10.05A10.05,10.05 0 0,1 10.05,0Z\" style=\"opacity: 0.7; stroke-width: 1px; fill: rgb(75, 143, 47); fill-opacity: 1; stroke: rgb(255, 255, 255); stroke-opacity: 1;\"/><path class=\"point\" transform=\"translate(172.42,251.82)\" d=\"M5.42,0A5.42,5.42 0 1,1 0,-5.42A5.42,5.42 0 0,1 5.42,0Z\" style=\"opacity: 0.7; stroke-width: 1px; fill: rgb(129, 180, 56); fill-opacity: 1; stroke: rgb(255, 255, 255); stroke-opacity: 1;\"/><path class=\"point\" transform=\"translate(165.5,225.71)\" d=\"M7.11,0A7.11,7.11 0 1,1 0,-7.11A7.11,7.11 0 0,1 7.11,0Z\" style=\"opacity: 0.7; stroke-width: 1px; fill: rgb(113, 169, 54); fill-opacity: 1; stroke: rgb(255, 255, 255); stroke-opacity: 1;\"/><path class=\"point\" transform=\"translate(161.37,277.69)\" d=\"M3.88,0A3.88,3.88 0 1,1 0,-3.88A3.88,3.88 0 0,1 3.88,0Z\" style=\"opacity: 0.7; stroke-width: 1px; fill: rgb(139, 187, 58); fill-opacity: 1; stroke: rgb(255, 255, 255); stroke-opacity: 1;\"/><path class=\"point\" transform=\"translate(155.86,213.42)\" d=\"M6.98,0A6.98,6.98 0 1,1 0,-6.98A6.98,6.98 0 0,1 6.98,0Z\" style=\"opacity: 0.7; stroke-width: 1px; fill: rgb(114, 170, 54); fill-opacity: 1; stroke: rgb(255, 255, 255); stroke-opacity: 1;\"/><path class=\"point\" transform=\"translate(153.1,289.24)\" d=\"M2.3,0A2.3,2.3 0 1,1 0,-2.3A2.3,2.3 0 0,1 2.3,0Z\" style=\"opacity: 0.7; stroke-width: 1px; fill: rgb(147, 193, 60); fill-opacity: 1; stroke: rgb(255, 255, 255); stroke-opacity: 1;\"/><path class=\"point\" transform=\"translate(153.1,285)\" d=\"M1.56,0A1.56,1.56 0 1,1 0,-1.56A1.56,1.56 0 0,1 1.56,0Z\" style=\"opacity: 0.7; stroke-width: 1px; fill: rgb(149, 194, 60); fill-opacity: 1; stroke: rgb(255, 255, 255); stroke-opacity: 1;\"/><path class=\"point\" transform=\"translate(153.1,281.72)\" d=\"M3.12,0A3.12,3.12 0 1,1 0,-3.12A3.12,3.12 0 0,1 3.12,0Z\" style=\"opacity: 0.7; stroke-width: 1px; fill: rgb(144, 190, 59); fill-opacity: 1; stroke: rgb(255, 255, 255); stroke-opacity: 1;\"/><path class=\"point\" transform=\"translate(149.01,238.45)\" d=\"M6.76,0A6.76,6.76 0 1,1 0,-6.76A6.76,6.76 0 0,1 6.76,0Z\" style=\"opacity: 0.7; stroke-width: 1px; fill: rgb(116, 172, 54); fill-opacity: 1; stroke: rgb(255, 255, 255); stroke-opacity: 1;\"/><path class=\"point\" transform=\"translate(140.92,272.01)\" d=\"M4.79,0A4.79,4.79 0 1,1 0,-4.79A4.79,4.79 0 0,1 4.79,0Z\" style=\"opacity: 0.7; stroke-width: 1px; fill: rgb(134, 183, 57); fill-opacity: 1; stroke: rgb(255, 255, 255); stroke-opacity: 1;\"/><path class=\"point\" transform=\"translate(139.14,229.21)\" d=\"M6.22,0A6.22,6.22 0 1,1 0,-6.22A6.22,6.22 0 0,1 6.22,0Z\" style=\"opacity: 0.7; stroke-width: 1px; fill: rgb(122, 175, 55); fill-opacity: 1; stroke: rgb(255, 255, 255); stroke-opacity: 1;\"/><path class=\"point\" transform=\"translate(138.35,266.72)\" d=\"M3.84,0A3.84,3.84 0 1,1 0,-3.84A3.84,3.84 0 0,1 3.84,0Z\" style=\"opacity: 0.7; stroke-width: 1px; fill: rgb(140, 188, 58); fill-opacity: 1; stroke: rgb(255, 255, 255); stroke-opacity: 1;\"/><path class=\"point\" transform=\"translate(136.27,275.87)\" d=\"M3.03,0A3.03,3.03 0 1,1 0,-3.03A3.03,3.03 0 0,1 3.03,0Z\" style=\"opacity: 0.7; stroke-width: 1px; fill: rgb(144, 191, 59); fill-opacity: 1; stroke: rgb(255, 255, 255); stroke-opacity: 1;\"/><path class=\"point\" transform=\"translate(136.27,267.53)\" d=\"M3.55,0A3.55,3.55 0 1,1 0,-3.55A3.55,3.55 0 0,1 3.55,0Z\" style=\"opacity: 0.7; stroke-width: 1px; fill: rgb(141, 189, 59); fill-opacity: 1; stroke: rgb(255, 255, 255); stroke-opacity: 1;\"/><path class=\"point\" transform=\"translate(134.82,257.84)\" d=\"M4.4,0A4.4,4.4 0 1,1 0,-4.4A4.4,4.4 0 0,1 4.4,0Z\" style=\"opacity: 0.7; stroke-width: 1px; fill: rgb(136, 185, 58); fill-opacity: 1; stroke: rgb(255, 255, 255); stroke-opacity: 1;\"/><path class=\"point\" transform=\"translate(133.27,270.2)\" d=\"M3.39,0A3.39,3.39 0 1,1 0,-3.39A3.39,3.39 0 0,1 3.39,0Z\" style=\"opacity: 0.7; stroke-width: 1px; fill: rgb(142, 189, 59); fill-opacity: 1; stroke: rgb(255, 255, 255); stroke-opacity: 1;\"/><path class=\"point\" transform=\"translate(133.07,252.38)\" d=\"M4.89,0A4.89,4.89 0 1,1 0,-4.89A4.89,4.89 0 0,1 4.89,0Z\" style=\"opacity: 0.7; stroke-width: 1px; fill: rgb(133, 183, 57); fill-opacity: 1; stroke: rgb(255, 255, 255); stroke-opacity: 1;\"/><path class=\"point\" transform=\"translate(132.09,236.83)\" d=\"M5.98,0A5.98,5.98 0 1,1 0,-5.98A5.98,5.98 0 0,1 5.98,0Z\" style=\"opacity: 0.7; stroke-width: 1px; fill: rgb(124, 177, 56); fill-opacity: 1; stroke: rgb(255, 255, 255); stroke-opacity: 1;\"/><path class=\"point\" transform=\"translate(131.89,265.3)\" d=\"M3.67,0A3.67,3.67 0 1,1 0,-3.67A3.67,3.67 0 0,1 3.67,0Z\" style=\"opacity: 0.7; stroke-width: 1px; fill: rgb(141, 188, 59); fill-opacity: 1; stroke: rgb(255, 255, 255); stroke-opacity: 1;\"/><path class=\"point\" transform=\"translate(131.69,247.76)\" d=\"M5.19,0A5.19,5.19 0 1,1 0,-5.19A5.19,5.19 0 0,1 5.19,0Z\" style=\"opacity: 0.7; stroke-width: 1px; fill: rgb(131, 181, 57); fill-opacity: 1; stroke: rgb(255, 255, 255); stroke-opacity: 1;\"/><path class=\"point\" transform=\"translate(131.49,222.36)\" d=\"M6.57,0A6.57,6.57 0 1,1 0,-6.57A6.57,6.57 0 0,1 6.57,0Z\" style=\"opacity: 0.7; stroke-width: 1px; fill: rgb(118, 173, 55); fill-opacity: 1; stroke: rgb(255, 255, 255); stroke-opacity: 1;\"/><path class=\"point\" transform=\"translate(131.31,220.06)\" d=\"M6.32,0A6.32,6.32 0 1,1 0,-6.32A6.32,6.32 0 0,1 6.32,0Z\" style=\"opacity: 0.7; stroke-width: 1px; fill: rgb(121, 175, 55); fill-opacity: 1; stroke: rgb(255, 255, 255); stroke-opacity: 1;\"/><path class=\"point\" transform=\"translate(131.12,174.89)\" d=\"M8.1,0A8.1,8.1 0 1,1 0,-8.1A8.1,8.1 0 0,1 8.1,0Z\" style=\"opacity: 0.7; stroke-width: 1px; fill: rgb(101, 161, 52); fill-opacity: 1; stroke: rgb(255, 255, 255); stroke-opacity: 1;\"/><path class=\"point\" transform=\"translate(130.93,249.78)\" d=\"M4.61,0A4.61,4.61 0 1,1 0,-4.61A4.61,4.61 0 0,1 4.61,0Z\" style=\"opacity: 0.7; stroke-width: 1px; fill: rgb(135, 184, 58); fill-opacity: 1; stroke: rgb(255, 255, 255); stroke-opacity: 1;\"/><path class=\"point\" transform=\"translate(123.1,277.85)\" d=\"M4.14,0A4.14,4.14 0 1,1 0,-4.14A4.14,4.14 0 0,1 4.14,0Z\" style=\"opacity: 0.7; stroke-width: 1px; fill: rgb(138, 186, 58); fill-opacity: 1; stroke: rgb(255, 255, 255); stroke-opacity: 1;\"/><path class=\"point\" transform=\"translate(106.3,290.84)\" d=\"M1.79,0A1.79,1.79 0 1,1 0,-1.79A1.79,1.79 0 0,1 1.79,0Z\" style=\"opacity: 0.7; stroke-width: 1px; fill: rgb(148, 194, 60); fill-opacity: 1; stroke: rgb(255, 255, 255); stroke-opacity: 1;\"/><path class=\"point\" transform=\"translate(106.3,271.23)\" d=\"M3.99,0A3.99,3.99 0 1,1 0,-3.99A3.99,3.99 0 0,1 3.99,0Z\" style=\"opacity: 0.7; stroke-width: 1px; fill: rgb(139, 187, 58); fill-opacity: 1; stroke: rgb(255, 255, 255); stroke-opacity: 1;\"/><path class=\"point\" transform=\"translate(91.38,254.49)\" d=\"M5.07,0A5.07,5.07 0 1,1 0,-5.07A5.07,5.07 0 0,1 5.07,0Z\" style=\"opacity: 0.7; stroke-width: 1px; fill: rgb(131, 182, 57); fill-opacity: 1; stroke: rgb(255, 255, 255); stroke-opacity: 1;\"/><path class=\"point\" transform=\"translate(70.73,265.22)\" d=\"M4.72,0A4.72,4.72 0 1,1 0,-4.72A4.72,4.72 0 0,1 4.72,0Z\" style=\"opacity: 0.7; stroke-width: 1px; fill: rgb(134, 184, 57); fill-opacity: 1; stroke: rgb(255, 255, 255); stroke-opacity: 1;\"/><path class=\"point\" transform=\"translate(67.74,285.33)\" d=\"M2.79,0A2.79,2.79 0 1,1 0,-2.79A2.79,2.79 0 0,1 2.79,0Z\" style=\"opacity: 0.7; stroke-width: 1px; fill: rgb(145, 191, 59); fill-opacity: 1; stroke: rgb(255, 255, 255); stroke-opacity: 1;\"/><path class=\"point\" transform=\"translate(60.69,219.45)\" d=\"M6.72,0A6.72,6.72 0 1,1 0,-6.72A6.72,6.72 0 0,1 6.72,0Z\" style=\"opacity: 0.7; stroke-width: 1px; fill: rgb(117, 172, 54); fill-opacity: 1; stroke: rgb(255, 255, 255); stroke-opacity: 1;\"/><path class=\"point\" transform=\"translate(50.1,285)\" d=\"M2.48,0A2.48,2.48 0 1,1 0,-2.48A2.48,2.48 0 0,1 2.48,0Z\" style=\"opacity: 0.7; stroke-width: 1px; fill: rgb(146, 192, 60); fill-opacity: 1; stroke: rgb(255, 255, 255); stroke-opacity: 1;\"/><path class=\"point\" transform=\"translate(44.58,282.24)\" d=\"M3.26,0A3.26,3.26 0 1,1 0,-3.26A3.26,3.26 0 0,1 3.26,0Z\" style=\"opacity: 0.7; stroke-width: 1px; fill: rgb(143, 190, 59); fill-opacity: 1; stroke: rgb(255, 255, 255); stroke-opacity: 1;\"/><path class=\"point\" transform=\"translate(36.15,282.4)\" d=\"M2.67,0A2.67,2.67 0 1,1 0,-2.67A2.67,2.67 0 0,1 2.67,0Z\" style=\"opacity: 0.7; stroke-width: 1px; fill: rgb(145, 192, 59); fill-opacity: 1; stroke: rgb(255, 255, 255); stroke-opacity: 1;\"/><path class=\"point\" transform=\"translate(28.85,291.5)\" d=\"M1.67,0A1.67,1.67 0 1,1 0,-1.67A1.67,1.67 0 0,1 1.67,0Z\" style=\"opacity: 0.7; stroke-width: 1px; fill: rgb(149, 194, 60); fill-opacity: 1; stroke: rgb(255, 255, 255); stroke-opacity: 1;\"/></g><g class=\"text\"/></g></g></g><g class=\"overplot\"/><path class=\"xlines-above crisp\" d=\"M0,0\" style=\"fill: none;\"/><path class=\"ylines-above crisp\" d=\"M0,0\" style=\"fill: none;\"/><g class=\"overlines-above\"/><g class=\"xaxislayer-above\"><g class=\"xtick\"><text text-anchor=\"middle\" x=\"0\" y=\"383\" transform=\"translate(96.4,0)\" style=\"font-family: 'Open Sans', verdana, arial, sans-serif; font-size: 12px; fill: rgb(42, 63, 95); fill-opacity: 1; white-space: pre;\">2015</text></g><g class=\"xtick\"><text text-anchor=\"middle\" x=\"0\" y=\"383\" transform=\"translate(168.22,0)\" style=\"font-family: 'Open Sans', verdana, arial, sans-serif; font-size: 12px; fill: rgb(42, 63, 95); fill-opacity: 1; white-space: pre;\">2016</text></g><g class=\"xtick\"><text text-anchor=\"middle\" x=\"0\" y=\"383\" transform=\"translate(240.24,0)\" style=\"font-family: 'Open Sans', verdana, arial, sans-serif; font-size: 12px; fill: rgb(42, 63, 95); fill-opacity: 1; white-space: pre;\">2017</text></g><g class=\"xtick\"><text text-anchor=\"middle\" x=\"0\" y=\"383\" transform=\"translate(312.06,0)\" style=\"font-family: 'Open Sans', verdana, arial, sans-serif; font-size: 12px; fill: rgb(42, 63, 95); fill-opacity: 1; white-space: pre;\">2018</text></g><g class=\"xtick\"><text text-anchor=\"middle\" x=\"0\" y=\"383\" transform=\"translate(383.88,0)\" style=\"font-family: 'Open Sans', verdana, arial, sans-serif; font-size: 12px; fill: rgb(42, 63, 95); fill-opacity: 1; white-space: pre;\">2019</text></g><g class=\"xtick\"><text text-anchor=\"middle\" x=\"0\" y=\"383\" transform=\"translate(455.7,0)\" style=\"font-family: 'Open Sans', verdana, arial, sans-serif; font-size: 12px; fill: rgb(42, 63, 95); fill-opacity: 1; white-space: pre;\">2020</text></g><g class=\"xtick\"><text text-anchor=\"middle\" x=\"0\" y=\"383\" transform=\"translate(527.72,0)\" style=\"font-family: 'Open Sans', verdana, arial, sans-serif; font-size: 12px; fill: rgb(42, 63, 95); fill-opacity: 1; white-space: pre;\">2021</text></g></g><g class=\"yaxislayer-above\"><g class=\"ytick\"><text text-anchor=\"end\" x=\"79\" y=\"4.199999999999999\" transform=\"translate(0,354.79)\" style=\"font-family: 'Open Sans', verdana, arial, sans-serif; font-size: 12px; fill: rgb(42, 63, 95); fill-opacity: 1; white-space: pre;\">0</text></g><g class=\"ytick\"><text text-anchor=\"end\" x=\"79\" y=\"4.199999999999999\" transform=\"translate(0,302.65)\" style=\"font-family: 'Open Sans', verdana, arial, sans-serif; font-size: 12px; fill: rgb(42, 63, 95); fill-opacity: 1; white-space: pre;\">2M</text></g><g class=\"ytick\"><text text-anchor=\"end\" x=\"79\" y=\"4.199999999999999\" transform=\"translate(0,250.52)\" style=\"font-family: 'Open Sans', verdana, arial, sans-serif; font-size: 12px; fill: rgb(42, 63, 95); fill-opacity: 1; white-space: pre;\">4M</text></g><g class=\"ytick\"><text text-anchor=\"end\" x=\"79\" y=\"4.199999999999999\" transform=\"translate(0,198.39)\" style=\"font-family: 'Open Sans', verdana, arial, sans-serif; font-size: 12px; fill: rgb(42, 63, 95); fill-opacity: 1; white-space: pre;\">6M</text></g><g class=\"ytick\"><text text-anchor=\"end\" x=\"79\" y=\"4.199999999999999\" transform=\"translate(0,146.25)\" style=\"font-family: 'Open Sans', verdana, arial, sans-serif; font-size: 12px; fill: rgb(42, 63, 95); fill-opacity: 1; white-space: pre;\">8M</text></g><g class=\"ytick\"><text text-anchor=\"end\" x=\"79\" y=\"4.199999999999999\" transform=\"translate(0,94.12)\" style=\"font-family: 'Open Sans', verdana, arial, sans-serif; font-size: 12px; fill: rgb(42, 63, 95); fill-opacity: 1; white-space: pre;\">10M</text></g></g><g class=\"overaxes-above\"/></g></g><g class=\"polarlayer\"/><g class=\"ternarylayer\"/><g class=\"geolayer\"/><g class=\"funnelarealayer\"/><g class=\"pielayer\"/><g class=\"treemaplayer\"/><g class=\"sunburstlayer\"/><g class=\"glimages\"/><defs id=\"topdefs-43ebb8\"><g class=\"clips\"/></defs><g class=\"layer-above\"><g class=\"imagelayer\"/><g class=\"shapelayer\"/></g><g class=\"infolayer\"><g class=\"cbcoloraxis colorbar\" transform=\"translate(80,60)\"><rect class=\"cbbg\" x=\"527\" y=\"0\" width=\"80.90625\" height=\"310\" style=\"fill: rgb(0, 0, 0); fill-opacity: 0; stroke: rgb(68, 68, 68); stroke-opacity: 1; stroke-width: 0;\"/><g class=\"cbfills\" transform=\"translate(0,30)\"><rect class=\"cbfill\" x=\"537\" width=\"30\" y=\"0\" height=\"270\" style=\"fill: url('#g43ebb8-cbcoloraxis');\"/></g><g class=\"cblines\" transform=\"translate(0,30)\"/><g class=\"cbaxis crisp\" transform=\"translate(0,-60)\"><g class=\"ycbcoloraxistick\"><text text-anchor=\"start\" x=\"569.9\" y=\"4.199999999999999\" transform=\"translate(0,312.51)\" style=\"font-family: 'Open Sans', verdana, arial, sans-serif; font-size: 12px; fill: rgb(42, 63, 95); fill-opacity: 1; white-space: pre;\">50k</text></g><g class=\"ycbcoloraxistick\"><text text-anchor=\"start\" x=\"569.9\" y=\"4.199999999999999\" transform=\"translate(0,261.66999999999996)\" style=\"font-family: 'Open Sans', verdana, arial, sans-serif; font-size: 12px; fill: rgb(42, 63, 95); fill-opacity: 1; white-space: pre;\">100k</text></g><g class=\"ycbcoloraxistick\"><text text-anchor=\"start\" x=\"569.9\" y=\"4.199999999999999\" transform=\"translate(0,210.83999999999997)\" style=\"font-family: 'Open Sans', verdana, arial, sans-serif; font-size: 12px; fill: rgb(42, 63, 95); fill-opacity: 1; white-space: pre;\">150k</text></g><g class=\"ycbcoloraxistick\"><text text-anchor=\"start\" x=\"569.9\" y=\"4.199999999999999\" transform=\"translate(0,160.01)\" style=\"font-family: 'Open Sans', verdana, arial, sans-serif; font-size: 12px; fill: rgb(42, 63, 95); fill-opacity: 1; white-space: pre;\">200k</text></g><g class=\"ycbcoloraxistick\"><text text-anchor=\"start\" x=\"569.9\" y=\"4.199999999999999\" transform=\"translate(0,109.17999999999998)\" style=\"font-family: 'Open Sans', verdana, arial, sans-serif; font-size: 12px; fill: rgb(42, 63, 95); fill-opacity: 1; white-space: pre;\">250k</text></g></g><g class=\"cbtitleunshift\" transform=\"translate(-80,-60)\"><g class=\"cbtitle\" transform=\"translate(0,0)\"><text class=\"ycbcoloraxistitle\" x=\"617.34\" y=\"81.99999999999999\" text-anchor=\"start\" style=\"font-family: 'Open Sans', verdana, arial, sans-serif; font-size: 12px; fill: rgb(42, 63, 95); opacity: 1; font-weight: normal; white-space: pre;\">likes</text></g></g><rect class=\"cboutline\" x=\"537\" y=\"30\" width=\"30\" height=\"270\" style=\"stroke: rgb(68, 68, 68); stroke-opacity: 1; fill: none; stroke-width: 0;\"/></g><g class=\"g-gtitle\"/><g class=\"g-xtitle\"><text class=\"xtitle\" x=\"338.5\" y=\"410.8\" text-anchor=\"middle\" style=\"font-family: 'Open Sans', verdana, arial, sans-serif; font-size: 14px; fill: rgb(42, 63, 95); opacity: 1; font-weight: normal; white-space: pre;\">publication date</text></g><g class=\"g-ytitle\"><text class=\"ytitle\" transform=\"rotate(-90,28.825000000000003,215)\" x=\"28.825000000000003\" y=\"215\" text-anchor=\"middle\" style=\"font-family: 'Open Sans', verdana, arial, sans-serif; font-size: 14px; fill: rgb(42, 63, 95); opacity: 1; font-weight: normal; white-space: pre;\">views</text></g></g></svg>"
      ]
     },
     "metadata": {},
     "output_type": "display_data"
    }
   ],
   "source": [
    "fig = df.plot(x='publication date', \n",
    "              y='views', \n",
    "              kind='scatter', \n",
    "              size='likes', \n",
    "              color=\"likes\", \n",
    "              color_continuous_scale=[[0.0, \"rgb(149, 194, 60)\"],\n",
    "                                      [1, \"rgb(0, 92, 34)\"]])\n",
    "fig.show(\"svg\")"
   ]
  },
  {
   "cell_type": "code",
   "execution_count": 148,
   "metadata": {},
   "outputs": [
    {
     "data": {
      "image/svg+xml": [
       "<svg class=\"main-svg\" xmlns=\"http://www.w3.org/2000/svg\" xmlns:xlink=\"http://www.w3.org/1999/xlink\" width=\"700\" height=\"450\" style=\"\" viewBox=\"0 0 700 450\"><rect x=\"0\" y=\"0\" width=\"700\" height=\"450\" style=\"fill: rgb(255, 255, 255); fill-opacity: 1;\"/><defs id=\"defs-8a9242\"><g class=\"clips\"><clipPath id=\"clip8a9242xyplot\" class=\"plotclip\"><rect width=\"517\" height=\"310\"/></clipPath><clipPath class=\"axesclip\" id=\"clip8a9242x\"><rect x=\"80\" y=\"0\" width=\"517\" height=\"450\"/></clipPath><clipPath class=\"axesclip\" id=\"clip8a9242y\"><rect x=\"0\" y=\"60\" width=\"700\" height=\"310\"/></clipPath><clipPath class=\"axesclip\" id=\"clip8a9242xy\"><rect x=\"80\" y=\"60\" width=\"517\" height=\"310\"/></clipPath></g><g class=\"gradients\"><linearGradient x1=\"0\" x2=\"0\" y1=\"1\" y2=\"0\" id=\"g8a9242-cbcoloraxis\"><stop offset=\"0%\" stop-color=\"rgb(7, 159, 224)\" stop-opacity=\"1\"/><stop offset=\"100%\" stop-color=\"rgb(61, 8, 84)\" stop-opacity=\"1\"/></linearGradient></g></defs><g class=\"bglayer\"><rect class=\"bg\" x=\"80\" y=\"60\" width=\"517\" height=\"310\" style=\"fill: rgb(229, 236, 246); fill-opacity: 1; stroke-width: 0;\"/></g><g class=\"layer-below\"><g class=\"imagelayer\"/><g class=\"shapelayer\"/></g><g class=\"cartesianlayer\"><g class=\"subplot xy\"><g class=\"layer-subplot\"><g class=\"shapelayer\"/><g class=\"imagelayer\"/></g><g class=\"gridlayer\"><g class=\"x\"><path class=\"xgrid crisp\" transform=\"translate(202.01999999999998,0)\" d=\"M0,60v310\" style=\"stroke: rgb(255, 255, 255); stroke-opacity: 1; stroke-width: 1px;\"/><path class=\"xgrid crisp\" transform=\"translate(300.43,0)\" d=\"M0,60v310\" style=\"stroke: rgb(255, 255, 255); stroke-opacity: 1; stroke-width: 1px;\"/><path class=\"xgrid crisp\" transform=\"translate(398.85,0)\" d=\"M0,60v310\" style=\"stroke: rgb(255, 255, 255); stroke-opacity: 1; stroke-width: 1px;\"/><path class=\"xgrid crisp\" transform=\"translate(497.26,0)\" d=\"M0,60v310\" style=\"stroke: rgb(255, 255, 255); stroke-opacity: 1; stroke-width: 1px;\"/><path class=\"xgrid crisp\" transform=\"translate(595.68,0)\" d=\"M0,60v310\" style=\"stroke: rgb(255, 255, 255); stroke-opacity: 1; stroke-width: 1px;\"/></g><g class=\"y\"><path class=\"ygrid crisp\" transform=\"translate(0,302.65)\" d=\"M80,0h517\" style=\"stroke: rgb(255, 255, 255); stroke-opacity: 1; stroke-width: 1px;\"/><path class=\"ygrid crisp\" transform=\"translate(0,250.52)\" d=\"M80,0h517\" style=\"stroke: rgb(255, 255, 255); stroke-opacity: 1; stroke-width: 1px;\"/><path class=\"ygrid crisp\" transform=\"translate(0,198.39)\" d=\"M80,0h517\" style=\"stroke: rgb(255, 255, 255); stroke-opacity: 1; stroke-width: 1px;\"/><path class=\"ygrid crisp\" transform=\"translate(0,146.25)\" d=\"M80,0h517\" style=\"stroke: rgb(255, 255, 255); stroke-opacity: 1; stroke-width: 1px;\"/><path class=\"ygrid crisp\" transform=\"translate(0,94.12)\" d=\"M80,0h517\" style=\"stroke: rgb(255, 255, 255); stroke-opacity: 1; stroke-width: 1px;\"/></g></g><g class=\"zerolinelayer\"><path class=\"xzl zl crisp\" transform=\"translate(103.6,0)\" d=\"M0,60v310\" style=\"stroke: rgb(255, 255, 255); stroke-opacity: 1; stroke-width: 2px;\"/><path class=\"yzl zl crisp\" transform=\"translate(0,354.79)\" d=\"M80,0h517\" style=\"stroke: rgb(255, 255, 255); stroke-opacity: 1; stroke-width: 2px;\"/></g><path class=\"xlines-below\"/><path class=\"ylines-below\"/><g class=\"overlines-below\"/><g class=\"xaxislayer-below\"/><g class=\"yaxislayer-below\"/><g class=\"overaxes-below\"/><g class=\"plot\" transform=\"translate(80, 60)\" clip-path=\"url('#clip8a9242xyplot')\"><g class=\"scatterlayer mlayer\"><g class=\"trace scatter trace8b9cf7\" style=\"stroke-miterlimit: 2; opacity: 1;\"><g class=\"fills\"/><g class=\"errorbars\"/><g class=\"lines\"/><g class=\"points\"><path class=\"point\" transform=\"translate(143.42,283.66)\" d=\"M4.22,0A4.22,4.22 0 1,1 0,-4.22A4.22,4.22 0 0,1 4.22,0Z\" style=\"opacity: 0.7; stroke-width: 1px; fill: rgb(11, 147, 213); fill-opacity: 1; stroke: rgb(255, 255, 255); stroke-opacity: 1;\"/><path class=\"point\" transform=\"translate(88.64,286.18)\" d=\"M3.36,0A3.36,3.36 0 1,1 0,-3.36A3.36,3.36 0 0,1 3.36,0Z\" style=\"opacity: 0.7; stroke-width: 1px; fill: rgb(9, 152, 218); fill-opacity: 1; stroke: rgb(255, 255, 255); stroke-opacity: 1;\"/><path class=\"point\" transform=\"translate(157.04,269.48)\" d=\"M5.63,0A5.63,5.63 0 1,1 0,-5.63A5.63,5.63 0 0,1 5.63,0Z\" style=\"opacity: 0.7; stroke-width: 1px; fill: rgb(15, 137, 203); fill-opacity: 1; stroke: rgb(255, 255, 255); stroke-opacity: 1;\"/><path class=\"point\" transform=\"translate(128.09,278.76)\" d=\"M4.88,0A4.88,4.88 0 1,1 0,-4.88A4.88,4.88 0 0,1 4.88,0Z\" style=\"opacity: 0.7; stroke-width: 1px; fill: rgb(13, 143, 209); fill-opacity: 1; stroke: rgb(255, 255, 255); stroke-opacity: 1;\"/><path class=\"point\" transform=\"translate(106.43,282.22)\" d=\"M4.23,0A4.23,4.23 0 1,1 0,-4.23A4.23,4.23 0 0,1 4.23,0Z\" style=\"opacity: 0.7; stroke-width: 1px; fill: rgb(11, 147, 213); fill-opacity: 1; stroke: rgb(255, 255, 255); stroke-opacity: 1;\"/><path class=\"point\" transform=\"translate(122.43,271.41)\" d=\"M5.41,0A5.41,5.41 0 1,1 0,-5.41A5.41,5.41 0 0,1 5.41,0Z\" style=\"opacity: 0.7; stroke-width: 1px; fill: rgb(14, 139, 205); fill-opacity: 1; stroke: rgb(255, 255, 255); stroke-opacity: 1;\"/><path class=\"point\" transform=\"translate(131.69,252.03)\" d=\"M7.68,0A7.68,7.68 0 1,1 0,-7.68A7.68,7.68 0 0,1 7.68,0Z\" style=\"opacity: 0.7; stroke-width: 1px; fill: rgb(22, 116, 184); fill-opacity: 1; stroke: rgb(255, 255, 255); stroke-opacity: 1;\"/><path class=\"point\" transform=\"translate(115.62,273.63)\" d=\"M4.53,0A4.53,4.53 0 1,1 0,-4.53A4.53,4.53 0 0,1 4.53,0Z\" style=\"opacity: 0.7; stroke-width: 1px; fill: rgb(12, 145, 211); fill-opacity: 1; stroke: rgb(255, 255, 255); stroke-opacity: 1;\"/><path class=\"point\" transform=\"translate(359.86,281.05)\" d=\"M3.5,0A3.5,3.5 0 1,1 0,-3.5A3.5,3.5 0 0,1 3.5,0Z\" style=\"opacity: 0.7; stroke-width: 1px; fill: rgb(10, 152, 217); fill-opacity: 1; stroke: rgb(255, 255, 255); stroke-opacity: 1;\"/><path class=\"point\" transform=\"translate(385.94,287.09)\" d=\"M2.31,0A2.31,2.31 0 1,1 0,-2.31A2.31,2.31 0 0,1 2.31,0Z\" style=\"opacity: 0.7; stroke-width: 1px; fill: rgb(8, 157, 222); fill-opacity: 1; stroke: rgb(255, 255, 255); stroke-opacity: 1;\"/><path class=\"point\" transform=\"translate(59.6,286.5)\" d=\"M4.07,0A4.07,4.07 0 1,1 0,-4.07A4.07,4.07 0 0,1 4.07,0Z\" style=\"opacity: 0.7; stroke-width: 1px; fill: rgb(11, 148, 214); fill-opacity: 1; stroke: rgb(255, 255, 255); stroke-opacity: 1;\"/><path class=\"point\" transform=\"translate(288.5,282.84)\" d=\"M3.07,0A3.07,3.07 0 1,1 0,-3.07A3.07,3.07 0 0,1 3.07,0Z\" style=\"opacity: 0.7; stroke-width: 1px; fill: rgb(9, 154, 219); fill-opacity: 1; stroke: rgb(255, 255, 255); stroke-opacity: 1;\"/><path class=\"point\" transform=\"translate(392.25,275.6)\" d=\"M3.48,0A3.48,3.48 0 1,1 0,-3.48A3.48,3.48 0 0,1 3.48,0Z\" style=\"opacity: 0.7; stroke-width: 1px; fill: rgb(10, 152, 217); fill-opacity: 1; stroke: rgb(255, 255, 255); stroke-opacity: 1;\"/><path class=\"point\" transform=\"translate(487.96,283.38)\" d=\"M2.85,0A2.85,2.85 0 1,1 0,-2.85A2.85,2.85 0 0,1 2.85,0Z\" style=\"opacity: 0.7; stroke-width: 1px; fill: rgb(9, 155, 220); fill-opacity: 1; stroke: rgb(255, 255, 255); stroke-opacity: 1;\"/><path class=\"point\" transform=\"translate(275.87,280.73)\" d=\"M3.61,0A3.61,3.61 0 1,1 0,-3.61A3.61,3.61 0 0,1 3.61,0Z\" style=\"opacity: 0.7; stroke-width: 1px; fill: rgb(10, 151, 217); fill-opacity: 1; stroke: rgb(255, 255, 255); stroke-opacity: 1;\"/><path class=\"point\" transform=\"translate(460.32,270.08)\" d=\"M4.1,0A4.1,4.1 0 1,1 0,-4.1A4.1,4.1 0 0,1 4.1,0Z\" style=\"opacity: 0.7; stroke-width: 1px; fill: rgb(11, 148, 214); fill-opacity: 1; stroke: rgb(255, 255, 255); stroke-opacity: 1;\"/><path class=\"point\" transform=\"translate(384.3,274.94)\" d=\"M4.13,0A4.13,4.13 0 1,1 0,-4.13A4.13,4.13 0 0,1 4.13,0Z\" style=\"opacity: 0.7; stroke-width: 1px; fill: rgb(11, 148, 214); fill-opacity: 1; stroke: rgb(255, 255, 255); stroke-opacity: 1;\"/><path class=\"point\" transform=\"translate(280.38,271.56)\" d=\"M5.25,0A5.25,5.25 0 1,1 0,-5.25A5.25,5.25 0 0,1 5.25,0Z\" style=\"opacity: 0.7; stroke-width: 1px; fill: rgb(14, 140, 206); fill-opacity: 1; stroke: rgb(255, 255, 255); stroke-opacity: 1;\"/><path class=\"point\" transform=\"translate(34.51,276.37)\" d=\"M5.86,0A5.86,5.86 0 1,1 0,-5.86A5.86,5.86 0 0,1 5.86,0Z\" style=\"opacity: 0.7; stroke-width: 1px; fill: rgb(16, 135, 201); fill-opacity: 1; stroke: rgb(255, 255, 255); stroke-opacity: 1;\"/><path class=\"point\" transform=\"translate(72.89,249.61)\" d=\"M6.07,0A6.07,6.07 0 1,1 0,-6.07A6.07,6.07 0 0,1 6.07,0Z\" style=\"opacity: 0.7; stroke-width: 1px; fill: rgb(16, 133, 200); fill-opacity: 1; stroke: rgb(255, 255, 255); stroke-opacity: 1;\"/><path class=\"point\" transform=\"translate(137.76,175.79)\" d=\"M10.54,0A10.54,10.54 0 1,1 0,-10.54A10.54,10.54 0 0,1 10.54,0Z\" style=\"opacity: 0.7; stroke-width: 1px; fill: rgb(37, 76, 147); fill-opacity: 1; stroke: rgb(255, 255, 255); stroke-opacity: 1;\"/><path class=\"point\" transform=\"translate(85.44,258.74)\" d=\"M6.64,0A6.64,6.64 0 1,1 0,-6.64A6.64,6.64 0 0,1 6.64,0Z\" style=\"opacity: 0.7; stroke-width: 1px; fill: rgb(18, 127, 194); fill-opacity: 1; stroke: rgb(255, 255, 255); stroke-opacity: 1;\"/><path class=\"point\" transform=\"translate(67.64,144.42)\" d=\"M11.12,0A11.12,11.12 0 1,1 0,-11.12A11.12,11.12 0 0,1 11.12,0Z\" style=\"opacity: 0.7; stroke-width: 1px; fill: rgb(40, 66, 138); fill-opacity: 1; stroke: rgb(255, 255, 255); stroke-opacity: 1;\"/><path class=\"point\" transform=\"translate(42.3,285.39)\" d=\"M2.93,0A2.93,2.93 0 1,1 0,-2.93A2.93,2.93 0 0,1 2.93,0Z\" style=\"opacity: 0.7; stroke-width: 1px; fill: rgb(9, 154, 220); fill-opacity: 1; stroke: rgb(255, 255, 255); stroke-opacity: 1;\"/><path class=\"point\" transform=\"translate(101.19,260.35)\" d=\"M6.3,0A6.3,6.3 0 1,1 0,-6.3A6.3,6.3 0 0,1 6.3,0Z\" style=\"opacity: 0.7; stroke-width: 1px; fill: rgb(17, 130, 198); fill-opacity: 1; stroke: rgb(255, 255, 255); stroke-opacity: 1;\"/><path class=\"point\" transform=\"translate(117.59,285.12)\" d=\"M3.55,0A3.55,3.55 0 1,1 0,-3.55A3.55,3.55 0 0,1 3.55,0Z\" style=\"opacity: 0.7; stroke-width: 1px; fill: rgb(10, 151, 217); fill-opacity: 1; stroke: rgb(255, 255, 255); stroke-opacity: 1;\"/><path class=\"point\" transform=\"translate(134.32,210.58)\" d=\"M9.21,0A9.21,9.21 0 1,1 0,-9.21A9.21,9.21 0 0,1 9.21,0Z\" style=\"opacity: 0.7; stroke-width: 1px; fill: rgb(30, 96, 166); fill-opacity: 1; stroke: rgb(255, 255, 255); stroke-opacity: 1;\"/><path class=\"point\" transform=\"translate(102.58,198.99)\" d=\"M9.28,0A9.28,9.28 0 1,1 0,-9.28A9.28,9.28 0 0,1 9.28,0Z\" style=\"opacity: 0.7; stroke-width: 1px; fill: rgb(30, 95, 165); fill-opacity: 1; stroke: rgb(255, 255, 255); stroke-opacity: 1;\"/><path class=\"point\" transform=\"translate(43.94,257.98)\" d=\"M5.66,0A5.66,5.66 0 1,1 0,-5.66A5.66,5.66 0 0,1 5.66,0Z\" style=\"opacity: 0.7; stroke-width: 1px; fill: rgb(15, 136, 203); fill-opacity: 1; stroke: rgb(255, 255, 255); stroke-opacity: 1;\"/><path class=\"point\" transform=\"translate(85.03,280.38)\" d=\"M3.59,0A3.59,3.59 0 1,1 0,-3.59A3.59,3.59 0 0,1 3.59,0Z\" style=\"opacity: 0.7; stroke-width: 1px; fill: rgb(10, 151, 217); fill-opacity: 1; stroke: rgb(255, 255, 255); stroke-opacity: 1;\"/><path class=\"point\" transform=\"translate(145.55,117.61)\" d=\"M8.31,0A8.31,8.31 0 1,1 0,-8.31A8.31,8.31 0 0,1 8.31,0Z\" style=\"opacity: 0.7; stroke-width: 1px; fill: rgb(25, 108, 177); fill-opacity: 1; stroke: rgb(255, 255, 255); stroke-opacity: 1;\"/><path class=\"point\" transform=\"translate(93.56,274.49)\" d=\"M3.91,0A3.91,3.91 0 1,1 0,-3.91A3.91,3.91 0 0,1 3.91,0Z\" style=\"opacity: 0.7; stroke-width: 1px; fill: rgb(11, 149, 215); fill-opacity: 1; stroke: rgb(255, 255, 255); stroke-opacity: 1;\"/><path class=\"point\" transform=\"translate(110.45,256.45)\" d=\"M5.74,0A5.74,5.74 0 1,1 0,-5.74A5.74,5.74 0 0,1 5.74,0Z\" style=\"opacity: 0.7; stroke-width: 1px; fill: rgb(15, 136, 202); fill-opacity: 1; stroke: rgb(255, 255, 255); stroke-opacity: 1;\"/><path class=\"point\" transform=\"translate(157.77,235.13)\" d=\"M6.84,0A6.84,6.84 0 1,1 0,-6.84A6.84,6.84 0 0,1 6.84,0Z\" style=\"opacity: 0.7; stroke-width: 1px; fill: rgb(19, 125, 193); fill-opacity: 1; stroke: rgb(255, 255, 255); stroke-opacity: 1;\"/><path class=\"point\" transform=\"translate(83.63,276.92)\" d=\"M3.45,0A3.45,3.45 0 1,1 0,-3.45A3.45,3.45 0 0,1 3.45,0Z\" style=\"opacity: 0.7; stroke-width: 1px; fill: rgb(10, 152, 217); fill-opacity: 1; stroke: rgb(255, 255, 255); stroke-opacity: 1;\"/><path class=\"point\" transform=\"translate(95.85,274.18)\" d=\"M4.73,0A4.73,4.73 0 1,1 0,-4.73A4.73,4.73 0 0,1 4.73,0Z\" style=\"opacity: 0.7; stroke-width: 1px; fill: rgb(12, 144, 210); fill-opacity: 1; stroke: rgb(255, 255, 255); stroke-opacity: 1;\"/><path class=\"point\" transform=\"translate(98.73,213.35)\" d=\"M8.86,0A8.86,8.86 0 1,1 0,-8.86A8.86,8.86 0 0,1 8.86,0Z\" style=\"opacity: 0.7; stroke-width: 1px; fill: rgb(28, 101, 170); fill-opacity: 1; stroke: rgb(255, 255, 255); stroke-opacity: 1;\"/><path class=\"point\" transform=\"translate(49.27,114.86)\" d=\"M11.87,0A11.87,11.87 0 1,1 0,-11.87A11.87,11.87 0 0,1 11.87,0Z\" style=\"opacity: 0.7; stroke-width: 1px; fill: rgb(45, 53, 126); fill-opacity: 1; stroke: rgb(255, 255, 255); stroke-opacity: 1;\"/><path class=\"point\" transform=\"translate(107.34,177.97)\" d=\"M8.32,0A8.32,8.32 0 1,1 0,-8.32A8.32,8.32 0 0,1 8.32,0Z\" style=\"opacity: 0.7; stroke-width: 1px; fill: rgb(25, 108, 177); fill-opacity: 1; stroke: rgb(255, 255, 255); stroke-opacity: 1;\"/><path class=\"point\" transform=\"translate(121.2,281.61)\" d=\"M3.61,0A3.61,3.61 0 1,1 0,-3.61A3.61,3.61 0 0,1 3.61,0Z\" style=\"opacity: 0.7; stroke-width: 1px; fill: rgb(10, 151, 216); fill-opacity: 1; stroke: rgb(255, 255, 255); stroke-opacity: 1;\"/><path class=\"point\" transform=\"translate(80.03,280.37)\" d=\"M3.97,0A3.97,3.97 0 1,1 0,-3.97A3.97,3.97 0 0,1 3.97,0Z\" style=\"opacity: 0.7; stroke-width: 1px; fill: rgb(11, 149, 215); fill-opacity: 1; stroke: rgb(255, 255, 255); stroke-opacity: 1;\"/><path class=\"point\" transform=\"translate(53.04,278.89)\" d=\"M3.46,0A3.46,3.46 0 1,1 0,-3.46A3.46,3.46 0 0,1 3.46,0Z\" style=\"opacity: 0.7; stroke-width: 1px; fill: rgb(10, 152, 217); fill-opacity: 1; stroke: rgb(255, 255, 255); stroke-opacity: 1;\"/><path class=\"point\" transform=\"translate(180.33,231.72)\" d=\"M6.65,0A6.65,6.65 0 1,1 0,-6.65A6.65,6.65 0 0,1 6.65,0Z\" style=\"opacity: 0.7; stroke-width: 1px; fill: rgb(18, 127, 194); fill-opacity: 1; stroke: rgb(255, 255, 255); stroke-opacity: 1;\"/><path class=\"point\" transform=\"translate(74.53,276.89)\" d=\"M4.85,0A4.85,4.85 0 1,1 0,-4.85A4.85,4.85 0 0,1 4.85,0Z\" style=\"opacity: 0.7; stroke-width: 1px; fill: rgb(13, 143, 209); fill-opacity: 1; stroke: rgb(255, 255, 255); stroke-opacity: 1;\"/><path class=\"point\" transform=\"translate(86.92,264.47)\" d=\"M5.29,0A5.29,5.29 0 1,1 0,-5.29A5.29,5.29 0 0,1 5.29,0Z\" style=\"opacity: 0.7; stroke-width: 1px; fill: rgb(14, 139, 206); fill-opacity: 1; stroke: rgb(255, 255, 255); stroke-opacity: 1;\"/><path class=\"point\" transform=\"translate(63.71,289.97)\" d=\"M2.86,0A2.86,2.86 0 1,1 0,-2.86A2.86,2.86 0 0,1 2.86,0Z\" style=\"opacity: 0.7; stroke-width: 1px; fill: rgb(9, 155, 220); fill-opacity: 1; stroke: rgb(255, 255, 255); stroke-opacity: 1;\"/><path class=\"point\" transform=\"translate(100.86,233.15)\" d=\"M7.7,0A7.7,7.7 0 1,1 0,-7.7A7.7,7.7 0 0,1 7.7,0Z\" style=\"opacity: 0.7; stroke-width: 1px; fill: rgb(23, 116, 184); fill-opacity: 1; stroke: rgb(255, 255, 255); stroke-opacity: 1;\"/><path class=\"point\" transform=\"translate(104.22,216.84)\" d=\"M7.44,0A7.44,7.44 0 1,1 0,-7.44A7.44,7.44 0 0,1 7.44,0Z\" style=\"opacity: 0.7; stroke-width: 1px; fill: rgb(21, 119, 187); fill-opacity: 1; stroke: rgb(255, 255, 255); stroke-opacity: 1;\"/><path class=\"point\" transform=\"translate(154.66,281.29)\" d=\"M3.29,0A3.29,3.29 0 1,1 0,-3.29A3.29,3.29 0 0,1 3.29,0Z\" style=\"opacity: 0.7; stroke-width: 1px; fill: rgb(9, 153, 218); fill-opacity: 1; stroke: rgb(255, 255, 255); stroke-opacity: 1;\"/><path class=\"point\" transform=\"translate(145.39,275.58)\" d=\"M4.15,0A4.15,4.15 0 1,1 0,-4.15A4.15,4.15 0 0,1 4.15,0Z\" style=\"opacity: 0.7; stroke-width: 1px; fill: rgb(11, 148, 214); fill-opacity: 1; stroke: rgb(255, 255, 255); stroke-opacity: 1;\"/><path class=\"point\" transform=\"translate(52.55,271.35)\" d=\"M4.2,0A4.2,4.2 0 1,1 0,-4.2A4.2,4.2 0 0,1 4.2,0Z\" style=\"opacity: 0.7; stroke-width: 1px; fill: rgb(11, 147, 213); fill-opacity: 1; stroke: rgb(255, 255, 255); stroke-opacity: 1;\"/><path class=\"point\" transform=\"translate(117.42,207.53)\" d=\"M7.57,0A7.57,7.57 0 1,1 0,-7.57A7.57,7.57 0 0,1 7.57,0Z\" style=\"opacity: 0.7; stroke-width: 1px; fill: rgb(22, 117, 185); fill-opacity: 1; stroke: rgb(255, 255, 255); stroke-opacity: 1;\"/><path class=\"point\" transform=\"translate(118.82,258.31)\" d=\"M5.58,0A5.58,5.58 0 1,1 0,-5.58A5.58,5.58 0 0,1 5.58,0Z\" style=\"opacity: 0.7; stroke-width: 1px; fill: rgb(15, 137, 204); fill-opacity: 1; stroke: rgb(255, 255, 255); stroke-opacity: 1;\"/><path class=\"point\" transform=\"translate(126.69,133.34)\" d=\"M11.91,0A11.91,11.91 0 1,1 0,-11.91A11.91,11.91 0 0,1 11.91,0Z\" style=\"opacity: 0.7; stroke-width: 1px; fill: rgb(45, 52, 125); fill-opacity: 1; stroke: rgb(255, 255, 255); stroke-opacity: 1;\"/><path class=\"point\" transform=\"translate(120.13,275.87)\" d=\"M4.52,0A4.52,4.52 0 1,1 0,-4.52A4.52,4.52 0 0,1 4.52,0Z\" style=\"opacity: 0.7; stroke-width: 1px; fill: rgb(12, 145, 211); fill-opacity: 1; stroke: rgb(255, 255, 255); stroke-opacity: 1;\"/><path class=\"point\" transform=\"translate(43.69,291.12)\" d=\"M1.86,0A1.86,1.86 0 1,1 0,-1.86A1.86,1.86 0 0,1 1.86,0Z\" style=\"opacity: 0.7; stroke-width: 1px; fill: rgb(7, 158, 223); fill-opacity: 1; stroke: rgb(255, 255, 255); stroke-opacity: 1;\"/><path class=\"point\" transform=\"translate(78.96,31.31)\" d=\"M14.14,0A14.14,14.14 0 1,1 0,-14.14A14.14,14.14 0 0,1 14.14,0Z\" style=\"opacity: 0.7; stroke-width: 1px; fill: rgb(61, 8, 84); fill-opacity: 1; stroke: rgb(255, 255, 255); stroke-opacity: 1;\"/><path class=\"point\" transform=\"translate(74.29,253.83)\" d=\"M5.01,0A5.01,5.01 0 1,1 0,-5.01A5.01,5.01 0 0,1 5.01,0Z\" style=\"opacity: 0.7; stroke-width: 1px; fill: rgb(13, 142, 208); fill-opacity: 1; stroke: rgb(255, 255, 255); stroke-opacity: 1;\"/><path class=\"point\" transform=\"translate(92,229.03)\" d=\"M5.9,0A5.9,5.9 0 1,1 0,-5.9A5.9,5.9 0 0,1 5.9,0Z\" style=\"opacity: 0.7; stroke-width: 1px; fill: rgb(16, 134, 201); fill-opacity: 1; stroke: rgb(255, 255, 255); stroke-opacity: 1;\"/><path class=\"point\" transform=\"translate(127.02,195.32)\" d=\"M7.95,0A7.95,7.95 0 1,1 0,-7.95A7.95,7.95 0 0,1 7.95,0Z\" style=\"opacity: 0.7; stroke-width: 1px; fill: rgb(24, 113, 181); fill-opacity: 1; stroke: rgb(255, 255, 255); stroke-opacity: 1;\"/><path class=\"point\" transform=\"translate(118.16,47.55)\" d=\"M13.47,0A13.47,13.47 0 1,1 0,-13.47A13.47,13.47 0 0,1 13.47,0Z\" style=\"opacity: 0.7; stroke-width: 1px; fill: rgb(56, 22, 97); fill-opacity: 1; stroke: rgb(255, 255, 255); stroke-opacity: 1;\"/><path class=\"point\" transform=\"translate(133.66,256.6)\" d=\"M5.27,0A5.27,5.27 0 1,1 0,-5.27A5.27,5.27 0 0,1 5.27,0Z\" style=\"opacity: 0.7; stroke-width: 1px; fill: rgb(14, 140, 206); fill-opacity: 1; stroke: rgb(255, 255, 255); stroke-opacity: 1;\"/><path class=\"point\" transform=\"translate(157.04,226.65)\" d=\"M6.38,0A6.38,6.38 0 1,1 0,-6.38A6.38,6.38 0 0,1 6.38,0Z\" style=\"opacity: 0.7; stroke-width: 1px; fill: rgb(17, 130, 197); fill-opacity: 1; stroke: rgb(255, 255, 255); stroke-opacity: 1;\"/><path class=\"point\" transform=\"translate(113.65,255.7)\" d=\"M4.98,0A4.98,4.98 0 1,1 0,-4.98A4.98,4.98 0 0,1 4.98,0Z\" style=\"opacity: 0.7; stroke-width: 1px; fill: rgb(13, 142, 208); fill-opacity: 1; stroke: rgb(255, 255, 255); stroke-opacity: 1;\"/><path class=\"point\" transform=\"translate(48.7,241.01)\" d=\"M7.17,0A7.17,7.17 0 1,1 0,-7.17A7.17,7.17 0 0,1 7.17,0Z\" style=\"opacity: 0.7; stroke-width: 1px; fill: rgb(20, 122, 189); fill-opacity: 1; stroke: rgb(255, 255, 255); stroke-opacity: 1;\"/><path class=\"point\" transform=\"translate(153.26,38.35)\" d=\"M13.36,0A13.36,13.36 0 1,1 0,-13.36A13.36,13.36 0 0,1 13.36,0Z\" style=\"opacity: 0.7; stroke-width: 1px; fill: rgb(55, 24, 99); fill-opacity: 1; stroke: rgb(255, 255, 255); stroke-opacity: 1;\"/><path class=\"point\" transform=\"translate(107.09,228.75)\" d=\"M6.49,0A6.49,6.49 0 1,1 0,-6.49A6.49,6.49 0 0,1 6.49,0Z\" style=\"opacity: 0.7; stroke-width: 1px; fill: rgb(18, 129, 196); fill-opacity: 1; stroke: rgb(255, 255, 255); stroke-opacity: 1;\"/><path class=\"point\" transform=\"translate(174.67,252.88)\" d=\"M5.18,0A5.18,5.18 0 1,1 0,-5.18A5.18,5.18 0 0,1 5.18,0Z\" style=\"opacity: 0.7; stroke-width: 1px; fill: rgb(14, 140, 207); fill-opacity: 1; stroke: rgb(255, 255, 255); stroke-opacity: 1;\"/><path class=\"point\" transform=\"translate(133.5,235.59)\" d=\"M6.93,0A6.93,6.93 0 1,1 0,-6.93A6.93,6.93 0 0,1 6.93,0Z\" style=\"opacity: 0.7; stroke-width: 1px; fill: rgb(19, 124, 192); fill-opacity: 1; stroke: rgb(255, 255, 255); stroke-opacity: 1;\"/><path class=\"point\" transform=\"translate(51.4,282.58)\" d=\"M2.77,0A2.77,2.77 0 1,1 0,-2.77A2.77,2.77 0 0,1 2.77,0Z\" style=\"opacity: 0.7; stroke-width: 1px; fill: rgb(8, 155, 220); fill-opacity: 1; stroke: rgb(255, 255, 255); stroke-opacity: 1;\"/><path class=\"point\" transform=\"translate(85.85,272)\" d=\"M3.82,0A3.82,3.82 0 1,1 0,-3.82A3.82,3.82 0 0,1 3.82,0Z\" style=\"opacity: 0.7; stroke-width: 1px; fill: rgb(10, 150, 215); fill-opacity: 1; stroke: rgb(255, 255, 255); stroke-opacity: 1;\"/><path class=\"point\" transform=\"translate(125.79,264.18)\" d=\"M4.37,0A4.37,4.37 0 1,1 0,-4.37A4.37,4.37 0 0,1 4.37,0Z\" style=\"opacity: 0.7; stroke-width: 1px; fill: rgb(12, 146, 212); fill-opacity: 1; stroke: rgb(255, 255, 255); stroke-opacity: 1;\"/><path class=\"point\" transform=\"translate(114.39,265.63)\" d=\"M4.37,0A4.37,4.37 0 1,1 0,-4.37A4.37,4.37 0 0,1 4.37,0Z\" style=\"opacity: 0.7; stroke-width: 1px; fill: rgb(12, 146, 212); fill-opacity: 1; stroke: rgb(255, 255, 255); stroke-opacity: 1;\"/><path class=\"point\" transform=\"translate(100.2,264.21)\" d=\"M4.23,0A4.23,4.23 0 1,1 0,-4.23A4.23,4.23 0 0,1 4.23,0Z\" style=\"opacity: 0.7; stroke-width: 1px; fill: rgb(11, 147, 213); fill-opacity: 1; stroke: rgb(255, 255, 255); stroke-opacity: 1;\"/><path class=\"point\" transform=\"translate(91.67,238.1)\" d=\"M6.09,0A6.09,6.09 0 1,1 0,-6.09A6.09,6.09 0 0,1 6.09,0Z\" style=\"opacity: 0.7; stroke-width: 1px; fill: rgb(16, 133, 199); fill-opacity: 1; stroke: rgb(255, 255, 255); stroke-opacity: 1;\"/><path class=\"point\" transform=\"translate(106.6,266.47)\" d=\"M4.32,0A4.32,4.32 0 1,1 0,-4.32A4.32,4.32 0 0,1 4.32,0Z\" style=\"opacity: 0.7; stroke-width: 1px; fill: rgb(11, 147, 213); fill-opacity: 1; stroke: rgb(255, 255, 255); stroke-opacity: 1;\"/><path class=\"point\" transform=\"translate(115.7,247.3)\" d=\"M5.6,0A5.6,5.6 0 1,1 0,-5.6A5.6,5.6 0 0,1 5.6,0Z\" style=\"opacity: 0.7; stroke-width: 1px; fill: rgb(15, 137, 204); fill-opacity: 1; stroke: rgb(255, 255, 255); stroke-opacity: 1;\"/><path class=\"point\" transform=\"translate(115.29,239.16)\" d=\"M6.32,0A6.32,6.32 0 1,1 0,-6.32A6.32,6.32 0 0,1 6.32,0Z\" style=\"opacity: 0.7; stroke-width: 1px; fill: rgb(17, 130, 197); fill-opacity: 1; stroke: rgb(255, 255, 255); stroke-opacity: 1;\"/><path class=\"point\" transform=\"translate(107.66,170.09)\" d=\"M10.05,0A10.05,10.05 0 1,1 0,-10.05A10.05,10.05 0 0,1 10.05,0Z\" style=\"opacity: 0.7; stroke-width: 1px; fill: rgb(34, 84, 154); fill-opacity: 1; stroke: rgb(255, 255, 255); stroke-opacity: 1;\"/><path class=\"point\" transform=\"translate(144,251.82)\" d=\"M5.42,0A5.42,5.42 0 1,1 0,-5.42A5.42,5.42 0 0,1 5.42,0Z\" style=\"opacity: 0.7; stroke-width: 1px; fill: rgb(14, 138, 205); fill-opacity: 1; stroke: rgb(255, 255, 255); stroke-opacity: 1;\"/><path class=\"point\" transform=\"translate(129.89,225.71)\" d=\"M7.11,0A7.11,7.11 0 1,1 0,-7.11A7.11,7.11 0 0,1 7.11,0Z\" style=\"opacity: 0.7; stroke-width: 1px; fill: rgb(20, 122, 190); fill-opacity: 1; stroke: rgb(255, 255, 255); stroke-opacity: 1;\"/><path class=\"point\" transform=\"translate(64.2,277.69)\" d=\"M3.88,0A3.88,3.88 0 1,1 0,-3.88A3.88,3.88 0 0,1 3.88,0Z\" style=\"opacity: 0.7; stroke-width: 1px; fill: rgb(10, 149, 215); fill-opacity: 1; stroke: rgb(255, 255, 255); stroke-opacity: 1;\"/><path class=\"point\" transform=\"translate(132.76,213.42)\" d=\"M6.98,0A6.98,6.98 0 1,1 0,-6.98A6.98,6.98 0 0,1 6.98,0Z\" style=\"opacity: 0.7; stroke-width: 1px; fill: rgb(20, 124, 191); fill-opacity: 1; stroke: rgb(255, 255, 255); stroke-opacity: 1;\"/><path class=\"point\" transform=\"translate(90.85,289.24)\" d=\"M2.3,0A2.3,2.3 0 1,1 0,-2.3A2.3,2.3 0 0,1 2.3,0Z\" style=\"opacity: 0.7; stroke-width: 1px; fill: rgb(8, 157, 222); fill-opacity: 1; stroke: rgb(255, 255, 255); stroke-opacity: 1;\"/><path class=\"point\" transform=\"translate(31.15,285)\" d=\"M1.56,0A1.56,1.56 0 1,1 0,-1.56A1.56,1.56 0 0,1 1.56,0Z\" style=\"opacity: 0.7; stroke-width: 1px; fill: rgb(7, 159, 224); fill-opacity: 1; stroke: rgb(255, 255, 255); stroke-opacity: 1;\"/><path class=\"point\" transform=\"translate(92.41,281.72)\" d=\"M3.12,0A3.12,3.12 0 1,1 0,-3.12A3.12,3.12 0 0,1 3.12,0Z\" style=\"opacity: 0.7; stroke-width: 1px; fill: rgb(9, 153, 219); fill-opacity: 1; stroke: rgb(255, 255, 255); stroke-opacity: 1;\"/><path class=\"point\" transform=\"translate(113.49,238.45)\" d=\"M6.76,0A6.76,6.76 0 1,1 0,-6.76A6.76,6.76 0 0,1 6.76,0Z\" style=\"opacity: 0.7; stroke-width: 1px; fill: rgb(19, 126, 193); fill-opacity: 1; stroke: rgb(255, 255, 255); stroke-opacity: 1;\"/><path class=\"point\" transform=\"translate(106.11,272.01)\" d=\"M4.79,0A4.79,4.79 0 1,1 0,-4.79A4.79,4.79 0 0,1 4.79,0Z\" style=\"opacity: 0.7; stroke-width: 1px; fill: rgb(13, 143, 209); fill-opacity: 1; stroke: rgb(255, 255, 255); stroke-opacity: 1;\"/><path class=\"point\" transform=\"translate(108.57,229.21)\" d=\"M6.22,0A6.22,6.22 0 1,1 0,-6.22A6.22,6.22 0 0,1 6.22,0Z\" style=\"opacity: 0.7; stroke-width: 1px; fill: rgb(17, 131, 198); fill-opacity: 1; stroke: rgb(255, 255, 255); stroke-opacity: 1;\"/><path class=\"point\" transform=\"translate(86.83,266.72)\" d=\"M3.84,0A3.84,3.84 0 1,1 0,-3.84A3.84,3.84 0 0,1 3.84,0Z\" style=\"opacity: 0.7; stroke-width: 1px; fill: rgb(10, 150, 215); fill-opacity: 1; stroke: rgb(255, 255, 255); stroke-opacity: 1;\"/><path class=\"point\" transform=\"translate(88.39,275.87)\" d=\"M3.03,0A3.03,3.03 0 1,1 0,-3.03A3.03,3.03 0 0,1 3.03,0Z\" style=\"opacity: 0.7; stroke-width: 1px; fill: rgb(9, 154, 219); fill-opacity: 1; stroke: rgb(255, 255, 255); stroke-opacity: 1;\"/><path class=\"point\" transform=\"translate(67.4,267.53)\" d=\"M3.55,0A3.55,3.55 0 1,1 0,-3.55A3.55,3.55 0 0,1 3.55,0Z\" style=\"opacity: 0.7; stroke-width: 1px; fill: rgb(10, 151, 217); fill-opacity: 1; stroke: rgb(255, 255, 255); stroke-opacity: 1;\"/><path class=\"point\" transform=\"translate(93.48,257.84)\" d=\"M4.4,0A4.4,4.4 0 1,1 0,-4.4A4.4,4.4 0 0,1 4.4,0Z\" style=\"opacity: 0.7; stroke-width: 1px; fill: rgb(12, 146, 212); fill-opacity: 1; stroke: rgb(255, 255, 255); stroke-opacity: 1;\"/><path class=\"point\" transform=\"translate(45.5,270.2)\" d=\"M3.39,0A3.39,3.39 0 1,1 0,-3.39A3.39,3.39 0 0,1 3.39,0Z\" style=\"opacity: 0.7; stroke-width: 1px; fill: rgb(9, 152, 218); fill-opacity: 1; stroke: rgb(255, 255, 255); stroke-opacity: 1;\"/><path class=\"point\" transform=\"translate(83.39,252.38)\" d=\"M4.89,0A4.89,4.89 0 1,1 0,-4.89A4.89,4.89 0 0,1 4.89,0Z\" style=\"opacity: 0.7; stroke-width: 1px; fill: rgb(13, 143, 209); fill-opacity: 1; stroke: rgb(255, 255, 255); stroke-opacity: 1;\"/><path class=\"point\" transform=\"translate(73.06,236.83)\" d=\"M5.98,0A5.98,5.98 0 1,1 0,-5.98A5.98,5.98 0 0,1 5.98,0Z\" style=\"opacity: 0.7; stroke-width: 1px; fill: rgb(16, 134, 200); fill-opacity: 1; stroke: rgb(255, 255, 255); stroke-opacity: 1;\"/><path class=\"point\" transform=\"translate(47.06,265.3)\" d=\"M3.67,0A3.67,3.67 0 1,1 0,-3.67A3.67,3.67 0 0,1 3.67,0Z\" style=\"opacity: 0.7; stroke-width: 1px; fill: rgb(10, 151, 216); fill-opacity: 1; stroke: rgb(255, 255, 255); stroke-opacity: 1;\"/><path class=\"point\" transform=\"translate(73.14,247.76)\" d=\"M5.19,0A5.19,5.19 0 1,1 0,-5.19A5.19,5.19 0 0,1 5.19,0Z\" style=\"opacity: 0.7; stroke-width: 1px; fill: rgb(14, 140, 207); fill-opacity: 1; stroke: rgb(255, 255, 255); stroke-opacity: 1;\"/><path class=\"point\" transform=\"translate(77.65,222.36)\" d=\"M6.57,0A6.57,6.57 0 1,1 0,-6.57A6.57,6.57 0 0,1 6.57,0Z\" style=\"opacity: 0.7; stroke-width: 1px; fill: rgb(18, 128, 195); fill-opacity: 1; stroke: rgb(255, 255, 255); stroke-opacity: 1;\"/><path class=\"point\" transform=\"translate(72.73,220.06)\" d=\"M6.32,0A6.32,6.32 0 1,1 0,-6.32A6.32,6.32 0 0,1 6.32,0Z\" style=\"opacity: 0.7; stroke-width: 1px; fill: rgb(17, 130, 197); fill-opacity: 1; stroke: rgb(255, 255, 255); stroke-opacity: 1;\"/><path class=\"point\" transform=\"translate(72.15,174.89)\" d=\"M8.1,0A8.1,8.1 0 1,1 0,-8.1A8.1,8.1 0 0,1 8.1,0Z\" style=\"opacity: 0.7; stroke-width: 1px; fill: rgb(24, 111, 179); fill-opacity: 1; stroke: rgb(255, 255, 255); stroke-opacity: 1;\"/><path class=\"point\" transform=\"translate(48.94,249.78)\" d=\"M4.61,0A4.61,4.61 0 1,1 0,-4.61A4.61,4.61 0 0,1 4.61,0Z\" style=\"opacity: 0.7; stroke-width: 1px; fill: rgb(12, 145, 211); fill-opacity: 1; stroke: rgb(255, 255, 255); stroke-opacity: 1;\"/><path class=\"point\" transform=\"translate(61.49,277.85)\" d=\"M4.14,0A4.14,4.14 0 1,1 0,-4.14A4.14,4.14 0 0,1 4.14,0Z\" style=\"opacity: 0.7; stroke-width: 1px; fill: rgb(11, 148, 214); fill-opacity: 1; stroke: rgb(255, 255, 255); stroke-opacity: 1;\"/><path class=\"point\" transform=\"translate(43.04,290.84)\" d=\"M1.79,0A1.79,1.79 0 1,1 0,-1.79A1.79,1.79 0 0,1 1.79,0Z\" style=\"opacity: 0.7; stroke-width: 1px; fill: rgb(7, 158, 223); fill-opacity: 1; stroke: rgb(255, 255, 255); stroke-opacity: 1;\"/><path class=\"point\" transform=\"translate(102.5,271.23)\" d=\"M3.99,0A3.99,3.99 0 1,1 0,-3.99A3.99,3.99 0 0,1 3.99,0Z\" style=\"opacity: 0.7; stroke-width: 1px; fill: rgb(11, 149, 214); fill-opacity: 1; stroke: rgb(255, 255, 255); stroke-opacity: 1;\"/><path class=\"point\" transform=\"translate(36.23,254.49)\" d=\"M5.07,0A5.07,5.07 0 1,1 0,-5.07A5.07,5.07 0 0,1 5.07,0Z\" style=\"opacity: 0.7; stroke-width: 1px; fill: rgb(13, 141, 208); fill-opacity: 1; stroke: rgb(255, 255, 255); stroke-opacity: 1;\"/><path class=\"point\" transform=\"translate(88.64,265.22)\" d=\"M4.72,0A4.72,4.72 0 1,1 0,-4.72A4.72,4.72 0 0,1 4.72,0Z\" style=\"opacity: 0.7; stroke-width: 1px; fill: rgb(12, 144, 210); fill-opacity: 1; stroke: rgb(255, 255, 255); stroke-opacity: 1;\"/><path class=\"point\" transform=\"translate(36.23,285.33)\" d=\"M2.79,0A2.79,2.79 0 1,1 0,-2.79A2.79,2.79 0 0,1 2.79,0Z\" style=\"opacity: 0.7; stroke-width: 1px; fill: rgb(8, 155, 220); fill-opacity: 1; stroke: rgb(255, 255, 255); stroke-opacity: 1;\"/><path class=\"point\" transform=\"translate(98.07,219.45)\" d=\"M6.72,0A6.72,6.72 0 1,1 0,-6.72A6.72,6.72 0 0,1 6.72,0Z\" style=\"opacity: 0.7; stroke-width: 1px; fill: rgb(19, 126, 194); fill-opacity: 1; stroke: rgb(255, 255, 255); stroke-opacity: 1;\"/><path class=\"point\" transform=\"translate(60.26,285)\" d=\"M2.48,0A2.48,2.48 0 1,1 0,-2.48A2.48,2.48 0 0,1 2.48,0Z\" style=\"opacity: 0.7; stroke-width: 1px; fill: rgb(8, 156, 221); fill-opacity: 1; stroke: rgb(255, 255, 255); stroke-opacity: 1;\"/><path class=\"point\" transform=\"translate(67.31,282.24)\" d=\"M3.26,0A3.26,3.26 0 1,1 0,-3.26A3.26,3.26 0 0,1 3.26,0Z\" style=\"opacity: 0.7; stroke-width: 1px; fill: rgb(9, 153, 218); fill-opacity: 1; stroke: rgb(255, 255, 255); stroke-opacity: 1;\"/><path class=\"point\" transform=\"translate(32.54,282.4)\" d=\"M2.67,0A2.67,2.67 0 1,1 0,-2.67A2.67,2.67 0 0,1 2.67,0Z\" style=\"opacity: 0.7; stroke-width: 1px; fill: rgb(8, 155, 221); fill-opacity: 1; stroke: rgb(255, 255, 255); stroke-opacity: 1;\"/><path class=\"point\" transform=\"translate(28.85,291.5)\" d=\"M1.67,0A1.67,1.67 0 1,1 0,-1.67A1.67,1.67 0 0,1 1.67,0Z\" style=\"opacity: 0.7; stroke-width: 1px; fill: rgb(7, 159, 224); fill-opacity: 1; stroke: rgb(255, 255, 255); stroke-opacity: 1;\"/></g><g class=\"text\"/></g></g></g><g class=\"overplot\"/><path class=\"xlines-above crisp\" d=\"M0,0\" style=\"fill: none;\"/><path class=\"ylines-above crisp\" d=\"M0,0\" style=\"fill: none;\"/><g class=\"overlines-above\"/><g class=\"xaxislayer-above\"><g class=\"xtick\"><text text-anchor=\"middle\" x=\"0\" y=\"383\" transform=\"translate(103.6,0)\" style=\"font-family: 'Open Sans', verdana, arial, sans-serif; font-size: 12px; fill: rgb(42, 63, 95); fill-opacity: 1; white-space: pre;\">0</text></g><g class=\"xtick\"><text text-anchor=\"middle\" x=\"0\" y=\"383\" transform=\"translate(202.01999999999998,0)\" style=\"font-family: 'Open Sans', verdana, arial, sans-serif; font-size: 12px; fill: rgb(42, 63, 95); fill-opacity: 1; white-space: pre;\">20</text></g><g class=\"xtick\"><text text-anchor=\"middle\" x=\"0\" y=\"383\" transform=\"translate(300.43,0)\" style=\"font-family: 'Open Sans', verdana, arial, sans-serif; font-size: 12px; fill: rgb(42, 63, 95); fill-opacity: 1; white-space: pre;\">40</text></g><g class=\"xtick\"><text text-anchor=\"middle\" x=\"0\" y=\"383\" transform=\"translate(398.85,0)\" style=\"font-family: 'Open Sans', verdana, arial, sans-serif; font-size: 12px; fill: rgb(42, 63, 95); fill-opacity: 1; white-space: pre;\">60</text></g><g class=\"xtick\"><text text-anchor=\"middle\" x=\"0\" y=\"383\" transform=\"translate(497.26,0)\" style=\"font-family: 'Open Sans', verdana, arial, sans-serif; font-size: 12px; fill: rgb(42, 63, 95); fill-opacity: 1; white-space: pre;\">80</text></g><g class=\"xtick\"><text text-anchor=\"middle\" x=\"0\" y=\"383\" transform=\"translate(595.68,0)\" style=\"font-family: 'Open Sans', verdana, arial, sans-serif; font-size: 12px; fill: rgb(42, 63, 95); fill-opacity: 1; white-space: pre;\">100</text></g></g><g class=\"yaxislayer-above\"><g class=\"ytick\"><text text-anchor=\"end\" x=\"79\" y=\"4.199999999999999\" transform=\"translate(0,354.79)\" style=\"font-family: 'Open Sans', verdana, arial, sans-serif; font-size: 12px; fill: rgb(42, 63, 95); fill-opacity: 1; white-space: pre;\">0</text></g><g class=\"ytick\"><text text-anchor=\"end\" x=\"79\" y=\"4.199999999999999\" transform=\"translate(0,302.65)\" style=\"font-family: 'Open Sans', verdana, arial, sans-serif; font-size: 12px; fill: rgb(42, 63, 95); fill-opacity: 1; white-space: pre;\">2M</text></g><g class=\"ytick\"><text text-anchor=\"end\" x=\"79\" y=\"4.199999999999999\" transform=\"translate(0,250.52)\" style=\"font-family: 'Open Sans', verdana, arial, sans-serif; font-size: 12px; fill: rgb(42, 63, 95); fill-opacity: 1; white-space: pre;\">4M</text></g><g class=\"ytick\"><text text-anchor=\"end\" x=\"79\" y=\"4.199999999999999\" transform=\"translate(0,198.39)\" style=\"font-family: 'Open Sans', verdana, arial, sans-serif; font-size: 12px; fill: rgb(42, 63, 95); fill-opacity: 1; white-space: pre;\">6M</text></g><g class=\"ytick\"><text text-anchor=\"end\" x=\"79\" y=\"4.199999999999999\" transform=\"translate(0,146.25)\" style=\"font-family: 'Open Sans', verdana, arial, sans-serif; font-size: 12px; fill: rgb(42, 63, 95); fill-opacity: 1; white-space: pre;\">8M</text></g><g class=\"ytick\"><text text-anchor=\"end\" x=\"79\" y=\"4.199999999999999\" transform=\"translate(0,94.12)\" style=\"font-family: 'Open Sans', verdana, arial, sans-serif; font-size: 12px; fill: rgb(42, 63, 95); fill-opacity: 1; white-space: pre;\">10M</text></g></g><g class=\"overaxes-above\"/></g></g><g class=\"polarlayer\"/><g class=\"ternarylayer\"/><g class=\"geolayer\"/><g class=\"funnelarealayer\"/><g class=\"pielayer\"/><g class=\"treemaplayer\"/><g class=\"sunburstlayer\"/><g class=\"glimages\"/><defs id=\"topdefs-8a9242\"><g class=\"clips\"/></defs><g class=\"layer-above\"><g class=\"imagelayer\"/><g class=\"shapelayer\"/></g><g class=\"infolayer\"><g class=\"cbcoloraxis colorbar\" transform=\"translate(80,60)\"><rect class=\"cbbg\" x=\"527\" y=\"0\" width=\"80.90625\" height=\"310\" style=\"fill: rgb(0, 0, 0); fill-opacity: 0; stroke: rgb(68, 68, 68); stroke-opacity: 1; stroke-width: 0;\"/><g class=\"cbfills\" transform=\"translate(0,30)\"><rect class=\"cbfill\" x=\"537\" width=\"30\" y=\"0\" height=\"270\" style=\"fill: url('#g8a9242-cbcoloraxis');\"/></g><g class=\"cblines\" transform=\"translate(0,30)\"/><g class=\"cbaxis crisp\" transform=\"translate(0,-60)\"><g class=\"ycbcoloraxistick\"><text text-anchor=\"start\" x=\"569.9\" y=\"4.199999999999999\" transform=\"translate(0,312.51)\" style=\"font-family: 'Open Sans', verdana, arial, sans-serif; font-size: 12px; fill: rgb(42, 63, 95); fill-opacity: 1; white-space: pre;\">50k</text></g><g class=\"ycbcoloraxistick\"><text text-anchor=\"start\" x=\"569.9\" y=\"4.199999999999999\" transform=\"translate(0,261.66999999999996)\" style=\"font-family: 'Open Sans', verdana, arial, sans-serif; font-size: 12px; fill: rgb(42, 63, 95); fill-opacity: 1; white-space: pre;\">100k</text></g><g class=\"ycbcoloraxistick\"><text text-anchor=\"start\" x=\"569.9\" y=\"4.199999999999999\" transform=\"translate(0,210.83999999999997)\" style=\"font-family: 'Open Sans', verdana, arial, sans-serif; font-size: 12px; fill: rgb(42, 63, 95); fill-opacity: 1; white-space: pre;\">150k</text></g><g class=\"ycbcoloraxistick\"><text text-anchor=\"start\" x=\"569.9\" y=\"4.199999999999999\" transform=\"translate(0,160.01)\" style=\"font-family: 'Open Sans', verdana, arial, sans-serif; font-size: 12px; fill: rgb(42, 63, 95); fill-opacity: 1; white-space: pre;\">200k</text></g><g class=\"ycbcoloraxistick\"><text text-anchor=\"start\" x=\"569.9\" y=\"4.199999999999999\" transform=\"translate(0,109.17999999999998)\" style=\"font-family: 'Open Sans', verdana, arial, sans-serif; font-size: 12px; fill: rgb(42, 63, 95); fill-opacity: 1; white-space: pre;\">250k</text></g></g><g class=\"cbtitleunshift\" transform=\"translate(-80,-60)\"><g class=\"cbtitle\" transform=\"translate(0,0)\"><text class=\"ycbcoloraxistitle\" x=\"617.34\" y=\"81.99999999999999\" text-anchor=\"start\" style=\"font-family: 'Open Sans', verdana, arial, sans-serif; font-size: 12px; fill: rgb(42, 63, 95); opacity: 1; font-weight: normal; white-space: pre;\">likes</text></g></g><rect class=\"cboutline\" x=\"537\" y=\"30\" width=\"30\" height=\"270\" style=\"stroke: rgb(68, 68, 68); stroke-opacity: 1; fill: none; stroke-width: 0;\"/></g><g class=\"g-gtitle\"/><g class=\"g-xtitle\"><text class=\"xtitle\" x=\"338.5\" y=\"410.8\" text-anchor=\"middle\" style=\"font-family: 'Open Sans', verdana, arial, sans-serif; font-size: 14px; fill: rgb(42, 63, 95); opacity: 1; font-weight: normal; white-space: pre;\">duration</text></g><g class=\"g-ytitle\"><text class=\"ytitle\" transform=\"rotate(-90,28.825000000000003,215)\" x=\"28.825000000000003\" y=\"215\" text-anchor=\"middle\" style=\"font-family: 'Open Sans', verdana, arial, sans-serif; font-size: 14px; fill: rgb(42, 63, 95); opacity: 1; font-weight: normal; white-space: pre;\">views</text></g></g></svg>"
      ]
     },
     "metadata": {},
     "output_type": "display_data"
    }
   ],
   "source": [
    "fig = df.plot(x='duration', \n",
    "              y='views', \n",
    "              kind='scatter', \n",
    "              size='likes', \n",
    "              color=\"likes\", \n",
    "              color_continuous_scale=[[0.0, \"rgb(7, 159, 224)\"],\n",
    "                                      [1, \"rgb(61, 8, 84)\"]])\n",
    "fig.show(\"svg\")"
   ]
  },
  {
   "cell_type": "code",
   "execution_count": 149,
   "metadata": {},
   "outputs": [
    {
     "data": {
      "image/svg+xml": [
       "<svg class=\"main-svg\" xmlns=\"http://www.w3.org/2000/svg\" xmlns:xlink=\"http://www.w3.org/1999/xlink\" width=\"700\" height=\"450\" style=\"\" viewBox=\"0 0 700 450\"><rect x=\"0\" y=\"0\" width=\"700\" height=\"450\" style=\"fill: rgb(255, 255, 255); fill-opacity: 1;\"/><defs id=\"defs-8793ab\"><g class=\"clips\"><clipPath id=\"clip8793abxyplot\" class=\"plotclip\"><rect width=\"517\" height=\"310\"/></clipPath><clipPath class=\"axesclip\" id=\"clip8793abx\"><rect x=\"80\" y=\"0\" width=\"517\" height=\"450\"/></clipPath><clipPath class=\"axesclip\" id=\"clip8793aby\"><rect x=\"0\" y=\"60\" width=\"700\" height=\"310\"/></clipPath><clipPath class=\"axesclip\" id=\"clip8793abxy\"><rect x=\"80\" y=\"60\" width=\"517\" height=\"310\"/></clipPath></g><g class=\"gradients\"><linearGradient x1=\"0\" x2=\"0\" y1=\"1\" y2=\"0\" id=\"g8793ab-cbcoloraxis\"><stop offset=\"0%\" stop-color=\"rgb(7, 159, 224)\" stop-opacity=\"1\"/><stop offset=\"100%\" stop-color=\"rgb(61, 8, 84)\" stop-opacity=\"1\"/></linearGradient></g></defs><g class=\"bglayer\"><rect class=\"bg\" x=\"80\" y=\"60\" width=\"517\" height=\"310\" style=\"fill: rgb(229, 236, 246); fill-opacity: 1; stroke-width: 0;\"/></g><g class=\"layer-below\"><g class=\"imagelayer\"/><g class=\"shapelayer\"/></g><g class=\"cartesianlayer\"><g class=\"subplot xy\"><g class=\"layer-subplot\"><g class=\"shapelayer\"/><g class=\"imagelayer\"/></g><g class=\"gridlayer\"><g class=\"x\"><path class=\"xgrid crisp\" transform=\"translate(96.4,0)\" d=\"M0,60v310\" style=\"stroke: rgb(255, 255, 255); stroke-opacity: 1; stroke-width: 1px;\"/><path class=\"xgrid crisp\" transform=\"translate(168.22,0)\" d=\"M0,60v310\" style=\"stroke: rgb(255, 255, 255); stroke-opacity: 1; stroke-width: 1px;\"/><path class=\"xgrid crisp\" transform=\"translate(240.24,0)\" d=\"M0,60v310\" style=\"stroke: rgb(255, 255, 255); stroke-opacity: 1; stroke-width: 1px;\"/><path class=\"xgrid crisp\" transform=\"translate(312.06,0)\" d=\"M0,60v310\" style=\"stroke: rgb(255, 255, 255); stroke-opacity: 1; stroke-width: 1px;\"/><path class=\"xgrid crisp\" transform=\"translate(383.88,0)\" d=\"M0,60v310\" style=\"stroke: rgb(255, 255, 255); stroke-opacity: 1; stroke-width: 1px;\"/><path class=\"xgrid crisp\" transform=\"translate(455.7,0)\" d=\"M0,60v310\" style=\"stroke: rgb(255, 255, 255); stroke-opacity: 1; stroke-width: 1px;\"/><path class=\"xgrid crisp\" transform=\"translate(527.72,0)\" d=\"M0,60v310\" style=\"stroke: rgb(255, 255, 255); stroke-opacity: 1; stroke-width: 1px;\"/></g><g class=\"y\"><path class=\"ygrid crisp\" transform=\"translate(0,295.98)\" d=\"M80,0h517\" style=\"stroke: rgb(255, 255, 255); stroke-opacity: 1; stroke-width: 1px;\"/><path class=\"ygrid crisp\" transform=\"translate(0,237.54)\" d=\"M80,0h517\" style=\"stroke: rgb(255, 255, 255); stroke-opacity: 1; stroke-width: 1px;\"/><path class=\"ygrid crisp\" transform=\"translate(0,179.11)\" d=\"M80,0h517\" style=\"stroke: rgb(255, 255, 255); stroke-opacity: 1; stroke-width: 1px;\"/><path class=\"ygrid crisp\" transform=\"translate(0,120.67)\" d=\"M80,0h517\" style=\"stroke: rgb(255, 255, 255); stroke-opacity: 1; stroke-width: 1px;\"/><path class=\"ygrid crisp\" transform=\"translate(0,62.23)\" d=\"M80,0h517\" style=\"stroke: rgb(255, 255, 255); stroke-opacity: 1; stroke-width: 1px;\"/></g></g><g class=\"zerolinelayer\"><path class=\"yzl zl crisp\" transform=\"translate(0,354.42)\" d=\"M80,0h517\" style=\"stroke: rgb(255, 255, 255); stroke-opacity: 1; stroke-width: 2px;\"/></g><path class=\"xlines-below\"/><path class=\"ylines-below\"/><g class=\"overlines-below\"/><g class=\"xaxislayer-below\"/><g class=\"yaxislayer-below\"/><g class=\"overaxes-below\"/><g class=\"plot\" transform=\"translate(80, 60)\" clip-path=\"url('#clip8793abxyplot')\"><g class=\"scatterlayer mlayer\"><g class=\"trace scatter tracefc7f94\" style=\"stroke-miterlimit: 2; opacity: 1;\"><g class=\"fills\"/><g class=\"errorbars\"/><g class=\"lines\"/><g class=\"points\"><path class=\"point\" transform=\"translate(486.44,223.27)\" d=\"M4.22,0A4.22,4.22 0 1,1 0,-4.22A4.22,4.22 0 0,1 4.22,0Z\" style=\"opacity: 0.7; stroke-width: 1px; fill: rgb(11, 147, 213); fill-opacity: 1; stroke: rgb(255, 255, 255); stroke-opacity: 1;\"/><path class=\"point\" transform=\"translate(472.69,255.8)\" d=\"M3.36,0A3.36,3.36 0 1,1 0,-3.36A3.36,3.36 0 0,1 3.36,0Z\" style=\"opacity: 0.7; stroke-width: 1px; fill: rgb(9, 152, 218); fill-opacity: 1; stroke: rgb(255, 255, 255); stroke-opacity: 1;\"/><path class=\"point\" transform=\"translate(465.56,215.19)\" d=\"M5.63,0A5.63,5.63 0 1,1 0,-5.63A5.63,5.63 0 0,1 5.63,0Z\" style=\"opacity: 0.7; stroke-width: 1px; fill: rgb(15, 137, 203); fill-opacity: 1; stroke: rgb(255, 255, 255); stroke-opacity: 1;\"/><path class=\"point\" transform=\"translate(445.89,232.38)\" d=\"M4.88,0A4.88,4.88 0 1,1 0,-4.88A4.88,4.88 0 0,1 4.88,0Z\" style=\"opacity: 0.7; stroke-width: 1px; fill: rgb(13, 143, 209); fill-opacity: 1; stroke: rgb(255, 255, 255); stroke-opacity: 1;\"/><path class=\"point\" transform=\"translate(424.43,245.23)\" d=\"M4.23,0A4.23,4.23 0 1,1 0,-4.23A4.23,4.23 0 0,1 4.23,0Z\" style=\"opacity: 0.7; stroke-width: 1px; fill: rgb(11, 147, 213); fill-opacity: 1; stroke: rgb(255, 255, 255); stroke-opacity: 1;\"/><path class=\"point\" transform=\"translate(424.43,235.74)\" d=\"M5.41,0A5.41,5.41 0 1,1 0,-5.41A5.41,5.41 0 0,1 5.41,0Z\" style=\"opacity: 0.7; stroke-width: 1px; fill: rgb(14, 139, 205); fill-opacity: 1; stroke: rgb(255, 255, 255); stroke-opacity: 1;\"/><path class=\"point\" transform=\"translate(421.27,230.24)\" d=\"M7.68,0A7.68,7.68 0 1,1 0,-7.68A7.68,7.68 0 0,1 7.68,0Z\" style=\"opacity: 0.7; stroke-width: 1px; fill: rgb(22, 116, 184); fill-opacity: 1; stroke: rgb(255, 255, 255); stroke-opacity: 1;\"/><path class=\"point\" transform=\"translate(412.45,239.78)\" d=\"M4.53,0A4.53,4.53 0 1,1 0,-4.53A4.53,4.53 0 0,1 4.53,0Z\" style=\"opacity: 0.7; stroke-width: 1px; fill: rgb(12, 145, 211); fill-opacity: 1; stroke: rgb(255, 255, 255); stroke-opacity: 1;\"/><path class=\"point\" transform=\"translate(403.81,94.76)\" d=\"M3.5,0A3.5,3.5 0 1,1 0,-3.5A3.5,3.5 0 0,1 3.5,0Z\" style=\"opacity: 0.7; stroke-width: 1px; fill: rgb(10, 152, 217); fill-opacity: 1; stroke: rgb(255, 255, 255); stroke-opacity: 1;\"/><path class=\"point\" transform=\"translate(402.44,79.27)\" d=\"M2.31,0A2.31,2.31 0 1,1 0,-2.31A2.31,2.31 0 0,1 2.31,0Z\" style=\"opacity: 0.7; stroke-width: 1px; fill: rgb(8, 157, 222); fill-opacity: 1; stroke: rgb(255, 255, 255); stroke-opacity: 1;\"/><path class=\"point\" transform=\"translate(402.19,273.04)\" d=\"M4.07,0A4.07,4.07 0 1,1 0,-4.07A4.07,4.07 0 0,1 4.07,0Z\" style=\"opacity: 0.7; stroke-width: 1px; fill: rgb(11, 148, 214); fill-opacity: 1; stroke: rgb(255, 255, 255); stroke-opacity: 1;\"/><path class=\"point\" transform=\"translate(401.84,137.12)\" d=\"M3.07,0A3.07,3.07 0 1,1 0,-3.07A3.07,3.07 0 0,1 3.07,0Z\" style=\"opacity: 0.7; stroke-width: 1px; fill: rgb(9, 154, 219); fill-opacity: 1; stroke: rgb(255, 255, 255); stroke-opacity: 1;\"/><path class=\"point\" transform=\"translate(401.05,75.52)\" d=\"M3.48,0A3.48,3.48 0 1,1 0,-3.48A3.48,3.48 0 0,1 3.48,0Z\" style=\"opacity: 0.7; stroke-width: 1px; fill: rgb(10, 152, 217); fill-opacity: 1; stroke: rgb(255, 255, 255); stroke-opacity: 1;\"/><path class=\"point\" transform=\"translate(400.46,18.69)\" d=\"M2.85,0A2.85,2.85 0 1,1 0,-2.85A2.85,2.85 0 0,1 2.85,0Z\" style=\"opacity: 0.7; stroke-width: 1px; fill: rgb(9, 155, 220); fill-opacity: 1; stroke: rgb(255, 255, 255); stroke-opacity: 1;\"/><path class=\"point\" transform=\"translate(399.08,144.62)\" d=\"M3.61,0A3.61,3.61 0 1,1 0,-3.61A3.61,3.61 0 0,1 3.61,0Z\" style=\"opacity: 0.7; stroke-width: 1px; fill: rgb(10, 151, 217); fill-opacity: 1; stroke: rgb(255, 255, 255); stroke-opacity: 1;\"/><path class=\"point\" transform=\"translate(398.3,35.1)\" d=\"M4.1,0A4.1,4.1 0 1,1 0,-4.1A4.1,4.1 0 0,1 4.1,0Z\" style=\"opacity: 0.7; stroke-width: 1px; fill: rgb(11, 148, 214); fill-opacity: 1; stroke: rgb(255, 255, 255); stroke-opacity: 1;\"/><path class=\"point\" transform=\"translate(397.71,80.24)\" d=\"M4.13,0A4.13,4.13 0 1,1 0,-4.13A4.13,4.13 0 0,1 4.13,0Z\" style=\"opacity: 0.7; stroke-width: 1px; fill: rgb(11, 148, 214); fill-opacity: 1; stroke: rgb(255, 255, 255); stroke-opacity: 1;\"/><path class=\"point\" transform=\"translate(396.92,141.95)\" d=\"M5.25,0A5.25,5.25 0 1,1 0,-5.25A5.25,5.25 0 0,1 5.25,0Z\" style=\"opacity: 0.7; stroke-width: 1px; fill: rgb(14, 140, 206); fill-opacity: 1; stroke: rgb(255, 255, 255); stroke-opacity: 1;\"/><path class=\"point\" transform=\"translate(396.73,287.94)\" d=\"M5.86,0A5.86,5.86 0 1,1 0,-5.86A5.86,5.86 0 0,1 5.86,0Z\" style=\"opacity: 0.7; stroke-width: 1px; fill: rgb(16, 135, 201); fill-opacity: 1; stroke: rgb(255, 255, 255); stroke-opacity: 1;\"/><path class=\"point\" transform=\"translate(395.9,265.15)\" d=\"M6.07,0A6.07,6.07 0 1,1 0,-6.07A6.07,6.07 0 0,1 6.07,0Z\" style=\"opacity: 0.7; stroke-width: 1px; fill: rgb(16, 133, 200); fill-opacity: 1; stroke: rgb(255, 255, 255); stroke-opacity: 1;\"/><path class=\"point\" transform=\"translate(392.78,226.63)\" d=\"M10.54,0A10.54,10.54 0 1,1 0,-10.54A10.54,10.54 0 0,1 10.54,0Z\" style=\"opacity: 0.7; stroke-width: 1px; fill: rgb(37, 76, 147); fill-opacity: 1; stroke: rgb(255, 255, 255); stroke-opacity: 1;\"/><path class=\"point\" transform=\"translate(390.41,257.7)\" d=\"M6.64,0A6.64,6.64 0 1,1 0,-6.64A6.64,6.64 0 0,1 6.64,0Z\" style=\"opacity: 0.7; stroke-width: 1px; fill: rgb(18, 127, 194); fill-opacity: 1; stroke: rgb(255, 255, 255); stroke-opacity: 1;\"/><path class=\"point\" transform=\"translate(389.02,268.27)\" d=\"M11.12,0A11.12,11.12 0 1,1 0,-11.12A11.12,11.12 0 0,1 11.12,0Z\" style=\"opacity: 0.7; stroke-width: 1px; fill: rgb(40, 66, 138); fill-opacity: 1; stroke: rgb(255, 255, 255); stroke-opacity: 1;\"/><path class=\"point\" transform=\"translate(373.85,283.32)\" d=\"M2.93,0A2.93,2.93 0 1,1 0,-2.93A2.93,2.93 0 0,1 2.93,0Z\" style=\"opacity: 0.7; stroke-width: 1px; fill: rgb(9, 154, 220); fill-opacity: 1; stroke: rgb(255, 255, 255); stroke-opacity: 1;\"/><path class=\"point\" transform=\"translate(373.85,248.35)\" d=\"M6.3,0A6.3,6.3 0 1,1 0,-6.3A6.3,6.3 0 0,1 6.3,0Z\" style=\"opacity: 0.7; stroke-width: 1px; fill: rgb(17, 130, 198); fill-opacity: 1; stroke: rgb(255, 255, 255); stroke-opacity: 1;\"/><path class=\"point\" transform=\"translate(368.03,238.61)\" d=\"M3.55,0A3.55,3.55 0 1,1 0,-3.55A3.55,3.55 0 0,1 3.55,0Z\" style=\"opacity: 0.7; stroke-width: 1px; fill: rgb(10, 151, 217); fill-opacity: 1; stroke: rgb(255, 255, 255); stroke-opacity: 1;\"/><path class=\"point\" transform=\"translate(359.11,228.68)\" d=\"M9.21,0A9.21,9.21 0 1,1 0,-9.21A9.21,9.21 0 0,1 9.21,0Z\" style=\"opacity: 0.7; stroke-width: 1px; fill: rgb(30, 96, 166); fill-opacity: 1; stroke: rgb(255, 255, 255); stroke-opacity: 1;\"/><path class=\"point\" transform=\"translate(346.32,247.52)\" d=\"M9.28,0A9.28,9.28 0 1,1 0,-9.28A9.28,9.28 0 0,1 9.28,0Z\" style=\"opacity: 0.7; stroke-width: 1px; fill: rgb(30, 95, 165); fill-opacity: 1; stroke: rgb(255, 255, 255); stroke-opacity: 1;\"/><path class=\"point\" transform=\"translate(340.79,282.34)\" d=\"M5.66,0A5.66,5.66 0 1,1 0,-5.66A5.66,5.66 0 0,1 5.66,0Z\" style=\"opacity: 0.7; stroke-width: 1px; fill: rgb(15, 136, 203); fill-opacity: 1; stroke: rgb(255, 255, 255); stroke-opacity: 1;\"/><path class=\"point\" transform=\"translate(339.92,257.94)\" d=\"M3.59,0A3.59,3.59 0 1,1 0,-3.59A3.59,3.59 0 0,1 3.59,0Z\" style=\"opacity: 0.7; stroke-width: 1px; fill: rgb(10, 151, 217); fill-opacity: 1; stroke: rgb(255, 255, 255); stroke-opacity: 1;\"/><path class=\"point\" transform=\"translate(339.42,222.01)\" d=\"M8.31,0A8.31,8.31 0 1,1 0,-8.31A8.31,8.31 0 0,1 8.31,0Z\" style=\"opacity: 0.7; stroke-width: 1px; fill: rgb(25, 108, 177); fill-opacity: 1; stroke: rgb(255, 255, 255); stroke-opacity: 1;\"/><path class=\"point\" transform=\"translate(336.68,252.88)\" d=\"M3.91,0A3.91,3.91 0 1,1 0,-3.91A3.91,3.91 0 0,1 3.91,0Z\" style=\"opacity: 0.7; stroke-width: 1px; fill: rgb(11, 149, 215); fill-opacity: 1; stroke: rgb(255, 255, 255); stroke-opacity: 1;\"/><path class=\"point\" transform=\"translate(325.66,242.85)\" d=\"M5.74,0A5.74,5.74 0 1,1 0,-5.74A5.74,5.74 0 0,1 5.74,0Z\" style=\"opacity: 0.7; stroke-width: 1px; fill: rgb(15, 136, 202); fill-opacity: 1; stroke: rgb(255, 255, 255); stroke-opacity: 1;\"/><path class=\"point\" transform=\"translate(321.52,214.75)\" d=\"M6.84,0A6.84,6.84 0 1,1 0,-6.84A6.84,6.84 0 0,1 6.84,0Z\" style=\"opacity: 0.7; stroke-width: 1px; fill: rgb(19, 125, 193); fill-opacity: 1; stroke: rgb(255, 255, 255); stroke-opacity: 1;\"/><path class=\"point\" transform=\"translate(318.67,258.77)\" d=\"M3.45,0A3.45,3.45 0 1,1 0,-3.45A3.45,3.45 0 0,1 3.45,0Z\" style=\"opacity: 0.7; stroke-width: 1px; fill: rgb(10, 152, 217); fill-opacity: 1; stroke: rgb(255, 255, 255); stroke-opacity: 1;\"/><path class=\"point\" transform=\"translate(310.51,251.52)\" d=\"M4.73,0A4.73,4.73 0 1,1 0,-4.73A4.73,4.73 0 0,1 4.73,0Z\" style=\"opacity: 0.7; stroke-width: 1px; fill: rgb(12, 144, 210); fill-opacity: 1; stroke: rgb(255, 255, 255); stroke-opacity: 1;\"/><path class=\"point\" transform=\"translate(307.75,249.81)\" d=\"M8.86,0A8.86,8.86 0 1,1 0,-8.86A8.86,8.86 0 0,1 8.86,0Z\" style=\"opacity: 0.7; stroke-width: 1px; fill: rgb(28, 101, 170); fill-opacity: 1; stroke: rgb(255, 255, 255); stroke-opacity: 1;\"/><path class=\"point\" transform=\"translate(306.37,279.18)\" d=\"M11.87,0A11.87,11.87 0 1,1 0,-11.87A11.87,11.87 0 0,1 11.87,0Z\" style=\"opacity: 0.7; stroke-width: 1px; fill: rgb(45, 53, 126); fill-opacity: 1; stroke: rgb(255, 255, 255); stroke-opacity: 1;\"/><path class=\"point\" transform=\"translate(298.14,244.7)\" d=\"M8.32,0A8.32,8.32 0 1,1 0,-8.32A8.32,8.32 0 0,1 8.32,0Z\" style=\"opacity: 0.7; stroke-width: 1px; fill: rgb(25, 108, 177); fill-opacity: 1; stroke: rgb(255, 255, 255); stroke-opacity: 1;\"/><path class=\"point\" transform=\"translate(295.34,236.47)\" d=\"M3.61,0A3.61,3.61 0 1,1 0,-3.61A3.61,3.61 0 0,1 3.61,0Z\" style=\"opacity: 0.7; stroke-width: 1px; fill: rgb(10, 151, 216); fill-opacity: 1; stroke: rgb(255, 255, 255); stroke-opacity: 1;\"/><path class=\"point\" transform=\"translate(293.22,260.92)\" d=\"M3.97,0A3.97,3.97 0 1,1 0,-3.97A3.97,3.97 0 0,1 3.97,0Z\" style=\"opacity: 0.7; stroke-width: 1px; fill: rgb(11, 149, 215); fill-opacity: 1; stroke: rgb(255, 255, 255); stroke-opacity: 1;\"/><path class=\"point\" transform=\"translate(290.83,276.94)\" d=\"M3.46,0A3.46,3.46 0 1,1 0,-3.46A3.46,3.46 0 0,1 3.46,0Z\" style=\"opacity: 0.7; stroke-width: 1px; fill: rgb(10, 152, 217); fill-opacity: 1; stroke: rgb(255, 255, 255); stroke-opacity: 1;\"/><path class=\"point\" transform=\"translate(280.98,201.36)\" d=\"M6.65,0A6.65,6.65 0 1,1 0,-6.65A6.65,6.65 0 0,1 6.65,0Z\" style=\"opacity: 0.7; stroke-width: 1px; fill: rgb(18, 127, 194); fill-opacity: 1; stroke: rgb(255, 255, 255); stroke-opacity: 1;\"/><path class=\"point\" transform=\"translate(278.44,264.18)\" d=\"M4.85,0A4.85,4.85 0 1,1 0,-4.85A4.85,4.85 0 0,1 4.85,0Z\" style=\"opacity: 0.7; stroke-width: 1px; fill: rgb(13, 143, 209); fill-opacity: 1; stroke: rgb(255, 255, 255); stroke-opacity: 1;\"/><path class=\"point\" transform=\"translate(273.9,256.82)\" d=\"M5.29,0A5.29,5.29 0 1,1 0,-5.29A5.29,5.29 0 0,1 5.29,0Z\" style=\"opacity: 0.7; stroke-width: 1px; fill: rgb(14, 139, 206); fill-opacity: 1; stroke: rgb(255, 255, 255); stroke-opacity: 1;\"/><path class=\"point\" transform=\"translate(267.02,270.61)\" d=\"M2.86,0A2.86,2.86 0 1,1 0,-2.86A2.86,2.86 0 0,1 2.86,0Z\" style=\"opacity: 0.7; stroke-width: 1px; fill: rgb(9, 155, 220); fill-opacity: 1; stroke: rgb(255, 255, 255); stroke-opacity: 1;\"/><path class=\"point\" transform=\"translate(265.86,248.55)\" d=\"M7.7,0A7.7,7.7 0 1,1 0,-7.7A7.7,7.7 0 0,1 7.7,0Z\" style=\"opacity: 0.7; stroke-width: 1px; fill: rgb(23, 116, 184); fill-opacity: 1; stroke: rgb(255, 255, 255); stroke-opacity: 1;\"/><path class=\"point\" transform=\"translate(259.33,246.55)\" d=\"M7.44,0A7.44,7.44 0 1,1 0,-7.44A7.44,7.44 0 0,1 7.44,0Z\" style=\"opacity: 0.7; stroke-width: 1px; fill: rgb(21, 119, 187); fill-opacity: 1; stroke: rgb(255, 255, 255); stroke-opacity: 1;\"/><path class=\"point\" transform=\"translate(253.66,216.6)\" d=\"M3.29,0A3.29,3.29 0 1,1 0,-3.29A3.29,3.29 0 0,1 3.29,0Z\" style=\"opacity: 0.7; stroke-width: 1px; fill: rgb(9, 153, 218); fill-opacity: 1; stroke: rgb(255, 255, 255); stroke-opacity: 1;\"/><path class=\"point\" transform=\"translate(248.31,222.1)\" d=\"M4.15,0A4.15,4.15 0 1,1 0,-4.15A4.15,4.15 0 0,1 4.15,0Z\" style=\"opacity: 0.7; stroke-width: 1px; fill: rgb(11, 148, 214); fill-opacity: 1; stroke: rgb(255, 255, 255); stroke-opacity: 1;\"/><path class=\"point\" transform=\"translate(246.33,277.23)\" d=\"M4.2,0A4.2,4.2 0 1,1 0,-4.2A4.2,4.2 0 0,1 4.2,0Z\" style=\"opacity: 0.7; stroke-width: 1px; fill: rgb(11, 147, 213); fill-opacity: 1; stroke: rgb(255, 255, 255); stroke-opacity: 1;\"/><path class=\"point\" transform=\"translate(244,238.71)\" d=\"M7.57,0A7.57,7.57 0 1,1 0,-7.57A7.57,7.57 0 0,1 7.57,0Z\" style=\"opacity: 0.7; stroke-width: 1px; fill: rgb(22, 117, 185); fill-opacity: 1; stroke: rgb(255, 255, 255); stroke-opacity: 1;\"/><path class=\"point\" transform=\"translate(242.88,237.88)\" d=\"M5.58,0A5.58,5.58 0 1,1 0,-5.58A5.58,5.58 0 0,1 5.58,0Z\" style=\"opacity: 0.7; stroke-width: 1px; fill: rgb(15, 137, 204); fill-opacity: 1; stroke: rgb(255, 255, 255); stroke-opacity: 1;\"/><path class=\"point\" transform=\"translate(237.13,233.21)\" d=\"M11.91,0A11.91,11.91 0 1,1 0,-11.91A11.91,11.91 0 0,1 11.91,0Z\" style=\"opacity: 0.7; stroke-width: 1px; fill: rgb(45, 52, 125); fill-opacity: 1; stroke: rgb(255, 255, 255); stroke-opacity: 1;\"/><path class=\"point\" transform=\"translate(230.43,237.1)\" d=\"M4.52,0A4.52,4.52 0 1,1 0,-4.52A4.52,4.52 0 0,1 4.52,0Z\" style=\"opacity: 0.7; stroke-width: 1px; fill: rgb(12, 145, 211); fill-opacity: 1; stroke: rgb(255, 255, 255); stroke-opacity: 1;\"/><path class=\"point\" transform=\"translate(228.65,282.49)\" d=\"M1.86,0A1.86,1.86 0 1,1 0,-1.86A1.86,1.86 0 0,1 1.86,0Z\" style=\"opacity: 0.7; stroke-width: 1px; fill: rgb(7, 158, 223); fill-opacity: 1; stroke: rgb(255, 255, 255); stroke-opacity: 1;\"/><path class=\"point\" transform=\"translate(227.46,261.55)\" d=\"M14.14,0A14.14,14.14 0 1,1 0,-14.14A14.14,14.14 0 0,1 14.14,0Z\" style=\"opacity: 0.7; stroke-width: 1px; fill: rgb(61, 8, 84); fill-opacity: 1; stroke: rgb(255, 255, 255); stroke-opacity: 1;\"/><path class=\"point\" transform=\"translate(220.57,264.32)\" d=\"M5.01,0A5.01,5.01 0 1,1 0,-5.01A5.01,5.01 0 0,1 5.01,0Z\" style=\"opacity: 0.7; stroke-width: 1px; fill: rgb(13, 142, 208); fill-opacity: 1; stroke: rgb(255, 255, 255); stroke-opacity: 1;\"/><path class=\"point\" transform=\"translate(220.57,253.81)\" d=\"M5.9,0A5.9,5.9 0 1,1 0,-5.9A5.9,5.9 0 0,1 5.9,0Z\" style=\"opacity: 0.7; stroke-width: 1px; fill: rgb(16, 134, 201); fill-opacity: 1; stroke: rgb(255, 255, 255); stroke-opacity: 1;\"/><path class=\"point\" transform=\"translate(217.05,233.01)\" d=\"M7.95,0A7.95,7.95 0 1,1 0,-7.95A7.95,7.95 0 0,1 7.95,0Z\" style=\"opacity: 0.7; stroke-width: 1px; fill: rgb(24, 113, 181); fill-opacity: 1; stroke: rgb(255, 255, 255); stroke-opacity: 1;\"/><path class=\"point\" transform=\"translate(214.87,238.27)\" d=\"M13.47,0A13.47,13.47 0 1,1 0,-13.47A13.47,13.47 0 0,1 13.47,0Z\" style=\"opacity: 0.7; stroke-width: 1px; fill: rgb(56, 22, 97); fill-opacity: 1; stroke: rgb(255, 255, 255); stroke-opacity: 1;\"/><path class=\"point\" transform=\"translate(210.53,229.07)\" d=\"M5.27,0A5.27,5.27 0 1,1 0,-5.27A5.27,5.27 0 0,1 5.27,0Z\" style=\"opacity: 0.7; stroke-width: 1px; fill: rgb(14, 140, 206); fill-opacity: 1; stroke: rgb(255, 255, 255); stroke-opacity: 1;\"/><path class=\"point\" transform=\"translate(204.11,215.19)\" d=\"M6.38,0A6.38,6.38 0 1,1 0,-6.38A6.38,6.38 0 0,1 6.38,0Z\" style=\"opacity: 0.7; stroke-width: 1px; fill: rgb(17, 130, 197); fill-opacity: 1; stroke: rgb(255, 255, 255); stroke-opacity: 1;\"/><path class=\"point\" transform=\"translate(199.92,240.95)\" d=\"M4.98,0A4.98,4.98 0 1,1 0,-4.98A4.98,4.98 0 0,1 4.98,0Z\" style=\"opacity: 0.7; stroke-width: 1px; fill: rgb(13, 142, 208); fill-opacity: 1; stroke: rgb(255, 255, 255); stroke-opacity: 1;\"/><path class=\"point\" transform=\"translate(197.35,279.52)\" d=\"M7.17,0A7.17,7.17 0 1,1 0,-7.17A7.17,7.17 0 0,1 7.17,0Z\" style=\"opacity: 0.7; stroke-width: 1px; fill: rgb(20, 122, 189); fill-opacity: 1; stroke: rgb(255, 255, 255); stroke-opacity: 1;\"/><path class=\"point\" transform=\"translate(197.17,217.43)\" d=\"M13.36,0A13.36,13.36 0 1,1 0,-13.36A13.36,13.36 0 0,1 13.36,0Z\" style=\"opacity: 0.7; stroke-width: 1px; fill: rgb(55, 24, 99); fill-opacity: 1; stroke: rgb(255, 255, 255); stroke-opacity: 1;\"/><path class=\"point\" transform=\"translate(188.92,244.84)\" d=\"M6.49,0A6.49,6.49 0 1,1 0,-6.49A6.49,6.49 0 0,1 6.49,0Z\" style=\"opacity: 0.7; stroke-width: 1px; fill: rgb(18, 129, 196); fill-opacity: 1; stroke: rgb(255, 255, 255); stroke-opacity: 1;\"/><path class=\"point\" transform=\"translate(187.52,204.72)\" d=\"M5.18,0A5.18,5.18 0 1,1 0,-5.18A5.18,5.18 0 0,1 5.18,0Z\" style=\"opacity: 0.7; stroke-width: 1px; fill: rgb(14, 140, 207); fill-opacity: 1; stroke: rgb(255, 255, 255); stroke-opacity: 1;\"/><path class=\"point\" transform=\"translate(185.15,229.16)\" d=\"M6.93,0A6.93,6.93 0 1,1 0,-6.93A6.93,6.93 0 0,1 6.93,0Z\" style=\"opacity: 0.7; stroke-width: 1px; fill: rgb(19, 124, 192); fill-opacity: 1; stroke: rgb(255, 255, 255); stroke-opacity: 1;\"/><path class=\"point\" transform=\"translate(185.15,277.91)\" d=\"M2.77,0A2.77,2.77 0 1,1 0,-2.77A2.77,2.77 0 0,1 2.77,0Z\" style=\"opacity: 0.7; stroke-width: 1px; fill: rgb(8, 155, 220); fill-opacity: 1; stroke: rgb(255, 255, 255); stroke-opacity: 1;\"/><path class=\"point\" transform=\"translate(184.95,257.46)\" d=\"M3.82,0A3.82,3.82 0 1,1 0,-3.82A3.82,3.82 0 0,1 3.82,0Z\" style=\"opacity: 0.7; stroke-width: 1px; fill: rgb(10, 150, 215); fill-opacity: 1; stroke: rgb(255, 255, 255); stroke-opacity: 1;\"/><path class=\"point\" transform=\"translate(184.76,233.74)\" d=\"M4.37,0A4.37,4.37 0 1,1 0,-4.37A4.37,4.37 0 0,1 4.37,0Z\" style=\"opacity: 0.7; stroke-width: 1px; fill: rgb(12, 146, 212); fill-opacity: 1; stroke: rgb(255, 255, 255); stroke-opacity: 1;\"/><path class=\"point\" transform=\"translate(184.57,240.51)\" d=\"M4.37,0A4.37,4.37 0 1,1 0,-4.37A4.37,4.37 0 0,1 4.37,0Z\" style=\"opacity: 0.7; stroke-width: 1px; fill: rgb(12, 146, 212); fill-opacity: 1; stroke: rgb(255, 255, 255); stroke-opacity: 1;\"/><path class=\"point\" transform=\"translate(184.37,248.94)\" d=\"M4.23,0A4.23,4.23 0 1,1 0,-4.23A4.23,4.23 0 0,1 4.23,0Z\" style=\"opacity: 0.7; stroke-width: 1px; fill: rgb(11, 147, 213); fill-opacity: 1; stroke: rgb(255, 255, 255); stroke-opacity: 1;\"/><path class=\"point\" transform=\"translate(184.17,254)\" d=\"M6.09,0A6.09,6.09 0 1,1 0,-6.09A6.09,6.09 0 0,1 6.09,0Z\" style=\"opacity: 0.7; stroke-width: 1px; fill: rgb(16, 133, 199); fill-opacity: 1; stroke: rgb(255, 255, 255); stroke-opacity: 1;\"/><path class=\"point\" transform=\"translate(183.98,245.14)\" d=\"M4.32,0A4.32,4.32 0 1,1 0,-4.32A4.32,4.32 0 0,1 4.32,0Z\" style=\"opacity: 0.7; stroke-width: 1px; fill: rgb(11, 147, 213); fill-opacity: 1; stroke: rgb(255, 255, 255); stroke-opacity: 1;\"/><path class=\"point\" transform=\"translate(183.78,239.73)\" d=\"M5.6,0A5.6,5.6 0 1,1 0,-5.6A5.6,5.6 0 0,1 5.6,0Z\" style=\"opacity: 0.7; stroke-width: 1px; fill: rgb(15, 137, 204); fill-opacity: 1; stroke: rgb(255, 255, 255); stroke-opacity: 1;\"/><path class=\"point\" transform=\"translate(183.59,239.98)\" d=\"M6.32,0A6.32,6.32 0 1,1 0,-6.32A6.32,6.32 0 0,1 6.32,0Z\" style=\"opacity: 0.7; stroke-width: 1px; fill: rgb(17, 130, 197); fill-opacity: 1; stroke: rgb(255, 255, 255); stroke-opacity: 1;\"/><path class=\"point\" transform=\"translate(183.39,244.5)\" d=\"M10.05,0A10.05,10.05 0 1,1 0,-10.05A10.05,10.05 0 0,1 10.05,0Z\" style=\"opacity: 0.7; stroke-width: 1px; fill: rgb(34, 84, 154); fill-opacity: 1; stroke: rgb(255, 255, 255); stroke-opacity: 1;\"/><path class=\"point\" transform=\"translate(172.42,222.93)\" d=\"M5.42,0A5.42,5.42 0 1,1 0,-5.42A5.42,5.42 0 0,1 5.42,0Z\" style=\"opacity: 0.7; stroke-width: 1px; fill: rgb(14, 138, 205); fill-opacity: 1; stroke: rgb(255, 255, 255); stroke-opacity: 1;\"/><path class=\"point\" transform=\"translate(165.5,231.31)\" d=\"M7.11,0A7.11,7.11 0 1,1 0,-7.11A7.11,7.11 0 0,1 7.11,0Z\" style=\"opacity: 0.7; stroke-width: 1px; fill: rgb(20, 122, 190); fill-opacity: 1; stroke: rgb(255, 255, 255); stroke-opacity: 1;\"/><path class=\"point\" transform=\"translate(161.37,270.31)\" d=\"M3.88,0A3.88,3.88 0 1,1 0,-3.88A3.88,3.88 0 0,1 3.88,0Z\" style=\"opacity: 0.7; stroke-width: 1px; fill: rgb(10, 149, 215); fill-opacity: 1; stroke: rgb(255, 255, 255); stroke-opacity: 1;\"/><path class=\"point\" transform=\"translate(155.86,229.6)\" d=\"M6.98,0A6.98,6.98 0 1,1 0,-6.98A6.98,6.98 0 0,1 6.98,0Z\" style=\"opacity: 0.7; stroke-width: 1px; fill: rgb(20, 124, 191); fill-opacity: 1; stroke: rgb(255, 255, 255); stroke-opacity: 1;\"/><path class=\"point\" transform=\"translate(153.1,254.49)\" d=\"M2.3,0A2.3,2.3 0 1,1 0,-2.3A2.3,2.3 0 0,1 2.3,0Z\" style=\"opacity: 0.7; stroke-width: 1px; fill: rgb(8, 157, 222); fill-opacity: 1; stroke: rgb(255, 255, 255); stroke-opacity: 1;\"/><path class=\"point\" transform=\"translate(153.1,289.94)\" d=\"M1.56,0A1.56,1.56 0 1,1 0,-1.56A1.56,1.56 0 0,1 1.56,0Z\" style=\"opacity: 0.7; stroke-width: 1px; fill: rgb(7, 159, 224); fill-opacity: 1; stroke: rgb(255, 255, 255); stroke-opacity: 1;\"/><path class=\"point\" transform=\"translate(153.1,253.56)\" d=\"M3.12,0A3.12,3.12 0 1,1 0,-3.12A3.12,3.12 0 0,1 3.12,0Z\" style=\"opacity: 0.7; stroke-width: 1px; fill: rgb(9, 153, 219); fill-opacity: 1; stroke: rgb(255, 255, 255); stroke-opacity: 1;\"/><path class=\"point\" transform=\"translate(149.01,241.05)\" d=\"M6.76,0A6.76,6.76 0 1,1 0,-6.76A6.76,6.76 0 0,1 6.76,0Z\" style=\"opacity: 0.7; stroke-width: 1px; fill: rgb(19, 126, 193); fill-opacity: 1; stroke: rgb(255, 255, 255); stroke-opacity: 1;\"/><path class=\"point\" transform=\"translate(140.92,245.43)\" d=\"M4.79,0A4.79,4.79 0 1,1 0,-4.79A4.79,4.79 0 0,1 4.79,0Z\" style=\"opacity: 0.7; stroke-width: 1px; fill: rgb(13, 143, 209); fill-opacity: 1; stroke: rgb(255, 255, 255); stroke-opacity: 1;\"/><path class=\"point\" transform=\"translate(139.14,243.97)\" d=\"M6.22,0A6.22,6.22 0 1,1 0,-6.22A6.22,6.22 0 0,1 6.22,0Z\" style=\"opacity: 0.7; stroke-width: 1px; fill: rgb(17, 131, 198); fill-opacity: 1; stroke: rgb(255, 255, 255); stroke-opacity: 1;\"/><path class=\"point\" transform=\"translate(138.35,256.87)\" d=\"M3.84,0A3.84,3.84 0 1,1 0,-3.84A3.84,3.84 0 0,1 3.84,0Z\" style=\"opacity: 0.7; stroke-width: 1px; fill: rgb(10, 150, 215); fill-opacity: 1; stroke: rgb(255, 255, 255); stroke-opacity: 1;\"/><path class=\"point\" transform=\"translate(136.27,255.95)\" d=\"M3.03,0A3.03,3.03 0 1,1 0,-3.03A3.03,3.03 0 0,1 3.03,0Z\" style=\"opacity: 0.7; stroke-width: 1px; fill: rgb(9, 154, 219); fill-opacity: 1; stroke: rgb(255, 255, 255); stroke-opacity: 1;\"/><path class=\"point\" transform=\"translate(136.27,268.41)\" d=\"M3.55,0A3.55,3.55 0 1,1 0,-3.55A3.55,3.55 0 0,1 3.55,0Z\" style=\"opacity: 0.7; stroke-width: 1px; fill: rgb(10, 151, 217); fill-opacity: 1; stroke: rgb(255, 255, 255); stroke-opacity: 1;\"/><path class=\"point\" transform=\"translate(134.82,252.93)\" d=\"M4.4,0A4.4,4.4 0 1,1 0,-4.4A4.4,4.4 0 0,1 4.4,0Z\" style=\"opacity: 0.7; stroke-width: 1px; fill: rgb(12, 146, 212); fill-opacity: 1; stroke: rgb(255, 255, 255); stroke-opacity: 1;\"/><path class=\"point\" transform=\"translate(133.27,281.42)\" d=\"M3.39,0A3.39,3.39 0 1,1 0,-3.39A3.39,3.39 0 0,1 3.39,0Z\" style=\"opacity: 0.7; stroke-width: 1px; fill: rgb(9, 152, 218); fill-opacity: 1; stroke: rgb(255, 255, 255); stroke-opacity: 1;\"/><path class=\"point\" transform=\"translate(133.07,258.92)\" d=\"M4.89,0A4.89,4.89 0 1,1 0,-4.89A4.89,4.89 0 0,1 4.89,0Z\" style=\"opacity: 0.7; stroke-width: 1px; fill: rgb(13, 143, 209); fill-opacity: 1; stroke: rgb(255, 255, 255); stroke-opacity: 1;\"/><path class=\"point\" transform=\"translate(132.09,265.05)\" d=\"M5.98,0A5.98,5.98 0 1,1 0,-5.98A5.98,5.98 0 0,1 5.98,0Z\" style=\"opacity: 0.7; stroke-width: 1px; fill: rgb(16, 134, 200); fill-opacity: 1; stroke: rgb(255, 255, 255); stroke-opacity: 1;\"/><path class=\"point\" transform=\"translate(131.89,280.49)\" d=\"M3.67,0A3.67,3.67 0 1,1 0,-3.67A3.67,3.67 0 0,1 3.67,0Z\" style=\"opacity: 0.7; stroke-width: 1px; fill: rgb(10, 151, 216); fill-opacity: 1; stroke: rgb(255, 255, 255); stroke-opacity: 1;\"/><path class=\"point\" transform=\"translate(131.69,265.01)\" d=\"M5.19,0A5.19,5.19 0 1,1 0,-5.19A5.19,5.19 0 0,1 5.19,0Z\" style=\"opacity: 0.7; stroke-width: 1px; fill: rgb(14, 140, 207); fill-opacity: 1; stroke: rgb(255, 255, 255); stroke-opacity: 1;\"/><path class=\"point\" transform=\"translate(131.49,262.33)\" d=\"M6.57,0A6.57,6.57 0 1,1 0,-6.57A6.57,6.57 0 0,1 6.57,0Z\" style=\"opacity: 0.7; stroke-width: 1px; fill: rgb(18, 128, 195); fill-opacity: 1; stroke: rgb(255, 255, 255); stroke-opacity: 1;\"/><path class=\"point\" transform=\"translate(131.31,265.25)\" d=\"M6.32,0A6.32,6.32 0 1,1 0,-6.32A6.32,6.32 0 0,1 6.32,0Z\" style=\"opacity: 0.7; stroke-width: 1px; fill: rgb(17, 130, 197); fill-opacity: 1; stroke: rgb(255, 255, 255); stroke-opacity: 1;\"/><path class=\"point\" transform=\"translate(131.12,265.59)\" d=\"M8.1,0A8.1,8.1 0 1,1 0,-8.1A8.1,8.1 0 0,1 8.1,0Z\" style=\"opacity: 0.7; stroke-width: 1px; fill: rgb(24, 111, 179); fill-opacity: 1; stroke: rgb(255, 255, 255); stroke-opacity: 1;\"/><path class=\"point\" transform=\"translate(130.93,279.37)\" d=\"M4.61,0A4.61,4.61 0 1,1 0,-4.61A4.61,4.61 0 0,1 4.61,0Z\" style=\"opacity: 0.7; stroke-width: 1px; fill: rgb(12, 145, 211); fill-opacity: 1; stroke: rgb(255, 255, 255); stroke-opacity: 1;\"/><path class=\"point\" transform=\"translate(123.1,271.92)\" d=\"M4.14,0A4.14,4.14 0 1,1 0,-4.14A4.14,4.14 0 0,1 4.14,0Z\" style=\"opacity: 0.7; stroke-width: 1px; fill: rgb(11, 148, 214); fill-opacity: 1; stroke: rgb(255, 255, 255); stroke-opacity: 1;\"/><path class=\"point\" transform=\"translate(106.3,282.88)\" d=\"M1.79,0A1.79,1.79 0 1,1 0,-1.79A1.79,1.79 0 0,1 1.79,0Z\" style=\"opacity: 0.7; stroke-width: 1px; fill: rgb(7, 158, 223); fill-opacity: 1; stroke: rgb(255, 255, 255); stroke-opacity: 1;\"/><path class=\"point\" transform=\"translate(106.3,247.57)\" d=\"M3.99,0A3.99,3.99 0 1,1 0,-3.99A3.99,3.99 0 0,1 3.99,0Z\" style=\"opacity: 0.7; stroke-width: 1px; fill: rgb(11, 149, 214); fill-opacity: 1; stroke: rgb(255, 255, 255); stroke-opacity: 1;\"/><path class=\"point\" transform=\"translate(91.38,286.92)\" d=\"M5.07,0A5.07,5.07 0 1,1 0,-5.07A5.07,5.07 0 0,1 5.07,0Z\" style=\"opacity: 0.7; stroke-width: 1px; fill: rgb(13, 141, 208); fill-opacity: 1; stroke: rgb(255, 255, 255); stroke-opacity: 1;\"/><path class=\"point\" transform=\"translate(70.73,255.8)\" d=\"M4.72,0A4.72,4.72 0 1,1 0,-4.72A4.72,4.72 0 0,1 4.72,0Z\" style=\"opacity: 0.7; stroke-width: 1px; fill: rgb(12, 144, 210); fill-opacity: 1; stroke: rgb(255, 255, 255); stroke-opacity: 1;\"/><path class=\"point\" transform=\"translate(67.74,286.92)\" d=\"M2.79,0A2.79,2.79 0 1,1 0,-2.79A2.79,2.79 0 0,1 2.79,0Z\" style=\"opacity: 0.7; stroke-width: 1px; fill: rgb(8, 155, 220); fill-opacity: 1; stroke: rgb(255, 255, 255); stroke-opacity: 1;\"/><path class=\"point\" transform=\"translate(60.69,250.2)\" d=\"M6.72,0A6.72,6.72 0 1,1 0,-6.72A6.72,6.72 0 0,1 6.72,0Z\" style=\"opacity: 0.7; stroke-width: 1px; fill: rgb(19, 126, 194); fill-opacity: 1; stroke: rgb(255, 255, 255); stroke-opacity: 1;\"/><path class=\"point\" transform=\"translate(50.1,272.65)\" d=\"M2.48,0A2.48,2.48 0 1,1 0,-2.48A2.48,2.48 0 0,1 2.48,0Z\" style=\"opacity: 0.7; stroke-width: 1px; fill: rgb(8, 156, 221); fill-opacity: 1; stroke: rgb(255, 255, 255); stroke-opacity: 1;\"/><path class=\"point\" transform=\"translate(44.58,268.46)\" d=\"M3.26,0A3.26,3.26 0 1,1 0,-3.26A3.26,3.26 0 0,1 3.26,0Z\" style=\"opacity: 0.7; stroke-width: 1px; fill: rgb(9, 153, 218); fill-opacity: 1; stroke: rgb(255, 255, 255); stroke-opacity: 1;\"/><path class=\"point\" transform=\"translate(36.15,289.11)\" d=\"M2.67,0A2.67,2.67 0 1,1 0,-2.67A2.67,2.67 0 0,1 2.67,0Z\" style=\"opacity: 0.7; stroke-width: 1px; fill: rgb(8, 155, 221); fill-opacity: 1; stroke: rgb(255, 255, 255); stroke-opacity: 1;\"/><path class=\"point\" transform=\"translate(28.85,291.3)\" d=\"M1.67,0A1.67,1.67 0 1,1 0,-1.67A1.67,1.67 0 0,1 1.67,0Z\" style=\"opacity: 0.7; stroke-width: 1px; fill: rgb(7, 159, 224); fill-opacity: 1; stroke: rgb(255, 255, 255); stroke-opacity: 1;\"/></g><g class=\"text\"/></g></g></g><g class=\"overplot\"/><path class=\"xlines-above crisp\" d=\"M0,0\" style=\"fill: none;\"/><path class=\"ylines-above crisp\" d=\"M0,0\" style=\"fill: none;\"/><g class=\"overlines-above\"/><g class=\"xaxislayer-above\"><g class=\"xtick\"><text text-anchor=\"middle\" x=\"0\" y=\"383\" transform=\"translate(96.4,0)\" style=\"font-family: 'Open Sans', verdana, arial, sans-serif; font-size: 12px; fill: rgb(42, 63, 95); fill-opacity: 1; white-space: pre;\">2015</text></g><g class=\"xtick\"><text text-anchor=\"middle\" x=\"0\" y=\"383\" transform=\"translate(168.22,0)\" style=\"font-family: 'Open Sans', verdana, arial, sans-serif; font-size: 12px; fill: rgb(42, 63, 95); fill-opacity: 1; white-space: pre;\">2016</text></g><g class=\"xtick\"><text text-anchor=\"middle\" x=\"0\" y=\"383\" transform=\"translate(240.24,0)\" style=\"font-family: 'Open Sans', verdana, arial, sans-serif; font-size: 12px; fill: rgb(42, 63, 95); fill-opacity: 1; white-space: pre;\">2017</text></g><g class=\"xtick\"><text text-anchor=\"middle\" x=\"0\" y=\"383\" transform=\"translate(312.06,0)\" style=\"font-family: 'Open Sans', verdana, arial, sans-serif; font-size: 12px; fill: rgb(42, 63, 95); fill-opacity: 1; white-space: pre;\">2018</text></g><g class=\"xtick\"><text text-anchor=\"middle\" x=\"0\" y=\"383\" transform=\"translate(383.88,0)\" style=\"font-family: 'Open Sans', verdana, arial, sans-serif; font-size: 12px; fill: rgb(42, 63, 95); fill-opacity: 1; white-space: pre;\">2019</text></g><g class=\"xtick\"><text text-anchor=\"middle\" x=\"0\" y=\"383\" transform=\"translate(455.7,0)\" style=\"font-family: 'Open Sans', verdana, arial, sans-serif; font-size: 12px; fill: rgb(42, 63, 95); fill-opacity: 1; white-space: pre;\">2020</text></g><g class=\"xtick\"><text text-anchor=\"middle\" x=\"0\" y=\"383\" transform=\"translate(527.72,0)\" style=\"font-family: 'Open Sans', verdana, arial, sans-serif; font-size: 12px; fill: rgb(42, 63, 95); fill-opacity: 1; white-space: pre;\">2021</text></g></g><g class=\"yaxislayer-above\"><g class=\"ytick\"><text text-anchor=\"end\" x=\"79\" y=\"4.199999999999999\" transform=\"translate(0,354.42)\" style=\"font-family: 'Open Sans', verdana, arial, sans-serif; font-size: 12px; fill: rgb(42, 63, 95); fill-opacity: 1; white-space: pre;\">0</text></g><g class=\"ytick\"><text text-anchor=\"end\" x=\"79\" y=\"4.199999999999999\" transform=\"translate(0,295.98)\" style=\"font-family: 'Open Sans', verdana, arial, sans-serif; font-size: 12px; fill: rgb(42, 63, 95); fill-opacity: 1; white-space: pre;\">20</text></g><g class=\"ytick\"><text text-anchor=\"end\" x=\"79\" y=\"4.199999999999999\" transform=\"translate(0,237.54)\" style=\"font-family: 'Open Sans', verdana, arial, sans-serif; font-size: 12px; fill: rgb(42, 63, 95); fill-opacity: 1; white-space: pre;\">40</text></g><g class=\"ytick\"><text text-anchor=\"end\" x=\"79\" y=\"4.199999999999999\" transform=\"translate(0,179.11)\" style=\"font-family: 'Open Sans', verdana, arial, sans-serif; font-size: 12px; fill: rgb(42, 63, 95); fill-opacity: 1; white-space: pre;\">60</text></g><g class=\"ytick\"><text text-anchor=\"end\" x=\"79\" y=\"4.199999999999999\" transform=\"translate(0,120.67)\" style=\"font-family: 'Open Sans', verdana, arial, sans-serif; font-size: 12px; fill: rgb(42, 63, 95); fill-opacity: 1; white-space: pre;\">80</text></g><g class=\"ytick\"><text text-anchor=\"end\" x=\"79\" y=\"4.199999999999999\" transform=\"translate(0,62.23)\" style=\"font-family: 'Open Sans', verdana, arial, sans-serif; font-size: 12px; fill: rgb(42, 63, 95); fill-opacity: 1; white-space: pre;\">100</text></g></g><g class=\"overaxes-above\"/></g></g><g class=\"polarlayer\"/><g class=\"ternarylayer\"/><g class=\"geolayer\"/><g class=\"funnelarealayer\"/><g class=\"pielayer\"/><g class=\"treemaplayer\"/><g class=\"sunburstlayer\"/><g class=\"glimages\"/><defs id=\"topdefs-8793ab\"><g class=\"clips\"/></defs><g class=\"layer-above\"><g class=\"imagelayer\"/><g class=\"shapelayer\"/></g><g class=\"infolayer\"><g class=\"cbcoloraxis colorbar\" transform=\"translate(80,60)\"><rect class=\"cbbg\" x=\"527\" y=\"0\" width=\"80.90625\" height=\"310\" style=\"fill: rgb(0, 0, 0); fill-opacity: 0; stroke: rgb(68, 68, 68); stroke-opacity: 1; stroke-width: 0;\"/><g class=\"cbfills\" transform=\"translate(0,30)\"><rect class=\"cbfill\" x=\"537\" width=\"30\" y=\"0\" height=\"270\" style=\"fill: url('#g8793ab-cbcoloraxis');\"/></g><g class=\"cblines\" transform=\"translate(0,30)\"/><g class=\"cbaxis crisp\" transform=\"translate(0,-60)\"><g class=\"ycbcoloraxistick\"><text text-anchor=\"start\" x=\"569.9\" y=\"4.199999999999999\" transform=\"translate(0,312.51)\" style=\"font-family: 'Open Sans', verdana, arial, sans-serif; font-size: 12px; fill: rgb(42, 63, 95); fill-opacity: 1; white-space: pre;\">50k</text></g><g class=\"ycbcoloraxistick\"><text text-anchor=\"start\" x=\"569.9\" y=\"4.199999999999999\" transform=\"translate(0,261.66999999999996)\" style=\"font-family: 'Open Sans', verdana, arial, sans-serif; font-size: 12px; fill: rgb(42, 63, 95); fill-opacity: 1; white-space: pre;\">100k</text></g><g class=\"ycbcoloraxistick\"><text text-anchor=\"start\" x=\"569.9\" y=\"4.199999999999999\" transform=\"translate(0,210.83999999999997)\" style=\"font-family: 'Open Sans', verdana, arial, sans-serif; font-size: 12px; fill: rgb(42, 63, 95); fill-opacity: 1; white-space: pre;\">150k</text></g><g class=\"ycbcoloraxistick\"><text text-anchor=\"start\" x=\"569.9\" y=\"4.199999999999999\" transform=\"translate(0,160.01)\" style=\"font-family: 'Open Sans', verdana, arial, sans-serif; font-size: 12px; fill: rgb(42, 63, 95); fill-opacity: 1; white-space: pre;\">200k</text></g><g class=\"ycbcoloraxistick\"><text text-anchor=\"start\" x=\"569.9\" y=\"4.199999999999999\" transform=\"translate(0,109.17999999999998)\" style=\"font-family: 'Open Sans', verdana, arial, sans-serif; font-size: 12px; fill: rgb(42, 63, 95); fill-opacity: 1; white-space: pre;\">250k</text></g></g><g class=\"cbtitleunshift\" transform=\"translate(-80,-60)\"><g class=\"cbtitle\" transform=\"translate(0,0)\"><text class=\"ycbcoloraxistitle\" x=\"617.34\" y=\"81.99999999999999\" text-anchor=\"start\" style=\"font-family: 'Open Sans', verdana, arial, sans-serif; font-size: 12px; fill: rgb(42, 63, 95); opacity: 1; font-weight: normal; white-space: pre;\">likes</text></g></g><rect class=\"cboutline\" x=\"537\" y=\"30\" width=\"30\" height=\"270\" style=\"stroke: rgb(68, 68, 68); stroke-opacity: 1; fill: none; stroke-width: 0;\"/></g><g class=\"g-gtitle\"/><g class=\"g-xtitle\"><text class=\"xtitle\" x=\"338.5\" y=\"410.8\" text-anchor=\"middle\" style=\"font-family: 'Open Sans', verdana, arial, sans-serif; font-size: 14px; fill: rgb(42, 63, 95); opacity: 1; font-weight: normal; white-space: pre;\">publication date</text></g><g class=\"g-ytitle\"><text class=\"ytitle\" transform=\"rotate(-90,31.309375000000003,215)\" x=\"31.309375000000003\" y=\"215\" text-anchor=\"middle\" style=\"font-family: 'Open Sans', verdana, arial, sans-serif; font-size: 14px; fill: rgb(42, 63, 95); opacity: 1; font-weight: normal; white-space: pre;\">duration</text></g></g></svg>"
      ]
     },
     "metadata": {},
     "output_type": "display_data"
    }
   ],
   "source": [
    "fig = df.plot(x='publication date', \n",
    "              y='duration', \n",
    "              kind='scatter', \n",
    "              size='likes', \n",
    "              color=\"likes\", \n",
    "              color_continuous_scale=[[0.0, \"rgb(7, 159, 224)\"],\n",
    "                                      [1, \"rgb(61, 8, 84)\"]])\n",
    "fig.show(\"svg\")"
   ]
  },
  {
   "cell_type": "code",
   "execution_count": 139,
   "metadata": {},
   "outputs": [],
   "source": [
    "phrases = ['square', 'calculus', 'derivative', ' pi ', 'vector', 'algebra', 'bayes', 'series', 'fourier', 'trick']"
   ]
  },
  {
   "cell_type": "code",
   "execution_count": 140,
   "metadata": {},
   "outputs": [],
   "source": [
    "d = {}\n",
    "for phrase in phrases:\n",
    "    d[phrase] = df[df['title'].str.lower().str.contains(phrase)]"
   ]
  },
  {
   "cell_type": "code",
   "execution_count": 141,
   "metadata": {},
   "outputs": [],
   "source": [
    "def avg(d, phrase, key):\n",
    "    return d[phrase][key].sum() / len(d[phrase])"
   ]
  },
  {
   "cell_type": "code",
   "execution_count": 142,
   "metadata": {},
   "outputs": [
    {
     "data": {
      "text/html": [
       "<div>\n",
       "<style scoped>\n",
       "    .dataframe tbody tr th:only-of-type {\n",
       "        vertical-align: middle;\n",
       "    }\n",
       "\n",
       "    .dataframe tbody tr th {\n",
       "        vertical-align: top;\n",
       "    }\n",
       "\n",
       "    .dataframe thead th {\n",
       "        text-align: right;\n",
       "    }\n",
       "</style>\n",
       "<table border=\"1\" class=\"dataframe\">\n",
       "  <thead>\n",
       "    <tr style=\"text-align: right;\">\n",
       "      <th></th>\n",
       "      <th>phrase in the title</th>\n",
       "      <th>videos</th>\n",
       "      <th>views (average)</th>\n",
       "      <th>likes (average)</th>\n",
       "      <th>duration (average)</th>\n",
       "    </tr>\n",
       "  </thead>\n",
       "  <tbody>\n",
       "    <tr>\n",
       "      <th>8</th>\n",
       "      <td>fourier</td>\n",
       "      <td>3</td>\n",
       "      <td>4.514463e+06</td>\n",
       "      <td>100313.333333</td>\n",
       "      <td>19.405556</td>\n",
       "    </tr>\n",
       "    <tr>\n",
       "      <th>7</th>\n",
       "      <td>series</td>\n",
       "      <td>3</td>\n",
       "      <td>3.206922e+06</td>\n",
       "      <td>58257.000000</td>\n",
       "      <td>19.866667</td>\n",
       "    </tr>\n",
       "    <tr>\n",
       "      <th>4</th>\n",
       "      <td>vector</td>\n",
       "      <td>4</td>\n",
       "      <td>2.713898e+06</td>\n",
       "      <td>56226.000000</td>\n",
       "      <td>13.470833</td>\n",
       "    </tr>\n",
       "    <tr>\n",
       "      <th>0</th>\n",
       "      <td>square</td>\n",
       "      <td>2</td>\n",
       "      <td>2.145362e+06</td>\n",
       "      <td>46197.000000</td>\n",
       "      <td>11.758333</td>\n",
       "    </tr>\n",
       "    <tr>\n",
       "      <th>3</th>\n",
       "      <td>pi</td>\n",
       "      <td>2</td>\n",
       "      <td>2.123298e+06</td>\n",
       "      <td>50344.000000</td>\n",
       "      <td>12.475000</td>\n",
       "    </tr>\n",
       "    <tr>\n",
       "      <th>2</th>\n",
       "      <td>derivative</td>\n",
       "      <td>4</td>\n",
       "      <td>1.853721e+06</td>\n",
       "      <td>45131.250000</td>\n",
       "      <td>14.845833</td>\n",
       "    </tr>\n",
       "    <tr>\n",
       "      <th>1</th>\n",
       "      <td>calculus</td>\n",
       "      <td>13</td>\n",
       "      <td>1.818593e+06</td>\n",
       "      <td>44961.307692</td>\n",
       "      <td>15.941026</td>\n",
       "    </tr>\n",
       "    <tr>\n",
       "      <th>5</th>\n",
       "      <td>algebra</td>\n",
       "      <td>17</td>\n",
       "      <td>1.668891e+06</td>\n",
       "      <td>33399.823529</td>\n",
       "      <td>10.943137</td>\n",
       "    </tr>\n",
       "    <tr>\n",
       "      <th>6</th>\n",
       "      <td>bayes</td>\n",
       "      <td>3</td>\n",
       "      <td>7.655603e+05</td>\n",
       "      <td>32345.666667</td>\n",
       "      <td>13.600000</td>\n",
       "    </tr>\n",
       "    <tr>\n",
       "      <th>9</th>\n",
       "      <td>trick</td>\n",
       "      <td>1</td>\n",
       "      <td>3.302940e+05</td>\n",
       "      <td>15185.000000</td>\n",
       "      <td>13.216667</td>\n",
       "    </tr>\n",
       "  </tbody>\n",
       "</table>\n",
       "</div>"
      ],
      "text/plain": [
       "  phrase in the title videos  views (average)  likes (average)  \\\n",
       "8             fourier      3     4.514463e+06    100313.333333   \n",
       "7              series      3     3.206922e+06     58257.000000   \n",
       "4              vector      4     2.713898e+06     56226.000000   \n",
       "0              square      2     2.145362e+06     46197.000000   \n",
       "3                 pi       2     2.123298e+06     50344.000000   \n",
       "2          derivative      4     1.853721e+06     45131.250000   \n",
       "1            calculus     13     1.818593e+06     44961.307692   \n",
       "5             algebra     17     1.668891e+06     33399.823529   \n",
       "6               bayes      3     7.655603e+05     32345.666667   \n",
       "9               trick      1     3.302940e+05     15185.000000   \n",
       "\n",
       "   duration (average)  \n",
       "8           19.405556  \n",
       "7           19.866667  \n",
       "4           13.470833  \n",
       "0           11.758333  \n",
       "3           12.475000  \n",
       "2           14.845833  \n",
       "1           15.941026  \n",
       "5           10.943137  \n",
       "6           13.600000  \n",
       "9           13.216667  "
      ]
     },
     "execution_count": 142,
     "metadata": {},
     "output_type": "execute_result"
    }
   ],
   "source": [
    "df_phrases = pd.DataFrame(columns=['phrase in the title',\n",
    "                                   'videos',\n",
    "                                   'views (average)', \n",
    "                                   'likes (average)', \n",
    "                                   'duration (average)'])\n",
    "\n",
    "for index, phrase in enumerate(phrases):\n",
    "    df_phrases.loc[index] = [phrase,\n",
    "                             len(d[phrase]),\n",
    "                             avg(d, phrase, 'views'), \n",
    "                             avg(d, phrase, 'likes'), \n",
    "                             avg(d, phrase, 'duration')]\n",
    "\n",
    "df_phrases = df_phrases.sort_values(\"views (average)\", ascending=False)\n",
    "df_phrases\n"
   ]
  },
  {
   "cell_type": "code",
   "execution_count": 143,
   "metadata": {},
   "outputs": [
    {
     "data": {
      "application/vnd.plotly.v1+json": {
       "config": {
        "plotlyServerURL": "https://plot.ly"
       },
       "data": [
        {
         "alignmentgroup": "True",
         "hovertemplate": "phrase in the title=%{x}<br>videos=%{y}<br>duration (average)=%{marker.color}<extra></extra>",
         "legendgroup": "",
         "marker": {
          "color": [
           10.943137254901961,
           15.941025641025643,
           13.470833333333333,
           14.845833333333333,
           19.405555555555555,
           19.866666666666664,
           13.6,
           11.758333333333333,
           12.475,
           13.216666666666667
          ],
          "coloraxis": "coloraxis"
         },
         "name": "",
         "offsetgroup": "",
         "orientation": "v",
         "showlegend": false,
         "textposition": "auto",
         "type": "bar",
         "x": [
          "algebra",
          "calculus",
          "vector",
          "derivative",
          "fourier",
          "series",
          "bayes",
          "square",
          " pi ",
          "trick"
         ],
         "xaxis": "x",
         "y": [
          17,
          13,
          4,
          4,
          3,
          3,
          3,
          2,
          2,
          1
         ],
         "yaxis": "y"
        }
       ],
       "layout": {
        "barmode": "relative",
        "coloraxis": {
         "colorbar": {
          "title": {
           "text": "duration (average)"
          }
         },
         "colorscale": [
          [
           0,
           "rgb(7, 159, 224)"
          ],
          [
           1,
           "rgb(61, 8, 84)"
          ]
         ]
        },
        "legend": {
         "tracegroupgap": 0
        },
        "margin": {
         "t": 60
        },
        "template": {
         "data": {
          "bar": [
           {
            "error_x": {
             "color": "#2a3f5f"
            },
            "error_y": {
             "color": "#2a3f5f"
            },
            "marker": {
             "line": {
              "color": "#E5ECF6",
              "width": 0.5
             }
            },
            "type": "bar"
           }
          ],
          "barpolar": [
           {
            "marker": {
             "line": {
              "color": "#E5ECF6",
              "width": 0.5
             }
            },
            "type": "barpolar"
           }
          ],
          "carpet": [
           {
            "aaxis": {
             "endlinecolor": "#2a3f5f",
             "gridcolor": "white",
             "linecolor": "white",
             "minorgridcolor": "white",
             "startlinecolor": "#2a3f5f"
            },
            "baxis": {
             "endlinecolor": "#2a3f5f",
             "gridcolor": "white",
             "linecolor": "white",
             "minorgridcolor": "white",
             "startlinecolor": "#2a3f5f"
            },
            "type": "carpet"
           }
          ],
          "choropleth": [
           {
            "colorbar": {
             "outlinewidth": 0,
             "ticks": ""
            },
            "type": "choropleth"
           }
          ],
          "contour": [
           {
            "colorbar": {
             "outlinewidth": 0,
             "ticks": ""
            },
            "colorscale": [
             [
              0,
              "#0d0887"
             ],
             [
              0.1111111111111111,
              "#46039f"
             ],
             [
              0.2222222222222222,
              "#7201a8"
             ],
             [
              0.3333333333333333,
              "#9c179e"
             ],
             [
              0.4444444444444444,
              "#bd3786"
             ],
             [
              0.5555555555555556,
              "#d8576b"
             ],
             [
              0.6666666666666666,
              "#ed7953"
             ],
             [
              0.7777777777777778,
              "#fb9f3a"
             ],
             [
              0.8888888888888888,
              "#fdca26"
             ],
             [
              1,
              "#f0f921"
             ]
            ],
            "type": "contour"
           }
          ],
          "contourcarpet": [
           {
            "colorbar": {
             "outlinewidth": 0,
             "ticks": ""
            },
            "type": "contourcarpet"
           }
          ],
          "heatmap": [
           {
            "colorbar": {
             "outlinewidth": 0,
             "ticks": ""
            },
            "colorscale": [
             [
              0,
              "#0d0887"
             ],
             [
              0.1111111111111111,
              "#46039f"
             ],
             [
              0.2222222222222222,
              "#7201a8"
             ],
             [
              0.3333333333333333,
              "#9c179e"
             ],
             [
              0.4444444444444444,
              "#bd3786"
             ],
             [
              0.5555555555555556,
              "#d8576b"
             ],
             [
              0.6666666666666666,
              "#ed7953"
             ],
             [
              0.7777777777777778,
              "#fb9f3a"
             ],
             [
              0.8888888888888888,
              "#fdca26"
             ],
             [
              1,
              "#f0f921"
             ]
            ],
            "type": "heatmap"
           }
          ],
          "heatmapgl": [
           {
            "colorbar": {
             "outlinewidth": 0,
             "ticks": ""
            },
            "colorscale": [
             [
              0,
              "#0d0887"
             ],
             [
              0.1111111111111111,
              "#46039f"
             ],
             [
              0.2222222222222222,
              "#7201a8"
             ],
             [
              0.3333333333333333,
              "#9c179e"
             ],
             [
              0.4444444444444444,
              "#bd3786"
             ],
             [
              0.5555555555555556,
              "#d8576b"
             ],
             [
              0.6666666666666666,
              "#ed7953"
             ],
             [
              0.7777777777777778,
              "#fb9f3a"
             ],
             [
              0.8888888888888888,
              "#fdca26"
             ],
             [
              1,
              "#f0f921"
             ]
            ],
            "type": "heatmapgl"
           }
          ],
          "histogram": [
           {
            "marker": {
             "colorbar": {
              "outlinewidth": 0,
              "ticks": ""
             }
            },
            "type": "histogram"
           }
          ],
          "histogram2d": [
           {
            "colorbar": {
             "outlinewidth": 0,
             "ticks": ""
            },
            "colorscale": [
             [
              0,
              "#0d0887"
             ],
             [
              0.1111111111111111,
              "#46039f"
             ],
             [
              0.2222222222222222,
              "#7201a8"
             ],
             [
              0.3333333333333333,
              "#9c179e"
             ],
             [
              0.4444444444444444,
              "#bd3786"
             ],
             [
              0.5555555555555556,
              "#d8576b"
             ],
             [
              0.6666666666666666,
              "#ed7953"
             ],
             [
              0.7777777777777778,
              "#fb9f3a"
             ],
             [
              0.8888888888888888,
              "#fdca26"
             ],
             [
              1,
              "#f0f921"
             ]
            ],
            "type": "histogram2d"
           }
          ],
          "histogram2dcontour": [
           {
            "colorbar": {
             "outlinewidth": 0,
             "ticks": ""
            },
            "colorscale": [
             [
              0,
              "#0d0887"
             ],
             [
              0.1111111111111111,
              "#46039f"
             ],
             [
              0.2222222222222222,
              "#7201a8"
             ],
             [
              0.3333333333333333,
              "#9c179e"
             ],
             [
              0.4444444444444444,
              "#bd3786"
             ],
             [
              0.5555555555555556,
              "#d8576b"
             ],
             [
              0.6666666666666666,
              "#ed7953"
             ],
             [
              0.7777777777777778,
              "#fb9f3a"
             ],
             [
              0.8888888888888888,
              "#fdca26"
             ],
             [
              1,
              "#f0f921"
             ]
            ],
            "type": "histogram2dcontour"
           }
          ],
          "mesh3d": [
           {
            "colorbar": {
             "outlinewidth": 0,
             "ticks": ""
            },
            "type": "mesh3d"
           }
          ],
          "parcoords": [
           {
            "line": {
             "colorbar": {
              "outlinewidth": 0,
              "ticks": ""
             }
            },
            "type": "parcoords"
           }
          ],
          "pie": [
           {
            "automargin": true,
            "type": "pie"
           }
          ],
          "scatter": [
           {
            "marker": {
             "colorbar": {
              "outlinewidth": 0,
              "ticks": ""
             }
            },
            "type": "scatter"
           }
          ],
          "scatter3d": [
           {
            "line": {
             "colorbar": {
              "outlinewidth": 0,
              "ticks": ""
             }
            },
            "marker": {
             "colorbar": {
              "outlinewidth": 0,
              "ticks": ""
             }
            },
            "type": "scatter3d"
           }
          ],
          "scattercarpet": [
           {
            "marker": {
             "colorbar": {
              "outlinewidth": 0,
              "ticks": ""
             }
            },
            "type": "scattercarpet"
           }
          ],
          "scattergeo": [
           {
            "marker": {
             "colorbar": {
              "outlinewidth": 0,
              "ticks": ""
             }
            },
            "type": "scattergeo"
           }
          ],
          "scattergl": [
           {
            "marker": {
             "colorbar": {
              "outlinewidth": 0,
              "ticks": ""
             }
            },
            "type": "scattergl"
           }
          ],
          "scattermapbox": [
           {
            "marker": {
             "colorbar": {
              "outlinewidth": 0,
              "ticks": ""
             }
            },
            "type": "scattermapbox"
           }
          ],
          "scatterpolar": [
           {
            "marker": {
             "colorbar": {
              "outlinewidth": 0,
              "ticks": ""
             }
            },
            "type": "scatterpolar"
           }
          ],
          "scatterpolargl": [
           {
            "marker": {
             "colorbar": {
              "outlinewidth": 0,
              "ticks": ""
             }
            },
            "type": "scatterpolargl"
           }
          ],
          "scatterternary": [
           {
            "marker": {
             "colorbar": {
              "outlinewidth": 0,
              "ticks": ""
             }
            },
            "type": "scatterternary"
           }
          ],
          "surface": [
           {
            "colorbar": {
             "outlinewidth": 0,
             "ticks": ""
            },
            "colorscale": [
             [
              0,
              "#0d0887"
             ],
             [
              0.1111111111111111,
              "#46039f"
             ],
             [
              0.2222222222222222,
              "#7201a8"
             ],
             [
              0.3333333333333333,
              "#9c179e"
             ],
             [
              0.4444444444444444,
              "#bd3786"
             ],
             [
              0.5555555555555556,
              "#d8576b"
             ],
             [
              0.6666666666666666,
              "#ed7953"
             ],
             [
              0.7777777777777778,
              "#fb9f3a"
             ],
             [
              0.8888888888888888,
              "#fdca26"
             ],
             [
              1,
              "#f0f921"
             ]
            ],
            "type": "surface"
           }
          ],
          "table": [
           {
            "cells": {
             "fill": {
              "color": "#EBF0F8"
             },
             "line": {
              "color": "white"
             }
            },
            "header": {
             "fill": {
              "color": "#C8D4E3"
             },
             "line": {
              "color": "white"
             }
            },
            "type": "table"
           }
          ]
         },
         "layout": {
          "annotationdefaults": {
           "arrowcolor": "#2a3f5f",
           "arrowhead": 0,
           "arrowwidth": 1
          },
          "coloraxis": {
           "colorbar": {
            "outlinewidth": 0,
            "ticks": ""
           }
          },
          "colorscale": {
           "diverging": [
            [
             0,
             "#8e0152"
            ],
            [
             0.1,
             "#c51b7d"
            ],
            [
             0.2,
             "#de77ae"
            ],
            [
             0.3,
             "#f1b6da"
            ],
            [
             0.4,
             "#fde0ef"
            ],
            [
             0.5,
             "#f7f7f7"
            ],
            [
             0.6,
             "#e6f5d0"
            ],
            [
             0.7,
             "#b8e186"
            ],
            [
             0.8,
             "#7fbc41"
            ],
            [
             0.9,
             "#4d9221"
            ],
            [
             1,
             "#276419"
            ]
           ],
           "sequential": [
            [
             0,
             "#0d0887"
            ],
            [
             0.1111111111111111,
             "#46039f"
            ],
            [
             0.2222222222222222,
             "#7201a8"
            ],
            [
             0.3333333333333333,
             "#9c179e"
            ],
            [
             0.4444444444444444,
             "#bd3786"
            ],
            [
             0.5555555555555556,
             "#d8576b"
            ],
            [
             0.6666666666666666,
             "#ed7953"
            ],
            [
             0.7777777777777778,
             "#fb9f3a"
            ],
            [
             0.8888888888888888,
             "#fdca26"
            ],
            [
             1,
             "#f0f921"
            ]
           ],
           "sequentialminus": [
            [
             0,
             "#0d0887"
            ],
            [
             0.1111111111111111,
             "#46039f"
            ],
            [
             0.2222222222222222,
             "#7201a8"
            ],
            [
             0.3333333333333333,
             "#9c179e"
            ],
            [
             0.4444444444444444,
             "#bd3786"
            ],
            [
             0.5555555555555556,
             "#d8576b"
            ],
            [
             0.6666666666666666,
             "#ed7953"
            ],
            [
             0.7777777777777778,
             "#fb9f3a"
            ],
            [
             0.8888888888888888,
             "#fdca26"
            ],
            [
             1,
             "#f0f921"
            ]
           ]
          },
          "colorway": [
           "#636efa",
           "#EF553B",
           "#00cc96",
           "#ab63fa",
           "#FFA15A",
           "#19d3f3",
           "#FF6692",
           "#B6E880",
           "#FF97FF",
           "#FECB52"
          ],
          "font": {
           "color": "#2a3f5f"
          },
          "geo": {
           "bgcolor": "white",
           "lakecolor": "white",
           "landcolor": "#E5ECF6",
           "showlakes": true,
           "showland": true,
           "subunitcolor": "white"
          },
          "hoverlabel": {
           "align": "left"
          },
          "hovermode": "closest",
          "mapbox": {
           "style": "light"
          },
          "paper_bgcolor": "white",
          "plot_bgcolor": "#E5ECF6",
          "polar": {
           "angularaxis": {
            "gridcolor": "white",
            "linecolor": "white",
            "ticks": ""
           },
           "bgcolor": "#E5ECF6",
           "radialaxis": {
            "gridcolor": "white",
            "linecolor": "white",
            "ticks": ""
           }
          },
          "scene": {
           "xaxis": {
            "backgroundcolor": "#E5ECF6",
            "gridcolor": "white",
            "gridwidth": 2,
            "linecolor": "white",
            "showbackground": true,
            "ticks": "",
            "zerolinecolor": "white"
           },
           "yaxis": {
            "backgroundcolor": "#E5ECF6",
            "gridcolor": "white",
            "gridwidth": 2,
            "linecolor": "white",
            "showbackground": true,
            "ticks": "",
            "zerolinecolor": "white"
           },
           "zaxis": {
            "backgroundcolor": "#E5ECF6",
            "gridcolor": "white",
            "gridwidth": 2,
            "linecolor": "white",
            "showbackground": true,
            "ticks": "",
            "zerolinecolor": "white"
           }
          },
          "shapedefaults": {
           "line": {
            "color": "#2a3f5f"
           }
          },
          "ternary": {
           "aaxis": {
            "gridcolor": "white",
            "linecolor": "white",
            "ticks": ""
           },
           "baxis": {
            "gridcolor": "white",
            "linecolor": "white",
            "ticks": ""
           },
           "bgcolor": "#E5ECF6",
           "caxis": {
            "gridcolor": "white",
            "linecolor": "white",
            "ticks": ""
           }
          },
          "title": {
           "x": 0.05
          },
          "xaxis": {
           "automargin": true,
           "gridcolor": "white",
           "linecolor": "white",
           "ticks": "",
           "title": {
            "standoff": 15
           },
           "zerolinecolor": "white",
           "zerolinewidth": 2
          },
          "yaxis": {
           "automargin": true,
           "gridcolor": "white",
           "linecolor": "white",
           "ticks": "",
           "title": {
            "standoff": 15
           },
           "zerolinecolor": "white",
           "zerolinewidth": 2
          }
         }
        },
        "xaxis": {
         "anchor": "y",
         "domain": [
          0,
          1
         ],
         "title": {
          "text": "phrase in the title"
         }
        },
        "yaxis": {
         "anchor": "x",
         "domain": [
          0,
          1
         ],
         "title": {
          "text": "videos"
         }
        }
       }
      },
      "text/html": [
       "<div>                            <div id=\"2e4ec646-a0d3-4338-b2cb-2b99415e4f09\" class=\"plotly-graph-div\" style=\"height:525px; width:100%;\"></div>            <script type=\"text/javascript\">                require([\"plotly\"], function(Plotly) {                    window.PLOTLYENV=window.PLOTLYENV || {};                                    if (document.getElementById(\"2e4ec646-a0d3-4338-b2cb-2b99415e4f09\")) {                    Plotly.newPlot(                        \"2e4ec646-a0d3-4338-b2cb-2b99415e4f09\",                        [{\"alignmentgroup\": \"True\", \"hovertemplate\": \"phrase in the title=%{x}<br>videos=%{y}<br>duration (average)=%{marker.color}<extra></extra>\", \"legendgroup\": \"\", \"marker\": {\"color\": [10.943137254901961, 15.941025641025643, 13.470833333333333, 14.845833333333333, 19.405555555555555, 19.866666666666664, 13.6, 11.758333333333333, 12.475, 13.216666666666667], \"coloraxis\": \"coloraxis\"}, \"name\": \"\", \"offsetgroup\": \"\", \"orientation\": \"v\", \"showlegend\": false, \"textposition\": \"auto\", \"type\": \"bar\", \"x\": [\"algebra\", \"calculus\", \"vector\", \"derivative\", \"fourier\", \"series\", \"bayes\", \"square\", \" pi \", \"trick\"], \"xaxis\": \"x\", \"y\": [17, 13, 4, 4, 3, 3, 3, 2, 2, 1], \"yaxis\": \"y\"}],                        {\"barmode\": \"relative\", \"coloraxis\": {\"colorbar\": {\"title\": {\"text\": \"duration (average)\"}}, \"colorscale\": [[0.0, \"rgb(7, 159, 224)\"], [1, \"rgb(61, 8, 84)\"]]}, \"legend\": {\"tracegroupgap\": 0}, \"margin\": {\"t\": 60}, \"template\": {\"data\": {\"bar\": [{\"error_x\": {\"color\": \"#2a3f5f\"}, \"error_y\": {\"color\": \"#2a3f5f\"}, \"marker\": {\"line\": {\"color\": \"#E5ECF6\", \"width\": 0.5}}, \"type\": \"bar\"}], \"barpolar\": [{\"marker\": {\"line\": {\"color\": \"#E5ECF6\", \"width\": 0.5}}, \"type\": \"barpolar\"}], \"carpet\": [{\"aaxis\": {\"endlinecolor\": \"#2a3f5f\", \"gridcolor\": \"white\", \"linecolor\": \"white\", \"minorgridcolor\": \"white\", \"startlinecolor\": \"#2a3f5f\"}, \"baxis\": {\"endlinecolor\": \"#2a3f5f\", \"gridcolor\": \"white\", \"linecolor\": \"white\", \"minorgridcolor\": \"white\", \"startlinecolor\": \"#2a3f5f\"}, \"type\": \"carpet\"}], \"choropleth\": [{\"colorbar\": {\"outlinewidth\": 0, \"ticks\": \"\"}, \"type\": \"choropleth\"}], \"contour\": [{\"colorbar\": {\"outlinewidth\": 0, \"ticks\": \"\"}, \"colorscale\": [[0.0, \"#0d0887\"], [0.1111111111111111, \"#46039f\"], [0.2222222222222222, \"#7201a8\"], [0.3333333333333333, \"#9c179e\"], [0.4444444444444444, \"#bd3786\"], [0.5555555555555556, \"#d8576b\"], [0.6666666666666666, \"#ed7953\"], [0.7777777777777778, \"#fb9f3a\"], [0.8888888888888888, \"#fdca26\"], [1.0, \"#f0f921\"]], \"type\": \"contour\"}], \"contourcarpet\": [{\"colorbar\": {\"outlinewidth\": 0, \"ticks\": \"\"}, \"type\": \"contourcarpet\"}], \"heatmap\": [{\"colorbar\": {\"outlinewidth\": 0, \"ticks\": \"\"}, \"colorscale\": [[0.0, \"#0d0887\"], [0.1111111111111111, \"#46039f\"], [0.2222222222222222, \"#7201a8\"], [0.3333333333333333, \"#9c179e\"], [0.4444444444444444, \"#bd3786\"], [0.5555555555555556, \"#d8576b\"], [0.6666666666666666, \"#ed7953\"], [0.7777777777777778, \"#fb9f3a\"], [0.8888888888888888, \"#fdca26\"], [1.0, \"#f0f921\"]], \"type\": \"heatmap\"}], \"heatmapgl\": [{\"colorbar\": {\"outlinewidth\": 0, \"ticks\": \"\"}, \"colorscale\": [[0.0, \"#0d0887\"], [0.1111111111111111, \"#46039f\"], [0.2222222222222222, \"#7201a8\"], [0.3333333333333333, \"#9c179e\"], [0.4444444444444444, \"#bd3786\"], [0.5555555555555556, \"#d8576b\"], [0.6666666666666666, \"#ed7953\"], [0.7777777777777778, \"#fb9f3a\"], [0.8888888888888888, \"#fdca26\"], [1.0, \"#f0f921\"]], \"type\": \"heatmapgl\"}], \"histogram\": [{\"marker\": {\"colorbar\": {\"outlinewidth\": 0, \"ticks\": \"\"}}, \"type\": \"histogram\"}], \"histogram2d\": [{\"colorbar\": {\"outlinewidth\": 0, \"ticks\": \"\"}, \"colorscale\": [[0.0, \"#0d0887\"], [0.1111111111111111, \"#46039f\"], [0.2222222222222222, \"#7201a8\"], [0.3333333333333333, \"#9c179e\"], [0.4444444444444444, \"#bd3786\"], [0.5555555555555556, \"#d8576b\"], [0.6666666666666666, \"#ed7953\"], [0.7777777777777778, \"#fb9f3a\"], [0.8888888888888888, \"#fdca26\"], [1.0, \"#f0f921\"]], \"type\": \"histogram2d\"}], \"histogram2dcontour\": [{\"colorbar\": {\"outlinewidth\": 0, \"ticks\": \"\"}, \"colorscale\": [[0.0, \"#0d0887\"], [0.1111111111111111, \"#46039f\"], [0.2222222222222222, \"#7201a8\"], [0.3333333333333333, \"#9c179e\"], [0.4444444444444444, \"#bd3786\"], [0.5555555555555556, \"#d8576b\"], [0.6666666666666666, \"#ed7953\"], [0.7777777777777778, \"#fb9f3a\"], [0.8888888888888888, \"#fdca26\"], [1.0, \"#f0f921\"]], \"type\": \"histogram2dcontour\"}], \"mesh3d\": [{\"colorbar\": {\"outlinewidth\": 0, \"ticks\": \"\"}, \"type\": \"mesh3d\"}], \"parcoords\": [{\"line\": {\"colorbar\": {\"outlinewidth\": 0, \"ticks\": \"\"}}, \"type\": \"parcoords\"}], \"pie\": [{\"automargin\": true, \"type\": \"pie\"}], \"scatter\": [{\"marker\": {\"colorbar\": {\"outlinewidth\": 0, \"ticks\": \"\"}}, \"type\": \"scatter\"}], \"scatter3d\": [{\"line\": {\"colorbar\": {\"outlinewidth\": 0, \"ticks\": \"\"}}, \"marker\": {\"colorbar\": {\"outlinewidth\": 0, \"ticks\": \"\"}}, \"type\": \"scatter3d\"}], \"scattercarpet\": [{\"marker\": {\"colorbar\": {\"outlinewidth\": 0, \"ticks\": \"\"}}, \"type\": \"scattercarpet\"}], \"scattergeo\": [{\"marker\": {\"colorbar\": {\"outlinewidth\": 0, \"ticks\": \"\"}}, \"type\": \"scattergeo\"}], \"scattergl\": [{\"marker\": {\"colorbar\": {\"outlinewidth\": 0, \"ticks\": \"\"}}, \"type\": \"scattergl\"}], \"scattermapbox\": [{\"marker\": {\"colorbar\": {\"outlinewidth\": 0, \"ticks\": \"\"}}, \"type\": \"scattermapbox\"}], \"scatterpolar\": [{\"marker\": {\"colorbar\": {\"outlinewidth\": 0, \"ticks\": \"\"}}, \"type\": \"scatterpolar\"}], \"scatterpolargl\": [{\"marker\": {\"colorbar\": {\"outlinewidth\": 0, \"ticks\": \"\"}}, \"type\": \"scatterpolargl\"}], \"scatterternary\": [{\"marker\": {\"colorbar\": {\"outlinewidth\": 0, \"ticks\": \"\"}}, \"type\": \"scatterternary\"}], \"surface\": [{\"colorbar\": {\"outlinewidth\": 0, \"ticks\": \"\"}, \"colorscale\": [[0.0, \"#0d0887\"], [0.1111111111111111, \"#46039f\"], [0.2222222222222222, \"#7201a8\"], [0.3333333333333333, \"#9c179e\"], [0.4444444444444444, \"#bd3786\"], [0.5555555555555556, \"#d8576b\"], [0.6666666666666666, \"#ed7953\"], [0.7777777777777778, \"#fb9f3a\"], [0.8888888888888888, \"#fdca26\"], [1.0, \"#f0f921\"]], \"type\": \"surface\"}], \"table\": [{\"cells\": {\"fill\": {\"color\": \"#EBF0F8\"}, \"line\": {\"color\": \"white\"}}, \"header\": {\"fill\": {\"color\": \"#C8D4E3\"}, \"line\": {\"color\": \"white\"}}, \"type\": \"table\"}]}, \"layout\": {\"annotationdefaults\": {\"arrowcolor\": \"#2a3f5f\", \"arrowhead\": 0, \"arrowwidth\": 1}, \"coloraxis\": {\"colorbar\": {\"outlinewidth\": 0, \"ticks\": \"\"}}, \"colorscale\": {\"diverging\": [[0, \"#8e0152\"], [0.1, \"#c51b7d\"], [0.2, \"#de77ae\"], [0.3, \"#f1b6da\"], [0.4, \"#fde0ef\"], [0.5, \"#f7f7f7\"], [0.6, \"#e6f5d0\"], [0.7, \"#b8e186\"], [0.8, \"#7fbc41\"], [0.9, \"#4d9221\"], [1, \"#276419\"]], \"sequential\": [[0.0, \"#0d0887\"], [0.1111111111111111, \"#46039f\"], [0.2222222222222222, \"#7201a8\"], [0.3333333333333333, \"#9c179e\"], [0.4444444444444444, \"#bd3786\"], [0.5555555555555556, \"#d8576b\"], [0.6666666666666666, \"#ed7953\"], [0.7777777777777778, \"#fb9f3a\"], [0.8888888888888888, \"#fdca26\"], [1.0, \"#f0f921\"]], \"sequentialminus\": [[0.0, \"#0d0887\"], [0.1111111111111111, \"#46039f\"], [0.2222222222222222, \"#7201a8\"], [0.3333333333333333, \"#9c179e\"], [0.4444444444444444, \"#bd3786\"], [0.5555555555555556, \"#d8576b\"], [0.6666666666666666, \"#ed7953\"], [0.7777777777777778, \"#fb9f3a\"], [0.8888888888888888, \"#fdca26\"], [1.0, \"#f0f921\"]]}, \"colorway\": [\"#636efa\", \"#EF553B\", \"#00cc96\", \"#ab63fa\", \"#FFA15A\", \"#19d3f3\", \"#FF6692\", \"#B6E880\", \"#FF97FF\", \"#FECB52\"], \"font\": {\"color\": \"#2a3f5f\"}, \"geo\": {\"bgcolor\": \"white\", \"lakecolor\": \"white\", \"landcolor\": \"#E5ECF6\", \"showlakes\": true, \"showland\": true, \"subunitcolor\": \"white\"}, \"hoverlabel\": {\"align\": \"left\"}, \"hovermode\": \"closest\", \"mapbox\": {\"style\": \"light\"}, \"paper_bgcolor\": \"white\", \"plot_bgcolor\": \"#E5ECF6\", \"polar\": {\"angularaxis\": {\"gridcolor\": \"white\", \"linecolor\": \"white\", \"ticks\": \"\"}, \"bgcolor\": \"#E5ECF6\", \"radialaxis\": {\"gridcolor\": \"white\", \"linecolor\": \"white\", \"ticks\": \"\"}}, \"scene\": {\"xaxis\": {\"backgroundcolor\": \"#E5ECF6\", \"gridcolor\": \"white\", \"gridwidth\": 2, \"linecolor\": \"white\", \"showbackground\": true, \"ticks\": \"\", \"zerolinecolor\": \"white\"}, \"yaxis\": {\"backgroundcolor\": \"#E5ECF6\", \"gridcolor\": \"white\", \"gridwidth\": 2, \"linecolor\": \"white\", \"showbackground\": true, \"ticks\": \"\", \"zerolinecolor\": \"white\"}, \"zaxis\": {\"backgroundcolor\": \"#E5ECF6\", \"gridcolor\": \"white\", \"gridwidth\": 2, \"linecolor\": \"white\", \"showbackground\": true, \"ticks\": \"\", \"zerolinecolor\": \"white\"}}, \"shapedefaults\": {\"line\": {\"color\": \"#2a3f5f\"}}, \"ternary\": {\"aaxis\": {\"gridcolor\": \"white\", \"linecolor\": \"white\", \"ticks\": \"\"}, \"baxis\": {\"gridcolor\": \"white\", \"linecolor\": \"white\", \"ticks\": \"\"}, \"bgcolor\": \"#E5ECF6\", \"caxis\": {\"gridcolor\": \"white\", \"linecolor\": \"white\", \"ticks\": \"\"}}, \"title\": {\"x\": 0.05}, \"xaxis\": {\"automargin\": true, \"gridcolor\": \"white\", \"linecolor\": \"white\", \"ticks\": \"\", \"title\": {\"standoff\": 15}, \"zerolinecolor\": \"white\", \"zerolinewidth\": 2}, \"yaxis\": {\"automargin\": true, \"gridcolor\": \"white\", \"linecolor\": \"white\", \"ticks\": \"\", \"title\": {\"standoff\": 15}, \"zerolinecolor\": \"white\", \"zerolinewidth\": 2}}}, \"xaxis\": {\"anchor\": \"y\", \"domain\": [0.0, 1.0], \"title\": {\"text\": \"phrase in the title\"}}, \"yaxis\": {\"anchor\": \"x\", \"domain\": [0.0, 1.0], \"title\": {\"text\": \"videos\"}}},                        {\"responsive\": true}                    ).then(function(){\n",
       "                            \n",
       "var gd = document.getElementById('2e4ec646-a0d3-4338-b2cb-2b99415e4f09');\n",
       "var x = new MutationObserver(function (mutations, observer) {{\n",
       "        var display = window.getComputedStyle(gd).display;\n",
       "        if (!display || display === 'none') {{\n",
       "            console.log([gd, 'removed!']);\n",
       "            Plotly.purge(gd);\n",
       "            observer.disconnect();\n",
       "        }}\n",
       "}});\n",
       "\n",
       "// Listen for the removal of the full notebook cells\n",
       "var notebookContainer = gd.closest('#notebook-container');\n",
       "if (notebookContainer) {{\n",
       "    x.observe(notebookContainer, {childList: true});\n",
       "}}\n",
       "\n",
       "// Listen for the clearing of the current output cell\n",
       "var outputEl = gd.closest('.output');\n",
       "if (outputEl) {{\n",
       "    x.observe(outputEl, {childList: true});\n",
       "}}\n",
       "\n",
       "                        })                };                });            </script>        </div>"
      ]
     },
     "metadata": {},
     "output_type": "display_data"
    }
   ],
   "source": [
    "df_phrases = df_phrases.sort_values(\"videos\", ascending=False)\n",
    "fig = df_phrases.plot(x=\"phrase in the title\", \n",
    "                y=\"videos\", \n",
    "                kind='bar', \n",
    "                color='duration (average)', \n",
    "                color_continuous_scale=[[0.0, \"rgb(7, 159, 224)\"],\n",
    "                                        [1, \"rgb(61, 8, 84)\"]])\n"
   ]
  },
  {
   "cell_type": "code",
   "execution_count": 144,
   "metadata": {},
   "outputs": [
    {
     "data": {
      "application/vnd.plotly.v1+json": {
       "config": {
        "plotlyServerURL": "https://plot.ly"
       },
       "data": [
        {
         "alignmentgroup": "True",
         "hovertemplate": "phrase in the title=%{x}<br>views (average)=%{y}<br>likes (average)=%{marker.color}<extra></extra>",
         "legendgroup": "",
         "marker": {
          "color": [
           100313.33333333333,
           58257,
           56226,
           46197,
           50344,
           45131.25,
           44961.307692307695,
           33399.82352941176,
           32345.666666666668,
           15185
          ],
          "coloraxis": "coloraxis"
         },
         "name": "",
         "offsetgroup": "",
         "orientation": "v",
         "showlegend": false,
         "textposition": "auto",
         "type": "bar",
         "x": [
          "fourier",
          "series",
          "vector",
          "square",
          " pi ",
          "derivative",
          "calculus",
          "algebra",
          "bayes",
          "trick"
         ],
         "xaxis": "x",
         "y": [
          4514462.666666667,
          3206921.6666666665,
          2713898,
          2145362.5,
          2123298,
          1853721,
          1818592.923076923,
          1668890.5294117648,
          765560.3333333334,
          330294
         ],
         "yaxis": "y"
        }
       ],
       "layout": {
        "barmode": "relative",
        "coloraxis": {
         "colorbar": {
          "title": {
           "text": "likes (average)"
          }
         },
         "colorscale": [
          [
           0,
           "rgb(149, 194, 60)"
          ],
          [
           1,
           "rgb(0, 92, 34)"
          ]
         ]
        },
        "legend": {
         "tracegroupgap": 0
        },
        "margin": {
         "t": 60
        },
        "template": {
         "data": {
          "bar": [
           {
            "error_x": {
             "color": "#2a3f5f"
            },
            "error_y": {
             "color": "#2a3f5f"
            },
            "marker": {
             "line": {
              "color": "#E5ECF6",
              "width": 0.5
             }
            },
            "type": "bar"
           }
          ],
          "barpolar": [
           {
            "marker": {
             "line": {
              "color": "#E5ECF6",
              "width": 0.5
             }
            },
            "type": "barpolar"
           }
          ],
          "carpet": [
           {
            "aaxis": {
             "endlinecolor": "#2a3f5f",
             "gridcolor": "white",
             "linecolor": "white",
             "minorgridcolor": "white",
             "startlinecolor": "#2a3f5f"
            },
            "baxis": {
             "endlinecolor": "#2a3f5f",
             "gridcolor": "white",
             "linecolor": "white",
             "minorgridcolor": "white",
             "startlinecolor": "#2a3f5f"
            },
            "type": "carpet"
           }
          ],
          "choropleth": [
           {
            "colorbar": {
             "outlinewidth": 0,
             "ticks": ""
            },
            "type": "choropleth"
           }
          ],
          "contour": [
           {
            "colorbar": {
             "outlinewidth": 0,
             "ticks": ""
            },
            "colorscale": [
             [
              0,
              "#0d0887"
             ],
             [
              0.1111111111111111,
              "#46039f"
             ],
             [
              0.2222222222222222,
              "#7201a8"
             ],
             [
              0.3333333333333333,
              "#9c179e"
             ],
             [
              0.4444444444444444,
              "#bd3786"
             ],
             [
              0.5555555555555556,
              "#d8576b"
             ],
             [
              0.6666666666666666,
              "#ed7953"
             ],
             [
              0.7777777777777778,
              "#fb9f3a"
             ],
             [
              0.8888888888888888,
              "#fdca26"
             ],
             [
              1,
              "#f0f921"
             ]
            ],
            "type": "contour"
           }
          ],
          "contourcarpet": [
           {
            "colorbar": {
             "outlinewidth": 0,
             "ticks": ""
            },
            "type": "contourcarpet"
           }
          ],
          "heatmap": [
           {
            "colorbar": {
             "outlinewidth": 0,
             "ticks": ""
            },
            "colorscale": [
             [
              0,
              "#0d0887"
             ],
             [
              0.1111111111111111,
              "#46039f"
             ],
             [
              0.2222222222222222,
              "#7201a8"
             ],
             [
              0.3333333333333333,
              "#9c179e"
             ],
             [
              0.4444444444444444,
              "#bd3786"
             ],
             [
              0.5555555555555556,
              "#d8576b"
             ],
             [
              0.6666666666666666,
              "#ed7953"
             ],
             [
              0.7777777777777778,
              "#fb9f3a"
             ],
             [
              0.8888888888888888,
              "#fdca26"
             ],
             [
              1,
              "#f0f921"
             ]
            ],
            "type": "heatmap"
           }
          ],
          "heatmapgl": [
           {
            "colorbar": {
             "outlinewidth": 0,
             "ticks": ""
            },
            "colorscale": [
             [
              0,
              "#0d0887"
             ],
             [
              0.1111111111111111,
              "#46039f"
             ],
             [
              0.2222222222222222,
              "#7201a8"
             ],
             [
              0.3333333333333333,
              "#9c179e"
             ],
             [
              0.4444444444444444,
              "#bd3786"
             ],
             [
              0.5555555555555556,
              "#d8576b"
             ],
             [
              0.6666666666666666,
              "#ed7953"
             ],
             [
              0.7777777777777778,
              "#fb9f3a"
             ],
             [
              0.8888888888888888,
              "#fdca26"
             ],
             [
              1,
              "#f0f921"
             ]
            ],
            "type": "heatmapgl"
           }
          ],
          "histogram": [
           {
            "marker": {
             "colorbar": {
              "outlinewidth": 0,
              "ticks": ""
             }
            },
            "type": "histogram"
           }
          ],
          "histogram2d": [
           {
            "colorbar": {
             "outlinewidth": 0,
             "ticks": ""
            },
            "colorscale": [
             [
              0,
              "#0d0887"
             ],
             [
              0.1111111111111111,
              "#46039f"
             ],
             [
              0.2222222222222222,
              "#7201a8"
             ],
             [
              0.3333333333333333,
              "#9c179e"
             ],
             [
              0.4444444444444444,
              "#bd3786"
             ],
             [
              0.5555555555555556,
              "#d8576b"
             ],
             [
              0.6666666666666666,
              "#ed7953"
             ],
             [
              0.7777777777777778,
              "#fb9f3a"
             ],
             [
              0.8888888888888888,
              "#fdca26"
             ],
             [
              1,
              "#f0f921"
             ]
            ],
            "type": "histogram2d"
           }
          ],
          "histogram2dcontour": [
           {
            "colorbar": {
             "outlinewidth": 0,
             "ticks": ""
            },
            "colorscale": [
             [
              0,
              "#0d0887"
             ],
             [
              0.1111111111111111,
              "#46039f"
             ],
             [
              0.2222222222222222,
              "#7201a8"
             ],
             [
              0.3333333333333333,
              "#9c179e"
             ],
             [
              0.4444444444444444,
              "#bd3786"
             ],
             [
              0.5555555555555556,
              "#d8576b"
             ],
             [
              0.6666666666666666,
              "#ed7953"
             ],
             [
              0.7777777777777778,
              "#fb9f3a"
             ],
             [
              0.8888888888888888,
              "#fdca26"
             ],
             [
              1,
              "#f0f921"
             ]
            ],
            "type": "histogram2dcontour"
           }
          ],
          "mesh3d": [
           {
            "colorbar": {
             "outlinewidth": 0,
             "ticks": ""
            },
            "type": "mesh3d"
           }
          ],
          "parcoords": [
           {
            "line": {
             "colorbar": {
              "outlinewidth": 0,
              "ticks": ""
             }
            },
            "type": "parcoords"
           }
          ],
          "pie": [
           {
            "automargin": true,
            "type": "pie"
           }
          ],
          "scatter": [
           {
            "marker": {
             "colorbar": {
              "outlinewidth": 0,
              "ticks": ""
             }
            },
            "type": "scatter"
           }
          ],
          "scatter3d": [
           {
            "line": {
             "colorbar": {
              "outlinewidth": 0,
              "ticks": ""
             }
            },
            "marker": {
             "colorbar": {
              "outlinewidth": 0,
              "ticks": ""
             }
            },
            "type": "scatter3d"
           }
          ],
          "scattercarpet": [
           {
            "marker": {
             "colorbar": {
              "outlinewidth": 0,
              "ticks": ""
             }
            },
            "type": "scattercarpet"
           }
          ],
          "scattergeo": [
           {
            "marker": {
             "colorbar": {
              "outlinewidth": 0,
              "ticks": ""
             }
            },
            "type": "scattergeo"
           }
          ],
          "scattergl": [
           {
            "marker": {
             "colorbar": {
              "outlinewidth": 0,
              "ticks": ""
             }
            },
            "type": "scattergl"
           }
          ],
          "scattermapbox": [
           {
            "marker": {
             "colorbar": {
              "outlinewidth": 0,
              "ticks": ""
             }
            },
            "type": "scattermapbox"
           }
          ],
          "scatterpolar": [
           {
            "marker": {
             "colorbar": {
              "outlinewidth": 0,
              "ticks": ""
             }
            },
            "type": "scatterpolar"
           }
          ],
          "scatterpolargl": [
           {
            "marker": {
             "colorbar": {
              "outlinewidth": 0,
              "ticks": ""
             }
            },
            "type": "scatterpolargl"
           }
          ],
          "scatterternary": [
           {
            "marker": {
             "colorbar": {
              "outlinewidth": 0,
              "ticks": ""
             }
            },
            "type": "scatterternary"
           }
          ],
          "surface": [
           {
            "colorbar": {
             "outlinewidth": 0,
             "ticks": ""
            },
            "colorscale": [
             [
              0,
              "#0d0887"
             ],
             [
              0.1111111111111111,
              "#46039f"
             ],
             [
              0.2222222222222222,
              "#7201a8"
             ],
             [
              0.3333333333333333,
              "#9c179e"
             ],
             [
              0.4444444444444444,
              "#bd3786"
             ],
             [
              0.5555555555555556,
              "#d8576b"
             ],
             [
              0.6666666666666666,
              "#ed7953"
             ],
             [
              0.7777777777777778,
              "#fb9f3a"
             ],
             [
              0.8888888888888888,
              "#fdca26"
             ],
             [
              1,
              "#f0f921"
             ]
            ],
            "type": "surface"
           }
          ],
          "table": [
           {
            "cells": {
             "fill": {
              "color": "#EBF0F8"
             },
             "line": {
              "color": "white"
             }
            },
            "header": {
             "fill": {
              "color": "#C8D4E3"
             },
             "line": {
              "color": "white"
             }
            },
            "type": "table"
           }
          ]
         },
         "layout": {
          "annotationdefaults": {
           "arrowcolor": "#2a3f5f",
           "arrowhead": 0,
           "arrowwidth": 1
          },
          "coloraxis": {
           "colorbar": {
            "outlinewidth": 0,
            "ticks": ""
           }
          },
          "colorscale": {
           "diverging": [
            [
             0,
             "#8e0152"
            ],
            [
             0.1,
             "#c51b7d"
            ],
            [
             0.2,
             "#de77ae"
            ],
            [
             0.3,
             "#f1b6da"
            ],
            [
             0.4,
             "#fde0ef"
            ],
            [
             0.5,
             "#f7f7f7"
            ],
            [
             0.6,
             "#e6f5d0"
            ],
            [
             0.7,
             "#b8e186"
            ],
            [
             0.8,
             "#7fbc41"
            ],
            [
             0.9,
             "#4d9221"
            ],
            [
             1,
             "#276419"
            ]
           ],
           "sequential": [
            [
             0,
             "#0d0887"
            ],
            [
             0.1111111111111111,
             "#46039f"
            ],
            [
             0.2222222222222222,
             "#7201a8"
            ],
            [
             0.3333333333333333,
             "#9c179e"
            ],
            [
             0.4444444444444444,
             "#bd3786"
            ],
            [
             0.5555555555555556,
             "#d8576b"
            ],
            [
             0.6666666666666666,
             "#ed7953"
            ],
            [
             0.7777777777777778,
             "#fb9f3a"
            ],
            [
             0.8888888888888888,
             "#fdca26"
            ],
            [
             1,
             "#f0f921"
            ]
           ],
           "sequentialminus": [
            [
             0,
             "#0d0887"
            ],
            [
             0.1111111111111111,
             "#46039f"
            ],
            [
             0.2222222222222222,
             "#7201a8"
            ],
            [
             0.3333333333333333,
             "#9c179e"
            ],
            [
             0.4444444444444444,
             "#bd3786"
            ],
            [
             0.5555555555555556,
             "#d8576b"
            ],
            [
             0.6666666666666666,
             "#ed7953"
            ],
            [
             0.7777777777777778,
             "#fb9f3a"
            ],
            [
             0.8888888888888888,
             "#fdca26"
            ],
            [
             1,
             "#f0f921"
            ]
           ]
          },
          "colorway": [
           "#636efa",
           "#EF553B",
           "#00cc96",
           "#ab63fa",
           "#FFA15A",
           "#19d3f3",
           "#FF6692",
           "#B6E880",
           "#FF97FF",
           "#FECB52"
          ],
          "font": {
           "color": "#2a3f5f"
          },
          "geo": {
           "bgcolor": "white",
           "lakecolor": "white",
           "landcolor": "#E5ECF6",
           "showlakes": true,
           "showland": true,
           "subunitcolor": "white"
          },
          "hoverlabel": {
           "align": "left"
          },
          "hovermode": "closest",
          "mapbox": {
           "style": "light"
          },
          "paper_bgcolor": "white",
          "plot_bgcolor": "#E5ECF6",
          "polar": {
           "angularaxis": {
            "gridcolor": "white",
            "linecolor": "white",
            "ticks": ""
           },
           "bgcolor": "#E5ECF6",
           "radialaxis": {
            "gridcolor": "white",
            "linecolor": "white",
            "ticks": ""
           }
          },
          "scene": {
           "xaxis": {
            "backgroundcolor": "#E5ECF6",
            "gridcolor": "white",
            "gridwidth": 2,
            "linecolor": "white",
            "showbackground": true,
            "ticks": "",
            "zerolinecolor": "white"
           },
           "yaxis": {
            "backgroundcolor": "#E5ECF6",
            "gridcolor": "white",
            "gridwidth": 2,
            "linecolor": "white",
            "showbackground": true,
            "ticks": "",
            "zerolinecolor": "white"
           },
           "zaxis": {
            "backgroundcolor": "#E5ECF6",
            "gridcolor": "white",
            "gridwidth": 2,
            "linecolor": "white",
            "showbackground": true,
            "ticks": "",
            "zerolinecolor": "white"
           }
          },
          "shapedefaults": {
           "line": {
            "color": "#2a3f5f"
           }
          },
          "ternary": {
           "aaxis": {
            "gridcolor": "white",
            "linecolor": "white",
            "ticks": ""
           },
           "baxis": {
            "gridcolor": "white",
            "linecolor": "white",
            "ticks": ""
           },
           "bgcolor": "#E5ECF6",
           "caxis": {
            "gridcolor": "white",
            "linecolor": "white",
            "ticks": ""
           }
          },
          "title": {
           "x": 0.05
          },
          "xaxis": {
           "automargin": true,
           "gridcolor": "white",
           "linecolor": "white",
           "ticks": "",
           "title": {
            "standoff": 15
           },
           "zerolinecolor": "white",
           "zerolinewidth": 2
          },
          "yaxis": {
           "automargin": true,
           "gridcolor": "white",
           "linecolor": "white",
           "ticks": "",
           "title": {
            "standoff": 15
           },
           "zerolinecolor": "white",
           "zerolinewidth": 2
          }
         }
        },
        "xaxis": {
         "anchor": "y",
         "domain": [
          0,
          1
         ],
         "title": {
          "text": "phrase in the title"
         }
        },
        "yaxis": {
         "anchor": "x",
         "domain": [
          0,
          1
         ],
         "title": {
          "text": "views (average)"
         }
        }
       }
      },
      "text/html": [
       "<div>                            <div id=\"8b35c0c3-5d51-4f43-866f-88bb0cb3fda6\" class=\"plotly-graph-div\" style=\"height:525px; width:100%;\"></div>            <script type=\"text/javascript\">                require([\"plotly\"], function(Plotly) {                    window.PLOTLYENV=window.PLOTLYENV || {};                                    if (document.getElementById(\"8b35c0c3-5d51-4f43-866f-88bb0cb3fda6\")) {                    Plotly.newPlot(                        \"8b35c0c3-5d51-4f43-866f-88bb0cb3fda6\",                        [{\"alignmentgroup\": \"True\", \"hovertemplate\": \"phrase in the title=%{x}<br>views (average)=%{y}<br>likes (average)=%{marker.color}<extra></extra>\", \"legendgroup\": \"\", \"marker\": {\"color\": [100313.33333333333, 58257.0, 56226.0, 46197.0, 50344.0, 45131.25, 44961.307692307695, 33399.82352941176, 32345.666666666668, 15185.0], \"coloraxis\": \"coloraxis\"}, \"name\": \"\", \"offsetgroup\": \"\", \"orientation\": \"v\", \"showlegend\": false, \"textposition\": \"auto\", \"type\": \"bar\", \"x\": [\"fourier\", \"series\", \"vector\", \"square\", \" pi \", \"derivative\", \"calculus\", \"algebra\", \"bayes\", \"trick\"], \"xaxis\": \"x\", \"y\": [4514462.666666667, 3206921.6666666665, 2713898.0, 2145362.5, 2123298.0, 1853721.0, 1818592.923076923, 1668890.5294117648, 765560.3333333334, 330294.0], \"yaxis\": \"y\"}],                        {\"barmode\": \"relative\", \"coloraxis\": {\"colorbar\": {\"title\": {\"text\": \"likes (average)\"}}, \"colorscale\": [[0.0, \"rgb(149, 194, 60)\"], [1, \"rgb(0, 92, 34)\"]]}, \"legend\": {\"tracegroupgap\": 0}, \"margin\": {\"t\": 60}, \"template\": {\"data\": {\"bar\": [{\"error_x\": {\"color\": \"#2a3f5f\"}, \"error_y\": {\"color\": \"#2a3f5f\"}, \"marker\": {\"line\": {\"color\": \"#E5ECF6\", \"width\": 0.5}}, \"type\": \"bar\"}], \"barpolar\": [{\"marker\": {\"line\": {\"color\": \"#E5ECF6\", \"width\": 0.5}}, \"type\": \"barpolar\"}], \"carpet\": [{\"aaxis\": {\"endlinecolor\": \"#2a3f5f\", \"gridcolor\": \"white\", \"linecolor\": \"white\", \"minorgridcolor\": \"white\", \"startlinecolor\": \"#2a3f5f\"}, \"baxis\": {\"endlinecolor\": \"#2a3f5f\", \"gridcolor\": \"white\", \"linecolor\": \"white\", \"minorgridcolor\": \"white\", \"startlinecolor\": \"#2a3f5f\"}, \"type\": \"carpet\"}], \"choropleth\": [{\"colorbar\": {\"outlinewidth\": 0, \"ticks\": \"\"}, \"type\": \"choropleth\"}], \"contour\": [{\"colorbar\": {\"outlinewidth\": 0, \"ticks\": \"\"}, \"colorscale\": [[0.0, \"#0d0887\"], [0.1111111111111111, \"#46039f\"], [0.2222222222222222, \"#7201a8\"], [0.3333333333333333, \"#9c179e\"], [0.4444444444444444, \"#bd3786\"], [0.5555555555555556, \"#d8576b\"], [0.6666666666666666, \"#ed7953\"], [0.7777777777777778, \"#fb9f3a\"], [0.8888888888888888, \"#fdca26\"], [1.0, \"#f0f921\"]], \"type\": \"contour\"}], \"contourcarpet\": [{\"colorbar\": {\"outlinewidth\": 0, \"ticks\": \"\"}, \"type\": \"contourcarpet\"}], \"heatmap\": [{\"colorbar\": {\"outlinewidth\": 0, \"ticks\": \"\"}, \"colorscale\": [[0.0, \"#0d0887\"], [0.1111111111111111, \"#46039f\"], [0.2222222222222222, \"#7201a8\"], [0.3333333333333333, \"#9c179e\"], [0.4444444444444444, \"#bd3786\"], [0.5555555555555556, \"#d8576b\"], [0.6666666666666666, \"#ed7953\"], [0.7777777777777778, \"#fb9f3a\"], [0.8888888888888888, \"#fdca26\"], [1.0, \"#f0f921\"]], \"type\": \"heatmap\"}], \"heatmapgl\": [{\"colorbar\": {\"outlinewidth\": 0, \"ticks\": \"\"}, \"colorscale\": [[0.0, \"#0d0887\"], [0.1111111111111111, \"#46039f\"], [0.2222222222222222, \"#7201a8\"], [0.3333333333333333, \"#9c179e\"], [0.4444444444444444, \"#bd3786\"], [0.5555555555555556, \"#d8576b\"], [0.6666666666666666, \"#ed7953\"], [0.7777777777777778, \"#fb9f3a\"], [0.8888888888888888, \"#fdca26\"], [1.0, \"#f0f921\"]], \"type\": \"heatmapgl\"}], \"histogram\": [{\"marker\": {\"colorbar\": {\"outlinewidth\": 0, \"ticks\": \"\"}}, \"type\": \"histogram\"}], \"histogram2d\": [{\"colorbar\": {\"outlinewidth\": 0, \"ticks\": \"\"}, \"colorscale\": [[0.0, \"#0d0887\"], [0.1111111111111111, \"#46039f\"], [0.2222222222222222, \"#7201a8\"], [0.3333333333333333, \"#9c179e\"], [0.4444444444444444, \"#bd3786\"], [0.5555555555555556, \"#d8576b\"], [0.6666666666666666, \"#ed7953\"], [0.7777777777777778, \"#fb9f3a\"], [0.8888888888888888, \"#fdca26\"], [1.0, \"#f0f921\"]], \"type\": \"histogram2d\"}], \"histogram2dcontour\": [{\"colorbar\": {\"outlinewidth\": 0, \"ticks\": \"\"}, \"colorscale\": [[0.0, \"#0d0887\"], [0.1111111111111111, \"#46039f\"], [0.2222222222222222, \"#7201a8\"], [0.3333333333333333, \"#9c179e\"], [0.4444444444444444, \"#bd3786\"], [0.5555555555555556, \"#d8576b\"], [0.6666666666666666, \"#ed7953\"], [0.7777777777777778, \"#fb9f3a\"], [0.8888888888888888, \"#fdca26\"], [1.0, \"#f0f921\"]], \"type\": \"histogram2dcontour\"}], \"mesh3d\": [{\"colorbar\": {\"outlinewidth\": 0, \"ticks\": \"\"}, \"type\": \"mesh3d\"}], \"parcoords\": [{\"line\": {\"colorbar\": {\"outlinewidth\": 0, \"ticks\": \"\"}}, \"type\": \"parcoords\"}], \"pie\": [{\"automargin\": true, \"type\": \"pie\"}], \"scatter\": [{\"marker\": {\"colorbar\": {\"outlinewidth\": 0, \"ticks\": \"\"}}, \"type\": \"scatter\"}], \"scatter3d\": [{\"line\": {\"colorbar\": {\"outlinewidth\": 0, \"ticks\": \"\"}}, \"marker\": {\"colorbar\": {\"outlinewidth\": 0, \"ticks\": \"\"}}, \"type\": \"scatter3d\"}], \"scattercarpet\": [{\"marker\": {\"colorbar\": {\"outlinewidth\": 0, \"ticks\": \"\"}}, \"type\": \"scattercarpet\"}], \"scattergeo\": [{\"marker\": {\"colorbar\": {\"outlinewidth\": 0, \"ticks\": \"\"}}, \"type\": \"scattergeo\"}], \"scattergl\": [{\"marker\": {\"colorbar\": {\"outlinewidth\": 0, \"ticks\": \"\"}}, \"type\": \"scattergl\"}], \"scattermapbox\": [{\"marker\": {\"colorbar\": {\"outlinewidth\": 0, \"ticks\": \"\"}}, \"type\": \"scattermapbox\"}], \"scatterpolar\": [{\"marker\": {\"colorbar\": {\"outlinewidth\": 0, \"ticks\": \"\"}}, \"type\": \"scatterpolar\"}], \"scatterpolargl\": [{\"marker\": {\"colorbar\": {\"outlinewidth\": 0, \"ticks\": \"\"}}, \"type\": \"scatterpolargl\"}], \"scatterternary\": [{\"marker\": {\"colorbar\": {\"outlinewidth\": 0, \"ticks\": \"\"}}, \"type\": \"scatterternary\"}], \"surface\": [{\"colorbar\": {\"outlinewidth\": 0, \"ticks\": \"\"}, \"colorscale\": [[0.0, \"#0d0887\"], [0.1111111111111111, \"#46039f\"], [0.2222222222222222, \"#7201a8\"], [0.3333333333333333, \"#9c179e\"], [0.4444444444444444, \"#bd3786\"], [0.5555555555555556, \"#d8576b\"], [0.6666666666666666, \"#ed7953\"], [0.7777777777777778, \"#fb9f3a\"], [0.8888888888888888, \"#fdca26\"], [1.0, \"#f0f921\"]], \"type\": \"surface\"}], \"table\": [{\"cells\": {\"fill\": {\"color\": \"#EBF0F8\"}, \"line\": {\"color\": \"white\"}}, \"header\": {\"fill\": {\"color\": \"#C8D4E3\"}, \"line\": {\"color\": \"white\"}}, \"type\": \"table\"}]}, \"layout\": {\"annotationdefaults\": {\"arrowcolor\": \"#2a3f5f\", \"arrowhead\": 0, \"arrowwidth\": 1}, \"coloraxis\": {\"colorbar\": {\"outlinewidth\": 0, \"ticks\": \"\"}}, \"colorscale\": {\"diverging\": [[0, \"#8e0152\"], [0.1, \"#c51b7d\"], [0.2, \"#de77ae\"], [0.3, \"#f1b6da\"], [0.4, \"#fde0ef\"], [0.5, \"#f7f7f7\"], [0.6, \"#e6f5d0\"], [0.7, \"#b8e186\"], [0.8, \"#7fbc41\"], [0.9, \"#4d9221\"], [1, \"#276419\"]], \"sequential\": [[0.0, \"#0d0887\"], [0.1111111111111111, \"#46039f\"], [0.2222222222222222, \"#7201a8\"], [0.3333333333333333, \"#9c179e\"], [0.4444444444444444, \"#bd3786\"], [0.5555555555555556, \"#d8576b\"], [0.6666666666666666, \"#ed7953\"], [0.7777777777777778, \"#fb9f3a\"], [0.8888888888888888, \"#fdca26\"], [1.0, \"#f0f921\"]], \"sequentialminus\": [[0.0, \"#0d0887\"], [0.1111111111111111, \"#46039f\"], [0.2222222222222222, \"#7201a8\"], [0.3333333333333333, \"#9c179e\"], [0.4444444444444444, \"#bd3786\"], [0.5555555555555556, \"#d8576b\"], [0.6666666666666666, \"#ed7953\"], [0.7777777777777778, \"#fb9f3a\"], [0.8888888888888888, \"#fdca26\"], [1.0, \"#f0f921\"]]}, \"colorway\": [\"#636efa\", \"#EF553B\", \"#00cc96\", \"#ab63fa\", \"#FFA15A\", \"#19d3f3\", \"#FF6692\", \"#B6E880\", \"#FF97FF\", \"#FECB52\"], \"font\": {\"color\": \"#2a3f5f\"}, \"geo\": {\"bgcolor\": \"white\", \"lakecolor\": \"white\", \"landcolor\": \"#E5ECF6\", \"showlakes\": true, \"showland\": true, \"subunitcolor\": \"white\"}, \"hoverlabel\": {\"align\": \"left\"}, \"hovermode\": \"closest\", \"mapbox\": {\"style\": \"light\"}, \"paper_bgcolor\": \"white\", \"plot_bgcolor\": \"#E5ECF6\", \"polar\": {\"angularaxis\": {\"gridcolor\": \"white\", \"linecolor\": \"white\", \"ticks\": \"\"}, \"bgcolor\": \"#E5ECF6\", \"radialaxis\": {\"gridcolor\": \"white\", \"linecolor\": \"white\", \"ticks\": \"\"}}, \"scene\": {\"xaxis\": {\"backgroundcolor\": \"#E5ECF6\", \"gridcolor\": \"white\", \"gridwidth\": 2, \"linecolor\": \"white\", \"showbackground\": true, \"ticks\": \"\", \"zerolinecolor\": \"white\"}, \"yaxis\": {\"backgroundcolor\": \"#E5ECF6\", \"gridcolor\": \"white\", \"gridwidth\": 2, \"linecolor\": \"white\", \"showbackground\": true, \"ticks\": \"\", \"zerolinecolor\": \"white\"}, \"zaxis\": {\"backgroundcolor\": \"#E5ECF6\", \"gridcolor\": \"white\", \"gridwidth\": 2, \"linecolor\": \"white\", \"showbackground\": true, \"ticks\": \"\", \"zerolinecolor\": \"white\"}}, \"shapedefaults\": {\"line\": {\"color\": \"#2a3f5f\"}}, \"ternary\": {\"aaxis\": {\"gridcolor\": \"white\", \"linecolor\": \"white\", \"ticks\": \"\"}, \"baxis\": {\"gridcolor\": \"white\", \"linecolor\": \"white\", \"ticks\": \"\"}, \"bgcolor\": \"#E5ECF6\", \"caxis\": {\"gridcolor\": \"white\", \"linecolor\": \"white\", \"ticks\": \"\"}}, \"title\": {\"x\": 0.05}, \"xaxis\": {\"automargin\": true, \"gridcolor\": \"white\", \"linecolor\": \"white\", \"ticks\": \"\", \"title\": {\"standoff\": 15}, \"zerolinecolor\": \"white\", \"zerolinewidth\": 2}, \"yaxis\": {\"automargin\": true, \"gridcolor\": \"white\", \"linecolor\": \"white\", \"ticks\": \"\", \"title\": {\"standoff\": 15}, \"zerolinecolor\": \"white\", \"zerolinewidth\": 2}}}, \"xaxis\": {\"anchor\": \"y\", \"domain\": [0.0, 1.0], \"title\": {\"text\": \"phrase in the title\"}}, \"yaxis\": {\"anchor\": \"x\", \"domain\": [0.0, 1.0], \"title\": {\"text\": \"views (average)\"}}},                        {\"responsive\": true}                    ).then(function(){\n",
       "                            \n",
       "var gd = document.getElementById('8b35c0c3-5d51-4f43-866f-88bb0cb3fda6');\n",
       "var x = new MutationObserver(function (mutations, observer) {{\n",
       "        var display = window.getComputedStyle(gd).display;\n",
       "        if (!display || display === 'none') {{\n",
       "            console.log([gd, 'removed!']);\n",
       "            Plotly.purge(gd);\n",
       "            observer.disconnect();\n",
       "        }}\n",
       "}});\n",
       "\n",
       "// Listen for the removal of the full notebook cells\n",
       "var notebookContainer = gd.closest('#notebook-container');\n",
       "if (notebookContainer) {{\n",
       "    x.observe(notebookContainer, {childList: true});\n",
       "}}\n",
       "\n",
       "// Listen for the clearing of the current output cell\n",
       "var outputEl = gd.closest('.output');\n",
       "if (outputEl) {{\n",
       "    x.observe(outputEl, {childList: true});\n",
       "}}\n",
       "\n",
       "                        })                };                });            </script>        </div>"
      ]
     },
     "metadata": {},
     "output_type": "display_data"
    }
   ],
   "source": [
    "df_phrases = df_phrases.sort_values(\"views (average)\", ascending=False)\n",
    "df_phrases.plot(x=\"phrase in the title\", \n",
    "                y=\"views (average)\", \n",
    "                kind='bar', \n",
    "                color='likes (average)', \n",
    "                color_continuous_scale=[[0.0, \"rgb(149, 194, 60)\"],\n",
    "                                        [1, \"rgb(0, 92, 34)\"]])"
   ]
  },
  {
   "cell_type": "code",
   "execution_count": 145,
   "metadata": {},
   "outputs": [
    {
     "data": {
      "application/vnd.plotly.v1+json": {
       "config": {
        "plotlyServerURL": "https://plot.ly"
       },
       "data": [
        {
         "alignmentgroup": "True",
         "hovertemplate": "phrase in the title=%{x}<br>duration (average)=%{y}<br>likes (average)=%{marker.color}<extra></extra>",
         "legendgroup": "",
         "marker": {
          "color": [
           58257,
           100313.33333333333,
           44961.307692307695,
           45131.25,
           32345.666666666668,
           56226,
           15185,
           50344,
           46197,
           33399.82352941176
          ],
          "coloraxis": "coloraxis"
         },
         "name": "",
         "offsetgroup": "",
         "orientation": "v",
         "showlegend": false,
         "textposition": "auto",
         "type": "bar",
         "x": [
          "series",
          "fourier",
          "calculus",
          "derivative",
          "bayes",
          "vector",
          "trick",
          " pi ",
          "square",
          "algebra"
         ],
         "xaxis": "x",
         "y": [
          19.866666666666664,
          19.405555555555555,
          15.941025641025643,
          14.845833333333333,
          13.6,
          13.470833333333333,
          13.216666666666667,
          12.475,
          11.758333333333333,
          10.943137254901961
         ],
         "yaxis": "y"
        }
       ],
       "layout": {
        "barmode": "relative",
        "coloraxis": {
         "colorbar": {
          "title": {
           "text": "likes (average)"
          }
         },
         "colorscale": [
          [
           0,
           "rgb(7, 159, 224)"
          ],
          [
           1,
           "rgb(61, 8, 84)"
          ]
         ]
        },
        "legend": {
         "tracegroupgap": 0
        },
        "margin": {
         "t": 60
        },
        "template": {
         "data": {
          "bar": [
           {
            "error_x": {
             "color": "#2a3f5f"
            },
            "error_y": {
             "color": "#2a3f5f"
            },
            "marker": {
             "line": {
              "color": "#E5ECF6",
              "width": 0.5
             }
            },
            "type": "bar"
           }
          ],
          "barpolar": [
           {
            "marker": {
             "line": {
              "color": "#E5ECF6",
              "width": 0.5
             }
            },
            "type": "barpolar"
           }
          ],
          "carpet": [
           {
            "aaxis": {
             "endlinecolor": "#2a3f5f",
             "gridcolor": "white",
             "linecolor": "white",
             "minorgridcolor": "white",
             "startlinecolor": "#2a3f5f"
            },
            "baxis": {
             "endlinecolor": "#2a3f5f",
             "gridcolor": "white",
             "linecolor": "white",
             "minorgridcolor": "white",
             "startlinecolor": "#2a3f5f"
            },
            "type": "carpet"
           }
          ],
          "choropleth": [
           {
            "colorbar": {
             "outlinewidth": 0,
             "ticks": ""
            },
            "type": "choropleth"
           }
          ],
          "contour": [
           {
            "colorbar": {
             "outlinewidth": 0,
             "ticks": ""
            },
            "colorscale": [
             [
              0,
              "#0d0887"
             ],
             [
              0.1111111111111111,
              "#46039f"
             ],
             [
              0.2222222222222222,
              "#7201a8"
             ],
             [
              0.3333333333333333,
              "#9c179e"
             ],
             [
              0.4444444444444444,
              "#bd3786"
             ],
             [
              0.5555555555555556,
              "#d8576b"
             ],
             [
              0.6666666666666666,
              "#ed7953"
             ],
             [
              0.7777777777777778,
              "#fb9f3a"
             ],
             [
              0.8888888888888888,
              "#fdca26"
             ],
             [
              1,
              "#f0f921"
             ]
            ],
            "type": "contour"
           }
          ],
          "contourcarpet": [
           {
            "colorbar": {
             "outlinewidth": 0,
             "ticks": ""
            },
            "type": "contourcarpet"
           }
          ],
          "heatmap": [
           {
            "colorbar": {
             "outlinewidth": 0,
             "ticks": ""
            },
            "colorscale": [
             [
              0,
              "#0d0887"
             ],
             [
              0.1111111111111111,
              "#46039f"
             ],
             [
              0.2222222222222222,
              "#7201a8"
             ],
             [
              0.3333333333333333,
              "#9c179e"
             ],
             [
              0.4444444444444444,
              "#bd3786"
             ],
             [
              0.5555555555555556,
              "#d8576b"
             ],
             [
              0.6666666666666666,
              "#ed7953"
             ],
             [
              0.7777777777777778,
              "#fb9f3a"
             ],
             [
              0.8888888888888888,
              "#fdca26"
             ],
             [
              1,
              "#f0f921"
             ]
            ],
            "type": "heatmap"
           }
          ],
          "heatmapgl": [
           {
            "colorbar": {
             "outlinewidth": 0,
             "ticks": ""
            },
            "colorscale": [
             [
              0,
              "#0d0887"
             ],
             [
              0.1111111111111111,
              "#46039f"
             ],
             [
              0.2222222222222222,
              "#7201a8"
             ],
             [
              0.3333333333333333,
              "#9c179e"
             ],
             [
              0.4444444444444444,
              "#bd3786"
             ],
             [
              0.5555555555555556,
              "#d8576b"
             ],
             [
              0.6666666666666666,
              "#ed7953"
             ],
             [
              0.7777777777777778,
              "#fb9f3a"
             ],
             [
              0.8888888888888888,
              "#fdca26"
             ],
             [
              1,
              "#f0f921"
             ]
            ],
            "type": "heatmapgl"
           }
          ],
          "histogram": [
           {
            "marker": {
             "colorbar": {
              "outlinewidth": 0,
              "ticks": ""
             }
            },
            "type": "histogram"
           }
          ],
          "histogram2d": [
           {
            "colorbar": {
             "outlinewidth": 0,
             "ticks": ""
            },
            "colorscale": [
             [
              0,
              "#0d0887"
             ],
             [
              0.1111111111111111,
              "#46039f"
             ],
             [
              0.2222222222222222,
              "#7201a8"
             ],
             [
              0.3333333333333333,
              "#9c179e"
             ],
             [
              0.4444444444444444,
              "#bd3786"
             ],
             [
              0.5555555555555556,
              "#d8576b"
             ],
             [
              0.6666666666666666,
              "#ed7953"
             ],
             [
              0.7777777777777778,
              "#fb9f3a"
             ],
             [
              0.8888888888888888,
              "#fdca26"
             ],
             [
              1,
              "#f0f921"
             ]
            ],
            "type": "histogram2d"
           }
          ],
          "histogram2dcontour": [
           {
            "colorbar": {
             "outlinewidth": 0,
             "ticks": ""
            },
            "colorscale": [
             [
              0,
              "#0d0887"
             ],
             [
              0.1111111111111111,
              "#46039f"
             ],
             [
              0.2222222222222222,
              "#7201a8"
             ],
             [
              0.3333333333333333,
              "#9c179e"
             ],
             [
              0.4444444444444444,
              "#bd3786"
             ],
             [
              0.5555555555555556,
              "#d8576b"
             ],
             [
              0.6666666666666666,
              "#ed7953"
             ],
             [
              0.7777777777777778,
              "#fb9f3a"
             ],
             [
              0.8888888888888888,
              "#fdca26"
             ],
             [
              1,
              "#f0f921"
             ]
            ],
            "type": "histogram2dcontour"
           }
          ],
          "mesh3d": [
           {
            "colorbar": {
             "outlinewidth": 0,
             "ticks": ""
            },
            "type": "mesh3d"
           }
          ],
          "parcoords": [
           {
            "line": {
             "colorbar": {
              "outlinewidth": 0,
              "ticks": ""
             }
            },
            "type": "parcoords"
           }
          ],
          "pie": [
           {
            "automargin": true,
            "type": "pie"
           }
          ],
          "scatter": [
           {
            "marker": {
             "colorbar": {
              "outlinewidth": 0,
              "ticks": ""
             }
            },
            "type": "scatter"
           }
          ],
          "scatter3d": [
           {
            "line": {
             "colorbar": {
              "outlinewidth": 0,
              "ticks": ""
             }
            },
            "marker": {
             "colorbar": {
              "outlinewidth": 0,
              "ticks": ""
             }
            },
            "type": "scatter3d"
           }
          ],
          "scattercarpet": [
           {
            "marker": {
             "colorbar": {
              "outlinewidth": 0,
              "ticks": ""
             }
            },
            "type": "scattercarpet"
           }
          ],
          "scattergeo": [
           {
            "marker": {
             "colorbar": {
              "outlinewidth": 0,
              "ticks": ""
             }
            },
            "type": "scattergeo"
           }
          ],
          "scattergl": [
           {
            "marker": {
             "colorbar": {
              "outlinewidth": 0,
              "ticks": ""
             }
            },
            "type": "scattergl"
           }
          ],
          "scattermapbox": [
           {
            "marker": {
             "colorbar": {
              "outlinewidth": 0,
              "ticks": ""
             }
            },
            "type": "scattermapbox"
           }
          ],
          "scatterpolar": [
           {
            "marker": {
             "colorbar": {
              "outlinewidth": 0,
              "ticks": ""
             }
            },
            "type": "scatterpolar"
           }
          ],
          "scatterpolargl": [
           {
            "marker": {
             "colorbar": {
              "outlinewidth": 0,
              "ticks": ""
             }
            },
            "type": "scatterpolargl"
           }
          ],
          "scatterternary": [
           {
            "marker": {
             "colorbar": {
              "outlinewidth": 0,
              "ticks": ""
             }
            },
            "type": "scatterternary"
           }
          ],
          "surface": [
           {
            "colorbar": {
             "outlinewidth": 0,
             "ticks": ""
            },
            "colorscale": [
             [
              0,
              "#0d0887"
             ],
             [
              0.1111111111111111,
              "#46039f"
             ],
             [
              0.2222222222222222,
              "#7201a8"
             ],
             [
              0.3333333333333333,
              "#9c179e"
             ],
             [
              0.4444444444444444,
              "#bd3786"
             ],
             [
              0.5555555555555556,
              "#d8576b"
             ],
             [
              0.6666666666666666,
              "#ed7953"
             ],
             [
              0.7777777777777778,
              "#fb9f3a"
             ],
             [
              0.8888888888888888,
              "#fdca26"
             ],
             [
              1,
              "#f0f921"
             ]
            ],
            "type": "surface"
           }
          ],
          "table": [
           {
            "cells": {
             "fill": {
              "color": "#EBF0F8"
             },
             "line": {
              "color": "white"
             }
            },
            "header": {
             "fill": {
              "color": "#C8D4E3"
             },
             "line": {
              "color": "white"
             }
            },
            "type": "table"
           }
          ]
         },
         "layout": {
          "annotationdefaults": {
           "arrowcolor": "#2a3f5f",
           "arrowhead": 0,
           "arrowwidth": 1
          },
          "coloraxis": {
           "colorbar": {
            "outlinewidth": 0,
            "ticks": ""
           }
          },
          "colorscale": {
           "diverging": [
            [
             0,
             "#8e0152"
            ],
            [
             0.1,
             "#c51b7d"
            ],
            [
             0.2,
             "#de77ae"
            ],
            [
             0.3,
             "#f1b6da"
            ],
            [
             0.4,
             "#fde0ef"
            ],
            [
             0.5,
             "#f7f7f7"
            ],
            [
             0.6,
             "#e6f5d0"
            ],
            [
             0.7,
             "#b8e186"
            ],
            [
             0.8,
             "#7fbc41"
            ],
            [
             0.9,
             "#4d9221"
            ],
            [
             1,
             "#276419"
            ]
           ],
           "sequential": [
            [
             0,
             "#0d0887"
            ],
            [
             0.1111111111111111,
             "#46039f"
            ],
            [
             0.2222222222222222,
             "#7201a8"
            ],
            [
             0.3333333333333333,
             "#9c179e"
            ],
            [
             0.4444444444444444,
             "#bd3786"
            ],
            [
             0.5555555555555556,
             "#d8576b"
            ],
            [
             0.6666666666666666,
             "#ed7953"
            ],
            [
             0.7777777777777778,
             "#fb9f3a"
            ],
            [
             0.8888888888888888,
             "#fdca26"
            ],
            [
             1,
             "#f0f921"
            ]
           ],
           "sequentialminus": [
            [
             0,
             "#0d0887"
            ],
            [
             0.1111111111111111,
             "#46039f"
            ],
            [
             0.2222222222222222,
             "#7201a8"
            ],
            [
             0.3333333333333333,
             "#9c179e"
            ],
            [
             0.4444444444444444,
             "#bd3786"
            ],
            [
             0.5555555555555556,
             "#d8576b"
            ],
            [
             0.6666666666666666,
             "#ed7953"
            ],
            [
             0.7777777777777778,
             "#fb9f3a"
            ],
            [
             0.8888888888888888,
             "#fdca26"
            ],
            [
             1,
             "#f0f921"
            ]
           ]
          },
          "colorway": [
           "#636efa",
           "#EF553B",
           "#00cc96",
           "#ab63fa",
           "#FFA15A",
           "#19d3f3",
           "#FF6692",
           "#B6E880",
           "#FF97FF",
           "#FECB52"
          ],
          "font": {
           "color": "#2a3f5f"
          },
          "geo": {
           "bgcolor": "white",
           "lakecolor": "white",
           "landcolor": "#E5ECF6",
           "showlakes": true,
           "showland": true,
           "subunitcolor": "white"
          },
          "hoverlabel": {
           "align": "left"
          },
          "hovermode": "closest",
          "mapbox": {
           "style": "light"
          },
          "paper_bgcolor": "white",
          "plot_bgcolor": "#E5ECF6",
          "polar": {
           "angularaxis": {
            "gridcolor": "white",
            "linecolor": "white",
            "ticks": ""
           },
           "bgcolor": "#E5ECF6",
           "radialaxis": {
            "gridcolor": "white",
            "linecolor": "white",
            "ticks": ""
           }
          },
          "scene": {
           "xaxis": {
            "backgroundcolor": "#E5ECF6",
            "gridcolor": "white",
            "gridwidth": 2,
            "linecolor": "white",
            "showbackground": true,
            "ticks": "",
            "zerolinecolor": "white"
           },
           "yaxis": {
            "backgroundcolor": "#E5ECF6",
            "gridcolor": "white",
            "gridwidth": 2,
            "linecolor": "white",
            "showbackground": true,
            "ticks": "",
            "zerolinecolor": "white"
           },
           "zaxis": {
            "backgroundcolor": "#E5ECF6",
            "gridcolor": "white",
            "gridwidth": 2,
            "linecolor": "white",
            "showbackground": true,
            "ticks": "",
            "zerolinecolor": "white"
           }
          },
          "shapedefaults": {
           "line": {
            "color": "#2a3f5f"
           }
          },
          "ternary": {
           "aaxis": {
            "gridcolor": "white",
            "linecolor": "white",
            "ticks": ""
           },
           "baxis": {
            "gridcolor": "white",
            "linecolor": "white",
            "ticks": ""
           },
           "bgcolor": "#E5ECF6",
           "caxis": {
            "gridcolor": "white",
            "linecolor": "white",
            "ticks": ""
           }
          },
          "title": {
           "x": 0.05
          },
          "xaxis": {
           "automargin": true,
           "gridcolor": "white",
           "linecolor": "white",
           "ticks": "",
           "title": {
            "standoff": 15
           },
           "zerolinecolor": "white",
           "zerolinewidth": 2
          },
          "yaxis": {
           "automargin": true,
           "gridcolor": "white",
           "linecolor": "white",
           "ticks": "",
           "title": {
            "standoff": 15
           },
           "zerolinecolor": "white",
           "zerolinewidth": 2
          }
         }
        },
        "xaxis": {
         "anchor": "y",
         "domain": [
          0,
          1
         ],
         "title": {
          "text": "phrase in the title"
         }
        },
        "yaxis": {
         "anchor": "x",
         "domain": [
          0,
          1
         ],
         "title": {
          "text": "duration (average)"
         }
        }
       }
      },
      "text/html": [
       "<div>                            <div id=\"2ab5628b-4e9b-4ada-b838-f33776021243\" class=\"plotly-graph-div\" style=\"height:525px; width:100%;\"></div>            <script type=\"text/javascript\">                require([\"plotly\"], function(Plotly) {                    window.PLOTLYENV=window.PLOTLYENV || {};                                    if (document.getElementById(\"2ab5628b-4e9b-4ada-b838-f33776021243\")) {                    Plotly.newPlot(                        \"2ab5628b-4e9b-4ada-b838-f33776021243\",                        [{\"alignmentgroup\": \"True\", \"hovertemplate\": \"phrase in the title=%{x}<br>duration (average)=%{y}<br>likes (average)=%{marker.color}<extra></extra>\", \"legendgroup\": \"\", \"marker\": {\"color\": [58257.0, 100313.33333333333, 44961.307692307695, 45131.25, 32345.666666666668, 56226.0, 15185.0, 50344.0, 46197.0, 33399.82352941176], \"coloraxis\": \"coloraxis\"}, \"name\": \"\", \"offsetgroup\": \"\", \"orientation\": \"v\", \"showlegend\": false, \"textposition\": \"auto\", \"type\": \"bar\", \"x\": [\"series\", \"fourier\", \"calculus\", \"derivative\", \"bayes\", \"vector\", \"trick\", \" pi \", \"square\", \"algebra\"], \"xaxis\": \"x\", \"y\": [19.866666666666664, 19.405555555555555, 15.941025641025643, 14.845833333333333, 13.6, 13.470833333333333, 13.216666666666667, 12.475, 11.758333333333333, 10.943137254901961], \"yaxis\": \"y\"}],                        {\"barmode\": \"relative\", \"coloraxis\": {\"colorbar\": {\"title\": {\"text\": \"likes (average)\"}}, \"colorscale\": [[0.0, \"rgb(7, 159, 224)\"], [1, \"rgb(61, 8, 84)\"]]}, \"legend\": {\"tracegroupgap\": 0}, \"margin\": {\"t\": 60}, \"template\": {\"data\": {\"bar\": [{\"error_x\": {\"color\": \"#2a3f5f\"}, \"error_y\": {\"color\": \"#2a3f5f\"}, \"marker\": {\"line\": {\"color\": \"#E5ECF6\", \"width\": 0.5}}, \"type\": \"bar\"}], \"barpolar\": [{\"marker\": {\"line\": {\"color\": \"#E5ECF6\", \"width\": 0.5}}, \"type\": \"barpolar\"}], \"carpet\": [{\"aaxis\": {\"endlinecolor\": \"#2a3f5f\", \"gridcolor\": \"white\", \"linecolor\": \"white\", \"minorgridcolor\": \"white\", \"startlinecolor\": \"#2a3f5f\"}, \"baxis\": {\"endlinecolor\": \"#2a3f5f\", \"gridcolor\": \"white\", \"linecolor\": \"white\", \"minorgridcolor\": \"white\", \"startlinecolor\": \"#2a3f5f\"}, \"type\": \"carpet\"}], \"choropleth\": [{\"colorbar\": {\"outlinewidth\": 0, \"ticks\": \"\"}, \"type\": \"choropleth\"}], \"contour\": [{\"colorbar\": {\"outlinewidth\": 0, \"ticks\": \"\"}, \"colorscale\": [[0.0, \"#0d0887\"], [0.1111111111111111, \"#46039f\"], [0.2222222222222222, \"#7201a8\"], [0.3333333333333333, \"#9c179e\"], [0.4444444444444444, \"#bd3786\"], [0.5555555555555556, \"#d8576b\"], [0.6666666666666666, \"#ed7953\"], [0.7777777777777778, \"#fb9f3a\"], [0.8888888888888888, \"#fdca26\"], [1.0, \"#f0f921\"]], \"type\": \"contour\"}], \"contourcarpet\": [{\"colorbar\": {\"outlinewidth\": 0, \"ticks\": \"\"}, \"type\": \"contourcarpet\"}], \"heatmap\": [{\"colorbar\": {\"outlinewidth\": 0, \"ticks\": \"\"}, \"colorscale\": [[0.0, \"#0d0887\"], [0.1111111111111111, \"#46039f\"], [0.2222222222222222, \"#7201a8\"], [0.3333333333333333, \"#9c179e\"], [0.4444444444444444, \"#bd3786\"], [0.5555555555555556, \"#d8576b\"], [0.6666666666666666, \"#ed7953\"], [0.7777777777777778, \"#fb9f3a\"], [0.8888888888888888, \"#fdca26\"], [1.0, \"#f0f921\"]], \"type\": \"heatmap\"}], \"heatmapgl\": [{\"colorbar\": {\"outlinewidth\": 0, \"ticks\": \"\"}, \"colorscale\": [[0.0, \"#0d0887\"], [0.1111111111111111, \"#46039f\"], [0.2222222222222222, \"#7201a8\"], [0.3333333333333333, \"#9c179e\"], [0.4444444444444444, \"#bd3786\"], [0.5555555555555556, \"#d8576b\"], [0.6666666666666666, \"#ed7953\"], [0.7777777777777778, \"#fb9f3a\"], [0.8888888888888888, \"#fdca26\"], [1.0, \"#f0f921\"]], \"type\": \"heatmapgl\"}], \"histogram\": [{\"marker\": {\"colorbar\": {\"outlinewidth\": 0, \"ticks\": \"\"}}, \"type\": \"histogram\"}], \"histogram2d\": [{\"colorbar\": {\"outlinewidth\": 0, \"ticks\": \"\"}, \"colorscale\": [[0.0, \"#0d0887\"], [0.1111111111111111, \"#46039f\"], [0.2222222222222222, \"#7201a8\"], [0.3333333333333333, \"#9c179e\"], [0.4444444444444444, \"#bd3786\"], [0.5555555555555556, \"#d8576b\"], [0.6666666666666666, \"#ed7953\"], [0.7777777777777778, \"#fb9f3a\"], [0.8888888888888888, \"#fdca26\"], [1.0, \"#f0f921\"]], \"type\": \"histogram2d\"}], \"histogram2dcontour\": [{\"colorbar\": {\"outlinewidth\": 0, \"ticks\": \"\"}, \"colorscale\": [[0.0, \"#0d0887\"], [0.1111111111111111, \"#46039f\"], [0.2222222222222222, \"#7201a8\"], [0.3333333333333333, \"#9c179e\"], [0.4444444444444444, \"#bd3786\"], [0.5555555555555556, \"#d8576b\"], [0.6666666666666666, \"#ed7953\"], [0.7777777777777778, \"#fb9f3a\"], [0.8888888888888888, \"#fdca26\"], [1.0, \"#f0f921\"]], \"type\": \"histogram2dcontour\"}], \"mesh3d\": [{\"colorbar\": {\"outlinewidth\": 0, \"ticks\": \"\"}, \"type\": \"mesh3d\"}], \"parcoords\": [{\"line\": {\"colorbar\": {\"outlinewidth\": 0, \"ticks\": \"\"}}, \"type\": \"parcoords\"}], \"pie\": [{\"automargin\": true, \"type\": \"pie\"}], \"scatter\": [{\"marker\": {\"colorbar\": {\"outlinewidth\": 0, \"ticks\": \"\"}}, \"type\": \"scatter\"}], \"scatter3d\": [{\"line\": {\"colorbar\": {\"outlinewidth\": 0, \"ticks\": \"\"}}, \"marker\": {\"colorbar\": {\"outlinewidth\": 0, \"ticks\": \"\"}}, \"type\": \"scatter3d\"}], \"scattercarpet\": [{\"marker\": {\"colorbar\": {\"outlinewidth\": 0, \"ticks\": \"\"}}, \"type\": \"scattercarpet\"}], \"scattergeo\": [{\"marker\": {\"colorbar\": {\"outlinewidth\": 0, \"ticks\": \"\"}}, \"type\": \"scattergeo\"}], \"scattergl\": [{\"marker\": {\"colorbar\": {\"outlinewidth\": 0, \"ticks\": \"\"}}, \"type\": \"scattergl\"}], \"scattermapbox\": [{\"marker\": {\"colorbar\": {\"outlinewidth\": 0, \"ticks\": \"\"}}, \"type\": \"scattermapbox\"}], \"scatterpolar\": [{\"marker\": {\"colorbar\": {\"outlinewidth\": 0, \"ticks\": \"\"}}, \"type\": \"scatterpolar\"}], \"scatterpolargl\": [{\"marker\": {\"colorbar\": {\"outlinewidth\": 0, \"ticks\": \"\"}}, \"type\": \"scatterpolargl\"}], \"scatterternary\": [{\"marker\": {\"colorbar\": {\"outlinewidth\": 0, \"ticks\": \"\"}}, \"type\": \"scatterternary\"}], \"surface\": [{\"colorbar\": {\"outlinewidth\": 0, \"ticks\": \"\"}, \"colorscale\": [[0.0, \"#0d0887\"], [0.1111111111111111, \"#46039f\"], [0.2222222222222222, \"#7201a8\"], [0.3333333333333333, \"#9c179e\"], [0.4444444444444444, \"#bd3786\"], [0.5555555555555556, \"#d8576b\"], [0.6666666666666666, \"#ed7953\"], [0.7777777777777778, \"#fb9f3a\"], [0.8888888888888888, \"#fdca26\"], [1.0, \"#f0f921\"]], \"type\": \"surface\"}], \"table\": [{\"cells\": {\"fill\": {\"color\": \"#EBF0F8\"}, \"line\": {\"color\": \"white\"}}, \"header\": {\"fill\": {\"color\": \"#C8D4E3\"}, \"line\": {\"color\": \"white\"}}, \"type\": \"table\"}]}, \"layout\": {\"annotationdefaults\": {\"arrowcolor\": \"#2a3f5f\", \"arrowhead\": 0, \"arrowwidth\": 1}, \"coloraxis\": {\"colorbar\": {\"outlinewidth\": 0, \"ticks\": \"\"}}, \"colorscale\": {\"diverging\": [[0, \"#8e0152\"], [0.1, \"#c51b7d\"], [0.2, \"#de77ae\"], [0.3, \"#f1b6da\"], [0.4, \"#fde0ef\"], [0.5, \"#f7f7f7\"], [0.6, \"#e6f5d0\"], [0.7, \"#b8e186\"], [0.8, \"#7fbc41\"], [0.9, \"#4d9221\"], [1, \"#276419\"]], \"sequential\": [[0.0, \"#0d0887\"], [0.1111111111111111, \"#46039f\"], [0.2222222222222222, \"#7201a8\"], [0.3333333333333333, \"#9c179e\"], [0.4444444444444444, \"#bd3786\"], [0.5555555555555556, \"#d8576b\"], [0.6666666666666666, \"#ed7953\"], [0.7777777777777778, \"#fb9f3a\"], [0.8888888888888888, \"#fdca26\"], [1.0, \"#f0f921\"]], \"sequentialminus\": [[0.0, \"#0d0887\"], [0.1111111111111111, \"#46039f\"], [0.2222222222222222, \"#7201a8\"], [0.3333333333333333, \"#9c179e\"], [0.4444444444444444, \"#bd3786\"], [0.5555555555555556, \"#d8576b\"], [0.6666666666666666, \"#ed7953\"], [0.7777777777777778, \"#fb9f3a\"], [0.8888888888888888, \"#fdca26\"], [1.0, \"#f0f921\"]]}, \"colorway\": [\"#636efa\", \"#EF553B\", \"#00cc96\", \"#ab63fa\", \"#FFA15A\", \"#19d3f3\", \"#FF6692\", \"#B6E880\", \"#FF97FF\", \"#FECB52\"], \"font\": {\"color\": \"#2a3f5f\"}, \"geo\": {\"bgcolor\": \"white\", \"lakecolor\": \"white\", \"landcolor\": \"#E5ECF6\", \"showlakes\": true, \"showland\": true, \"subunitcolor\": \"white\"}, \"hoverlabel\": {\"align\": \"left\"}, \"hovermode\": \"closest\", \"mapbox\": {\"style\": \"light\"}, \"paper_bgcolor\": \"white\", \"plot_bgcolor\": \"#E5ECF6\", \"polar\": {\"angularaxis\": {\"gridcolor\": \"white\", \"linecolor\": \"white\", \"ticks\": \"\"}, \"bgcolor\": \"#E5ECF6\", \"radialaxis\": {\"gridcolor\": \"white\", \"linecolor\": \"white\", \"ticks\": \"\"}}, \"scene\": {\"xaxis\": {\"backgroundcolor\": \"#E5ECF6\", \"gridcolor\": \"white\", \"gridwidth\": 2, \"linecolor\": \"white\", \"showbackground\": true, \"ticks\": \"\", \"zerolinecolor\": \"white\"}, \"yaxis\": {\"backgroundcolor\": \"#E5ECF6\", \"gridcolor\": \"white\", \"gridwidth\": 2, \"linecolor\": \"white\", \"showbackground\": true, \"ticks\": \"\", \"zerolinecolor\": \"white\"}, \"zaxis\": {\"backgroundcolor\": \"#E5ECF6\", \"gridcolor\": \"white\", \"gridwidth\": 2, \"linecolor\": \"white\", \"showbackground\": true, \"ticks\": \"\", \"zerolinecolor\": \"white\"}}, \"shapedefaults\": {\"line\": {\"color\": \"#2a3f5f\"}}, \"ternary\": {\"aaxis\": {\"gridcolor\": \"white\", \"linecolor\": \"white\", \"ticks\": \"\"}, \"baxis\": {\"gridcolor\": \"white\", \"linecolor\": \"white\", \"ticks\": \"\"}, \"bgcolor\": \"#E5ECF6\", \"caxis\": {\"gridcolor\": \"white\", \"linecolor\": \"white\", \"ticks\": \"\"}}, \"title\": {\"x\": 0.05}, \"xaxis\": {\"automargin\": true, \"gridcolor\": \"white\", \"linecolor\": \"white\", \"ticks\": \"\", \"title\": {\"standoff\": 15}, \"zerolinecolor\": \"white\", \"zerolinewidth\": 2}, \"yaxis\": {\"automargin\": true, \"gridcolor\": \"white\", \"linecolor\": \"white\", \"ticks\": \"\", \"title\": {\"standoff\": 15}, \"zerolinecolor\": \"white\", \"zerolinewidth\": 2}}}, \"xaxis\": {\"anchor\": \"y\", \"domain\": [0.0, 1.0], \"title\": {\"text\": \"phrase in the title\"}}, \"yaxis\": {\"anchor\": \"x\", \"domain\": [0.0, 1.0], \"title\": {\"text\": \"duration (average)\"}}},                        {\"responsive\": true}                    ).then(function(){\n",
       "                            \n",
       "var gd = document.getElementById('2ab5628b-4e9b-4ada-b838-f33776021243');\n",
       "var x = new MutationObserver(function (mutations, observer) {{\n",
       "        var display = window.getComputedStyle(gd).display;\n",
       "        if (!display || display === 'none') {{\n",
       "            console.log([gd, 'removed!']);\n",
       "            Plotly.purge(gd);\n",
       "            observer.disconnect();\n",
       "        }}\n",
       "}});\n",
       "\n",
       "// Listen for the removal of the full notebook cells\n",
       "var notebookContainer = gd.closest('#notebook-container');\n",
       "if (notebookContainer) {{\n",
       "    x.observe(notebookContainer, {childList: true});\n",
       "}}\n",
       "\n",
       "// Listen for the clearing of the current output cell\n",
       "var outputEl = gd.closest('.output');\n",
       "if (outputEl) {{\n",
       "    x.observe(outputEl, {childList: true});\n",
       "}}\n",
       "\n",
       "                        })                };                });            </script>        </div>"
      ]
     },
     "metadata": {},
     "output_type": "display_data"
    }
   ],
   "source": [
    "df_phrases = df_phrases.sort_values(\"duration (average)\", ascending=False)\n",
    "df_phrases.plot(x=\"phrase in the title\", \n",
    "                y=\"duration (average)\", \n",
    "                kind='bar', \n",
    "                color='likes (average)', \n",
    "                color_continuous_scale=[[0.0, \"rgb(7, 159, 224)\"],\n",
    "                                          [1, \"rgb(61, 8, 84)\"]])"
   ]
  },
  {
   "cell_type": "code",
   "execution_count": null,
   "metadata": {},
   "outputs": [],
   "source": []
  },
  {
   "cell_type": "code",
   "execution_count": null,
   "metadata": {},
   "outputs": [],
   "source": []
  }
 ],
 "metadata": {
  "@webio": {
   "lastCommId": null,
   "lastKernelId": null
  },
  "kernelspec": {
   "display_name": "Python 3",
   "language": "python",
   "name": "python3"
  },
  "language_info": {
   "codemirror_mode": {
    "name": "ipython",
    "version": 3
   },
   "file_extension": ".py",
   "mimetype": "text/x-python",
   "name": "python",
   "nbconvert_exporter": "python",
   "pygments_lexer": "ipython3",
   "version": "3.7.6"
  }
 },
 "nbformat": 4,
 "nbformat_minor": 4
}
